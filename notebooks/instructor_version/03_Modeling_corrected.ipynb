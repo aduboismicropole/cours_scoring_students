{
 "cells": [
  {
   "cell_type": "markdown",
   "id": "c3bbd233",
   "metadata": {},
   "source": [
    "# M2 TIDE : Application des connaissances"
   ]
  },
  {
   "cell_type": "code",
   "execution_count": null,
   "id": "75834cd2",
   "metadata": {},
   "outputs": [
    {
     "data": {
      "text/plain": [
       "\"TODO (dimanche)\\n- Simplifier/raccourcir questions + ajouter questions sur les parties 6 et 7\\n- créer un fichier tools.py\\n- vérifier commentaires fonctions créées\\n- déposer projet git complet sur un repo\\n- créer un repo sans la correction (j'irai push la correction en live pendant le cours)\\n\""
      ]
     },
     "execution_count": 1,
     "metadata": {},
     "output_type": "execute_result"
    }
   ],
   "source": [
    "\"\"\"TODO (dimanche)\n",
    "- déposer projet git complet sur un repo\n",
    "- créer un repo sans la correction (j'irai push la correction en live pendant le cours)\n",
    "\"\"\""
   ]
  },
  {
   "cell_type": "code",
   "execution_count": 1,
   "id": "dca22b77",
   "metadata": {},
   "outputs": [],
   "source": [
    "import os\n",
    "import sys\n",
    "from pathlib import Path\n",
    "import pandas as pd\n",
    "from sklearn.preprocessing import StandardScaler\n",
    "sys.path.insert(0, str(Path(os.getcwd()).resolve().parent.parent))\n",
    "path = Path(f\"../../data/processed\").resolve()\n",
    "from src.utils.class_modeling import ModelComparator\n",
    "\n",
    "list_var_num: list = ['Duree_credit', 'Montant_credit', 'Age']\n",
    "list_var_cat: list = ['Objet_credit', 'Historique_credit', 'Epargne', 'Anciennete_emploi', \n",
    "           'Situation_familiale', 'Anciennete_domicile', 'Nb_credits', 'Biens', \n",
    "           'Type_emploi', 'Comptes', 'Taux_effort', 'Autres_credits', 'Statut_domicile', \n",
    "           'Garanties', 'Telephone', 'Nb_pers_charge', 'Etranger']\n",
    "target: str = \"Cible\"\n",
    "\n",
    "X_train = pd.read_parquet(f\"{path}/X_train.parquet\")\n",
    "X_test = pd.read_parquet(f\"{path}/X_test.parquet\")\n",
    "y_train = pd.read_parquet(f\"{path}/y_train.parquet\").squeeze()\n",
    "y_test = pd.read_parquet(f\"{path}/y_test.parquet\").squeeze()\n",
    "random_state = 0"
   ]
  },
  {
   "cell_type": "markdown",
   "id": "8a5adff8",
   "metadata": {},
   "source": [
    "### 6. Régressions logistiques"
   ]
  },
  {
   "cell_type": "markdown",
   "id": "aa40b16c",
   "metadata": {},
   "source": [
    "\n",
    "<div class=\"alert alert-block alert-info\">\n",
    "<b>🔔 Rappel sur la régression logistique :</b></p>\n",
    "  <table>\n",
    "    <thead>\n",
    "      <tr>\n",
    "        <th>Avantages</th>\n",
    "        <th>Inconvénients</th>\n",
    "      </tr>\n",
    "    </thead>\n",
    "    <tbody>\n",
    "      <tr>\n",
    "        <td>\n",
    "          <ul>\n",
    "            <li><code>interprétabilité des résultats</code> (signe des coefficients, rapports de cotes, etc…). Ces avantages rendent la RL particulièrement intéressante dans le monde professionnel. Par exemple, pour un score d'octroi de crédit, on a pour obligation légale d'expliquer les facteurs qui ont entrainé le refus.</li>\n",
    "            <li><code>robustesse des résultats</code> (évite le sur-apprentissage) contrairement à un modèle Boosting (ex : XGBoost) ou Réseau de neurones.</li>\n",
    "            <li><code>temps de calculs</code> (à l'apprentissage et à l'utilisation en production) plus faible qu'un XGBoost par exemple.</li>\n",
    "          </ul>\n",
    "        </td>\n",
    "        <td>\n",
    "          <ul>\n",
    "            <li>Elle nécessite une <code>phase de préparation des données plus exigeante</code> que les modèles à base d'arbres et les réseaux de neurones (présélection des variables pour éviter les colinéarités, normalisation des variables explicatives continues pour éviter les effets d'échelle). Néanmoins, pour réduire la multicolinéarité et l'effet d'échelle, il est possible de pénaliser (L2:Ridge, L1:Lasso, L1+L2:Elastic net).</li>\n",
    "            <li><code>moins performante</code></li>\n",
    "          </ul>\n",
    "        </td>\n",
    "      </tr>\n",
    "    </tbody>\n",
    "  </table>\n",
    "<div>"
   ]
  },
  {
   "cell_type": "markdown",
   "id": "3d41523d",
   "metadata": {},
   "source": [
    "#### 6.1 Identifier les variables explicatives non pertinentes pour la régression logistique (cf parties précédentes sur l'étude des liens)"
   ]
  },
  {
   "cell_type": "code",
   "execution_count": 2,
   "id": "8f21b865",
   "metadata": {},
   "outputs": [
    {
     "name": "stdout",
     "output_type": "stream",
     "text": [
      "Rappel des variables à supprimer pour la régression logistique : ['Statut_domicile', 'Taux_effort', 'Nb_credits', 'Type_emploi', 'Telephone', 'Anciennete_domicile', 'Nb_pers_charge']\n"
     ]
    }
   ],
   "source": [
    "list_var_cat_to_drop: list = ['Statut_domicile', 'Taux_effort', 'Nb_credits', 'Type_emploi', 'Telephone', 'Anciennete_domicile', 'Nb_pers_charge'] # cf \"Data_exploration.ipynb\"\n",
    "print(f'Rappel des variables à supprimer pour la régression logistique : {list_var_cat_to_drop}')\n",
    "# => pas de variable catégorielle à supprimer"
   ]
  },
  {
   "cell_type": "markdown",
   "id": "91b91f84",
   "metadata": {},
   "source": [
    "<div class=\"alert alert-block alert-info\">\n",
    "<b>Note :</b> On a supprimé les variables catégorielles d'origine de notre dataframe. Il va falloir trouver un moyen d'identifier les \n",
    "dummy variables associées\n",
    "</div>"
   ]
  },
  {
   "cell_type": "code",
   "execution_count": 3,
   "id": "d46e1569",
   "metadata": {},
   "outputs": [
    {
     "name": "stdout",
     "output_type": "stream",
     "text": [
      "['DUMMY_Telephone_Oui__enregistré_sous_le_nom_du_client', 'DUMMY_Statut_domicile_Locataire', 'DUMMY_Statut_domicile_Hébergement_gratuit', 'DUMMY_Nb_credits_2', 'DUMMY_Nb_credits_1', 'DUMMY_Nb_pers_charge_2', 'DUMMY_Taux_effort_3', 'DUMMY_Taux_effort_1', 'DUMMY_Anciennete_domicile_1', 'DUMMY_Anciennete_domicile_4', 'DUMMY_Type_emploi_Chômeur___Non_qualifié___Non_résident', 'DUMMY_Type_emploi_Employé_qualifié___Fonctionnaire', 'DUMMY_Taux_effort_4', 'DUMMY_Type_emploi_Cadre___Indépendant___Employé_hautement_qualifié___Dirigeant', 'DUMMY_Nb_pers_charge_1', 'DUMMY_Anciennete_domicile_2', 'DUMMY_Telephone_Néant', 'DUMMY_Statut_domicile_Propriétaire', 'DUMMY_Anciennete_domicile_3', 'DUMMY_Nb_credits_3', 'DUMMY_Type_emploi_Non_qualifié___résident', 'DUMMY_Nb_credits_4', 'DUMMY_Taux_effort_2']\n"
     ]
    }
   ],
   "source": [
    "dummy_var = [i for i in X_train.columns if i.startswith('DUMMY_')]\n",
    "dummy_to_drop = []\n",
    "for i in list_var_cat_to_drop:\n",
    "    for j in dummy_var:\n",
    "        if i in j:dummy_to_drop.append(j)\n",
    "dummy_to_drop_for_RL = list(set(dummy_to_drop))\n",
    "print(dummy_to_drop_for_RL)"
   ]
  },
  {
   "cell_type": "markdown",
   "id": "c8d42183",
   "metadata": {},
   "source": [
    "#### 6.2 Normaliser les variables explicatives continues"
   ]
  },
  {
   "cell_type": "markdown",
   "id": "a05fb516",
   "metadata": {},
   "source": [
    "<div class=\"alert alert-block alert-info\">\n",
    "<b>🔔 Rappel : intérêts de la normalisation des variables explicatives continues</b></p>\n",
    "  <table>\n",
    "    <thead>\n",
    "      <tr>\n",
    "        <th>Avantage</th>\n",
    "        <th>Description</th>\n",
    "      </tr>\n",
    "    </thead>\n",
    "    <tbody>\n",
    "      <tr>\n",
    "        <td>Échelle homogène</td>\n",
    "        <td>Mettre toutes les variables sur une échelle comparable pour éviter qu'une variable ne domine l'apprentissage en raison de valeurs plus grandes.</td>\n",
    "      </tr>\n",
    "      <tr>\n",
    "        <td>Amélioration de la convergence</td>\n",
    "        <td>Accélère la convergence et facilite l'optimisation des algorithmes comme la descente de gradient, la régression linéaire ou les réseaux de neurones.</td>\n",
    "      </tr>\n",
    "      <tr>\n",
    "        <td>Performance des algorithmes</td>\n",
    "        <td>Évite que des variables à grande échelle biaisent les calculs, notamment pour les algorithmes sensibles aux distances (kNN, SVM, etc.).</td>\n",
    "      </tr>\n",
    "      <tr>\n",
    "        <td>Interprétabilité</td>\n",
    "        <td>Facilite l'interprétation de l'importance relative de chaque variable dans le modèle.</td>\n",
    "      </tr>\n",
    "    </tbody>\n",
    "  </table>\n",
    "</div>\n"
   ]
  },
  {
   "cell_type": "markdown",
   "id": "04abd37d",
   "metadata": {},
   "source": [
    "<div class=\"alert alert-block alert-info\">\n",
    "  <b>⚠️ Remarque très importante :</b>\n",
    "  il est primordial de normaliser en prenant pour base la table d'apprentissage. Puis, appliquer la normalisation sur\n",
    "le jeu de données test\n",
    "</div>\n"
   ]
  },
  {
   "cell_type": "code",
   "execution_count": 4,
   "id": "4b0576d7",
   "metadata": {},
   "outputs": [],
   "source": [
    "scaler = StandardScaler()\n",
    "\n",
    "X_train_with_norm = X_train.copy()\n",
    "X_test_with_norm = X_test.copy()\n",
    "\n",
    "# Apprentissage pour normaliser sur le jeu d'apprentissage\n",
    "scaler.fit(X_train[list_var_num]) # calcule la moyenne et l'écart-type des variables de la liste \"list_var_num\"\n",
    "\n",
    "# Application de la normalisation sur les jeux de données (train et test)\n",
    "X_train_with_norm[list_var_num]= scaler.transform(X_train[list_var_num]) # train\n",
    "X_test_with_norm[list_var_num] = scaler.transform(X_test[list_var_num]) # test"
   ]
  },
  {
   "cell_type": "markdown",
   "id": "03fd92b4",
   "metadata": {},
   "source": [
    "#### 6.3 Recherche du meilleur modèle "
   ]
  },
  {
   "cell_type": "code",
   "execution_count": 5,
   "id": "560de36c",
   "metadata": {},
   "outputs": [],
   "source": [
    "list_models = [\"Logistic Regression (L1)\", \"Logistic Regression (L2)\", \"Logistic Regression (ElasticNet)\"] # liste des modélisations à tester\n",
    "logistic_models = ModelComparator(y_train= y_train, X_train= X_train_with_norm, y_test= y_test, X_test= X_test_with_norm, list_models= list_models, random_state= random_state) # initier la class permettant la modélisation"
   ]
  },
  {
   "cell_type": "markdown",
   "id": "01f125a1",
   "metadata": {},
   "source": [
    "<div class=\"alert alert-block alert-info\">\n",
    "<b>🔔 Rappel : plusieurs approches pour optimiser les hyperparamètres d'un modèle :</b></p>\n",
    "  <table>\n",
    "    <thead>\n",
    "      <tr>\n",
    "        <th>Méthode</th>\n",
    "        <th>Description</th>\n",
    "      </tr>\n",
    "    </thead>\n",
    "    <tbody>\n",
    "      <tr>\n",
    "        <td>Grid Search</td>\n",
    "        <td>Exploration exhaustive d'une grille pré-définie de valeurs d'hyperparamètres pour trouver la meilleure combinaison.</td>\n",
    "      </tr>\n",
    "      <tr>\n",
    "      <tr>\n",
    "        <td>Méthode aléatoire</td>\n",
    "        <td>Exploration de l'espace des hyperparamètres en échantillonnant aléatoirement des combinaisons, souvent plus efficace que Grid Search dans de grands espaces.</td>\n",
    "      </tr>\n",
    "        <td>Optimisation Bayésienne</td>\n",
    "        <td> modèle probabiliste (souvent un processus gaussien) qui sélectionne intelligemment les prochaines combinaisons d'hyperparamètres à tester. Cela permet d'équilibrer exploration (essayer de nouvelles zones) et exploitation (affiner les zones prometteuses), réduisant ainsi le nombre d'évaluations nécessaires pour trouver des hyperparamètres optimaux.</td>\n",
    "      </tr>\n",
    "    </tbody>\n",
    "  </table>\n",
    "</div>\n"
   ]
  },
  {
   "cell_type": "markdown",
   "id": "eb46fb9d",
   "metadata": {},
   "source": [
    "Nous allons utiliser `l'Optimisation Bayésienne` car c'est souvent celle qui permet les meilleurs résultats (mais elle peut être coûteuse en temps de calculs)"
   ]
  },
  {
   "cell_type": "markdown",
   "id": "1f24dc67",
   "metadata": {},
   "source": [
    "<div class=\"alert alert-block alert-info\">\n",
    "<b>🔔 Rappel : métriques candidates pour optimiser les performances du modèle :</b></p>\n",
    "  <table>\n",
    "    <thead>\n",
    "      <tr>\n",
    "        <th>Métrique</th>\n",
    "        <th>Avantages</th>\n",
    "        <th>Inconvénients</th>\n",
    "        <th>Contexte d'utilisation</th>\n",
    "      </tr>\n",
    "    </thead>\n",
    "    <tbody>\n",
    "      <tr>\n",
    "        <td>Accuracy</td>\n",
    "        <td>\n",
    "          <ul>\n",
    "            <li>Simple à interpréter</li>\n",
    "            <li>Fournit une vue d'ensemble de la performance du modèle</li>\n",
    "          </ul>\n",
    "        </td>\n",
    "        <td>\n",
    "          <ul>\n",
    "            <li>Peut être trompeuse en cas de classes très déséquilibrées (cas fréquent en scoring de crédit)</li>\n",
    "            <li>Ne distingue pas le coût entre octroi de crédit à risque et refus injustifié</li>\n",
    "          </ul>\n",
    "        </td>\n",
    "        <td>\n",
    "          <ul>\n",
    "            <li>Peut être utilisée comme indicateur global lorsque les défauts sont suffisamment représentatifs</li>\n",
    "          </ul>\n",
    "        </td>\n",
    "      </tr>\n",
    "      <tr>\n",
    "        <td>Precision</td>\n",
    "        <td>\n",
    "          <ul>\n",
    "            <li>Réduit le risque d'octroyer un crédit à un client à risque</li>\n",
    "            <li>Aide à limiter les faux positifs, c'est-à-dire les cas où un client est classé comme bon payeur à tort</li>\n",
    "          </ul>\n",
    "        </td>\n",
    "        <td>\n",
    "          <ul>\n",
    "            <li>Peut négliger les faux négatifs (clients bons payeurs à qui on refuse le crédit à tort)</li>\n",
    "          </ul>\n",
    "        </td>\n",
    "        <td>\n",
    "          <ul>\n",
    "            <li>Privilégiée lorsque le coût d'un crédit accordé à un mauvais payeur est très élevé</li>\n",
    "          </ul>\n",
    "        </td>\n",
    "      </tr>\n",
    "      <tr>\n",
    "        <td>Recall (Sensibilité)</td>\n",
    "        <td>\n",
    "          <ul>\n",
    "            <li>Maximise la détection des clients à risque</li>\n",
    "            <li>Diminue le nombre de défauts non identifiés</li>\n",
    "          </ul>\n",
    "        </td>\n",
    "        <td>\n",
    "          <ul>\n",
    "            <li>Peut augmenter le nombre de faux positifs, entraînant le refus de bons clients</li>\n",
    "          </ul>\n",
    "        </td>\n",
    "        <td>\n",
    "          <ul>\n",
    "            <li>Essentielle quand il est primordial d'identifier tous les cas à risque, même au prix d'un taux de refus plus élevé</li>\n",
    "          </ul>\n",
    "        </td>\n",
    "      </tr>\n",
    "      <tr>\n",
    "        <td>F1-score</td>\n",
    "        <td>\n",
    "          <ul>\n",
    "            <li>Fournit un équilibre entre la précision et le recall</li>\n",
    "            <li>Utile pour mesurer la performance globale quand il faut minimiser à la fois les erreurs de crédit risqué accordé et les refus injustifiés</li>\n",
    "          </ul>\n",
    "        </td>\n",
    "        <td>\n",
    "          <ul>\n",
    "            <li>Moins intuitif à interpréter pour les équipes non techniques</li>\n",
    "          </ul>\n",
    "        </td>\n",
    "        <td>\n",
    "          <ul>\n",
    "            <li>Recommandé quand il faut trouver un compromis entre les faux positifs et faux négatifs</li>\n",
    "          </ul>\n",
    "        </td>\n",
    "      </tr>\n",
    "      <tr>\n",
    "        <td>ROC AUC</td>\n",
    "        <td>\n",
    "          <ul>\n",
    "            <li>Mesure la capacité du modèle à distinguer les bons payeurs des mauvais payeurs sur l'ensemble des seuils</li>\n",
    "            <li>Indépendante du seuil de décision, ce qui est utile pour comparer plusieurs modèles</li>\n",
    "          </ul>\n",
    "        </td>\n",
    "        <td>\n",
    "          <ul>\n",
    "            <li>Quand cible très déséquibrée, surestimation de la performance : un modèle peut obtenir une AUC élevée en se focalisant principalement sur la classe majoritaire, même s'il détecte mal la classe minoritaire. Ainsi, le modèle risque de mal détecter les mauvais payeurs</li>\n",
    "          </ul>\n",
    "        </td>\n",
    "        <td>\n",
    "          <ul>\n",
    "            <li>Idéal pour la sélection et l'évaluation globale des modèles de scoring de crédit</li>\n",
    "          </ul>\n",
    "        </td>\n",
    "      </tr>\n",
    "      <tr>\n",
    "        <td>Log Loss</td>\n",
    "        <td>\n",
    "          <ul>\n",
    "            <li>Utilise la probabilité prédite pour chaque client, ce qui aide à calibrer le risque</li>\n",
    "            <li>Pénalise sévèrement les prédictions erronées avec haute confiance</li>\n",
    "          </ul>\n",
    "        </td>\n",
    "        <td>\n",
    "          <ul>\n",
    "            <li>Peut être moins intuitif pour les équipes opérationnelles</li>\n",
    "          </ul>\n",
    "        </td>\n",
    "        <td>\n",
    "          <ul>\n",
    "            <li>Utile lors de la calibration du modèle pour obtenir des probabilités bien calibrées et reflétant le risque réel</li>\n",
    "          </ul>\n",
    "        </td>\n",
    "      </tr>\n",
    "    </tbody>\n",
    "  </table>\n",
    "</div>\n"
   ]
  },
  {
   "cell_type": "markdown",
   "id": "aa6b30ae",
   "metadata": {},
   "source": [
    "Nous allons privilégier le `F1-score` comme critère."
   ]
  },
  {
   "cell_type": "markdown",
   "id": "f9a4d4bc",
   "metadata": {},
   "source": [
    "<div class=\"alert alert-block alert-info\">\n",
    "<b>🔔 Rappels sur les pénalisations</b></p>\n",
    "  <table>\n",
    "    <thead>\n",
    "      <tr>\n",
    "        <th>Type de Régression</th>\n",
    "        <th>Principe</th>\n",
    "        <th>Avantages</th>\n",
    "        <th>Inconvénients</th>\n",
    "        <th>Quand l'utiliser ?</th>\n",
    "      </tr>\n",
    "    </thead>\n",
    "    <tbody>\n",
    "      <tr>\n",
    "        <td>Ridge (L2)</td>\n",
    "        <td>Pénalise la somme des <b>carrés</b> des coefficients (L2)</td>\n",
    "        <td>\n",
    "          <ul>\n",
    "            <li>Réduit la variance du modèle</li>\n",
    "            <li>Gère bien la multicolinéarité</li>\n",
    "            <li>Convient aux modèles avec beaucoup de variables peu pertinentes</li>\n",
    "          </ul>\n",
    "        </td>\n",
    "        <td>\n",
    "          <ul>\n",
    "            <li>Ne réalise pas de sélection de variables</li>\n",
    "            <li>Les coefficients sont réduits mais jamais annulés</li>\n",
    "          </ul>\n",
    "        </td>\n",
    "        <td>\n",
    "          <ul>\n",
    "            <li>Quand toutes les variables peuvent être informatives</li>\n",
    "            <li>Quand la stabilité est prioritaire à l’interprétation</li>\n",
    "          </ul>\n",
    "        </td>\n",
    "      </tr>\n",
    "      <tr>\n",
    "        <td>Lasso (L1)</td>\n",
    "        <td>Pénalise la somme des <b>valeurs absolues</b> des coefficients (L1)</td>\n",
    "        <td>\n",
    "          <ul>\n",
    "            <li>Effectue une sélection automatique des variables</li>\n",
    "            <li>Donne des modèles plus interprétables</li>\n",
    "            <li>Peut annuler certains coefficients → simplification du modèle</li>\n",
    "          </ul>\n",
    "        </td>\n",
    "        <td>\n",
    "          <ul>\n",
    "            <li>Moins stable quand les variables sont fortement corrélées</li>\n",
    "            <li>Peut sélectionner arbitrairement parmi des variables similaires</li>\n",
    "          </ul>\n",
    "        </td>\n",
    "        <td>\n",
    "          <ul>\n",
    "            <li>Quand on cherche un modèle simple avec peu de variables</li>\n",
    "            <li>Utile en phase exploratoire pour repérer les variables importantes</li>\n",
    "          </ul>\n",
    "        </td>\n",
    "      </tr>\n",
    "      <tr>\n",
    "        <td>Elastic Net (L1 + L2)</td>\n",
    "        <td>Combine les pénalités L1 et L2</td>\n",
    "        <td>\n",
    "          <ul>\n",
    "            <li>Compromis entre sélection de variables (L1) et stabilité (L2)</li>\n",
    "            <li>Gère bien les variables corrélées</li>\n",
    "          </ul>\n",
    "        </td>\n",
    "        <td>\n",
    "          <ul>\n",
    "            <li>Ajoute un hyperparamètre supplémentaire (`l1_ratio`)</li>\n",
    "            <li>Plus complexe à ajuster</li>\n",
    "          </ul>\n",
    "        </td>\n",
    "        <td>\n",
    "          <ul>\n",
    "            <li>Quand il y a beaucoup de variables, certaines corrélées, d'autres inutiles</li>\n",
    "            <li>Bon choix par défaut si on hésite entre Lasso et Ridge</li>\n",
    "          </ul>\n",
    "        </td>\n",
    "      </tr>\n",
    "    </tbody>\n",
    "  </table>\n",
    "  <p><b>En résumé :</b></p>\n",
    "    <ul>\n",
    "      <li><b>Ridge (L2)</b> : Tous les coefficients restent, mais sont \"rétrécis\". Aucun n'est supprimé. Modèle plus stable.</li>\n",
    "      <li><b>Lasso (L1)</b> : Fait une sélection de variables en mettant certains coefficients à zéro. Modèle plus simple.</li>\n",
    "      <li><b>Elastic Net</b> : Équilibre entre L1 et L2, utile quand les variables sont nombreuses et corrélées.</li>\n",
    "    </ul>\n",
    "</div>\n"
   ]
  },
  {
   "cell_type": "code",
   "execution_count": 6,
   "id": "d6d3c6e8",
   "metadata": {},
   "outputs": [
    {
     "name": "stdout",
     "output_type": "stream",
     "text": [
      "🔍 Optimisation en cours : Logistic Regression (L1)\n",
      "🔍 Optimisation en cours : Logistic Regression (L2)\n",
      "🔍 Optimisation en cours : Logistic Regression (ElasticNet)\n"
     ]
    },
    {
     "data": {
      "text/html": [
       "<div>\n",
       "<style scoped>\n",
       "    .dataframe tbody tr th:only-of-type {\n",
       "        vertical-align: middle;\n",
       "    }\n",
       "\n",
       "    .dataframe tbody tr th {\n",
       "        vertical-align: top;\n",
       "    }\n",
       "\n",
       "    .dataframe thead th {\n",
       "        text-align: right;\n",
       "    }\n",
       "</style>\n",
       "<table border=\"1\" class=\"dataframe\">\n",
       "  <thead>\n",
       "    <tr style=\"text-align: right;\">\n",
       "      <th></th>\n",
       "      <th>Modèle</th>\n",
       "      <th>Score F1 (CV)</th>\n",
       "      <th>Durée (s)</th>\n",
       "    </tr>\n",
       "  </thead>\n",
       "  <tbody>\n",
       "    <tr>\n",
       "      <th>1</th>\n",
       "      <td>Logistic Regression (L2)</td>\n",
       "      <td>0.571900</td>\n",
       "      <td>9.15</td>\n",
       "    </tr>\n",
       "    <tr>\n",
       "      <th>0</th>\n",
       "      <td>Logistic Regression (L1)</td>\n",
       "      <td>0.563216</td>\n",
       "      <td>20.98</td>\n",
       "    </tr>\n",
       "    <tr>\n",
       "      <th>2</th>\n",
       "      <td>Logistic Regression (ElasticNet)</td>\n",
       "      <td>0.563181</td>\n",
       "      <td>9.51</td>\n",
       "    </tr>\n",
       "  </tbody>\n",
       "</table>\n",
       "</div>"
      ],
      "text/plain": [
       "                             Modèle  Score F1 (CV)  Durée (s)\n",
       "1          Logistic Regression (L2)       0.571900       9.15\n",
       "0          Logistic Regression (L1)       0.563216      20.98\n",
       "2  Logistic Regression (ElasticNet)       0.563181       9.51"
      ]
     },
     "execution_count": 6,
     "metadata": {},
     "output_type": "execute_result"
    }
   ],
   "source": [
    "logistic_models.bayes_optimize_models(n_iter= 20, cv_folds= 5, scoring= \"f1\")"
   ]
  },
  {
   "cell_type": "code",
   "execution_count": 7,
   "id": "c356c140",
   "metadata": {},
   "outputs": [
    {
     "data": {
      "application/vnd.plotly.v1+json": {
       "config": {
        "plotlyServerURL": "https://plot.ly"
       },
       "data": [
        {
         "hovertemplate": "Itération = %{x}<br>Score = %{y:.4f}<extra></extra>",
         "mode": "lines+markers",
         "name": "Logistic Regression (L1) (max=0.5632)",
         "type": "scatter",
         "x": [
          1,
          2,
          3,
          4,
          5,
          6,
          7,
          8,
          9,
          10,
          11,
          12,
          13,
          14,
          15,
          16,
          17,
          18,
          19,
          20
         ],
         "y": {
          "bdata": "osakkP3e2D8AAAAAAAAAAH6vPVNEudo/AAAAAAAAAAAAAAAAAAAAABTp+Yhx9OE/Vfmh4deB4T8zS/z/apLWPwAAAAAAAAAAtvOqVVylzj/siHqGe8zhP9VTQnjeBeI/qke+NDPU4T/usvh7iUThPxrDDwQWweE/SI6KRcLc4T8sEpbGBOjhP7uWTyvu3+E/u5ZPK+7f4T+7lk8r7t/hPw==",
          "dtype": "f8"
         }
        },
        {
         "hovertemplate": "Logistic Regression (L1)<br>Itération optimale = 12<br>Score = 0.5632<extra></extra>",
         "marker": {
          "color": "red",
          "size": 8,
          "symbol": "star"
         },
         "mode": "markers",
         "name": "Logistic Regression (L1) ★",
         "showlegend": false,
         "type": "scatter",
         "x": [
          12
         ],
         "y": [
          0.5632164334116349
         ]
        },
        {
         "hovertemplate": "Itération = %{x}<br>Score = %{y:.4f}<extra></extra>",
         "mode": "lines+markers",
         "name": "Logistic Regression (L2) (max=0.5719)",
         "type": "scatter",
         "x": [
          1,
          2,
          3,
          4,
          5,
          6,
          7,
          8,
          9,
          10,
          11,
          12,
          13,
          14,
          15,
          16,
          17,
          18,
          19,
          20
         ],
         "y": {
          "bdata": "Yl/nikna4D/b/netWIvJP0GvancV4eA/q2w4YtoTmT9zVjucjt6+P2jozsosueE/sfzmBNR94T9m4rz5qnfgPwAAAAAAAAAA0O9+/Hie2j8aJyYCH+/hPxJVo3kUwuE/GjdmWhjg4T8wETviVbzhPxnVYiL/6OE/GsMPBBbB4T9NPoGe+wjhP7uWTyvu3+E/ZphoD+Hn4T8Qs3WLAU3iPw==",
          "dtype": "f8"
         }
        },
        {
         "hovertemplate": "Logistic Regression (L2)<br>Itération optimale = 20<br>Score = 0.5719<extra></extra>",
         "marker": {
          "color": "red",
          "size": 8,
          "symbol": "star"
         },
         "mode": "markers",
         "name": "Logistic Regression (L2) ★",
         "showlegend": false,
         "type": "scatter",
         "x": [
          20
         ],
         "y": [
          0.5719001506637102
         ]
        },
        {
         "hovertemplate": "Itération = %{x}<br>Score = %{y:.4f}<extra></extra>",
         "mode": "lines+markers",
         "name": "Logistic Regression (ElasticNet) (max=0.5632)",
         "type": "scatter",
         "x": [
          1,
          2,
          3,
          4,
          5,
          6,
          7,
          8,
          9,
          10,
          11,
          12,
          13,
          14,
          15,
          16,
          17,
          18,
          19,
          20
         ],
         "y": {
          "bdata": "Xcyv/U972z8AAAAAAAAAACELdDKKfuA/AAAAAAAAAAAAAAAAAAAAAJXKJjhV6uE/xYGwUWCQ4T8DsofK3h/bPwAAAAAAAAAAjOm1WiOdxz/ebWAROPLhP2jozsosueE/VvmZ1Jtj4T9V+aHh14HhP06ysR5czeE/L0BnJ+Cr4T96Pj68kwXiPxrDDwQWweE/u5ZPK+7f4T9UfuTIBt/hPw==",
          "dtype": "f8"
         }
        },
        {
         "hovertemplate": "Logistic Regression (ElasticNet)<br>Itération optimale = 17<br>Score = 0.5632<extra></extra>",
         "marker": {
          "color": "red",
          "size": 8,
          "symbol": "star"
         },
         "mode": "markers",
         "name": "Logistic Regression (ElasticNet) ★",
         "showlegend": false,
         "type": "scatter",
         "x": [
          17
         ],
         "y": [
          0.563180797254929
         ]
        }
       ],
       "layout": {
        "height": 550,
        "legend": {
         "title": {
          "text": "Modèles"
         }
        },
        "template": {
         "data": {
          "bar": [
           {
            "error_x": {
             "color": "#2a3f5f"
            },
            "error_y": {
             "color": "#2a3f5f"
            },
            "marker": {
             "line": {
              "color": "white",
              "width": 0.5
             },
             "pattern": {
              "fillmode": "overlay",
              "size": 10,
              "solidity": 0.2
             }
            },
            "type": "bar"
           }
          ],
          "barpolar": [
           {
            "marker": {
             "line": {
              "color": "white",
              "width": 0.5
             },
             "pattern": {
              "fillmode": "overlay",
              "size": 10,
              "solidity": 0.2
             }
            },
            "type": "barpolar"
           }
          ],
          "carpet": [
           {
            "aaxis": {
             "endlinecolor": "#2a3f5f",
             "gridcolor": "#C8D4E3",
             "linecolor": "#C8D4E3",
             "minorgridcolor": "#C8D4E3",
             "startlinecolor": "#2a3f5f"
            },
            "baxis": {
             "endlinecolor": "#2a3f5f",
             "gridcolor": "#C8D4E3",
             "linecolor": "#C8D4E3",
             "minorgridcolor": "#C8D4E3",
             "startlinecolor": "#2a3f5f"
            },
            "type": "carpet"
           }
          ],
          "choropleth": [
           {
            "colorbar": {
             "outlinewidth": 0,
             "ticks": ""
            },
            "type": "choropleth"
           }
          ],
          "contour": [
           {
            "colorbar": {
             "outlinewidth": 0,
             "ticks": ""
            },
            "colorscale": [
             [
              0,
              "#0d0887"
             ],
             [
              0.1111111111111111,
              "#46039f"
             ],
             [
              0.2222222222222222,
              "#7201a8"
             ],
             [
              0.3333333333333333,
              "#9c179e"
             ],
             [
              0.4444444444444444,
              "#bd3786"
             ],
             [
              0.5555555555555556,
              "#d8576b"
             ],
             [
              0.6666666666666666,
              "#ed7953"
             ],
             [
              0.7777777777777778,
              "#fb9f3a"
             ],
             [
              0.8888888888888888,
              "#fdca26"
             ],
             [
              1,
              "#f0f921"
             ]
            ],
            "type": "contour"
           }
          ],
          "contourcarpet": [
           {
            "colorbar": {
             "outlinewidth": 0,
             "ticks": ""
            },
            "type": "contourcarpet"
           }
          ],
          "heatmap": [
           {
            "colorbar": {
             "outlinewidth": 0,
             "ticks": ""
            },
            "colorscale": [
             [
              0,
              "#0d0887"
             ],
             [
              0.1111111111111111,
              "#46039f"
             ],
             [
              0.2222222222222222,
              "#7201a8"
             ],
             [
              0.3333333333333333,
              "#9c179e"
             ],
             [
              0.4444444444444444,
              "#bd3786"
             ],
             [
              0.5555555555555556,
              "#d8576b"
             ],
             [
              0.6666666666666666,
              "#ed7953"
             ],
             [
              0.7777777777777778,
              "#fb9f3a"
             ],
             [
              0.8888888888888888,
              "#fdca26"
             ],
             [
              1,
              "#f0f921"
             ]
            ],
            "type": "heatmap"
           }
          ],
          "histogram": [
           {
            "marker": {
             "pattern": {
              "fillmode": "overlay",
              "size": 10,
              "solidity": 0.2
             }
            },
            "type": "histogram"
           }
          ],
          "histogram2d": [
           {
            "colorbar": {
             "outlinewidth": 0,
             "ticks": ""
            },
            "colorscale": [
             [
              0,
              "#0d0887"
             ],
             [
              0.1111111111111111,
              "#46039f"
             ],
             [
              0.2222222222222222,
              "#7201a8"
             ],
             [
              0.3333333333333333,
              "#9c179e"
             ],
             [
              0.4444444444444444,
              "#bd3786"
             ],
             [
              0.5555555555555556,
              "#d8576b"
             ],
             [
              0.6666666666666666,
              "#ed7953"
             ],
             [
              0.7777777777777778,
              "#fb9f3a"
             ],
             [
              0.8888888888888888,
              "#fdca26"
             ],
             [
              1,
              "#f0f921"
             ]
            ],
            "type": "histogram2d"
           }
          ],
          "histogram2dcontour": [
           {
            "colorbar": {
             "outlinewidth": 0,
             "ticks": ""
            },
            "colorscale": [
             [
              0,
              "#0d0887"
             ],
             [
              0.1111111111111111,
              "#46039f"
             ],
             [
              0.2222222222222222,
              "#7201a8"
             ],
             [
              0.3333333333333333,
              "#9c179e"
             ],
             [
              0.4444444444444444,
              "#bd3786"
             ],
             [
              0.5555555555555556,
              "#d8576b"
             ],
             [
              0.6666666666666666,
              "#ed7953"
             ],
             [
              0.7777777777777778,
              "#fb9f3a"
             ],
             [
              0.8888888888888888,
              "#fdca26"
             ],
             [
              1,
              "#f0f921"
             ]
            ],
            "type": "histogram2dcontour"
           }
          ],
          "mesh3d": [
           {
            "colorbar": {
             "outlinewidth": 0,
             "ticks": ""
            },
            "type": "mesh3d"
           }
          ],
          "parcoords": [
           {
            "line": {
             "colorbar": {
              "outlinewidth": 0,
              "ticks": ""
             }
            },
            "type": "parcoords"
           }
          ],
          "pie": [
           {
            "automargin": true,
            "type": "pie"
           }
          ],
          "scatter": [
           {
            "fillpattern": {
             "fillmode": "overlay",
             "size": 10,
             "solidity": 0.2
            },
            "type": "scatter"
           }
          ],
          "scatter3d": [
           {
            "line": {
             "colorbar": {
              "outlinewidth": 0,
              "ticks": ""
             }
            },
            "marker": {
             "colorbar": {
              "outlinewidth": 0,
              "ticks": ""
             }
            },
            "type": "scatter3d"
           }
          ],
          "scattercarpet": [
           {
            "marker": {
             "colorbar": {
              "outlinewidth": 0,
              "ticks": ""
             }
            },
            "type": "scattercarpet"
           }
          ],
          "scattergeo": [
           {
            "marker": {
             "colorbar": {
              "outlinewidth": 0,
              "ticks": ""
             }
            },
            "type": "scattergeo"
           }
          ],
          "scattergl": [
           {
            "marker": {
             "colorbar": {
              "outlinewidth": 0,
              "ticks": ""
             }
            },
            "type": "scattergl"
           }
          ],
          "scattermap": [
           {
            "marker": {
             "colorbar": {
              "outlinewidth": 0,
              "ticks": ""
             }
            },
            "type": "scattermap"
           }
          ],
          "scattermapbox": [
           {
            "marker": {
             "colorbar": {
              "outlinewidth": 0,
              "ticks": ""
             }
            },
            "type": "scattermapbox"
           }
          ],
          "scatterpolar": [
           {
            "marker": {
             "colorbar": {
              "outlinewidth": 0,
              "ticks": ""
             }
            },
            "type": "scatterpolar"
           }
          ],
          "scatterpolargl": [
           {
            "marker": {
             "colorbar": {
              "outlinewidth": 0,
              "ticks": ""
             }
            },
            "type": "scatterpolargl"
           }
          ],
          "scatterternary": [
           {
            "marker": {
             "colorbar": {
              "outlinewidth": 0,
              "ticks": ""
             }
            },
            "type": "scatterternary"
           }
          ],
          "surface": [
           {
            "colorbar": {
             "outlinewidth": 0,
             "ticks": ""
            },
            "colorscale": [
             [
              0,
              "#0d0887"
             ],
             [
              0.1111111111111111,
              "#46039f"
             ],
             [
              0.2222222222222222,
              "#7201a8"
             ],
             [
              0.3333333333333333,
              "#9c179e"
             ],
             [
              0.4444444444444444,
              "#bd3786"
             ],
             [
              0.5555555555555556,
              "#d8576b"
             ],
             [
              0.6666666666666666,
              "#ed7953"
             ],
             [
              0.7777777777777778,
              "#fb9f3a"
             ],
             [
              0.8888888888888888,
              "#fdca26"
             ],
             [
              1,
              "#f0f921"
             ]
            ],
            "type": "surface"
           }
          ],
          "table": [
           {
            "cells": {
             "fill": {
              "color": "#EBF0F8"
             },
             "line": {
              "color": "white"
             }
            },
            "header": {
             "fill": {
              "color": "#C8D4E3"
             },
             "line": {
              "color": "white"
             }
            },
            "type": "table"
           }
          ]
         },
         "layout": {
          "annotationdefaults": {
           "arrowcolor": "#2a3f5f",
           "arrowhead": 0,
           "arrowwidth": 1
          },
          "autotypenumbers": "strict",
          "coloraxis": {
           "colorbar": {
            "outlinewidth": 0,
            "ticks": ""
           }
          },
          "colorscale": {
           "diverging": [
            [
             0,
             "#8e0152"
            ],
            [
             0.1,
             "#c51b7d"
            ],
            [
             0.2,
             "#de77ae"
            ],
            [
             0.3,
             "#f1b6da"
            ],
            [
             0.4,
             "#fde0ef"
            ],
            [
             0.5,
             "#f7f7f7"
            ],
            [
             0.6,
             "#e6f5d0"
            ],
            [
             0.7,
             "#b8e186"
            ],
            [
             0.8,
             "#7fbc41"
            ],
            [
             0.9,
             "#4d9221"
            ],
            [
             1,
             "#276419"
            ]
           ],
           "sequential": [
            [
             0,
             "#0d0887"
            ],
            [
             0.1111111111111111,
             "#46039f"
            ],
            [
             0.2222222222222222,
             "#7201a8"
            ],
            [
             0.3333333333333333,
             "#9c179e"
            ],
            [
             0.4444444444444444,
             "#bd3786"
            ],
            [
             0.5555555555555556,
             "#d8576b"
            ],
            [
             0.6666666666666666,
             "#ed7953"
            ],
            [
             0.7777777777777778,
             "#fb9f3a"
            ],
            [
             0.8888888888888888,
             "#fdca26"
            ],
            [
             1,
             "#f0f921"
            ]
           ],
           "sequentialminus": [
            [
             0,
             "#0d0887"
            ],
            [
             0.1111111111111111,
             "#46039f"
            ],
            [
             0.2222222222222222,
             "#7201a8"
            ],
            [
             0.3333333333333333,
             "#9c179e"
            ],
            [
             0.4444444444444444,
             "#bd3786"
            ],
            [
             0.5555555555555556,
             "#d8576b"
            ],
            [
             0.6666666666666666,
             "#ed7953"
            ],
            [
             0.7777777777777778,
             "#fb9f3a"
            ],
            [
             0.8888888888888888,
             "#fdca26"
            ],
            [
             1,
             "#f0f921"
            ]
           ]
          },
          "colorway": [
           "#636efa",
           "#EF553B",
           "#00cc96",
           "#ab63fa",
           "#FFA15A",
           "#19d3f3",
           "#FF6692",
           "#B6E880",
           "#FF97FF",
           "#FECB52"
          ],
          "font": {
           "color": "#2a3f5f"
          },
          "geo": {
           "bgcolor": "white",
           "lakecolor": "white",
           "landcolor": "white",
           "showlakes": true,
           "showland": true,
           "subunitcolor": "#C8D4E3"
          },
          "hoverlabel": {
           "align": "left"
          },
          "hovermode": "closest",
          "mapbox": {
           "style": "light"
          },
          "paper_bgcolor": "white",
          "plot_bgcolor": "white",
          "polar": {
           "angularaxis": {
            "gridcolor": "#EBF0F8",
            "linecolor": "#EBF0F8",
            "ticks": ""
           },
           "bgcolor": "white",
           "radialaxis": {
            "gridcolor": "#EBF0F8",
            "linecolor": "#EBF0F8",
            "ticks": ""
           }
          },
          "scene": {
           "xaxis": {
            "backgroundcolor": "white",
            "gridcolor": "#DFE8F3",
            "gridwidth": 2,
            "linecolor": "#EBF0F8",
            "showbackground": true,
            "ticks": "",
            "zerolinecolor": "#EBF0F8"
           },
           "yaxis": {
            "backgroundcolor": "white",
            "gridcolor": "#DFE8F3",
            "gridwidth": 2,
            "linecolor": "#EBF0F8",
            "showbackground": true,
            "ticks": "",
            "zerolinecolor": "#EBF0F8"
           },
           "zaxis": {
            "backgroundcolor": "white",
            "gridcolor": "#DFE8F3",
            "gridwidth": 2,
            "linecolor": "#EBF0F8",
            "showbackground": true,
            "ticks": "",
            "zerolinecolor": "#EBF0F8"
           }
          },
          "shapedefaults": {
           "line": {
            "color": "#2a3f5f"
           }
          },
          "ternary": {
           "aaxis": {
            "gridcolor": "#DFE8F3",
            "linecolor": "#A2B1C6",
            "ticks": ""
           },
           "baxis": {
            "gridcolor": "#DFE8F3",
            "linecolor": "#A2B1C6",
            "ticks": ""
           },
           "bgcolor": "white",
           "caxis": {
            "gridcolor": "#DFE8F3",
            "linecolor": "#A2B1C6",
            "ticks": ""
           }
          },
          "title": {
           "x": 0.05
          },
          "xaxis": {
           "automargin": true,
           "gridcolor": "#EBF0F8",
           "linecolor": "#EBF0F8",
           "ticks": "",
           "title": {
            "standoff": 15
           },
           "zerolinecolor": "#EBF0F8",
           "zerolinewidth": 2
          },
          "yaxis": {
           "automargin": true,
           "gridcolor": "#EBF0F8",
           "linecolor": "#EBF0F8",
           "ticks": "",
           "title": {
            "standoff": 15
           },
           "zerolinecolor": "#EBF0F8",
           "zerolinewidth": 2
          }
         }
        },
        "title": {
         "text": "📉 Courbes de convergence Bayésienne (F1-score)"
        },
        "width": 950,
        "xaxis": {
         "title": {
          "text": "Itérations"
         }
        },
        "yaxis": {
         "title": {
          "text": "F1-score"
         }
        }
       }
      }
     },
     "metadata": {},
     "output_type": "display_data"
    }
   ],
   "source": [
    "# Itérations de l'optimisation bayésienne\n",
    "logistic_models.plot_all_bayes_convergences()"
   ]
  },
  {
   "cell_type": "code",
   "execution_count": 8,
   "id": "2aba2cb9",
   "metadata": {},
   "outputs": [
    {
     "data": {
      "application/vnd.plotly.v1+json": {
       "config": {
        "plotlyServerURL": "https://plot.ly"
       },
       "data": [
        {
         "hovertemplate": "FPR = %{x:.2f}<br>TPR = %{y:.2f}<extra></extra>",
         "mode": "lines",
         "name": "Logistic Regression (L2) (AUC = 0.755)",
         "type": "scatter",
         "x": {
          "bdata": "AAAAAAAAAAAAAAAAAAAAAAAAAAAAAAAAHdRBHdRBfT8d1EEd1EF9Px3UQR3UQY0/HdRBHdRBjT8WX/EVX/GVPxZf8RVf8ZU/HdRBHdRBnT8d1EEd1EGdPxZf8RVf8aU/Fl/xFV/xpT+amZmZmZmpP5qZmZmZmak/HdRBHdRBrT8d1EEd1EGtPxZf8RVf8bU/Fl/xFV/xtT+amZmZmZm5P5qZmZmZmbk/X/EVX/EVvz9f8RVf8RW/P/EVX/EVX8E/8RVf8RVfwT91UAd1UAfFP3VQB3VQB8U/WHzFV3zFxz9YfMVXfMXHP5qZmZmZmck/mpmZmZmZyT87qIM6qIPKPzuogzqog8o/vuIrvuIrzj++4iu+4ivOP1AHdVAHddA/UAd1UAd10D/xFV/xFV/RP/EVX/EVX9E/kiRJkiRJ0j+SJEmSJEnSPyVJkiRJktQ/JUmSJEmS1D/FV3zFV3zVP8VXfMVXfNU/t23btm3b1j+3bdu2bdvWP5qZmZmZmdk/mpmZmZmZ2T87qIM6qIPaPzuogzqog9o/btu2bdu23T9u27Zt27bdP7D4iq/4it8/sPiKr/iK3z+SJEmSJEniP5IkSZIkSeI/i6/4iq/44j+Lr/iKr/jiPzMzMzMzM+M/MzMzMzMz4z8WX/EVX/HlPxZf8RVf8eU/Qh3UQR3U6T9CHdRBHdTpPzMzMzMzM+s/MzMzMzMz6z98xVd8xVfsP3zFV3zFV+w/zczMzMzM7D/NzMzMzMzsPwAAAAAAAPA/",
          "dtype": "f8"
         },
         "y": {
          "bdata": "AAAAAAAAAAARERERERGRP97d3d3d3b0/3t3d3d3dvT9VVVVVVVXFP1VVVVVVVcU/d3d3d3d3xz93d3d3d3fHPwAAAAAAANA/AAAAAAAA0D8RERERERHRPxEREREREdE/IiIiIiIi0j8iIiIiIiLSP0RERERERNQ/RERERERE1D9mZmZmZmbWP2ZmZmZmZtY/iYiIiIiI2D+JiIiIiIjYP6uqqqqqqto/q6qqqqqq2j+8u7u7u7vbP7y7u7u7u9s/zczMzMzM3D/NzMzMzMzcP+/u7u7u7t4/7+7u7u7u3j8AAAAAAADgPwAAAAAAAOA/q6qqqqqq4j+rqqqqqqriP0REREREROQ/RERERERE5D/NzMzMzMzkP83MzMzMzOQ/VVVVVVVV5T9VVVVVVVXlP97d3d3d3eU/3t3d3d3d5T9mZmZmZmbmP2ZmZmZmZuY/7+7u7u7u5j/v7u7u7u7mP3d3d3d3d+c/d3d3d3d35z8AAAAAAADoPwAAAAAAAOg/iYiIiIiI6D+JiIiIiIjoPxEREREREek/ERERERER6T+amZmZmZnpP5qZmZmZmek/IiIiIiIi6j8iIiIiIiLqP7y7u7u7u+s/vLu7u7u76z9ERERERETsP0REREREROw/zczMzMzM7D/NzMzMzMzsP97d3d3d3e0/3t3d3d3d7T9mZmZmZmbuP2ZmZmZmZu4/7+7u7u7u7j/v7u7u7u7uP3d3d3d3d+8/d3d3d3d37z8AAAAAAADwPwAAAAAAAPA/",
          "dtype": "f8"
         }
        },
        {
         "hovertemplate": "FPR = %{x:.2f}<br>TPR = %{y:.2f}<extra></extra>",
         "mode": "lines",
         "name": "Logistic Regression (ElasticNet) (AUC = 0.751)",
         "type": "scatter",
         "x": {
          "bdata": "AAAAAAAAAAAAAAAAAAAAAAAAAAAAAAAAHdRBHdRBfT8d1EEd1EF9Px3UQR3UQY0/HdRBHdRBjT8WX/EVX/GVPxZf8RVf8ZU/HdRBHdRBnT8d1EEd1EGdP5IkSZIkSaI/kiRJkiRJoj8WX/EVX/GlPxZf8RVf8aU/mpmZmZmZqT+amZmZmZmpP5IkSZIkSbI/kiRJkiRJsj/UQR3UQR20P9RBHdRBHbQ/UAd1UAd1wD9QB3VQB3XAP5IkSZIkScI/kiRJkiRJwj8zMzMzMzPDPzMzMzMzM8M/1EEd1EEdxD/UQR3UQR3EP3VQB3VQB8U/dVAHdVAHxT8WX/EVX/HFPxZf8RVf8cU/mpmZmZmZyT+amZmZmZnJP3zFV3zFV8w/fMVXfMVXzD8AAAAAAADQPwAAAAAAANA/UAd1UAd10D9QB3VQB3XQP5IkSZIkSdI/kiRJkiRJ0j/jK77iK77SP+MrvuIrvtI/MzMzMzMz0z8zMzMzMzPTPxZf8RVf8dU/Fl/xFV/x1T9JkiRJkiTZP0mSJEmSJNk/i6/4iq/42j+Lr/iKr/jaPx3UQR3UQd0/HdRBHdRB3T+ogzqogzrgP6iDOqiDOuA/mpmZmZmZ4T+amZmZmZnhPzMzMzMzM+M/MzMzMzMz4z8svuIrvuLjPyy+4iu+4uM/ZmZmZmZm5j9mZmZmZmbmPw/qoA7qoOY/D+qgDuqg5j+SJEmSJEnqP5IkSZIkSeo/O6iDOqiD6j87qIM6qIPqP4Q6qIM6qOs/hDqogzqo6z/FV3zFV3ztP8VXfMVXfO0/btu2bdu27T9u27Zt27btPwAAAAAAAPA/",
          "dtype": "f8"
         },
         "y": {
          "bdata": "AAAAAAAAAAARERERERGRP5qZmZmZmak/mpmZmZmZqT9VVVVVVVXFP1VVVVVVVcU/mpmZmZmZyT+amZmZmZnJP97d3d3d3c0/3t3d3d3dzT9ERERERETUP0RERERERNQ/VVVVVVVV1T9VVVVVVVXVP2ZmZmZmZtY/ZmZmZmZm1j93d3d3d3fXP3d3d3d3d9c/iYiIiIiI2D+JiIiIiIjYP5qZmZmZmdk/mpmZmZmZ2T+rqqqqqqraP6uqqqqqqto/zczMzMzM3D/NzMzMzMzcP97d3d3d3d0/3t3d3d3d3T8AAAAAAADgPwAAAAAAAOA/ERERERER4T8RERERERHhP5qZmZmZmeE/mpmZmZmZ4T8iIiIiIiLiPyIiIiIiIuI/MzMzMzMz4z8zMzMzMzPjP7y7u7u7u+M/vLu7u7u74z9ERERERETkP0REREREROQ/zczMzMzM5D/NzMzMzMzkP97d3d3d3eU/3t3d3d3d5T/v7u7u7u7mP+/u7u7u7uY/AAAAAAAA6D8AAAAAAADoPxEREREREek/ERERERER6T+amZmZmZnpP5qZmZmZmek/IiIiIiIi6j8iIiIiIiLqP6uqqqqqquo/q6qqqqqq6j8zMzMzMzPrPzMzMzMzM+s/vLu7u7u76z+8u7u7u7vrP0REREREROw/RERERERE7D/NzMzMzMzsP83MzMzMzOw/VVVVVVVV7T9VVVVVVVXtP97d3d3d3e0/3t3d3d3d7T9mZmZmZmbuP2ZmZmZmZu4/7+7u7u7u7j/v7u7u7u7uP3d3d3d3d+8/d3d3d3d37z8AAAAAAADwPwAAAAAAAPA/",
          "dtype": "f8"
         }
        },
        {
         "hovertemplate": "FPR = %{x:.2f}<br>TPR = %{y:.2f}<extra></extra>",
         "mode": "lines",
         "name": "Logistic Regression (L1) (AUC = 0.750)",
         "type": "scatter",
         "x": {
          "bdata": "AAAAAAAAAAAAAAAAAAAAAB3UQR3UQX0/HdRBHdRBfT8d1EEd1EGNPx3UQR3UQY0/Fl/xFV/xlT8WX/EVX/GVPx3UQR3UQZ0/HdRBHdRBnT+SJEmSJEmiP5IkSZIkSaI/Fl/xFV/xpT8WX/EVX/GlPx3UQR3UQa0/HdRBHdRBrT/UQR3UQR20P9RBHdRBHbQ/27Zt27Ztuz/btm3btm27P1/xFV/xFb8/X/EVX/EVvz+SJEmSJEnCP5IkSZIkScI/MzMzMzMzwz8zMzMzMzPDP9RBHdRBHcQ/1EEd1EEdxD91UAd1UAfFP3VQB3VQB8U/WHzFV3zFxz9YfMVXfMXHP9u2bdu2bcs/27Zt27Ztyz++4iu+4ivOP77iK77iK84/8RVf8RVf0T/xFV/xFV/RP0Id1EEd1NE/Qh3UQR3U0T+SJEmSJEnSP5IkSZIkSdI/MzMzMzMz0z8zMzMzMzPTP3VQB3VQB9U/dVAHdVAH1T/FV3zFV3zVP8VXfMVXfNU/SZIkSZIk2T9JkiRJkiTZP9u2bdu2bds/27Zt27Zt2z98xVd8xVfcP3zFV3zFV9w/D+qgDuqg3j8P6qAO6qDeP0Id1EEd1OE/Qh3UQR3U4T/btm3btm3jP9u2bdu2beM/LL7iK77i4z8svuIrvuLjPxZf8RVf8eU/Fl/xFV/x5T+3bdu2bdvmP7dt27Zt2+Y/kiRJkiRJ6j+SJEmSJEnqP4uv+Iqv+Oo/i6/4iq/46j8zMzMzMzPrPzMzMzMzM+s/btu2bdu27T9u27Zt27btP77iK77iK+4/vuIrvuIr7j8AAAAAAADwPw==",
          "dtype": "f8"
         },
         "y": {
          "bdata": "AAAAAAAAAAARERERERGRPxEREREREZE/VVVVVVVVxT9VVVVVVVXFP5qZmZmZmck/mpmZmZmZyT8AAAAAAADQPwAAAAAAANA/MzMzMzMz0z8zMzMzMzPTP1VVVVVVVdU/VVVVVVVV1T9mZmZmZmbWP2ZmZmZmZtY/d3d3d3d31z93d3d3d3fXP4mIiIiIiNg/iYiIiIiI2D+amZmZmZnZP5qZmZmZmdk/q6qqqqqq2j+rqqqqqqraP83MzMzMzNw/zczMzMzM3D/e3d3d3d3dP97d3d3d3d0/7+7u7u7u3j/v7u7u7u7ePxEREREREeE/ERERERER4T8iIiIiIiLiPyIiIiIiIuI/q6qqqqqq4j+rqqqqqqriPzMzMzMzM+M/MzMzMzMz4z9ERERERETkP0REREREROQ/VVVVVVVV5T9VVVVVVVXlP2ZmZmZmZuY/ZmZmZmZm5j/v7u7u7u7mP+/u7u7u7uY/d3d3d3d35z93d3d3d3fnPwAAAAAAAOg/AAAAAAAA6D8RERERERHpPxEREREREek/mpmZmZmZ6T+amZmZmZnpPyIiIiIiIuo/IiIiIiIi6j+rqqqqqqrqP6uqqqqqquo/MzMzMzMz6z8zMzMzMzPrP7y7u7u7u+s/vLu7u7u76z9ERERERETsP0REREREROw/zczMzMzM7D/NzMzMzMzsP1VVVVVVVe0/VVVVVVVV7T/e3d3d3d3tP97d3d3d3e0/ZmZmZmZm7j9mZmZmZmbuP+/u7u7u7u4/7+7u7u7u7j93d3d3d3fvP3d3d3d3d+8/AAAAAAAA8D8AAAAAAADwPw==",
          "dtype": "f8"
         }
        },
        {
         "hoverinfo": "skip",
         "line": {
          "color": "gray",
          "dash": "dash"
         },
         "mode": "lines",
         "name": "Modèle aléatoire",
         "type": "scatter",
         "x": [
          0,
          1
         ],
         "y": [
          0,
          1
         ]
        }
       ],
       "layout": {
        "height": 520,
        "template": {
         "data": {
          "bar": [
           {
            "error_x": {
             "color": "#2a3f5f"
            },
            "error_y": {
             "color": "#2a3f5f"
            },
            "marker": {
             "line": {
              "color": "white",
              "width": 0.5
             },
             "pattern": {
              "fillmode": "overlay",
              "size": 10,
              "solidity": 0.2
             }
            },
            "type": "bar"
           }
          ],
          "barpolar": [
           {
            "marker": {
             "line": {
              "color": "white",
              "width": 0.5
             },
             "pattern": {
              "fillmode": "overlay",
              "size": 10,
              "solidity": 0.2
             }
            },
            "type": "barpolar"
           }
          ],
          "carpet": [
           {
            "aaxis": {
             "endlinecolor": "#2a3f5f",
             "gridcolor": "#C8D4E3",
             "linecolor": "#C8D4E3",
             "minorgridcolor": "#C8D4E3",
             "startlinecolor": "#2a3f5f"
            },
            "baxis": {
             "endlinecolor": "#2a3f5f",
             "gridcolor": "#C8D4E3",
             "linecolor": "#C8D4E3",
             "minorgridcolor": "#C8D4E3",
             "startlinecolor": "#2a3f5f"
            },
            "type": "carpet"
           }
          ],
          "choropleth": [
           {
            "colorbar": {
             "outlinewidth": 0,
             "ticks": ""
            },
            "type": "choropleth"
           }
          ],
          "contour": [
           {
            "colorbar": {
             "outlinewidth": 0,
             "ticks": ""
            },
            "colorscale": [
             [
              0,
              "#0d0887"
             ],
             [
              0.1111111111111111,
              "#46039f"
             ],
             [
              0.2222222222222222,
              "#7201a8"
             ],
             [
              0.3333333333333333,
              "#9c179e"
             ],
             [
              0.4444444444444444,
              "#bd3786"
             ],
             [
              0.5555555555555556,
              "#d8576b"
             ],
             [
              0.6666666666666666,
              "#ed7953"
             ],
             [
              0.7777777777777778,
              "#fb9f3a"
             ],
             [
              0.8888888888888888,
              "#fdca26"
             ],
             [
              1,
              "#f0f921"
             ]
            ],
            "type": "contour"
           }
          ],
          "contourcarpet": [
           {
            "colorbar": {
             "outlinewidth": 0,
             "ticks": ""
            },
            "type": "contourcarpet"
           }
          ],
          "heatmap": [
           {
            "colorbar": {
             "outlinewidth": 0,
             "ticks": ""
            },
            "colorscale": [
             [
              0,
              "#0d0887"
             ],
             [
              0.1111111111111111,
              "#46039f"
             ],
             [
              0.2222222222222222,
              "#7201a8"
             ],
             [
              0.3333333333333333,
              "#9c179e"
             ],
             [
              0.4444444444444444,
              "#bd3786"
             ],
             [
              0.5555555555555556,
              "#d8576b"
             ],
             [
              0.6666666666666666,
              "#ed7953"
             ],
             [
              0.7777777777777778,
              "#fb9f3a"
             ],
             [
              0.8888888888888888,
              "#fdca26"
             ],
             [
              1,
              "#f0f921"
             ]
            ],
            "type": "heatmap"
           }
          ],
          "histogram": [
           {
            "marker": {
             "pattern": {
              "fillmode": "overlay",
              "size": 10,
              "solidity": 0.2
             }
            },
            "type": "histogram"
           }
          ],
          "histogram2d": [
           {
            "colorbar": {
             "outlinewidth": 0,
             "ticks": ""
            },
            "colorscale": [
             [
              0,
              "#0d0887"
             ],
             [
              0.1111111111111111,
              "#46039f"
             ],
             [
              0.2222222222222222,
              "#7201a8"
             ],
             [
              0.3333333333333333,
              "#9c179e"
             ],
             [
              0.4444444444444444,
              "#bd3786"
             ],
             [
              0.5555555555555556,
              "#d8576b"
             ],
             [
              0.6666666666666666,
              "#ed7953"
             ],
             [
              0.7777777777777778,
              "#fb9f3a"
             ],
             [
              0.8888888888888888,
              "#fdca26"
             ],
             [
              1,
              "#f0f921"
             ]
            ],
            "type": "histogram2d"
           }
          ],
          "histogram2dcontour": [
           {
            "colorbar": {
             "outlinewidth": 0,
             "ticks": ""
            },
            "colorscale": [
             [
              0,
              "#0d0887"
             ],
             [
              0.1111111111111111,
              "#46039f"
             ],
             [
              0.2222222222222222,
              "#7201a8"
             ],
             [
              0.3333333333333333,
              "#9c179e"
             ],
             [
              0.4444444444444444,
              "#bd3786"
             ],
             [
              0.5555555555555556,
              "#d8576b"
             ],
             [
              0.6666666666666666,
              "#ed7953"
             ],
             [
              0.7777777777777778,
              "#fb9f3a"
             ],
             [
              0.8888888888888888,
              "#fdca26"
             ],
             [
              1,
              "#f0f921"
             ]
            ],
            "type": "histogram2dcontour"
           }
          ],
          "mesh3d": [
           {
            "colorbar": {
             "outlinewidth": 0,
             "ticks": ""
            },
            "type": "mesh3d"
           }
          ],
          "parcoords": [
           {
            "line": {
             "colorbar": {
              "outlinewidth": 0,
              "ticks": ""
             }
            },
            "type": "parcoords"
           }
          ],
          "pie": [
           {
            "automargin": true,
            "type": "pie"
           }
          ],
          "scatter": [
           {
            "fillpattern": {
             "fillmode": "overlay",
             "size": 10,
             "solidity": 0.2
            },
            "type": "scatter"
           }
          ],
          "scatter3d": [
           {
            "line": {
             "colorbar": {
              "outlinewidth": 0,
              "ticks": ""
             }
            },
            "marker": {
             "colorbar": {
              "outlinewidth": 0,
              "ticks": ""
             }
            },
            "type": "scatter3d"
           }
          ],
          "scattercarpet": [
           {
            "marker": {
             "colorbar": {
              "outlinewidth": 0,
              "ticks": ""
             }
            },
            "type": "scattercarpet"
           }
          ],
          "scattergeo": [
           {
            "marker": {
             "colorbar": {
              "outlinewidth": 0,
              "ticks": ""
             }
            },
            "type": "scattergeo"
           }
          ],
          "scattergl": [
           {
            "marker": {
             "colorbar": {
              "outlinewidth": 0,
              "ticks": ""
             }
            },
            "type": "scattergl"
           }
          ],
          "scattermap": [
           {
            "marker": {
             "colorbar": {
              "outlinewidth": 0,
              "ticks": ""
             }
            },
            "type": "scattermap"
           }
          ],
          "scattermapbox": [
           {
            "marker": {
             "colorbar": {
              "outlinewidth": 0,
              "ticks": ""
             }
            },
            "type": "scattermapbox"
           }
          ],
          "scatterpolar": [
           {
            "marker": {
             "colorbar": {
              "outlinewidth": 0,
              "ticks": ""
             }
            },
            "type": "scatterpolar"
           }
          ],
          "scatterpolargl": [
           {
            "marker": {
             "colorbar": {
              "outlinewidth": 0,
              "ticks": ""
             }
            },
            "type": "scatterpolargl"
           }
          ],
          "scatterternary": [
           {
            "marker": {
             "colorbar": {
              "outlinewidth": 0,
              "ticks": ""
             }
            },
            "type": "scatterternary"
           }
          ],
          "surface": [
           {
            "colorbar": {
             "outlinewidth": 0,
             "ticks": ""
            },
            "colorscale": [
             [
              0,
              "#0d0887"
             ],
             [
              0.1111111111111111,
              "#46039f"
             ],
             [
              0.2222222222222222,
              "#7201a8"
             ],
             [
              0.3333333333333333,
              "#9c179e"
             ],
             [
              0.4444444444444444,
              "#bd3786"
             ],
             [
              0.5555555555555556,
              "#d8576b"
             ],
             [
              0.6666666666666666,
              "#ed7953"
             ],
             [
              0.7777777777777778,
              "#fb9f3a"
             ],
             [
              0.8888888888888888,
              "#fdca26"
             ],
             [
              1,
              "#f0f921"
             ]
            ],
            "type": "surface"
           }
          ],
          "table": [
           {
            "cells": {
             "fill": {
              "color": "#EBF0F8"
             },
             "line": {
              "color": "white"
             }
            },
            "header": {
             "fill": {
              "color": "#C8D4E3"
             },
             "line": {
              "color": "white"
             }
            },
            "type": "table"
           }
          ]
         },
         "layout": {
          "annotationdefaults": {
           "arrowcolor": "#2a3f5f",
           "arrowhead": 0,
           "arrowwidth": 1
          },
          "autotypenumbers": "strict",
          "coloraxis": {
           "colorbar": {
            "outlinewidth": 0,
            "ticks": ""
           }
          },
          "colorscale": {
           "diverging": [
            [
             0,
             "#8e0152"
            ],
            [
             0.1,
             "#c51b7d"
            ],
            [
             0.2,
             "#de77ae"
            ],
            [
             0.3,
             "#f1b6da"
            ],
            [
             0.4,
             "#fde0ef"
            ],
            [
             0.5,
             "#f7f7f7"
            ],
            [
             0.6,
             "#e6f5d0"
            ],
            [
             0.7,
             "#b8e186"
            ],
            [
             0.8,
             "#7fbc41"
            ],
            [
             0.9,
             "#4d9221"
            ],
            [
             1,
             "#276419"
            ]
           ],
           "sequential": [
            [
             0,
             "#0d0887"
            ],
            [
             0.1111111111111111,
             "#46039f"
            ],
            [
             0.2222222222222222,
             "#7201a8"
            ],
            [
             0.3333333333333333,
             "#9c179e"
            ],
            [
             0.4444444444444444,
             "#bd3786"
            ],
            [
             0.5555555555555556,
             "#d8576b"
            ],
            [
             0.6666666666666666,
             "#ed7953"
            ],
            [
             0.7777777777777778,
             "#fb9f3a"
            ],
            [
             0.8888888888888888,
             "#fdca26"
            ],
            [
             1,
             "#f0f921"
            ]
           ],
           "sequentialminus": [
            [
             0,
             "#0d0887"
            ],
            [
             0.1111111111111111,
             "#46039f"
            ],
            [
             0.2222222222222222,
             "#7201a8"
            ],
            [
             0.3333333333333333,
             "#9c179e"
            ],
            [
             0.4444444444444444,
             "#bd3786"
            ],
            [
             0.5555555555555556,
             "#d8576b"
            ],
            [
             0.6666666666666666,
             "#ed7953"
            ],
            [
             0.7777777777777778,
             "#fb9f3a"
            ],
            [
             0.8888888888888888,
             "#fdca26"
            ],
            [
             1,
             "#f0f921"
            ]
           ]
          },
          "colorway": [
           "#636efa",
           "#EF553B",
           "#00cc96",
           "#ab63fa",
           "#FFA15A",
           "#19d3f3",
           "#FF6692",
           "#B6E880",
           "#FF97FF",
           "#FECB52"
          ],
          "font": {
           "color": "#2a3f5f"
          },
          "geo": {
           "bgcolor": "white",
           "lakecolor": "white",
           "landcolor": "white",
           "showlakes": true,
           "showland": true,
           "subunitcolor": "#C8D4E3"
          },
          "hoverlabel": {
           "align": "left"
          },
          "hovermode": "closest",
          "mapbox": {
           "style": "light"
          },
          "paper_bgcolor": "white",
          "plot_bgcolor": "white",
          "polar": {
           "angularaxis": {
            "gridcolor": "#EBF0F8",
            "linecolor": "#EBF0F8",
            "ticks": ""
           },
           "bgcolor": "white",
           "radialaxis": {
            "gridcolor": "#EBF0F8",
            "linecolor": "#EBF0F8",
            "ticks": ""
           }
          },
          "scene": {
           "xaxis": {
            "backgroundcolor": "white",
            "gridcolor": "#DFE8F3",
            "gridwidth": 2,
            "linecolor": "#EBF0F8",
            "showbackground": true,
            "ticks": "",
            "zerolinecolor": "#EBF0F8"
           },
           "yaxis": {
            "backgroundcolor": "white",
            "gridcolor": "#DFE8F3",
            "gridwidth": 2,
            "linecolor": "#EBF0F8",
            "showbackground": true,
            "ticks": "",
            "zerolinecolor": "#EBF0F8"
           },
           "zaxis": {
            "backgroundcolor": "white",
            "gridcolor": "#DFE8F3",
            "gridwidth": 2,
            "linecolor": "#EBF0F8",
            "showbackground": true,
            "ticks": "",
            "zerolinecolor": "#EBF0F8"
           }
          },
          "shapedefaults": {
           "line": {
            "color": "#2a3f5f"
           }
          },
          "ternary": {
           "aaxis": {
            "gridcolor": "#DFE8F3",
            "linecolor": "#A2B1C6",
            "ticks": ""
           },
           "baxis": {
            "gridcolor": "#DFE8F3",
            "linecolor": "#A2B1C6",
            "ticks": ""
           },
           "bgcolor": "white",
           "caxis": {
            "gridcolor": "#DFE8F3",
            "linecolor": "#A2B1C6",
            "ticks": ""
           }
          },
          "title": {
           "x": 0.05
          },
          "xaxis": {
           "automargin": true,
           "gridcolor": "#EBF0F8",
           "linecolor": "#EBF0F8",
           "ticks": "",
           "title": {
            "standoff": 15
           },
           "zerolinecolor": "#EBF0F8",
           "zerolinewidth": 2
          },
          "yaxis": {
           "automargin": true,
           "gridcolor": "#EBF0F8",
           "linecolor": "#EBF0F8",
           "ticks": "",
           "title": {
            "standoff": 15
           },
           "zerolinecolor": "#EBF0F8",
           "zerolinewidth": 2
          }
         }
        },
        "title": {
         "text": "📊 Courbes ROC comparées"
        },
        "width": 850,
        "xaxis": {
         "title": {
          "text": "Taux de faux positifs (FPR)"
         }
        },
        "yaxis": {
         "title": {
          "text": "Taux de vrais positifs (TPR)"
         }
        }
       }
      }
     },
     "metadata": {},
     "output_type": "display_data"
    }
   ],
   "source": [
    "# Courbes ROC\n",
    "logistic_models.plot_roc_curve_interactive()"
   ]
  },
  {
   "cell_type": "code",
   "execution_count": 9,
   "id": "5a885b03",
   "metadata": {},
   "outputs": [
    {
     "data": {
      "application/vnd.plotly.v1+json": {
       "config": {
        "plotlyServerURL": "https://plot.ly"
       },
       "data": [
        {
         "hovertemplate": "Recall = %{x:.2f}<br>Précision = %{y:.2f}<extra></extra>",
         "mode": "lines",
         "name": "Logistic Regression (L2) (AP = 0.622)",
         "type": "scatter",
         "x": {
          "bdata": "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",
          "dtype": "f8"
         },
         "y": {
          "bdata": "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",
          "dtype": "f8"
         }
        },
        {
         "hovertemplate": "Recall = %{x:.2f}<br>Précision = %{y:.2f}<extra></extra>",
         "mode": "lines",
         "name": "Logistic Regression (ElasticNet) (AP = 0.619)",
         "type": "scatter",
         "x": {
          "bdata": "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",
          "dtype": "f8"
         },
         "y": {
          "bdata": "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",
          "dtype": "f8"
         }
        },
        {
         "hovertemplate": "Recall = %{x:.2f}<br>Précision = %{y:.2f}<extra></extra>",
         "mode": "lines",
         "name": "Logistic Regression (L1) (AP = 0.608)",
         "type": "scatter",
         "x": {
          "bdata": "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",
          "dtype": "f8"
         },
         "y": {
          "bdata": "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",
          "dtype": "f8"
         }
        }
       ],
       "layout": {
        "height": 520,
        "template": {
         "data": {
          "bar": [
           {
            "error_x": {
             "color": "#2a3f5f"
            },
            "error_y": {
             "color": "#2a3f5f"
            },
            "marker": {
             "line": {
              "color": "white",
              "width": 0.5
             },
             "pattern": {
              "fillmode": "overlay",
              "size": 10,
              "solidity": 0.2
             }
            },
            "type": "bar"
           }
          ],
          "barpolar": [
           {
            "marker": {
             "line": {
              "color": "white",
              "width": 0.5
             },
             "pattern": {
              "fillmode": "overlay",
              "size": 10,
              "solidity": 0.2
             }
            },
            "type": "barpolar"
           }
          ],
          "carpet": [
           {
            "aaxis": {
             "endlinecolor": "#2a3f5f",
             "gridcolor": "#C8D4E3",
             "linecolor": "#C8D4E3",
             "minorgridcolor": "#C8D4E3",
             "startlinecolor": "#2a3f5f"
            },
            "baxis": {
             "endlinecolor": "#2a3f5f",
             "gridcolor": "#C8D4E3",
             "linecolor": "#C8D4E3",
             "minorgridcolor": "#C8D4E3",
             "startlinecolor": "#2a3f5f"
            },
            "type": "carpet"
           }
          ],
          "choropleth": [
           {
            "colorbar": {
             "outlinewidth": 0,
             "ticks": ""
            },
            "type": "choropleth"
           }
          ],
          "contour": [
           {
            "colorbar": {
             "outlinewidth": 0,
             "ticks": ""
            },
            "colorscale": [
             [
              0,
              "#0d0887"
             ],
             [
              0.1111111111111111,
              "#46039f"
             ],
             [
              0.2222222222222222,
              "#7201a8"
             ],
             [
              0.3333333333333333,
              "#9c179e"
             ],
             [
              0.4444444444444444,
              "#bd3786"
             ],
             [
              0.5555555555555556,
              "#d8576b"
             ],
             [
              0.6666666666666666,
              "#ed7953"
             ],
             [
              0.7777777777777778,
              "#fb9f3a"
             ],
             [
              0.8888888888888888,
              "#fdca26"
             ],
             [
              1,
              "#f0f921"
             ]
            ],
            "type": "contour"
           }
          ],
          "contourcarpet": [
           {
            "colorbar": {
             "outlinewidth": 0,
             "ticks": ""
            },
            "type": "contourcarpet"
           }
          ],
          "heatmap": [
           {
            "colorbar": {
             "outlinewidth": 0,
             "ticks": ""
            },
            "colorscale": [
             [
              0,
              "#0d0887"
             ],
             [
              0.1111111111111111,
              "#46039f"
             ],
             [
              0.2222222222222222,
              "#7201a8"
             ],
             [
              0.3333333333333333,
              "#9c179e"
             ],
             [
              0.4444444444444444,
              "#bd3786"
             ],
             [
              0.5555555555555556,
              "#d8576b"
             ],
             [
              0.6666666666666666,
              "#ed7953"
             ],
             [
              0.7777777777777778,
              "#fb9f3a"
             ],
             [
              0.8888888888888888,
              "#fdca26"
             ],
             [
              1,
              "#f0f921"
             ]
            ],
            "type": "heatmap"
           }
          ],
          "histogram": [
           {
            "marker": {
             "pattern": {
              "fillmode": "overlay",
              "size": 10,
              "solidity": 0.2
             }
            },
            "type": "histogram"
           }
          ],
          "histogram2d": [
           {
            "colorbar": {
             "outlinewidth": 0,
             "ticks": ""
            },
            "colorscale": [
             [
              0,
              "#0d0887"
             ],
             [
              0.1111111111111111,
              "#46039f"
             ],
             [
              0.2222222222222222,
              "#7201a8"
             ],
             [
              0.3333333333333333,
              "#9c179e"
             ],
             [
              0.4444444444444444,
              "#bd3786"
             ],
             [
              0.5555555555555556,
              "#d8576b"
             ],
             [
              0.6666666666666666,
              "#ed7953"
             ],
             [
              0.7777777777777778,
              "#fb9f3a"
             ],
             [
              0.8888888888888888,
              "#fdca26"
             ],
             [
              1,
              "#f0f921"
             ]
            ],
            "type": "histogram2d"
           }
          ],
          "histogram2dcontour": [
           {
            "colorbar": {
             "outlinewidth": 0,
             "ticks": ""
            },
            "colorscale": [
             [
              0,
              "#0d0887"
             ],
             [
              0.1111111111111111,
              "#46039f"
             ],
             [
              0.2222222222222222,
              "#7201a8"
             ],
             [
              0.3333333333333333,
              "#9c179e"
             ],
             [
              0.4444444444444444,
              "#bd3786"
             ],
             [
              0.5555555555555556,
              "#d8576b"
             ],
             [
              0.6666666666666666,
              "#ed7953"
             ],
             [
              0.7777777777777778,
              "#fb9f3a"
             ],
             [
              0.8888888888888888,
              "#fdca26"
             ],
             [
              1,
              "#f0f921"
             ]
            ],
            "type": "histogram2dcontour"
           }
          ],
          "mesh3d": [
           {
            "colorbar": {
             "outlinewidth": 0,
             "ticks": ""
            },
            "type": "mesh3d"
           }
          ],
          "parcoords": [
           {
            "line": {
             "colorbar": {
              "outlinewidth": 0,
              "ticks": ""
             }
            },
            "type": "parcoords"
           }
          ],
          "pie": [
           {
            "automargin": true,
            "type": "pie"
           }
          ],
          "scatter": [
           {
            "fillpattern": {
             "fillmode": "overlay",
             "size": 10,
             "solidity": 0.2
            },
            "type": "scatter"
           }
          ],
          "scatter3d": [
           {
            "line": {
             "colorbar": {
              "outlinewidth": 0,
              "ticks": ""
             }
            },
            "marker": {
             "colorbar": {
              "outlinewidth": 0,
              "ticks": ""
             }
            },
            "type": "scatter3d"
           }
          ],
          "scattercarpet": [
           {
            "marker": {
             "colorbar": {
              "outlinewidth": 0,
              "ticks": ""
             }
            },
            "type": "scattercarpet"
           }
          ],
          "scattergeo": [
           {
            "marker": {
             "colorbar": {
              "outlinewidth": 0,
              "ticks": ""
             }
            },
            "type": "scattergeo"
           }
          ],
          "scattergl": [
           {
            "marker": {
             "colorbar": {
              "outlinewidth": 0,
              "ticks": ""
             }
            },
            "type": "scattergl"
           }
          ],
          "scattermap": [
           {
            "marker": {
             "colorbar": {
              "outlinewidth": 0,
              "ticks": ""
             }
            },
            "type": "scattermap"
           }
          ],
          "scattermapbox": [
           {
            "marker": {
             "colorbar": {
              "outlinewidth": 0,
              "ticks": ""
             }
            },
            "type": "scattermapbox"
           }
          ],
          "scatterpolar": [
           {
            "marker": {
             "colorbar": {
              "outlinewidth": 0,
              "ticks": ""
             }
            },
            "type": "scatterpolar"
           }
          ],
          "scatterpolargl": [
           {
            "marker": {
             "colorbar": {
              "outlinewidth": 0,
              "ticks": ""
             }
            },
            "type": "scatterpolargl"
           }
          ],
          "scatterternary": [
           {
            "marker": {
             "colorbar": {
              "outlinewidth": 0,
              "ticks": ""
             }
            },
            "type": "scatterternary"
           }
          ],
          "surface": [
           {
            "colorbar": {
             "outlinewidth": 0,
             "ticks": ""
            },
            "colorscale": [
             [
              0,
              "#0d0887"
             ],
             [
              0.1111111111111111,
              "#46039f"
             ],
             [
              0.2222222222222222,
              "#7201a8"
             ],
             [
              0.3333333333333333,
              "#9c179e"
             ],
             [
              0.4444444444444444,
              "#bd3786"
             ],
             [
              0.5555555555555556,
              "#d8576b"
             ],
             [
              0.6666666666666666,
              "#ed7953"
             ],
             [
              0.7777777777777778,
              "#fb9f3a"
             ],
             [
              0.8888888888888888,
              "#fdca26"
             ],
             [
              1,
              "#f0f921"
             ]
            ],
            "type": "surface"
           }
          ],
          "table": [
           {
            "cells": {
             "fill": {
              "color": "#EBF0F8"
             },
             "line": {
              "color": "white"
             }
            },
            "header": {
             "fill": {
              "color": "#C8D4E3"
             },
             "line": {
              "color": "white"
             }
            },
            "type": "table"
           }
          ]
         },
         "layout": {
          "annotationdefaults": {
           "arrowcolor": "#2a3f5f",
           "arrowhead": 0,
           "arrowwidth": 1
          },
          "autotypenumbers": "strict",
          "coloraxis": {
           "colorbar": {
            "outlinewidth": 0,
            "ticks": ""
           }
          },
          "colorscale": {
           "diverging": [
            [
             0,
             "#8e0152"
            ],
            [
             0.1,
             "#c51b7d"
            ],
            [
             0.2,
             "#de77ae"
            ],
            [
             0.3,
             "#f1b6da"
            ],
            [
             0.4,
             "#fde0ef"
            ],
            [
             0.5,
             "#f7f7f7"
            ],
            [
             0.6,
             "#e6f5d0"
            ],
            [
             0.7,
             "#b8e186"
            ],
            [
             0.8,
             "#7fbc41"
            ],
            [
             0.9,
             "#4d9221"
            ],
            [
             1,
             "#276419"
            ]
           ],
           "sequential": [
            [
             0,
             "#0d0887"
            ],
            [
             0.1111111111111111,
             "#46039f"
            ],
            [
             0.2222222222222222,
             "#7201a8"
            ],
            [
             0.3333333333333333,
             "#9c179e"
            ],
            [
             0.4444444444444444,
             "#bd3786"
            ],
            [
             0.5555555555555556,
             "#d8576b"
            ],
            [
             0.6666666666666666,
             "#ed7953"
            ],
            [
             0.7777777777777778,
             "#fb9f3a"
            ],
            [
             0.8888888888888888,
             "#fdca26"
            ],
            [
             1,
             "#f0f921"
            ]
           ],
           "sequentialminus": [
            [
             0,
             "#0d0887"
            ],
            [
             0.1111111111111111,
             "#46039f"
            ],
            [
             0.2222222222222222,
             "#7201a8"
            ],
            [
             0.3333333333333333,
             "#9c179e"
            ],
            [
             0.4444444444444444,
             "#bd3786"
            ],
            [
             0.5555555555555556,
             "#d8576b"
            ],
            [
             0.6666666666666666,
             "#ed7953"
            ],
            [
             0.7777777777777778,
             "#fb9f3a"
            ],
            [
             0.8888888888888888,
             "#fdca26"
            ],
            [
             1,
             "#f0f921"
            ]
           ]
          },
          "colorway": [
           "#636efa",
           "#EF553B",
           "#00cc96",
           "#ab63fa",
           "#FFA15A",
           "#19d3f3",
           "#FF6692",
           "#B6E880",
           "#FF97FF",
           "#FECB52"
          ],
          "font": {
           "color": "#2a3f5f"
          },
          "geo": {
           "bgcolor": "white",
           "lakecolor": "white",
           "landcolor": "white",
           "showlakes": true,
           "showland": true,
           "subunitcolor": "#C8D4E3"
          },
          "hoverlabel": {
           "align": "left"
          },
          "hovermode": "closest",
          "mapbox": {
           "style": "light"
          },
          "paper_bgcolor": "white",
          "plot_bgcolor": "white",
          "polar": {
           "angularaxis": {
            "gridcolor": "#EBF0F8",
            "linecolor": "#EBF0F8",
            "ticks": ""
           },
           "bgcolor": "white",
           "radialaxis": {
            "gridcolor": "#EBF0F8",
            "linecolor": "#EBF0F8",
            "ticks": ""
           }
          },
          "scene": {
           "xaxis": {
            "backgroundcolor": "white",
            "gridcolor": "#DFE8F3",
            "gridwidth": 2,
            "linecolor": "#EBF0F8",
            "showbackground": true,
            "ticks": "",
            "zerolinecolor": "#EBF0F8"
           },
           "yaxis": {
            "backgroundcolor": "white",
            "gridcolor": "#DFE8F3",
            "gridwidth": 2,
            "linecolor": "#EBF0F8",
            "showbackground": true,
            "ticks": "",
            "zerolinecolor": "#EBF0F8"
           },
           "zaxis": {
            "backgroundcolor": "white",
            "gridcolor": "#DFE8F3",
            "gridwidth": 2,
            "linecolor": "#EBF0F8",
            "showbackground": true,
            "ticks": "",
            "zerolinecolor": "#EBF0F8"
           }
          },
          "shapedefaults": {
           "line": {
            "color": "#2a3f5f"
           }
          },
          "ternary": {
           "aaxis": {
            "gridcolor": "#DFE8F3",
            "linecolor": "#A2B1C6",
            "ticks": ""
           },
           "baxis": {
            "gridcolor": "#DFE8F3",
            "linecolor": "#A2B1C6",
            "ticks": ""
           },
           "bgcolor": "white",
           "caxis": {
            "gridcolor": "#DFE8F3",
            "linecolor": "#A2B1C6",
            "ticks": ""
           }
          },
          "title": {
           "x": 0.05
          },
          "xaxis": {
           "automargin": true,
           "gridcolor": "#EBF0F8",
           "linecolor": "#EBF0F8",
           "ticks": "",
           "title": {
            "standoff": 15
           },
           "zerolinecolor": "#EBF0F8",
           "zerolinewidth": 2
          },
          "yaxis": {
           "automargin": true,
           "gridcolor": "#EBF0F8",
           "linecolor": "#EBF0F8",
           "ticks": "",
           "title": {
            "standoff": 15
           },
           "zerolinecolor": "#EBF0F8",
           "zerolinewidth": 2
          }
         }
        },
        "title": {
         "text": "📈 Courbes Précision-Rappel comparées"
        },
        "width": 850,
        "xaxis": {
         "title": {
          "text": "Recall"
         }
        },
        "yaxis": {
         "title": {
          "text": "Precision"
         }
        }
       }
      }
     },
     "metadata": {},
     "output_type": "display_data"
    }
   ],
   "source": [
    "# Courbes Recall/Précision\n",
    "logistic_models.plot_precision_recall_curve_interactive()"
   ]
  },
  {
   "cell_type": "code",
   "execution_count": 10,
   "id": "2f2b1972",
   "metadata": {},
   "outputs": [
    {
     "data": {
      "application/vnd.plotly.v1+json": {
       "config": {
        "plotlyServerURL": "https://plot.ly"
       },
       "data": [
        {
         "hovertemplate": "Seuil = %{x:.2f}<br>F1-score = %{y:.3f}<extra></extra>",
         "mode": "lines+markers",
         "name": "Logistic Regression (L1) (max=0.592)",
         "type": "scatter",
         "x": {
          "bdata": "exSuR+F6hD8Lv1ubZmCUP9hz4JJcg54/U5QyRSlTpD+67vRApGSpPyFJtzwfdq4/w9E8HM3DsT/3/h2aiky0Pyos/xdI1bY/XVnglQVeuT+RhsETw+a7P8SzopGAb74/fPDBBx98wD8Wh7LGfcDBP7Ado4XcBMM/SbSTRDtJxD/jSoQDmo3FP33hdML40cY/FnhlgVcWyD+wDlZAtlrJP0qlRv8Un8o/4zs3vnPjyz990id90ifNPxdpGDwxbM4/sP8I+4+wzz8ly/xcd3rQP3IWdbymHNE/v2HtG9a+0T8MrWV7BWHSP1j43do0A9M/pUNWOmSl0z/yjs6Zk0fUPz/aRvnC6dQ/jCW/WPKL1T/ZcDe4IS7WPya8rxdR0NY/cgcod4By1z+/UqDWrxTYPwyeGDbfttg/WemQlQ5Z2T+mNAn1PfvZP/N/gVRtndo/P8v5s5w/2z+MFnITzOHbP9lh6nL7g9w/Jq1i0iom3T9z+NoxWsjdP8BDU5GJat4/DI/L8LgM3z9Z2kNQ6K7fP9MS3teLKOA/ejiah6N54D8gXlY3u8rgP8aDEufSG+E/banOlups4T8Tz4pGAr7hP7r0RvYZD+I/YBoDpjFg4j8GQL9VSbHiP61lewVhAuM/U4s3tXhT4z/6sPNkkKTjP6DWrxSo9eM/R/xrxL9G5D/tISh015fkP5NH5CPv6OQ/Om2g0wY65T/gklyDHovlP4e4GDM23OU/Ld7U4k0t5j/UA5GSZX7mP3opTUJ9z+Y/IE8J8pQg5z/HdMWhrHHnP22agVHEwuc/FMA9AdwT6D+65fmw82ToP2ALtmALtug/BzFyECMH6T+tVi7AOljpP1R86m9Sqek/+qGmH2r66T+hx2LPgUvqP0ftHn+ZnOo/7RLbLrHt6j+UOJfeyD7rPzpeU47gj+s/4YMPPvjg6z+HqcvtDzLsPy7Ph50ng+w/1PRDTT/U7D96GgD9ViXtPyFAvKxudu0/x2V4XIbH7T9uizQMnhjuPxSx8Lu1ae4/utasa8267j9h/Ggb5QvvPwciJcv8XO8/rkfhehSu7z8=",
          "dtype": "f8"
         },
         "y": [
          0.4743083003952569,
          0.48333333333333334,
          0.48484848484848486,
          0.497737556561086,
          0.5118483412322274,
          0.5196078431372549,
          0.5204081632653061,
          0.5284974093264249,
          0.5340314136125655,
          0.5347593582887701,
          0.5405405405405406,
          0.5524861878453039,
          0.5617977528089888,
          0.5697674418604651,
          0.5647058823529412,
          0.5714285714285714,
          0.5696969696969697,
          0.5802469135802469,
          0.5625,
          0.569620253164557,
          0.569620253164557,
          0.569620253164557,
          0.5769230769230769,
          0.5844155844155844,
          0.5921052631578947,
          0.5866666666666667,
          0.581081081081081,
          0.581081081081081,
          0.581081081081081,
          0.589041095890411,
          0.589041095890411,
          0.5874125874125874,
          0.5714285714285714,
          0.5588235294117647,
          0.5373134328358209,
          0.5538461538461539,
          0.5581395348837209,
          0.546875,
          0.5555555555555556,
          0.5483870967741935,
          0.5528455284552846,
          0.5573770491803278,
          0.5573770491803278,
          0.5619834710743802,
          0.5546218487394958,
          0.5470085470085471,
          0.5565217391304348,
          0.543859649122807,
          0.543859649122807,
          0.5309734513274337,
          0.5309734513274337,
          0.509090909090909,
          0.5137614678899083,
          0.5,
          0.5046728971962616,
          0.5046728971962616,
          0.5046728971962616,
          0.5046728971962616,
          0.49056603773584906,
          0.47619047619047616,
          0.49019607843137253,
          0.4752475247524752,
          0.46938775510204084,
          0.4842105263157895,
          0.4731182795698925,
          0.4835164835164835,
          0.47191011235955055,
          0.4772727272727273,
          0.4827586206896552,
          0.46511627906976744,
          0.47058823529411764,
          0.41975308641975306,
          0.41975308641975306,
          0.41975308641975306,
          0.4,
          0.4,
          0.4,
          0.38461538461538464,
          0.36363636363636365,
          0.32,
          0.32432432432432434,
          0.2777777777777778,
          0.2777777777777778,
          0.2777777777777778,
          0.2777777777777778,
          0.2318840579710145,
          0.2318840579710145,
          0.20588235294117646,
          0.1791044776119403,
          0.15151515151515152,
          0.15151515151515152,
          0.15151515151515152,
          0.15151515151515152,
          0.09375,
          0.09375,
          0.03278688524590164,
          0.03278688524590164,
          0,
          0,
          0
         ]
        },
        {
         "hovertemplate": "Seuil = %{x:.2f}<br>F1-score = %{y:.3f}<extra></extra>",
         "mode": "lines+markers",
         "name": "Logistic Regression (L2) (max=0.591)",
         "type": "scatter",
         "x": {
          "bdata": "exSuR+F6hD8Lv1ubZmCUP9hz4JJcg54/U5QyRSlTpD+67vRApGSpPyFJtzwfdq4/w9E8HM3DsT/3/h2aiky0Pyos/xdI1bY/XVnglQVeuT+RhsETw+a7P8SzopGAb74/fPDBBx98wD8Wh7LGfcDBP7Ado4XcBMM/SbSTRDtJxD/jSoQDmo3FP33hdML40cY/FnhlgVcWyD+wDlZAtlrJP0qlRv8Un8o/4zs3vnPjyz990id90ifNPxdpGDwxbM4/sP8I+4+wzz8ly/xcd3rQP3IWdbymHNE/v2HtG9a+0T8MrWV7BWHSP1j43do0A9M/pUNWOmSl0z/yjs6Zk0fUPz/aRvnC6dQ/jCW/WPKL1T/ZcDe4IS7WPya8rxdR0NY/cgcod4By1z+/UqDWrxTYPwyeGDbfttg/WemQlQ5Z2T+mNAn1PfvZP/N/gVRtndo/P8v5s5w/2z+MFnITzOHbP9lh6nL7g9w/Jq1i0iom3T9z+NoxWsjdP8BDU5GJat4/DI/L8LgM3z9Z2kNQ6K7fP9MS3teLKOA/ejiah6N54D8gXlY3u8rgP8aDEufSG+E/banOlups4T8Tz4pGAr7hP7r0RvYZD+I/YBoDpjFg4j8GQL9VSbHiP61lewVhAuM/U4s3tXhT4z/6sPNkkKTjP6DWrxSo9eM/R/xrxL9G5D/tISh015fkP5NH5CPv6OQ/Om2g0wY65T/gklyDHovlP4e4GDM23OU/Ld7U4k0t5j/UA5GSZX7mP3opTUJ9z+Y/IE8J8pQg5z/HdMWhrHHnP22agVHEwuc/FMA9AdwT6D+65fmw82ToP2ALtmALtug/BzFyECMH6T+tVi7AOljpP1R86m9Sqek/+qGmH2r66T+hx2LPgUvqP0ftHn+ZnOo/7RLbLrHt6j+UOJfeyD7rPzpeU47gj+s/4YMPPvjg6z+HqcvtDzLsPy7Ph50ng+w/1PRDTT/U7D96GgD9ViXtPyFAvKxudu0/x2V4XIbH7T9uizQMnhjuPxSx8Lu1ae4/utasa8267j9h/Ggb5QvvPwciJcv8XO8/rkfhehSu7z8=",
          "dtype": "f8"
         },
         "y": [
          0.46875,
          0.4838709677419355,
          0.48535564853556484,
          0.4892703862660944,
          0.49557522123893805,
          0.5161290322580645,
          0.5192307692307693,
          0.5346534653465347,
          0.542713567839196,
          0.5333333333333333,
          0.5263157894736842,
          0.532608695652174,
          0.5355191256830601,
          0.550561797752809,
          0.5465116279069767,
          0.5497076023391813,
          0.5562130177514792,
          0.5562130177514792,
          0.5609756097560976,
          0.5590062111801242,
          0.5625,
          0.5769230769230769,
          0.5714285714285714,
          0.5714285714285714,
          0.5789473684210527,
          0.581081081081081,
          0.5753424657534246,
          0.5793103448275863,
          0.5833333333333334,
          0.5815602836879432,
          0.583941605839416,
          0.583941605839416,
          0.583941605839416,
          0.582089552238806,
          0.582089552238806,
          0.5909090909090909,
          0.5801526717557252,
          0.5801526717557252,
          0.5891472868217055,
          0.5873015873015873,
          0.5573770491803278,
          0.5573770491803278,
          0.5573770491803278,
          0.5084745762711864,
          0.5084745762711864,
          0.5172413793103449,
          0.5172413793103449,
          0.5132743362831859,
          0.5045045045045045,
          0.4954128440366973,
          0.49523809523809526,
          0.49523809523809526,
          0.49523809523809526,
          0.49019607843137253,
          0.49504950495049505,
          0.49504950495049505,
          0.49504950495049505,
          0.5050505050505051,
          0.5050505050505051,
          0.5050505050505051,
          0.4842105263157895,
          0.4842105263157895,
          0.46808510638297873,
          0.45652173913043476,
          0.47191011235955055,
          0.45454545454545453,
          0.45454545454545453,
          0.4418604651162791,
          0.4235294117647059,
          0.40963855421686746,
          0.40963855421686746,
          0.3950617283950617,
          0.379746835443038,
          0.38461538461538464,
          0.36363636363636365,
          0.34210526315789475,
          0.34210526315789475,
          0.34210526315789475,
          0.3013698630136986,
          0.2777777777777778,
          0.2777777777777778,
          0.2777777777777778,
          0.2777777777777778,
          0.2571428571428571,
          0.20588235294117646,
          0.15384615384615385,
          0.125,
          0.125,
          0.125,
          0.125,
          0.06451612903225806,
          0.06451612903225806,
          0.03278688524590164,
          0.03278688524590164,
          0.03278688524590164,
          0.03278688524590164,
          0,
          0,
          0,
          0
         ]
        },
        {
         "hovertemplate": "Seuil = %{x:.2f}<br>F1-score = %{y:.3f}<extra></extra>",
         "mode": "lines+markers",
         "name": "Logistic Regression (ElasticNet) (max=0.589)",
         "type": "scatter",
         "x": {
          "bdata": "exSuR+F6hD8Lv1ubZmCUP9hz4JJcg54/U5QyRSlTpD+67vRApGSpPyFJtzwfdq4/w9E8HM3DsT/3/h2aiky0Pyos/xdI1bY/XVnglQVeuT+RhsETw+a7P8SzopGAb74/fPDBBx98wD8Wh7LGfcDBP7Ado4XcBMM/SbSTRDtJxD/jSoQDmo3FP33hdML40cY/FnhlgVcWyD+wDlZAtlrJP0qlRv8Un8o/4zs3vnPjyz990id90ifNPxdpGDwxbM4/sP8I+4+wzz8ly/xcd3rQP3IWdbymHNE/v2HtG9a+0T8MrWV7BWHSP1j43do0A9M/pUNWOmSl0z/yjs6Zk0fUPz/aRvnC6dQ/jCW/WPKL1T/ZcDe4IS7WPya8rxdR0NY/cgcod4By1z+/UqDWrxTYPwyeGDbfttg/WemQlQ5Z2T+mNAn1PfvZP/N/gVRtndo/P8v5s5w/2z+MFnITzOHbP9lh6nL7g9w/Jq1i0iom3T9z+NoxWsjdP8BDU5GJat4/DI/L8LgM3z9Z2kNQ6K7fP9MS3teLKOA/ejiah6N54D8gXlY3u8rgP8aDEufSG+E/banOlups4T8Tz4pGAr7hP7r0RvYZD+I/YBoDpjFg4j8GQL9VSbHiP61lewVhAuM/U4s3tXhT4z/6sPNkkKTjP6DWrxSo9eM/R/xrxL9G5D/tISh015fkP5NH5CPv6OQ/Om2g0wY65T/gklyDHovlP4e4GDM23OU/Ld7U4k0t5j/UA5GSZX7mP3opTUJ9z+Y/IE8J8pQg5z/HdMWhrHHnP22agVHEwuc/FMA9AdwT6D+65fmw82ToP2ALtmALtug/BzFyECMH6T+tVi7AOljpP1R86m9Sqek/+qGmH2r66T+hx2LPgUvqP0ftHn+ZnOo/7RLbLrHt6j+UOJfeyD7rPzpeU47gj+s/4YMPPvjg6z+HqcvtDzLsPy7Ph50ng+w/1PRDTT/U7D96GgD9ViXtPyFAvKxudu0/x2V4XIbH7T9uizQMnhjuPxSx8Lu1ae4/utasa8267j9h/Ggb5QvvPwciJcv8XO8/rkfhehSu7z8=",
          "dtype": "f8"
         },
         "y": [
          0.47058823529411764,
          0.47540983606557374,
          0.48717948717948717,
          0.4845814977973568,
          0.5069124423963134,
          0.5145631067961165,
          0.5247524752475248,
          0.5257731958762887,
          0.53125,
          0.5396825396825397,
          0.5347593582887701,
          0.5494505494505495,
          0.5444444444444444,
          0.56,
          0.5614035087719298,
          0.5680473372781065,
          0.5680473372781065,
          0.5662650602409639,
          0.5696969696969697,
          0.5802469135802469,
          0.5625,
          0.5732484076433121,
          0.5806451612903226,
          0.5806451612903226,
          0.5882352941176471,
          0.5771812080536913,
          0.581081081081081,
          0.581081081081081,
          0.5850340136054422,
          0.589041095890411,
          0.5734265734265734,
          0.5774647887323944,
          0.5611510791366906,
          0.5547445255474452,
          0.5671641791044776,
          0.5606060606060606,
          0.5538461538461539,
          0.5625,
          0.544,
          0.5483870967741935,
          0.5483870967741935,
          0.5483870967741935,
          0.5573770491803278,
          0.55,
          0.559322033898305,
          0.5641025641025641,
          0.5517241379310345,
          0.5565217391304348,
          0.543859649122807,
          0.5357142857142857,
          0.5137614678899083,
          0.5137614678899083,
          0.5137614678899083,
          0.5,
          0.5046728971962616,
          0.5046728971962616,
          0.49056603773584906,
          0.49056603773584906,
          0.47619047619047616,
          0.47058823529411764,
          0.48,
          0.4948453608247423,
          0.4946236559139785,
          0.4782608695652174,
          0.4835164835164835,
          0.4772727272727273,
          0.4772727272727273,
          0.47058823529411764,
          0.4523809523809524,
          0.4523809523809524,
          0.41975308641975306,
          0.41975308641975306,
          0.41975308641975306,
          0.4,
          0.4,
          0.4,
          0.4,
          0.34210526315789475,
          0.32432432432432434,
          0.3013698630136986,
          0.2777777777777778,
          0.2777777777777778,
          0.2777777777777778,
          0.28169014084507044,
          0.2571428571428571,
          0.2318840579710145,
          0.20588235294117646,
          0.15151515151515152,
          0.15151515151515152,
          0.15151515151515152,
          0.15151515151515152,
          0.15151515151515152,
          0.09375,
          0.09375,
          0.06451612903225806,
          0.03278688524590164,
          0,
          0,
          0,
          0
         ]
        }
       ],
       "layout": {
        "height": 520,
        "template": {
         "data": {
          "bar": [
           {
            "error_x": {
             "color": "#2a3f5f"
            },
            "error_y": {
             "color": "#2a3f5f"
            },
            "marker": {
             "line": {
              "color": "white",
              "width": 0.5
             },
             "pattern": {
              "fillmode": "overlay",
              "size": 10,
              "solidity": 0.2
             }
            },
            "type": "bar"
           }
          ],
          "barpolar": [
           {
            "marker": {
             "line": {
              "color": "white",
              "width": 0.5
             },
             "pattern": {
              "fillmode": "overlay",
              "size": 10,
              "solidity": 0.2
             }
            },
            "type": "barpolar"
           }
          ],
          "carpet": [
           {
            "aaxis": {
             "endlinecolor": "#2a3f5f",
             "gridcolor": "#C8D4E3",
             "linecolor": "#C8D4E3",
             "minorgridcolor": "#C8D4E3",
             "startlinecolor": "#2a3f5f"
            },
            "baxis": {
             "endlinecolor": "#2a3f5f",
             "gridcolor": "#C8D4E3",
             "linecolor": "#C8D4E3",
             "minorgridcolor": "#C8D4E3",
             "startlinecolor": "#2a3f5f"
            },
            "type": "carpet"
           }
          ],
          "choropleth": [
           {
            "colorbar": {
             "outlinewidth": 0,
             "ticks": ""
            },
            "type": "choropleth"
           }
          ],
          "contour": [
           {
            "colorbar": {
             "outlinewidth": 0,
             "ticks": ""
            },
            "colorscale": [
             [
              0,
              "#0d0887"
             ],
             [
              0.1111111111111111,
              "#46039f"
             ],
             [
              0.2222222222222222,
              "#7201a8"
             ],
             [
              0.3333333333333333,
              "#9c179e"
             ],
             [
              0.4444444444444444,
              "#bd3786"
             ],
             [
              0.5555555555555556,
              "#d8576b"
             ],
             [
              0.6666666666666666,
              "#ed7953"
             ],
             [
              0.7777777777777778,
              "#fb9f3a"
             ],
             [
              0.8888888888888888,
              "#fdca26"
             ],
             [
              1,
              "#f0f921"
             ]
            ],
            "type": "contour"
           }
          ],
          "contourcarpet": [
           {
            "colorbar": {
             "outlinewidth": 0,
             "ticks": ""
            },
            "type": "contourcarpet"
           }
          ],
          "heatmap": [
           {
            "colorbar": {
             "outlinewidth": 0,
             "ticks": ""
            },
            "colorscale": [
             [
              0,
              "#0d0887"
             ],
             [
              0.1111111111111111,
              "#46039f"
             ],
             [
              0.2222222222222222,
              "#7201a8"
             ],
             [
              0.3333333333333333,
              "#9c179e"
             ],
             [
              0.4444444444444444,
              "#bd3786"
             ],
             [
              0.5555555555555556,
              "#d8576b"
             ],
             [
              0.6666666666666666,
              "#ed7953"
             ],
             [
              0.7777777777777778,
              "#fb9f3a"
             ],
             [
              0.8888888888888888,
              "#fdca26"
             ],
             [
              1,
              "#f0f921"
             ]
            ],
            "type": "heatmap"
           }
          ],
          "histogram": [
           {
            "marker": {
             "pattern": {
              "fillmode": "overlay",
              "size": 10,
              "solidity": 0.2
             }
            },
            "type": "histogram"
           }
          ],
          "histogram2d": [
           {
            "colorbar": {
             "outlinewidth": 0,
             "ticks": ""
            },
            "colorscale": [
             [
              0,
              "#0d0887"
             ],
             [
              0.1111111111111111,
              "#46039f"
             ],
             [
              0.2222222222222222,
              "#7201a8"
             ],
             [
              0.3333333333333333,
              "#9c179e"
             ],
             [
              0.4444444444444444,
              "#bd3786"
             ],
             [
              0.5555555555555556,
              "#d8576b"
             ],
             [
              0.6666666666666666,
              "#ed7953"
             ],
             [
              0.7777777777777778,
              "#fb9f3a"
             ],
             [
              0.8888888888888888,
              "#fdca26"
             ],
             [
              1,
              "#f0f921"
             ]
            ],
            "type": "histogram2d"
           }
          ],
          "histogram2dcontour": [
           {
            "colorbar": {
             "outlinewidth": 0,
             "ticks": ""
            },
            "colorscale": [
             [
              0,
              "#0d0887"
             ],
             [
              0.1111111111111111,
              "#46039f"
             ],
             [
              0.2222222222222222,
              "#7201a8"
             ],
             [
              0.3333333333333333,
              "#9c179e"
             ],
             [
              0.4444444444444444,
              "#bd3786"
             ],
             [
              0.5555555555555556,
              "#d8576b"
             ],
             [
              0.6666666666666666,
              "#ed7953"
             ],
             [
              0.7777777777777778,
              "#fb9f3a"
             ],
             [
              0.8888888888888888,
              "#fdca26"
             ],
             [
              1,
              "#f0f921"
             ]
            ],
            "type": "histogram2dcontour"
           }
          ],
          "mesh3d": [
           {
            "colorbar": {
             "outlinewidth": 0,
             "ticks": ""
            },
            "type": "mesh3d"
           }
          ],
          "parcoords": [
           {
            "line": {
             "colorbar": {
              "outlinewidth": 0,
              "ticks": ""
             }
            },
            "type": "parcoords"
           }
          ],
          "pie": [
           {
            "automargin": true,
            "type": "pie"
           }
          ],
          "scatter": [
           {
            "fillpattern": {
             "fillmode": "overlay",
             "size": 10,
             "solidity": 0.2
            },
            "type": "scatter"
           }
          ],
          "scatter3d": [
           {
            "line": {
             "colorbar": {
              "outlinewidth": 0,
              "ticks": ""
             }
            },
            "marker": {
             "colorbar": {
              "outlinewidth": 0,
              "ticks": ""
             }
            },
            "type": "scatter3d"
           }
          ],
          "scattercarpet": [
           {
            "marker": {
             "colorbar": {
              "outlinewidth": 0,
              "ticks": ""
             }
            },
            "type": "scattercarpet"
           }
          ],
          "scattergeo": [
           {
            "marker": {
             "colorbar": {
              "outlinewidth": 0,
              "ticks": ""
             }
            },
            "type": "scattergeo"
           }
          ],
          "scattergl": [
           {
            "marker": {
             "colorbar": {
              "outlinewidth": 0,
              "ticks": ""
             }
            },
            "type": "scattergl"
           }
          ],
          "scattermap": [
           {
            "marker": {
             "colorbar": {
              "outlinewidth": 0,
              "ticks": ""
             }
            },
            "type": "scattermap"
           }
          ],
          "scattermapbox": [
           {
            "marker": {
             "colorbar": {
              "outlinewidth": 0,
              "ticks": ""
             }
            },
            "type": "scattermapbox"
           }
          ],
          "scatterpolar": [
           {
            "marker": {
             "colorbar": {
              "outlinewidth": 0,
              "ticks": ""
             }
            },
            "type": "scatterpolar"
           }
          ],
          "scatterpolargl": [
           {
            "marker": {
             "colorbar": {
              "outlinewidth": 0,
              "ticks": ""
             }
            },
            "type": "scatterpolargl"
           }
          ],
          "scatterternary": [
           {
            "marker": {
             "colorbar": {
              "outlinewidth": 0,
              "ticks": ""
             }
            },
            "type": "scatterternary"
           }
          ],
          "surface": [
           {
            "colorbar": {
             "outlinewidth": 0,
             "ticks": ""
            },
            "colorscale": [
             [
              0,
              "#0d0887"
             ],
             [
              0.1111111111111111,
              "#46039f"
             ],
             [
              0.2222222222222222,
              "#7201a8"
             ],
             [
              0.3333333333333333,
              "#9c179e"
             ],
             [
              0.4444444444444444,
              "#bd3786"
             ],
             [
              0.5555555555555556,
              "#d8576b"
             ],
             [
              0.6666666666666666,
              "#ed7953"
             ],
             [
              0.7777777777777778,
              "#fb9f3a"
             ],
             [
              0.8888888888888888,
              "#fdca26"
             ],
             [
              1,
              "#f0f921"
             ]
            ],
            "type": "surface"
           }
          ],
          "table": [
           {
            "cells": {
             "fill": {
              "color": "#EBF0F8"
             },
             "line": {
              "color": "white"
             }
            },
            "header": {
             "fill": {
              "color": "#C8D4E3"
             },
             "line": {
              "color": "white"
             }
            },
            "type": "table"
           }
          ]
         },
         "layout": {
          "annotationdefaults": {
           "arrowcolor": "#2a3f5f",
           "arrowhead": 0,
           "arrowwidth": 1
          },
          "autotypenumbers": "strict",
          "coloraxis": {
           "colorbar": {
            "outlinewidth": 0,
            "ticks": ""
           }
          },
          "colorscale": {
           "diverging": [
            [
             0,
             "#8e0152"
            ],
            [
             0.1,
             "#c51b7d"
            ],
            [
             0.2,
             "#de77ae"
            ],
            [
             0.3,
             "#f1b6da"
            ],
            [
             0.4,
             "#fde0ef"
            ],
            [
             0.5,
             "#f7f7f7"
            ],
            [
             0.6,
             "#e6f5d0"
            ],
            [
             0.7,
             "#b8e186"
            ],
            [
             0.8,
             "#7fbc41"
            ],
            [
             0.9,
             "#4d9221"
            ],
            [
             1,
             "#276419"
            ]
           ],
           "sequential": [
            [
             0,
             "#0d0887"
            ],
            [
             0.1111111111111111,
             "#46039f"
            ],
            [
             0.2222222222222222,
             "#7201a8"
            ],
            [
             0.3333333333333333,
             "#9c179e"
            ],
            [
             0.4444444444444444,
             "#bd3786"
            ],
            [
             0.5555555555555556,
             "#d8576b"
            ],
            [
             0.6666666666666666,
             "#ed7953"
            ],
            [
             0.7777777777777778,
             "#fb9f3a"
            ],
            [
             0.8888888888888888,
             "#fdca26"
            ],
            [
             1,
             "#f0f921"
            ]
           ],
           "sequentialminus": [
            [
             0,
             "#0d0887"
            ],
            [
             0.1111111111111111,
             "#46039f"
            ],
            [
             0.2222222222222222,
             "#7201a8"
            ],
            [
             0.3333333333333333,
             "#9c179e"
            ],
            [
             0.4444444444444444,
             "#bd3786"
            ],
            [
             0.5555555555555556,
             "#d8576b"
            ],
            [
             0.6666666666666666,
             "#ed7953"
            ],
            [
             0.7777777777777778,
             "#fb9f3a"
            ],
            [
             0.8888888888888888,
             "#fdca26"
            ],
            [
             1,
             "#f0f921"
            ]
           ]
          },
          "colorway": [
           "#636efa",
           "#EF553B",
           "#00cc96",
           "#ab63fa",
           "#FFA15A",
           "#19d3f3",
           "#FF6692",
           "#B6E880",
           "#FF97FF",
           "#FECB52"
          ],
          "font": {
           "color": "#2a3f5f"
          },
          "geo": {
           "bgcolor": "white",
           "lakecolor": "white",
           "landcolor": "white",
           "showlakes": true,
           "showland": true,
           "subunitcolor": "#C8D4E3"
          },
          "hoverlabel": {
           "align": "left"
          },
          "hovermode": "closest",
          "mapbox": {
           "style": "light"
          },
          "paper_bgcolor": "white",
          "plot_bgcolor": "white",
          "polar": {
           "angularaxis": {
            "gridcolor": "#EBF0F8",
            "linecolor": "#EBF0F8",
            "ticks": ""
           },
           "bgcolor": "white",
           "radialaxis": {
            "gridcolor": "#EBF0F8",
            "linecolor": "#EBF0F8",
            "ticks": ""
           }
          },
          "scene": {
           "xaxis": {
            "backgroundcolor": "white",
            "gridcolor": "#DFE8F3",
            "gridwidth": 2,
            "linecolor": "#EBF0F8",
            "showbackground": true,
            "ticks": "",
            "zerolinecolor": "#EBF0F8"
           },
           "yaxis": {
            "backgroundcolor": "white",
            "gridcolor": "#DFE8F3",
            "gridwidth": 2,
            "linecolor": "#EBF0F8",
            "showbackground": true,
            "ticks": "",
            "zerolinecolor": "#EBF0F8"
           },
           "zaxis": {
            "backgroundcolor": "white",
            "gridcolor": "#DFE8F3",
            "gridwidth": 2,
            "linecolor": "#EBF0F8",
            "showbackground": true,
            "ticks": "",
            "zerolinecolor": "#EBF0F8"
           }
          },
          "shapedefaults": {
           "line": {
            "color": "#2a3f5f"
           }
          },
          "ternary": {
           "aaxis": {
            "gridcolor": "#DFE8F3",
            "linecolor": "#A2B1C6",
            "ticks": ""
           },
           "baxis": {
            "gridcolor": "#DFE8F3",
            "linecolor": "#A2B1C6",
            "ticks": ""
           },
           "bgcolor": "white",
           "caxis": {
            "gridcolor": "#DFE8F3",
            "linecolor": "#A2B1C6",
            "ticks": ""
           }
          },
          "title": {
           "x": 0.05
          },
          "xaxis": {
           "automargin": true,
           "gridcolor": "#EBF0F8",
           "linecolor": "#EBF0F8",
           "ticks": "",
           "title": {
            "standoff": 15
           },
           "zerolinecolor": "#EBF0F8",
           "zerolinewidth": 2
          },
          "yaxis": {
           "automargin": true,
           "gridcolor": "#EBF0F8",
           "linecolor": "#EBF0F8",
           "ticks": "",
           "title": {
            "standoff": 15
           },
           "zerolinecolor": "#EBF0F8",
           "zerolinewidth": 2
          }
         }
        },
        "title": {
         "text": "🎯 F1-score en fonction du seuil (trié par performance)"
        },
        "width": 950,
        "xaxis": {
         "title": {
          "text": "Seuil de décision"
         }
        },
        "yaxis": {
         "range": [
          0,
          1.02
         ],
         "title": {
          "text": "F1-score"
         }
        }
       }
      }
     },
     "metadata": {},
     "output_type": "display_data"
    }
   ],
   "source": [
    "# Evolution du F1-score\n",
    "dict_models = logistic_models.best_f1_by_model()"
   ]
  },
  {
   "cell_type": "markdown",
   "id": "46ff1a1a",
   "metadata": {},
   "source": [
    "<div class=\"alert alert-block alert-info\">\n",
    "<b>🔔 Rappels sur le F1-score : interprétation selon sa valeur</b></p>\n",
    "\n",
    "  <table border=\"1\" style=\"border-collapse:collapse; width:100%; text-align:left;\">\n",
    "    <thead style=\"background-color:#f2f2f2;\">\n",
    "      <tr>\n",
    "        <th style=\"padding:8px;\">🔢Valeur du F1-score</th>\n",
    "        <th style=\"padding:8px;\">Interprétation Modèle</th>\n",
    "        <th style=\"padding:8px;\">Lecture Métier</th>\n",
    "      </tr>\n",
    "    </thead>\n",
    "    <tbody>\n",
    "      <tr>\n",
    "        <td style=\"padding:8px;\"><b>≈ 1.00</b></td>\n",
    "        <td style=\"padding:8px;\">Modèle quasi-parfait : haute précision et haut rappel.</td>\n",
    "        <td style=\"padding:8px;\">Très bon modèle : détecte presque tous les défauts sans refuser inutilement.</td>\n",
    "      </tr>\n",
    "      <tr>\n",
    "        <td style=\"padding:8px;\"><b>0.80 – 0.99</b></td>\n",
    "        <td style=\"padding:8px;\">Excellent compromis entre détection et justesse des refus.</td>\n",
    "        <td style=\"padding:8px;\">Robuste en production si les données sont stables et bien préparées.</td>\n",
    "      </tr>\n",
    "      <tr>\n",
    "        <td style=\"padding:8px;\"><b>0.65 – 0.79</b></td>\n",
    "        <td style=\"padding:8px;\">Bon niveau, utilisable avec confiance.</td>\n",
    "        <td style=\"padding:8px;\">Modèle solide, peut être déployé avec suivi régulier.</td>\n",
    "      </tr>\n",
    "      <tr>\n",
    "        <td style=\"padding:8px;\"><b>0.50 – 0.64</b></td>\n",
    "        <td style=\"padding:8px;\">Compromis modéré, encore perfectible.</td>\n",
    "        <td style=\"padding:8px;\">Le modèle laisse passer trop de défauts ou refuse trop de bons clients.</td>\n",
    "      </tr>\n",
    "      <tr>\n",
    "        <td style=\"padding:8px;\"><b>0.30 – 0.49</b></td>\n",
    "        <td style=\"padding:8px;\">Modèle déséquilibré, mauvaise performance globale.</td>\n",
    "        <td style=\"padding:8px;\">Ni fiable pour la détection du risque, ni pour éviter la gêne client.</td>\n",
    "      </tr>\n",
    "      <tr>\n",
    "        <td style=\"padding:8px;\"><b>&lt; 0.30</b></td>\n",
    "        <td style=\"padding:8px;\">Modèle inefficace, proche d’un modèle aléatoire.</td>\n",
    "        <td style=\"padding:8px;\">Modèle non utilisable pour l’octroi de crédit.</td>\n",
    "      </tr>\n",
    "    </tbody>\n",
    "  </table>\n",
    "</div>\n"
   ]
  },
  {
   "cell_type": "markdown",
   "id": "66669340",
   "metadata": {},
   "source": [
    "#### 6.3 Focus sur le meilleur modèle (au sens du F1-score)"
   ]
  },
  {
   "cell_type": "markdown",
   "id": "b60b528f",
   "metadata": {},
   "source": [
    "#### 6.4 Evaluer le modèle (sélectionner le modèle qui maximise le F1-score)"
   ]
  },
  {
   "cell_type": "markdown",
   "id": "29097f98",
   "metadata": {},
   "source": [
    "  <div class=\"alert alert-block alert-info\">\n",
    "  <h4><b>Recall et Précision dans un modèle de score d’octroi de crédit</b></h4>\n",
    "\n",
    "  <h5><u>Recall</u></h5>\n",
    "  <p>\n",
    "    <b>Formule :</b><br>\n",
    "    Recall = VP / (VP + FN) = Part des défauts correctement détectés par le modèle parmi tous les défauts réels.\n",
    "  </p>\n",
    "  <p>\n",
    "    <b>Interprétation :</b><br>\n",
    "    Parmi les clients qui auraient réellement fait défaut, combien ont été correctement prédits comme risqués ?\n",
    "  </p>\n",
    "  <p>\n",
    "    <b>Exemple :</b><br>\n",
    "    Un recall de 10% signifie que le modèle détecte seulement 10% des clients risqués. Il laisse passer 90% des défauts potentiels.\n",
    "  </p>\n",
    "  <p>\n",
    "    <b>Enjeu métier :</b><br>\n",
    "    Maximiser le recall, c’est minimiser le nombre de crédits accordés à des clients qui ne rembourseront pas.<br>\n",
    "    <i>👉 La banque cherche ici à limiter au maximum les pertes financières liées aux impayés, quitte à refuser certains bons clients.</i>\n",
    "  </p>\n",
    "\n",
    "  <h5><u>Précision</u></h5>\n",
    "  <p>\n",
    "    <b>Formule :</b><br>\n",
    "    Précision = VP / (VP + FP) = Part des clients correctement identifiés comme risqués parmi ceux prédits comme tels.\n",
    "  </p>\n",
    "  <p>\n",
    "    <b>Interprétation :</b><br>\n",
    "    Parmi tous les clients prédits comme risqués, combien sont effectivement de vrais clients à risque ?\n",
    "  </p>\n",
    "  <p>\n",
    "    <b>Exemple :</b><br>\n",
    "    Une précision de 70% signifie que 30% des refus concernent des clients qui auraient bien remboursé (faux positifs).\n",
    "  </p>\n",
    "  <p>\n",
    "    <b>Enjeu métier :</b><br>\n",
    "    Maximiser la précision, c’est éviter de refuser un crédit à un bon client.<br>\n",
    "    <i>👉 La banque veut ici préserver sa relation client et son image de marque.</i>\n",
    "  </p>\n",
    "\n",
    "  <h5><u>Trade-off entre Recall et Précision</u></h5>\n",
    "  <table border=\"1\" style=\"border-collapse:collapse; width:100%; text-align:left;\">\n",
    "    <thead>\n",
    "      <tr style=\"background-color:#f2f2f2;\">\n",
    "        <th style=\"padding:8px;\">🎯 Objectif métier</th>\n",
    "        <th style=\"padding:8px;\">📈 Priorité métrique</th>\n",
    "        <th style=\"padding:8px;\">💬 Conséquences</th>\n",
    "      </tr>\n",
    "    </thead>\n",
    "    <tbody>\n",
    "      <tr>\n",
    "        <td style=\"padding:8px;\">Limiter au maximum les défauts de paiement</td>\n",
    "        <td style=\"padding:8px;\">Recall élevé</td>\n",
    "        <td style=\"padding:8px;\">Risque de refuser des clients solvables (gêne client)</td>\n",
    "      </tr>\n",
    "      <tr>\n",
    "        <td style=\"padding:8px;\">Éviter les refus injustifiés / préserver l'image</td>\n",
    "        <td style=\"padding:8px;\">Précision élevée</td>\n",
    "        <td style=\"padding:8px;\">Risque d’accorder un crédit à un client risqué</td>\n",
    "      </tr>\n",
    "      <tr>\n",
    "        <td style=\"padding:8px;\">Trouver un équilibre entre risque et opportunité</td>\n",
    "        <td style=\"padding:8px;\">F1-score (compromis)</td>\n",
    "        <td style=\"padding:8px;\">Équilibre entre détection du risque et satisfaction client</td>\n",
    "      </tr>\n",
    "    </tbody>\n",
    "  </table>\n",
    "\n",
    "  <p style=\"margin-top:15px;\">\n",
    "    ✅ <b>Conclusion :</b> Le choix de la métrique dépend des priorités stratégiques de la banque : <br>\n",
    "    - <i>Plutôt risk-averse ?</i> → Maximiser le recall.<br>\n",
    "    - <i>Plutôt orientée expérience client ?</i> → Maximiser la précision.<br>\n",
    "    - <i>Besoin d’un bon compromis ?</i> → Suivre le F1-score.\n",
    "  </p>\n"
   ]
  },
  {
   "cell_type": "code",
   "execution_count": 11,
   "id": "f320f2dc",
   "metadata": {},
   "outputs": [
    {
     "name": "stdout",
     "output_type": "stream",
     "text": [
      "Meilleur modèle : Logistic Regression (L2)\n",
      "Score (F1 CV) : 0.5719\n"
     ]
    }
   ],
   "source": [
    "dict_best_model = logistic_models.get_best_model() # modèle qui maximise le critère\n",
    "best_model_name = dict_best_model[\"model_name\"]"
   ]
  },
  {
   "cell_type": "code",
   "execution_count": 12,
   "id": "26199484",
   "metadata": {},
   "outputs": [
    {
     "data": {
      "text/html": [
       "\n",
       "        <div class=\"alert alert-success\" style=\"font-family:Arial;\">\n",
       "        <h4>📊 Évaluation du modèle : <code>Logistic Regression (L2)</code></h4>\n",
       "\n",
       "        <h5>⚙️ Métriques globales</h5>\n",
       "        <table border=\"1\" style=\"border-collapse:collapse; width:100%; text-align:left;\">\n",
       "            <thead style=\"background-color:#f2f2f2;\">\n",
       "            <tr><th style=\"padding:6px;\">Métrique</th><th style=\"padding:6px;\">Valeur</th></tr>\n",
       "            </thead>\n",
       "            <tbody>\n",
       "            <tr>\n",
       "                <td style=\"padding:6px;\">Accuracy</td>\n",
       "                <td style=\"padding:6px;\">0.735</td>\n",
       "\n",
       "            </tr>\n",
       "            <tr>\n",
       "                <td style=\"padding:6px;\">ROC AUC</td>\n",
       "                <td style=\"padding:6px;\">0.755</td>\n",
       "            </tr>\n",
       "            </tbody>\n",
       "        </table>\n",
       "\n",
       "        <h5 style=\"margin-top:20px;\">🎯 Métriques par classe</h5>\n",
       "        <table border=\"1\" style=\"border-collapse:collapse; width:100%; text-align:left;\">\n",
       "            <thead style=\"background-color:#f2f2f2;\">\n",
       "            <tr>\n",
       "                <th style=\"padding:6px;\">Classe</th>\n",
       "                <th style=\"padding:6px;\">Précision</th>\n",
       "                <th style=\"padding:6px;\">Rappel</th>\n",
       "                <th style=\"padding:6px;\">F1-score</th>\n",
       "            </tr>\n",
       "            </thead>\n",
       "            <tbody>\n",
       "            <tr>\n",
       "                <td style=\"padding:6px;\"><b>Non défaut</b></td>\n",
       "                <td style=\"padding:6px;\">0.784</td>\n",
       "                <td style=\"padding:6px;\">0.857</td>\n",
       "                <td style=\"padding:6px;\">0.819</td>\n",
       "            </tr>\n",
       "            <tr>\n",
       "                <td style=\"padding:6px;\"><b>Défaut</b></td>\n",
       "                <td style=\"padding:6px;\">0.574</td>\n",
       "                <td style=\"padding:6px;\">0.450</td>\n",
       "                <td style=\"padding:6px;\">0.505</td>\n",
       "            </tr>\n",
       "            </tbody>\n",
       "        </table>\n",
       "        </div>\n",
       "        "
      ],
      "text/plain": [
       "<IPython.core.display.HTML object>"
      ]
     },
     "metadata": {},
     "output_type": "display_data"
    }
   ],
   "source": [
    "logistic_models.evaluate_model(best_model_name)"
   ]
  },
  {
   "cell_type": "markdown",
   "id": "79304211",
   "metadata": {},
   "source": [
    "<div class=\"alert alert-block alert-success\">\n",
    "  <h4>📊 Interprétation des performances du modèle de scoring</h4>\n",
    "\n",
    "  <p><b>📌 Répartition de la variable cible :</b> 70% de <i>non défaut</i> (clients fiables) et 30% de <i>défaut</i> (clients à risque).</p>\n",
    "  <p>Ce déséquilibre implique qu’un bon modèle ne peut pas se contenter d’une forte accuracy : il doit surtout bien détecter les défauts tout en limitant les faux refus.</p>\n",
    "\n",
    "  <h5>⚙️ Métriques globales</h5>\n",
    "  <table border=\"1\" style=\"border-collapse: collapse; width: 100%; text-align: left;\">\n",
    "    <thead style=\"background-color:#f2f2f2;\">\n",
    "      <tr>\n",
    "        <th style=\"padding:8px;\">Métrique</th>\n",
    "        <th style=\"padding:8px;\">Valeur</th>\n",
    "        <th style=\"padding:8px;\">Interprétation</th>\n",
    "      </tr>\n",
    "    </thead>\n",
    "    <tbody>\n",
    "      <tr>\n",
    "        <td style=\"padding:8px;\">Accuracy</td>\n",
    "        <td style=\"padding:8px;\">0.77</td>\n",
    "        <td style=\"padding:8px;\">\n",
    "          77% des prédictions sont correctes. À interpréter avec prudence car un modèle naïf qui prédirait toujours \"non défaut\" atteindrait déjà 70%.\n",
    "        </td>\n",
    "      </tr>\n",
    "      <tr>\n",
    "        <td style=\"padding:8px;\">ROC AUC</td>\n",
    "        <td style=\"padding:8px;\">0.7452</td>\n",
    "        <td style=\"padding:8px;\">\n",
    "          Bonne capacité à discriminer les bons des mauvais payeurs. Score satisfaisant dans un contexte de déséquilibre.\n",
    "        </td>\n",
    "      </tr>\n",
    "    </tbody>\n",
    "  </table>\n",
    "\n",
    "  <h5 style=\"margin-top:20px;\">🏷️ Métriques par classe</h5>\n",
    "  <table border=\"1\" style=\"border-collapse: collapse; width: 100%; text-align: left;\">\n",
    "    <thead style=\"background-color:#f2f2f2;\">\n",
    "      <tr>\n",
    "        <th style=\"padding:8px;\">Classe</th>\n",
    "        <th style=\"padding:8px;\">🎯 Précision</th>\n",
    "        <th style=\"padding:8px;\">🔍 Recall</th>\n",
    "        <th style=\"padding:8px;\">⚖️ F1-score</th>\n",
    "      </tr>\n",
    "    </thead>\n",
    "    <tbody>\n",
    "      <tr>\n",
    "        <td style=\"padding:8px;\"><b>Non défaut (classe 0)</b></td>\n",
    "        <td style=\"padding:8px;\">\n",
    "          <b>0.856</b><br>\n",
    "          → 86% des clients prédits comme fiables le sont réellement. Le modèle évite efficacement les faux refus.\n",
    "        </td>\n",
    "        <td style=\"padding:8px;\">\n",
    "          <b>0.807</b><br>\n",
    "          → Le modèle capte 81% des clients qui remboursent. Il maintient la satisfaction des clients solvables.\n",
    "        </td>\n",
    "        <td style=\"padding:8px;\">\n",
    "          <b>0.831</b><br>\n",
    "          → Très bon équilibre sur cette classe majoritaire. Peu d’erreurs, bon confort métier.\n",
    "        </td>\n",
    "      </tr>\n",
    "      <tr>\n",
    "        <td style=\"padding:8px;\"><b>Défaut (classe 1)</b></td>\n",
    "        <td style=\"padding:8px;\">\n",
    "          <b>0.603</b><br>\n",
    "          → Sur 100 clients considérés comme risqués, 60 le sont réellement. Taux de refus injustifiés à surveiller.\n",
    "        </td>\n",
    "        <td style=\"padding:8px;\">\n",
    "          <b>0.683</b><br>\n",
    "          → 68% des vrais défauts sont détectés. Bon score dans un contexte déséquilibré, mais perfectible.\n",
    "        </td>\n",
    "        <td style=\"padding:8px;\">\n",
    "          <b>0.641</b><br>\n",
    "          → Compromis raisonnable entre détection et justesse. Des défauts échappent encore au modèle.\n",
    "        </td>\n",
    "      </tr>\n",
    "    </tbody>\n",
    "  </table>\n",
    "\n",
    "  <h4 style=\"margin-top: 20px;\">🚀 Axes pour améliorer la performance</h4>\n",
    "  <ul>\n",
    "    <li><b>Ajuster le seuil de décision</b> pour privilégier le rappel (ex : seuil &lt; 0.5).</li>\n",
    "    <li><b>Enrichir les variables explicatives</b> (demander d'autres informations au métier, faire des croisements entre variables, appliquer des transformations aux variables).</li>\n",
    "    <li><b>Tester d’autres modèles</b> plus performants : Random Forest, XGBoost, LightGBM.</li>\n",
    "    <li><b>Travailler avec les métiers</b> pour ajuster le compromis recall / précision selon la stratégie risque / image client.</li>\n",
    "  </ul>\n",
    "</div>\n"
   ]
  },
  {
   "cell_type": "markdown",
   "id": "011b0ae2",
   "metadata": {},
   "source": [
    "#### 6.4.2 Déterminer un seuil manuellement (avec une approche métier)"
   ]
  },
  {
   "cell_type": "code",
   "execution_count": 13,
   "id": "827eea20",
   "metadata": {},
   "outputs": [
    {
     "data": {
      "application/vnd.plotly.v1+json": {
       "config": {
        "plotlyServerURL": "https://plot.ly"
       },
       "data": [
        {
         "hovertemplate": "Seuil = %{x:.2f}<br>Precision = %{y:.3f}<extra></extra>",
         "mode": "lines+markers",
         "name": "Precision",
         "type": "scatter",
         "x": {
          "bdata": "exSuR+F6hD8Lv1ubZmCUP9hz4JJcg54/U5QyRSlTpD+67vRApGSpPyFJtzwfdq4/w9E8HM3DsT/3/h2aiky0Pyos/xdI1bY/XVnglQVeuT+RhsETw+a7P8SzopGAb74/fPDBBx98wD8Wh7LGfcDBP7Ado4XcBMM/SbSTRDtJxD/jSoQDmo3FP33hdML40cY/FnhlgVcWyD+wDlZAtlrJP0qlRv8Un8o/4zs3vnPjyz990id90ifNPxdpGDwxbM4/sP8I+4+wzz8ly/xcd3rQP3IWdbymHNE/v2HtG9a+0T8MrWV7BWHSP1j43do0A9M/pUNWOmSl0z/yjs6Zk0fUPz/aRvnC6dQ/jCW/WPKL1T/ZcDe4IS7WPya8rxdR0NY/cgcod4By1z+/UqDWrxTYPwyeGDbfttg/WemQlQ5Z2T+mNAn1PfvZP/N/gVRtndo/P8v5s5w/2z+MFnITzOHbP9lh6nL7g9w/Jq1i0iom3T9z+NoxWsjdP8BDU5GJat4/DI/L8LgM3z9Z2kNQ6K7fP9MS3teLKOA/ejiah6N54D8gXlY3u8rgP8aDEufSG+E/banOlups4T8Tz4pGAr7hP7r0RvYZD+I/YBoDpjFg4j8GQL9VSbHiP61lewVhAuM/U4s3tXhT4z/6sPNkkKTjP6DWrxSo9eM/R/xrxL9G5D/tISh015fkP5NH5CPv6OQ/Om2g0wY65T/gklyDHovlP4e4GDM23OU/Ld7U4k0t5j/UA5GSZX7mP3opTUJ9z+Y/IE8J8pQg5z/HdMWhrHHnP22agVHEwuc/FMA9AdwT6D+65fmw82ToP2ALtmALtug/BzFyECMH6T+tVi7AOljpP1R86m9Sqek/+qGmH2r66T+hx2LPgUvqP0ftHn+ZnOo/7RLbLrHt6j+UOJfeyD7rPzpeU47gj+s/4YMPPvjg6z+HqcvtDzLsPy7Ph50ng+w/1PRDTT/U7D96GgD9ViXtPyFAvKxudu0/x2V4XIbH7T9uizQMnhjuPxSx8Lu1ae4/utasa8267j9h/Ggb5QvvPwciJcv8XO8/rkfhehSu7z8=",
          "dtype": "f8"
         },
         "y": {
          "bdata": "5hS8nIKX0z9S39mo72zUP4zqNDnIvNQ/3lLoTzIW1T80dX7tIZfVP6EBS3r509Y/n3WDKfJZ1z/RCpsDiVbYP0xle9cB3dg/bopRw9+m2D/ZiZ3YiZ3YP0oppZRSStk/f1nvl/V+2T/MYyuChpPaP7dt27Zt29o/lrH9jl4Z2z+LudUZqZjbP4u51RmpmNs/7MRO7MRO3D+JApNOzYPcP83MzMzMzNw/AAAAAAAA3j94Nuo7G/XdP3g26jsb9d0/6k1vetOb3j9GF1100UXfP9AX9AV9Qd8/oJ+fn5+f3z8AAAAAAADgP9St+WGRMuA/Vn5CnJWf4D9WfkKclZ/gP1Z+QpyVn+A/1g2myGfd4D/WDabIZ93gP1VVVVVVVeE/DiRaYXMg4T8OJFphcyDhPxolfkaJn+E/8MEHH3zw4T+MMcYYY4zhP4wxxhhjjOE/jDHGGGOM4T/d0wjLPY3gP93TCMs9jeA/SZIkSZIk4T9JkiRJkiThP29ln0NqguE/kpGRkZGR4T9orA+N9aHhP9InfdInfeI/0id90id94j/SJ33SJ33iP8MwDMMwDOM/g/MxOB+D4z+D8zE4H4PjP4PzMTgfg+M/NUiDNEiD5D81SIM0SIPkPzVIgzRIg+Q/dVAHdVAH5T91UAd1UAflP7W0tLS0tOQ/AAAAAAAA5T81wnJPIyznP7dt27Zt2+Y/t23btm3b5j8ndmIndmLnPwrXo3A9Cuc/etOb3vSm5z9605ve9KbnPxiGYRiGYeg/NpTXUF5D6T+rqqqqqqrqP1paWlpaWuo/AAAAAAAA6j8AAAAAAADqPwAAAAAAAOo/O7ETO7ET6z+rqqqqqqrqP6uqqqqqquo/q6qqqqqq6j+rqqqqqqrqP83MzMzMzOw/AAAAAAAA7D8AAAAAAADwPwAAAAAAAPA/AAAAAAAA8D8AAAAAAADwPwAAAAAAAPA/AAAAAAAA8D8AAAAAAADwPwAAAAAAAPA/AAAAAAAA8D8AAAAAAADwPwAAAAAAAPA/AAAAAAAAAAAAAAAAAAAAAAAAAAAAAAAAAAAAAAAAAAA=",
          "dtype": "f8"
         }
        },
        {
         "hovertemplate": "Seuil = %{x:.2f}<br>Recall = %{y:.3f}<extra></extra>",
         "mode": "lines+markers",
         "name": "Recall",
         "type": "scatter",
         "x": {
          "bdata": "exSuR+F6hD8Lv1ubZmCUP9hz4JJcg54/U5QyRSlTpD+67vRApGSpPyFJtzwfdq4/w9E8HM3DsT/3/h2aiky0Pyos/xdI1bY/XVnglQVeuT+RhsETw+a7P8SzopGAb74/fPDBBx98wD8Wh7LGfcDBP7Ado4XcBMM/SbSTRDtJxD/jSoQDmo3FP33hdML40cY/FnhlgVcWyD+wDlZAtlrJP0qlRv8Un8o/4zs3vnPjyz990id90ifNPxdpGDwxbM4/sP8I+4+wzz8ly/xcd3rQP3IWdbymHNE/v2HtG9a+0T8MrWV7BWHSP1j43do0A9M/pUNWOmSl0z/yjs6Zk0fUPz/aRvnC6dQ/jCW/WPKL1T/ZcDe4IS7WPya8rxdR0NY/cgcod4By1z+/UqDWrxTYPwyeGDbfttg/WemQlQ5Z2T+mNAn1PfvZP/N/gVRtndo/P8v5s5w/2z+MFnITzOHbP9lh6nL7g9w/Jq1i0iom3T9z+NoxWsjdP8BDU5GJat4/DI/L8LgM3z9Z2kNQ6K7fP9MS3teLKOA/ejiah6N54D8gXlY3u8rgP8aDEufSG+E/banOlups4T8Tz4pGAr7hP7r0RvYZD+I/YBoDpjFg4j8GQL9VSbHiP61lewVhAuM/U4s3tXhT4z/6sPNkkKTjP6DWrxSo9eM/R/xrxL9G5D/tISh015fkP5NH5CPv6OQ/Om2g0wY65T/gklyDHovlP4e4GDM23OU/Ld7U4k0t5j/UA5GSZX7mP3opTUJ9z+Y/IE8J8pQg5z/HdMWhrHHnP22agVHEwuc/FMA9AdwT6D+65fmw82ToP2ALtmALtug/BzFyECMH6T+tVi7AOljpP1R86m9Sqek/+qGmH2r66T+hx2LPgUvqP0ftHn+ZnOo/7RLbLrHt6j+UOJfeyD7rPzpeU47gj+s/4YMPPvjg6z+HqcvtDzLsPy7Ph50ng+w/1PRDTT/U7D96GgD9ViXtPyFAvKxudu0/x2V4XIbH7T9uizQMnhjuPxSx8Lu1ae4/utasa8267j9h/Ggb5QvvPwciJcv8XO8/rkfhehSu7z8=",
          "dtype": "f8"
         },
         "y": {
          "bdata": "AAAAAAAA8D8AAAAAAADwP+/u7u7u7u4/ZmZmZmZm7j/e3d3d3d3tP97d3d3d3e0/zczMzMzM7D/NzMzMzMzsP83MzMzMzOw/vLu7u7u76z+rqqqqqqrqPyIiIiIiIuo/IiIiIiIi6j8iIiIiIiLqPxEREREREek/ERERERER6T8RERERERHpPxEREREREek/iYiIiIiI6D8AAAAAAADoPwAAAAAAAOg/AAAAAAAA6D93d3d3d3fnP3d3d3d3d+c/d3d3d3d35z/v7u7u7u7mP2ZmZmZmZuY/ZmZmZmZm5j9mZmZmZmbmP97d3d3d3eU/VVVVVVVV5T9VVVVVVVXlP1VVVVVVVeU/zczMzMzM5D/NzMzMzMzkP83MzMzMzOQ/RERERERE5D9ERERERETkP0REREREROQ/vLu7u7u74z8iIiIiIiLiPyIiIiIiIuI/IiIiIiIi4j8AAAAAAADgPwAAAAAAAOA/AAAAAAAA4D8AAAAAAADgP+/u7u7u7t4/3t3d3d3d3T/NzMzMzMzcP7y7u7u7u9s/vLu7u7u72z+8u7u7u7vbP6uqqqqqqto/q6qqqqqq2j+rqqqqqqraP6uqqqqqqto/q6qqqqqq2j+rqqqqqqraP6uqqqqqqto/iYiIiIiI2D+JiIiIiIjYP3d3d3d3d9c/ZmZmZmZm1j9mZmZmZmbWP1VVVVVVVdU/VVVVVVVV1T9ERERERETUPzMzMzMzM9M/IiIiIiIi0j8iIiIiIiLSPxEREREREdE/AAAAAAAA0D8AAAAAAADQP97d3d3d3c0/vLu7u7u7yz+8u7u7u7vLP7y7u7u7u8s/d3d3d3d3xz9VVVVVVVXFP1VVVVVVVcU/VVVVVVVVxT9VVVVVVVXFPzMzMzMzM8M/3t3d3d3dvT9VVVVVVVW1PxEREREREbE/ERERERERsT8RERERERGxPxEREREREbE/ERERERERoT8RERERERGhPxEREREREZE/ERERERERkT8RERERERGRPxEREREREZE/AAAAAAAAAAAAAAAAAAAAAAAAAAAAAAAAAAAAAAAAAAA=",
          "dtype": "f8"
         }
        },
        {
         "hovertemplate": "Seuil = %{x:.2f}<br>F1 = %{y:.3f}<extra></extra>",
         "mode": "lines+markers",
         "name": "F1",
         "type": "scatter",
         "x": {
          "bdata": "exSuR+F6hD8Lv1ubZmCUP9hz4JJcg54/U5QyRSlTpD+67vRApGSpPyFJtzwfdq4/w9E8HM3DsT/3/h2aiky0Pyos/xdI1bY/XVnglQVeuT+RhsETw+a7P8SzopGAb74/fPDBBx98wD8Wh7LGfcDBP7Ado4XcBMM/SbSTRDtJxD/jSoQDmo3FP33hdML40cY/FnhlgVcWyD+wDlZAtlrJP0qlRv8Un8o/4zs3vnPjyz990id90ifNPxdpGDwxbM4/sP8I+4+wzz8ly/xcd3rQP3IWdbymHNE/v2HtG9a+0T8MrWV7BWHSP1j43do0A9M/pUNWOmSl0z/yjs6Zk0fUPz/aRvnC6dQ/jCW/WPKL1T/ZcDe4IS7WPya8rxdR0NY/cgcod4By1z+/UqDWrxTYPwyeGDbfttg/WemQlQ5Z2T+mNAn1PfvZP/N/gVRtndo/P8v5s5w/2z+MFnITzOHbP9lh6nL7g9w/Jq1i0iom3T9z+NoxWsjdP8BDU5GJat4/DI/L8LgM3z9Z2kNQ6K7fP9MS3teLKOA/ejiah6N54D8gXlY3u8rgP8aDEufSG+E/banOlups4T8Tz4pGAr7hP7r0RvYZD+I/YBoDpjFg4j8GQL9VSbHiP61lewVhAuM/U4s3tXhT4z/6sPNkkKTjP6DWrxSo9eM/R/xrxL9G5D/tISh015fkP5NH5CPv6OQ/Om2g0wY65T/gklyDHovlP4e4GDM23OU/Ld7U4k0t5j/UA5GSZX7mP3opTUJ9z+Y/IE8J8pQg5z/HdMWhrHHnP22agVHEwuc/FMA9AdwT6D+65fmw82ToP2ALtmALtug/BzFyECMH6T+tVi7AOljpP1R86m9Sqek/+qGmH2r66T+hx2LPgUvqP0ftHn+ZnOo/7RLbLrHt6j+UOJfeyD7rPzpeU47gj+s/4YMPPvjg6z+HqcvtDzLsPy7Ph50ng+w/1PRDTT/U7D96GgD9ViXtPyFAvKxudu0/x2V4XIbH7T9uizQMnhjuPxSx8Lu1ae4/utasa8267j9h/Ggb5QvvPwciJcv8XO8/rkfhehSu7z8=",
          "dtype": "f8"
         },
         "y": {
          "bdata": "AAAAAAAA3j/43nvvvffeP13nWCMREN8/poH6vDRQ3z8SePshgbffP4QQQgghhOA/2Ymd2Imd4D/sZ4uV4RvhP9ffHtjoXeE/ERERERER4T95DeU1lNfgP5GFLGQhC+E/xx5mAfki4T8az3jGM57hP1/QF/QFfeE/cxnNZTSX4T8qRBs+f8zhPypEGz5/zOE/9DE4H4Pz4T+w8Wj+YOPhPwAAAAAAAOI/Yid2Yid24j+SJEmSJEniP5IkSZIkSeI/bCivobyG4j+DKfJZN5jiP5MmTZo0aeI/Xpso2bWJ4j+rqqqqqqriP0rz4k8knOI/FlR7Tqav4j8WVHtOpq/iPxZUe06mr+I/w6/GRHqg4j/Dr8ZEeqDiP+miiy666OI/cxf8VZyQ4j9zF/xVnJDiP7ekLWlL2uI/syzLsizL4j/ep7hkCNbhP96nuGQI1uE/3qe4ZAjW4T+c1H15bEXgP5zUfXlsReA/3dMIyz2N4D/d0wjLPY3gP+XLBk2+bOA/TgJxoeYk4D9O+8kS2LTfPyD7sR/7sd8/IPuxH/ux3z8g+7Ef+7HfP19fX19fX98/mHRqHuSu3z+YdGoe5K7fP5h0ah7krt8/f6VArV8p4D9/pUCtXyngP3+lQK1fKeA/1e+5JU793j/V77klTv3eP3g26jsb9d0/05ve9KY33T/jGc94xjPePxdddNFFF90/F1100UUX3T8Sd8QdcUfcPxsbGxsbG9s/5LJioIQ32j/ksmKghDfaP+Dp1vywSNk/nDC/q8VN2D/ZiZ3YiZ3YP0YXXXTRRdc/UV5DeQ3l1T9RXkN5DeXVP1FeQ3kN5dU/mjRp0qRJ0z9yHMdxHMfRP3Icx3Ecx9E/chzHcRzH0T9yHMdxHMfRP1AHdVAHddA/WlpaWlpayj8UO7ETO7HDPwAAAAAAAMA/AAAAAAAAwD8AAAAAAADAPwAAAAAAAMA/hBBCCCGEsD+EEEIIIYSwPzvavE9xyaA/O9q8T3HJoD872rxPccmgPzvavE9xyaA/AAAAAAAAAAAAAAAAAAAAAAAAAAAAAAAAAAAAAAAAAAA=",
          "dtype": "f8"
         }
        }
       ],
       "layout": {
        "height": 500,
        "hovermode": "x unified",
        "legend": {
         "title": {
          "text": "Métriques"
         }
        },
        "template": {
         "data": {
          "bar": [
           {
            "error_x": {
             "color": "#2a3f5f"
            },
            "error_y": {
             "color": "#2a3f5f"
            },
            "marker": {
             "line": {
              "color": "white",
              "width": 0.5
             },
             "pattern": {
              "fillmode": "overlay",
              "size": 10,
              "solidity": 0.2
             }
            },
            "type": "bar"
           }
          ],
          "barpolar": [
           {
            "marker": {
             "line": {
              "color": "white",
              "width": 0.5
             },
             "pattern": {
              "fillmode": "overlay",
              "size": 10,
              "solidity": 0.2
             }
            },
            "type": "barpolar"
           }
          ],
          "carpet": [
           {
            "aaxis": {
             "endlinecolor": "#2a3f5f",
             "gridcolor": "#C8D4E3",
             "linecolor": "#C8D4E3",
             "minorgridcolor": "#C8D4E3",
             "startlinecolor": "#2a3f5f"
            },
            "baxis": {
             "endlinecolor": "#2a3f5f",
             "gridcolor": "#C8D4E3",
             "linecolor": "#C8D4E3",
             "minorgridcolor": "#C8D4E3",
             "startlinecolor": "#2a3f5f"
            },
            "type": "carpet"
           }
          ],
          "choropleth": [
           {
            "colorbar": {
             "outlinewidth": 0,
             "ticks": ""
            },
            "type": "choropleth"
           }
          ],
          "contour": [
           {
            "colorbar": {
             "outlinewidth": 0,
             "ticks": ""
            },
            "colorscale": [
             [
              0,
              "#0d0887"
             ],
             [
              0.1111111111111111,
              "#46039f"
             ],
             [
              0.2222222222222222,
              "#7201a8"
             ],
             [
              0.3333333333333333,
              "#9c179e"
             ],
             [
              0.4444444444444444,
              "#bd3786"
             ],
             [
              0.5555555555555556,
              "#d8576b"
             ],
             [
              0.6666666666666666,
              "#ed7953"
             ],
             [
              0.7777777777777778,
              "#fb9f3a"
             ],
             [
              0.8888888888888888,
              "#fdca26"
             ],
             [
              1,
              "#f0f921"
             ]
            ],
            "type": "contour"
           }
          ],
          "contourcarpet": [
           {
            "colorbar": {
             "outlinewidth": 0,
             "ticks": ""
            },
            "type": "contourcarpet"
           }
          ],
          "heatmap": [
           {
            "colorbar": {
             "outlinewidth": 0,
             "ticks": ""
            },
            "colorscale": [
             [
              0,
              "#0d0887"
             ],
             [
              0.1111111111111111,
              "#46039f"
             ],
             [
              0.2222222222222222,
              "#7201a8"
             ],
             [
              0.3333333333333333,
              "#9c179e"
             ],
             [
              0.4444444444444444,
              "#bd3786"
             ],
             [
              0.5555555555555556,
              "#d8576b"
             ],
             [
              0.6666666666666666,
              "#ed7953"
             ],
             [
              0.7777777777777778,
              "#fb9f3a"
             ],
             [
              0.8888888888888888,
              "#fdca26"
             ],
             [
              1,
              "#f0f921"
             ]
            ],
            "type": "heatmap"
           }
          ],
          "histogram": [
           {
            "marker": {
             "pattern": {
              "fillmode": "overlay",
              "size": 10,
              "solidity": 0.2
             }
            },
            "type": "histogram"
           }
          ],
          "histogram2d": [
           {
            "colorbar": {
             "outlinewidth": 0,
             "ticks": ""
            },
            "colorscale": [
             [
              0,
              "#0d0887"
             ],
             [
              0.1111111111111111,
              "#46039f"
             ],
             [
              0.2222222222222222,
              "#7201a8"
             ],
             [
              0.3333333333333333,
              "#9c179e"
             ],
             [
              0.4444444444444444,
              "#bd3786"
             ],
             [
              0.5555555555555556,
              "#d8576b"
             ],
             [
              0.6666666666666666,
              "#ed7953"
             ],
             [
              0.7777777777777778,
              "#fb9f3a"
             ],
             [
              0.8888888888888888,
              "#fdca26"
             ],
             [
              1,
              "#f0f921"
             ]
            ],
            "type": "histogram2d"
           }
          ],
          "histogram2dcontour": [
           {
            "colorbar": {
             "outlinewidth": 0,
             "ticks": ""
            },
            "colorscale": [
             [
              0,
              "#0d0887"
             ],
             [
              0.1111111111111111,
              "#46039f"
             ],
             [
              0.2222222222222222,
              "#7201a8"
             ],
             [
              0.3333333333333333,
              "#9c179e"
             ],
             [
              0.4444444444444444,
              "#bd3786"
             ],
             [
              0.5555555555555556,
              "#d8576b"
             ],
             [
              0.6666666666666666,
              "#ed7953"
             ],
             [
              0.7777777777777778,
              "#fb9f3a"
             ],
             [
              0.8888888888888888,
              "#fdca26"
             ],
             [
              1,
              "#f0f921"
             ]
            ],
            "type": "histogram2dcontour"
           }
          ],
          "mesh3d": [
           {
            "colorbar": {
             "outlinewidth": 0,
             "ticks": ""
            },
            "type": "mesh3d"
           }
          ],
          "parcoords": [
           {
            "line": {
             "colorbar": {
              "outlinewidth": 0,
              "ticks": ""
             }
            },
            "type": "parcoords"
           }
          ],
          "pie": [
           {
            "automargin": true,
            "type": "pie"
           }
          ],
          "scatter": [
           {
            "fillpattern": {
             "fillmode": "overlay",
             "size": 10,
             "solidity": 0.2
            },
            "type": "scatter"
           }
          ],
          "scatter3d": [
           {
            "line": {
             "colorbar": {
              "outlinewidth": 0,
              "ticks": ""
             }
            },
            "marker": {
             "colorbar": {
              "outlinewidth": 0,
              "ticks": ""
             }
            },
            "type": "scatter3d"
           }
          ],
          "scattercarpet": [
           {
            "marker": {
             "colorbar": {
              "outlinewidth": 0,
              "ticks": ""
             }
            },
            "type": "scattercarpet"
           }
          ],
          "scattergeo": [
           {
            "marker": {
             "colorbar": {
              "outlinewidth": 0,
              "ticks": ""
             }
            },
            "type": "scattergeo"
           }
          ],
          "scattergl": [
           {
            "marker": {
             "colorbar": {
              "outlinewidth": 0,
              "ticks": ""
             }
            },
            "type": "scattergl"
           }
          ],
          "scattermap": [
           {
            "marker": {
             "colorbar": {
              "outlinewidth": 0,
              "ticks": ""
             }
            },
            "type": "scattermap"
           }
          ],
          "scattermapbox": [
           {
            "marker": {
             "colorbar": {
              "outlinewidth": 0,
              "ticks": ""
             }
            },
            "type": "scattermapbox"
           }
          ],
          "scatterpolar": [
           {
            "marker": {
             "colorbar": {
              "outlinewidth": 0,
              "ticks": ""
             }
            },
            "type": "scatterpolar"
           }
          ],
          "scatterpolargl": [
           {
            "marker": {
             "colorbar": {
              "outlinewidth": 0,
              "ticks": ""
             }
            },
            "type": "scatterpolargl"
           }
          ],
          "scatterternary": [
           {
            "marker": {
             "colorbar": {
              "outlinewidth": 0,
              "ticks": ""
             }
            },
            "type": "scatterternary"
           }
          ],
          "surface": [
           {
            "colorbar": {
             "outlinewidth": 0,
             "ticks": ""
            },
            "colorscale": [
             [
              0,
              "#0d0887"
             ],
             [
              0.1111111111111111,
              "#46039f"
             ],
             [
              0.2222222222222222,
              "#7201a8"
             ],
             [
              0.3333333333333333,
              "#9c179e"
             ],
             [
              0.4444444444444444,
              "#bd3786"
             ],
             [
              0.5555555555555556,
              "#d8576b"
             ],
             [
              0.6666666666666666,
              "#ed7953"
             ],
             [
              0.7777777777777778,
              "#fb9f3a"
             ],
             [
              0.8888888888888888,
              "#fdca26"
             ],
             [
              1,
              "#f0f921"
             ]
            ],
            "type": "surface"
           }
          ],
          "table": [
           {
            "cells": {
             "fill": {
              "color": "#EBF0F8"
             },
             "line": {
              "color": "white"
             }
            },
            "header": {
             "fill": {
              "color": "#C8D4E3"
             },
             "line": {
              "color": "white"
             }
            },
            "type": "table"
           }
          ]
         },
         "layout": {
          "annotationdefaults": {
           "arrowcolor": "#2a3f5f",
           "arrowhead": 0,
           "arrowwidth": 1
          },
          "autotypenumbers": "strict",
          "coloraxis": {
           "colorbar": {
            "outlinewidth": 0,
            "ticks": ""
           }
          },
          "colorscale": {
           "diverging": [
            [
             0,
             "#8e0152"
            ],
            [
             0.1,
             "#c51b7d"
            ],
            [
             0.2,
             "#de77ae"
            ],
            [
             0.3,
             "#f1b6da"
            ],
            [
             0.4,
             "#fde0ef"
            ],
            [
             0.5,
             "#f7f7f7"
            ],
            [
             0.6,
             "#e6f5d0"
            ],
            [
             0.7,
             "#b8e186"
            ],
            [
             0.8,
             "#7fbc41"
            ],
            [
             0.9,
             "#4d9221"
            ],
            [
             1,
             "#276419"
            ]
           ],
           "sequential": [
            [
             0,
             "#0d0887"
            ],
            [
             0.1111111111111111,
             "#46039f"
            ],
            [
             0.2222222222222222,
             "#7201a8"
            ],
            [
             0.3333333333333333,
             "#9c179e"
            ],
            [
             0.4444444444444444,
             "#bd3786"
            ],
            [
             0.5555555555555556,
             "#d8576b"
            ],
            [
             0.6666666666666666,
             "#ed7953"
            ],
            [
             0.7777777777777778,
             "#fb9f3a"
            ],
            [
             0.8888888888888888,
             "#fdca26"
            ],
            [
             1,
             "#f0f921"
            ]
           ],
           "sequentialminus": [
            [
             0,
             "#0d0887"
            ],
            [
             0.1111111111111111,
             "#46039f"
            ],
            [
             0.2222222222222222,
             "#7201a8"
            ],
            [
             0.3333333333333333,
             "#9c179e"
            ],
            [
             0.4444444444444444,
             "#bd3786"
            ],
            [
             0.5555555555555556,
             "#d8576b"
            ],
            [
             0.6666666666666666,
             "#ed7953"
            ],
            [
             0.7777777777777778,
             "#fb9f3a"
            ],
            [
             0.8888888888888888,
             "#fdca26"
            ],
            [
             1,
             "#f0f921"
            ]
           ]
          },
          "colorway": [
           "#636efa",
           "#EF553B",
           "#00cc96",
           "#ab63fa",
           "#FFA15A",
           "#19d3f3",
           "#FF6692",
           "#B6E880",
           "#FF97FF",
           "#FECB52"
          ],
          "font": {
           "color": "#2a3f5f"
          },
          "geo": {
           "bgcolor": "white",
           "lakecolor": "white",
           "landcolor": "white",
           "showlakes": true,
           "showland": true,
           "subunitcolor": "#C8D4E3"
          },
          "hoverlabel": {
           "align": "left"
          },
          "hovermode": "closest",
          "mapbox": {
           "style": "light"
          },
          "paper_bgcolor": "white",
          "plot_bgcolor": "white",
          "polar": {
           "angularaxis": {
            "gridcolor": "#EBF0F8",
            "linecolor": "#EBF0F8",
            "ticks": ""
           },
           "bgcolor": "white",
           "radialaxis": {
            "gridcolor": "#EBF0F8",
            "linecolor": "#EBF0F8",
            "ticks": ""
           }
          },
          "scene": {
           "xaxis": {
            "backgroundcolor": "white",
            "gridcolor": "#DFE8F3",
            "gridwidth": 2,
            "linecolor": "#EBF0F8",
            "showbackground": true,
            "ticks": "",
            "zerolinecolor": "#EBF0F8"
           },
           "yaxis": {
            "backgroundcolor": "white",
            "gridcolor": "#DFE8F3",
            "gridwidth": 2,
            "linecolor": "#EBF0F8",
            "showbackground": true,
            "ticks": "",
            "zerolinecolor": "#EBF0F8"
           },
           "zaxis": {
            "backgroundcolor": "white",
            "gridcolor": "#DFE8F3",
            "gridwidth": 2,
            "linecolor": "#EBF0F8",
            "showbackground": true,
            "ticks": "",
            "zerolinecolor": "#EBF0F8"
           }
          },
          "shapedefaults": {
           "line": {
            "color": "#2a3f5f"
           }
          },
          "ternary": {
           "aaxis": {
            "gridcolor": "#DFE8F3",
            "linecolor": "#A2B1C6",
            "ticks": ""
           },
           "baxis": {
            "gridcolor": "#DFE8F3",
            "linecolor": "#A2B1C6",
            "ticks": ""
           },
           "bgcolor": "white",
           "caxis": {
            "gridcolor": "#DFE8F3",
            "linecolor": "#A2B1C6",
            "ticks": ""
           }
          },
          "title": {
           "x": 0.05
          },
          "xaxis": {
           "automargin": true,
           "gridcolor": "#EBF0F8",
           "linecolor": "#EBF0F8",
           "ticks": "",
           "title": {
            "standoff": 15
           },
           "zerolinecolor": "#EBF0F8",
           "zerolinewidth": 2
          },
          "yaxis": {
           "automargin": true,
           "gridcolor": "#EBF0F8",
           "linecolor": "#EBF0F8",
           "ticks": "",
           "title": {
            "standoff": 15
           },
           "zerolinecolor": "#EBF0F8",
           "zerolinewidth": 2
          }
         }
        },
        "title": {
         "text": "📈 Logistic Regression (L2) — Évolution des métriques selon le seuil"
        },
        "width": 850,
        "xaxis": {
         "tickformat": ".2f",
         "title": {
          "text": "Seuil de score"
         }
        },
        "yaxis": {
         "range": [
          0,
          1.05
         ],
         "title": {
          "text": "Valeur de la métrique"
         }
        }
       }
      }
     },
     "metadata": {},
     "output_type": "display_data"
    }
   ],
   "source": [
    "logistic_models.plot_metrics_by_threshold(best_model_name)\n",
    "df_metrics = logistic_models.get_metrics_by_threshold(best_model_name)"
   ]
  },
  {
   "cell_type": "markdown",
   "id": "ccadaa39",
   "metadata": {},
   "source": [
    "<div class=\"alert alert-block alert-warning\">\n",
    "<b>Question 30:</b> Nous souhaitons refuser moins de 30% de crédits à tort,  quel seuil choisir ?\n",
    "</div>"
   ]
  },
  {
   "cell_type": "markdown",
   "id": "0fbb53cb",
   "metadata": {},
   "source": [
    "<div class=\"alert alert-block alert-success\">\n",
    "<b> Réponse :</b> Seuil où Précision>=70%\n",
    "</div>"
   ]
  },
  {
   "cell_type": "code",
   "execution_count": 14,
   "id": "26b1a036",
   "metadata": {},
   "outputs": [
    {
     "data": {
      "text/html": [
       "<div>\n",
       "<style scoped>\n",
       "    .dataframe tbody tr th:only-of-type {\n",
       "        vertical-align: middle;\n",
       "    }\n",
       "\n",
       "    .dataframe tbody tr th {\n",
       "        vertical-align: top;\n",
       "    }\n",
       "\n",
       "    .dataframe thead th {\n",
       "        text-align: right;\n",
       "    }\n",
       "</style>\n",
       "<table border=\"1\" class=\"dataframe\">\n",
       "  <thead>\n",
       "    <tr style=\"text-align: right;\">\n",
       "      <th></th>\n",
       "      <th>threshold</th>\n",
       "      <th>precision</th>\n",
       "      <th>recall</th>\n",
       "      <th>f1</th>\n",
       "    </tr>\n",
       "  </thead>\n",
       "  <tbody>\n",
       "    <tr>\n",
       "      <th>64</th>\n",
       "      <td>0.643535</td>\n",
       "      <td>0.724138</td>\n",
       "      <td>0.35</td>\n",
       "      <td>0.47191</td>\n",
       "    </tr>\n",
       "  </tbody>\n",
       "</table>\n",
       "</div>"
      ],
      "text/plain": [
       "    threshold  precision  recall       f1\n",
       "64   0.643535   0.724138    0.35  0.47191"
      ]
     },
     "execution_count": 14,
     "metadata": {},
     "output_type": "execute_result"
    }
   ],
   "source": [
    "# On cherche à maximiser le recall pour une précision>=0.7\n",
    "df_metrics[df_metrics[\"precision\"]>=0.7].sort_values(\"recall\",ascending=False).head(1)"
   ]
  },
  {
   "cell_type": "markdown",
   "id": "28853f3e",
   "metadata": {},
   "source": [
    "<div class=\"alert alert-block alert-warning\">\n",
    "<b>Question 31:</b> Nous souhaitons détecter au moins 75% des défauts de paiement , quel seuil choisir ?\n",
    "</div>"
   ]
  },
  {
   "cell_type": "markdown",
   "id": "9a781dd3",
   "metadata": {},
   "source": [
    "<div class=\"alert alert-block alert-success\">\n",
    "<b> Réponse :</b> Seuil où Recall >=75%\n",
    "</div>"
   ]
  },
  {
   "cell_type": "code",
   "execution_count": 15,
   "id": "9e60ad29",
   "metadata": {},
   "outputs": [
    {
     "data": {
      "text/html": [
       "<div>\n",
       "<style scoped>\n",
       "    .dataframe tbody tr th:only-of-type {\n",
       "        vertical-align: middle;\n",
       "    }\n",
       "\n",
       "    .dataframe tbody tr th {\n",
       "        vertical-align: top;\n",
       "    }\n",
       "\n",
       "    .dataframe thead th {\n",
       "        text-align: right;\n",
       "    }\n",
       "</style>\n",
       "<table border=\"1\" class=\"dataframe\">\n",
       "  <thead>\n",
       "    <tr style=\"text-align: right;\">\n",
       "      <th></th>\n",
       "      <th>threshold</th>\n",
       "      <th>precision</th>\n",
       "      <th>recall</th>\n",
       "      <th>f1</th>\n",
       "    </tr>\n",
       "  </thead>\n",
       "  <tbody>\n",
       "    <tr>\n",
       "      <th>21</th>\n",
       "      <td>0.217879</td>\n",
       "      <td>0.46875</td>\n",
       "      <td>0.75</td>\n",
       "      <td>0.576923</td>\n",
       "    </tr>\n",
       "  </tbody>\n",
       "</table>\n",
       "</div>"
      ],
      "text/plain": [
       "    threshold  precision  recall        f1\n",
       "21   0.217879    0.46875    0.75  0.576923"
      ]
     },
     "execution_count": 15,
     "metadata": {},
     "output_type": "execute_result"
    }
   ],
   "source": [
    "df_metrics[df_metrics[\"recall\"]>=0.75].sort_values(\"precision\",ascending=False).head(1)"
   ]
  },
  {
   "cell_type": "markdown",
   "id": "b84ebf0b",
   "metadata": {},
   "source": [
    "### 7. Modèles à base d'arbres"
   ]
  },
  {
   "cell_type": "code",
   "execution_count": null,
   "id": "f43970ee",
   "metadata": {},
   "outputs": [
    {
     "name": "stdout",
     "output_type": "stream",
     "text": [
      "🔍 Optimisation en cours : Random Forest\n"
     ]
    },
    {
     "name": "stderr",
     "output_type": "stream",
     "text": [
      "c:\\Users\\ADUBOIS\\OneDrive - Micropole\\cours_scoring\\.venv_cours_scoring\\lib\\site-packages\\skopt\\optimizer\\optimizer.py:517: UserWarning:\n",
      "\n",
      "The objective has been evaluated at point [np.True_, np.int64(15), np.str_('sqrt'), np.int64(1), np.int64(100)] before, using random point [True, np.int64(11), 'sqrt', np.int64(9), np.int64(223)]\n",
      "\n",
      "c:\\Users\\ADUBOIS\\OneDrive - Micropole\\cours_scoring\\.venv_cours_scoring\\lib\\site-packages\\skopt\\optimizer\\optimizer.py:517: UserWarning:\n",
      "\n",
      "The objective has been evaluated at point [np.True_, np.int64(15), np.str_('sqrt'), np.int64(1), np.int64(100)] before, using random point [True, np.int64(8), 'log2', np.int64(1), np.int64(300)]\n",
      "\n",
      "c:\\Users\\ADUBOIS\\OneDrive - Micropole\\cours_scoring\\.venv_cours_scoring\\lib\\site-packages\\skopt\\optimizer\\optimizer.py:517: UserWarning:\n",
      "\n",
      "The objective has been evaluated at point [np.True_, np.int64(15), np.str_('sqrt'), np.int64(1), np.int64(100)] before, using random point [True, np.int64(4), 'sqrt', np.int64(6), np.int64(264)]\n",
      "\n"
     ]
    },
    {
     "name": "stdout",
     "output_type": "stream",
     "text": [
      "🔍 Optimisation en cours : Gradient Boosting\n",
      "🔍 Optimisation en cours : LightGBM\n",
      "[LightGBM] [Warning] No further splits with positive gain, best gain: -inf\n",
      "[LightGBM] [Warning] No further splits with positive gain, best gain: -inf\n",
      "[LightGBM] [Warning] No further splits with positive gain, best gain: -inf\n",
      "[LightGBM] [Warning] No further splits with positive gain, best gain: -inf\n",
      "[LightGBM] [Warning] No further splits with positive gain, best gain: -inf\n",
      "[LightGBM] [Warning] No further splits with positive gain, best gain: -inf\n",
      "[LightGBM] [Warning] No further splits with positive gain, best gain: -inf\n",
      "[LightGBM] [Warning] No further splits with positive gain, best gain: -inf\n",
      "[LightGBM] [Warning] No further splits with positive gain, best gain: -inf\n",
      "[LightGBM] [Warning] No further splits with positive gain, best gain: -inf\n",
      "[LightGBM] [Warning] No further splits with positive gain, best gain: -inf\n",
      "[LightGBM] [Warning] No further splits with positive gain, best gain: -inf\n",
      "[LightGBM] [Warning] No further splits with positive gain, best gain: -inf\n",
      "[LightGBM] [Warning] No further splits with positive gain, best gain: -inf\n",
      "[LightGBM] [Warning] No further splits with positive gain, best gain: -inf\n",
      "[LightGBM] [Warning] No further splits with positive gain, best gain: -inf\n",
      "[LightGBM] [Warning] No further splits with positive gain, best gain: -inf\n",
      "[LightGBM] [Warning] No further splits with positive gain, best gain: -inf\n",
      "[LightGBM] [Warning] No further splits with positive gain, best gain: -inf\n",
      "[LightGBM] [Warning] No further splits with positive gain, best gain: -inf\n",
      "[LightGBM] [Warning] No further splits with positive gain, best gain: -inf\n",
      "[LightGBM] [Warning] No further splits with positive gain, best gain: -inf\n",
      "[LightGBM] [Warning] No further splits with positive gain, best gain: -inf\n",
      "[LightGBM] [Warning] No further splits with positive gain, best gain: -inf\n",
      "[LightGBM] [Warning] No further splits with positive gain, best gain: -inf\n",
      "[LightGBM] [Warning] No further splits with positive gain, best gain: -inf\n",
      "[LightGBM] [Warning] No further splits with positive gain, best gain: -inf\n",
      "[LightGBM] [Warning] No further splits with positive gain, best gain: -inf\n",
      "[LightGBM] [Warning] No further splits with positive gain, best gain: -inf\n",
      "[LightGBM] [Warning] No further splits with positive gain, best gain: -inf\n",
      "[LightGBM] [Warning] No further splits with positive gain, best gain: -inf\n",
      "[LightGBM] [Warning] No further splits with positive gain, best gain: -inf\n",
      "[LightGBM] [Warning] No further splits with positive gain, best gain: -inf\n",
      "[LightGBM] [Warning] No further splits with positive gain, best gain: -inf\n",
      "[LightGBM] [Warning] No further splits with positive gain, best gain: -inf\n",
      "[LightGBM] [Warning] No further splits with positive gain, best gain: -inf\n",
      "[LightGBM] [Warning] No further splits with positive gain, best gain: -inf\n",
      "[LightGBM] [Warning] No further splits with positive gain, best gain: -inf\n",
      "[LightGBM] [Warning] No further splits with positive gain, best gain: -inf\n",
      "[LightGBM] [Warning] No further splits with positive gain, best gain: -inf\n",
      "[LightGBM] [Warning] No further splits with positive gain, best gain: -inf\n",
      "[LightGBM] [Warning] No further splits with positive gain, best gain: -inf\n",
      "[LightGBM] [Warning] No further splits with positive gain, best gain: -inf\n",
      "[LightGBM] [Warning] No further splits with positive gain, best gain: -inf\n",
      "[LightGBM] [Warning] No further splits with positive gain, best gain: -inf\n",
      "[LightGBM] [Warning] No further splits with positive gain, best gain: -inf\n",
      "[LightGBM] [Warning] No further splits with positive gain, best gain: -inf\n",
      "[LightGBM] [Warning] No further splits with positive gain, best gain: -inf\n",
      "[LightGBM] [Warning] No further splits with positive gain, best gain: -inf\n",
      "[LightGBM] [Warning] No further splits with positive gain, best gain: -inf\n",
      "[LightGBM] [Warning] No further splits with positive gain, best gain: -inf\n",
      "[LightGBM] [Warning] No further splits with positive gain, best gain: -inf\n",
      "[LightGBM] [Warning] No further splits with positive gain, best gain: -inf\n",
      "[LightGBM] [Warning] No further splits with positive gain, best gain: -inf\n",
      "[LightGBM] [Warning] No further splits with positive gain, best gain: -inf\n",
      "[LightGBM] [Warning] No further splits with positive gain, best gain: -inf\n",
      "[LightGBM] [Warning] No further splits with positive gain, best gain: -inf\n",
      "[LightGBM] [Warning] No further splits with positive gain, best gain: -inf\n",
      "[LightGBM] [Warning] No further splits with positive gain, best gain: -inf\n",
      "[LightGBM] [Warning] No further splits with positive gain, best gain: -inf\n",
      "[LightGBM] [Warning] No further splits with positive gain, best gain: -inf\n",
      "[LightGBM] [Warning] No further splits with positive gain, best gain: -inf\n",
      "[LightGBM] [Warning] No further splits with positive gain, best gain: -inf\n",
      "[LightGBM] [Warning] No further splits with positive gain, best gain: -inf\n",
      "[LightGBM] [Warning] No further splits with positive gain, best gain: -inf\n",
      "[LightGBM] [Warning] No further splits with positive gain, best gain: -inf\n",
      "[LightGBM] [Warning] No further splits with positive gain, best gain: -inf\n",
      "[LightGBM] [Warning] No further splits with positive gain, best gain: -inf\n",
      "[LightGBM] [Warning] No further splits with positive gain, best gain: -inf\n",
      "[LightGBM] [Warning] No further splits with positive gain, best gain: -inf\n",
      "[LightGBM] [Warning] No further splits with positive gain, best gain: -inf\n",
      "[LightGBM] [Warning] No further splits with positive gain, best gain: -inf\n",
      "[LightGBM] [Warning] No further splits with positive gain, best gain: -inf\n",
      "[LightGBM] [Warning] No further splits with positive gain, best gain: -inf\n",
      "[LightGBM] [Warning] No further splits with positive gain, best gain: -inf\n",
      "[LightGBM] [Warning] No further splits with positive gain, best gain: -inf\n",
      "[LightGBM] [Warning] No further splits with positive gain, best gain: -inf\n",
      "[LightGBM] [Warning] No further splits with positive gain, best gain: -inf\n",
      "[LightGBM] [Warning] No further splits with positive gain, best gain: -inf\n",
      "[LightGBM] [Warning] No further splits with positive gain, best gain: -inf\n",
      "[LightGBM] [Warning] No further splits with positive gain, best gain: -inf\n",
      "[LightGBM] [Warning] No further splits with positive gain, best gain: -inf\n",
      "[LightGBM] [Warning] No further splits with positive gain, best gain: -inf\n",
      "[LightGBM] [Warning] No further splits with positive gain, best gain: -inf\n",
      "[LightGBM] [Warning] No further splits with positive gain, best gain: -inf\n",
      "[LightGBM] [Warning] No further splits with positive gain, best gain: -inf\n",
      "[LightGBM] [Warning] No further splits with positive gain, best gain: -inf\n",
      "[LightGBM] [Warning] No further splits with positive gain, best gain: -inf\n",
      "[LightGBM] [Warning] No further splits with positive gain, best gain: -inf\n",
      "[LightGBM] [Warning] No further splits with positive gain, best gain: -inf\n",
      "[LightGBM] [Warning] No further splits with positive gain, best gain: -inf\n",
      "[LightGBM] [Warning] No further splits with positive gain, best gain: -inf\n",
      "[LightGBM] [Warning] No further splits with positive gain, best gain: -inf\n",
      "[LightGBM] [Warning] No further splits with positive gain, best gain: -inf\n",
      "[LightGBM] [Warning] No further splits with positive gain, best gain: -inf\n",
      "[LightGBM] [Warning] No further splits with positive gain, best gain: -inf\n",
      "[LightGBM] [Warning] No further splits with positive gain, best gain: -inf\n",
      "[LightGBM] [Warning] No further splits with positive gain, best gain: -inf\n",
      "[LightGBM] [Warning] No further splits with positive gain, best gain: -inf\n",
      "[LightGBM] [Warning] No further splits with positive gain, best gain: -inf\n",
      "[LightGBM] [Warning] No further splits with positive gain, best gain: -inf\n",
      "[LightGBM] [Warning] No further splits with positive gain, best gain: -inf\n",
      "[LightGBM] [Warning] No further splits with positive gain, best gain: -inf\n",
      "[LightGBM] [Warning] No further splits with positive gain, best gain: -inf\n",
      "[LightGBM] [Warning] No further splits with positive gain, best gain: -inf\n",
      "[LightGBM] [Warning] No further splits with positive gain, best gain: -inf\n",
      "[LightGBM] [Warning] No further splits with positive gain, best gain: -inf\n",
      "[LightGBM] [Warning] No further splits with positive gain, best gain: -inf\n",
      "[LightGBM] [Warning] No further splits with positive gain, best gain: -inf\n",
      "[LightGBM] [Warning] No further splits with positive gain, best gain: -inf\n",
      "[LightGBM] [Warning] No further splits with positive gain, best gain: -inf\n",
      "[LightGBM] [Warning] No further splits with positive gain, best gain: -inf\n",
      "[LightGBM] [Warning] No further splits with positive gain, best gain: -inf\n",
      "[LightGBM] [Warning] No further splits with positive gain, best gain: -inf\n",
      "[LightGBM] [Warning] No further splits with positive gain, best gain: -inf\n",
      "[LightGBM] [Warning] No further splits with positive gain, best gain: -inf\n",
      "[LightGBM] [Warning] No further splits with positive gain, best gain: -inf\n",
      "[LightGBM] [Warning] No further splits with positive gain, best gain: -inf\n",
      "[LightGBM] [Warning] No further splits with positive gain, best gain: -inf\n",
      "[LightGBM] [Warning] No further splits with positive gain, best gain: -inf\n",
      "[LightGBM] [Warning] No further splits with positive gain, best gain: -inf\n",
      "[LightGBM] [Warning] No further splits with positive gain, best gain: -inf\n",
      "[LightGBM] [Warning] No further splits with positive gain, best gain: -inf\n",
      "[LightGBM] [Warning] No further splits with positive gain, best gain: -inf\n",
      "[LightGBM] [Warning] No further splits with positive gain, best gain: -inf\n",
      "[LightGBM] [Warning] No further splits with positive gain, best gain: -inf\n",
      "[LightGBM] [Warning] No further splits with positive gain, best gain: -inf\n",
      "[LightGBM] [Warning] No further splits with positive gain, best gain: -inf\n",
      "[LightGBM] [Warning] No further splits with positive gain, best gain: -inf\n",
      "[LightGBM] [Warning] No further splits with positive gain, best gain: -inf\n",
      "[LightGBM] [Warning] No further splits with positive gain, best gain: -inf\n",
      "[LightGBM] [Warning] No further splits with positive gain, best gain: -inf\n",
      "[LightGBM] [Warning] No further splits with positive gain, best gain: -inf\n",
      "[LightGBM] [Warning] No further splits with positive gain, best gain: -inf\n",
      "[LightGBM] [Warning] No further splits with positive gain, best gain: -inf\n",
      "[LightGBM] [Warning] No further splits with positive gain, best gain: -inf\n",
      "[LightGBM] [Warning] No further splits with positive gain, best gain: -inf\n",
      "[LightGBM] [Warning] No further splits with positive gain, best gain: -inf\n",
      "[LightGBM] [Warning] No further splits with positive gain, best gain: -inf\n",
      "[LightGBM] [Warning] No further splits with positive gain, best gain: -inf\n",
      "[LightGBM] [Warning] No further splits with positive gain, best gain: -inf\n",
      "[LightGBM] [Warning] No further splits with positive gain, best gain: -inf\n",
      "[LightGBM] [Warning] No further splits with positive gain, best gain: -inf\n",
      "[LightGBM] [Warning] No further splits with positive gain, best gain: -inf\n",
      "[LightGBM] [Warning] No further splits with positive gain, best gain: -inf\n",
      "[LightGBM] [Warning] No further splits with positive gain, best gain: -inf\n",
      "[LightGBM] [Warning] No further splits with positive gain, best gain: -inf\n",
      "[LightGBM] [Warning] No further splits with positive gain, best gain: -inf\n",
      "[LightGBM] [Warning] No further splits with positive gain, best gain: -inf\n",
      "[LightGBM] [Warning] No further splits with positive gain, best gain: -inf\n",
      "[LightGBM] [Warning] No further splits with positive gain, best gain: -inf\n",
      "[LightGBM] [Warning] No further splits with positive gain, best gain: -inf\n",
      "[LightGBM] [Warning] No further splits with positive gain, best gain: -inf\n",
      "[LightGBM] [Warning] No further splits with positive gain, best gain: -inf\n",
      "[LightGBM] [Warning] No further splits with positive gain, best gain: -inf\n",
      "[LightGBM] [Warning] No further splits with positive gain, best gain: -inf\n",
      "[LightGBM] [Warning] No further splits with positive gain, best gain: -inf\n",
      "[LightGBM] [Warning] No further splits with positive gain, best gain: -inf\n",
      "[LightGBM] [Warning] No further splits with positive gain, best gain: -inf\n",
      "[LightGBM] [Warning] No further splits with positive gain, best gain: -inf\n",
      "[LightGBM] [Warning] No further splits with positive gain, best gain: -inf\n",
      "[LightGBM] [Warning] No further splits with positive gain, best gain: -inf\n",
      "[LightGBM] [Warning] No further splits with positive gain, best gain: -inf\n",
      "[LightGBM] [Warning] No further splits with positive gain, best gain: -inf\n",
      "[LightGBM] [Warning] No further splits with positive gain, best gain: -inf\n",
      "[LightGBM] [Warning] No further splits with positive gain, best gain: -inf\n",
      "[LightGBM] [Warning] No further splits with positive gain, best gain: -inf\n",
      "[LightGBM] [Warning] No further splits with positive gain, best gain: -inf\n",
      "[LightGBM] [Warning] No further splits with positive gain, best gain: -inf\n",
      "[LightGBM] [Warning] No further splits with positive gain, best gain: -inf\n",
      "[LightGBM] [Warning] No further splits with positive gain, best gain: -inf\n",
      "[LightGBM] [Warning] No further splits with positive gain, best gain: -inf\n",
      "[LightGBM] [Warning] No further splits with positive gain, best gain: -inf\n",
      "[LightGBM] [Warning] No further splits with positive gain, best gain: -inf\n",
      "[LightGBM] [Warning] No further splits with positive gain, best gain: -inf\n",
      "[LightGBM] [Warning] No further splits with positive gain, best gain: -inf\n",
      "[LightGBM] [Warning] No further splits with positive gain, best gain: -inf\n",
      "[LightGBM] [Warning] No further splits with positive gain, best gain: -inf\n",
      "[LightGBM] [Warning] No further splits with positive gain, best gain: -inf\n",
      "[LightGBM] [Warning] No further splits with positive gain, best gain: -inf\n",
      "[LightGBM] [Warning] No further splits with positive gain, best gain: -inf\n",
      "[LightGBM] [Warning] No further splits with positive gain, best gain: -inf\n"
     ]
    },
    {
     "data": {
      "text/html": [
       "<div>\n",
       "<style scoped>\n",
       "    .dataframe tbody tr th:only-of-type {\n",
       "        vertical-align: middle;\n",
       "    }\n",
       "\n",
       "    .dataframe tbody tr th {\n",
       "        vertical-align: top;\n",
       "    }\n",
       "\n",
       "    .dataframe thead th {\n",
       "        text-align: right;\n",
       "    }\n",
       "</style>\n",
       "<table border=\"1\" class=\"dataframe\">\n",
       "  <thead>\n",
       "    <tr style=\"text-align: right;\">\n",
       "      <th></th>\n",
       "      <th>Modèle</th>\n",
       "      <th>Score F1 (CV)</th>\n",
       "      <th>Durée (s)</th>\n",
       "    </tr>\n",
       "  </thead>\n",
       "  <tbody>\n",
       "    <tr>\n",
       "      <th>2</th>\n",
       "      <td>LightGBM</td>\n",
       "      <td>0.566904</td>\n",
       "      <td>32.33</td>\n",
       "    </tr>\n",
       "    <tr>\n",
       "      <th>1</th>\n",
       "      <td>Gradient Boosting</td>\n",
       "      <td>0.553101</td>\n",
       "      <td>22.16</td>\n",
       "    </tr>\n",
       "    <tr>\n",
       "      <th>0</th>\n",
       "      <td>Random Forest</td>\n",
       "      <td>0.504801</td>\n",
       "      <td>14.39</td>\n",
       "    </tr>\n",
       "  </tbody>\n",
       "</table>\n",
       "</div>"
      ],
      "text/plain": [
       "              Modèle  Score F1 (CV)  Durée (s)\n",
       "2           LightGBM       0.566904      32.33\n",
       "1  Gradient Boosting       0.553101      22.16\n",
       "0      Random Forest       0.504801      14.39"
      ]
     },
     "execution_count": 16,
     "metadata": {},
     "output_type": "execute_result"
    }
   ],
   "source": [
    "list_models = [\"Random Forest\", \"Gradient Boosting\", \"LightGBM\"] # liste des modélisations à tester\n",
    "trees_models = ModelComparator(y_train= y_train, X_train= X_train_with_norm, y_test= y_test, X_test= X_test_with_norm, list_models= list_models, random_state= random_state) # initier la class permettant la modélisation\n",
    "trees_models.bayes_optimize_models(n_iter= 20, cv_folds= 5, scoring= \"f1\")"
   ]
  },
  {
   "cell_type": "code",
   "execution_count": 17,
   "id": "5636f955",
   "metadata": {},
   "outputs": [
    {
     "data": {
      "application/vnd.plotly.v1+json": {
       "config": {
        "plotlyServerURL": "https://plot.ly"
       },
       "data": [
        {
         "hovertemplate": "Itération = %{x}<br>Score = %{y:.4f}<extra></extra>",
         "mode": "lines+markers",
         "name": "Random Forest (max=0.5048)",
         "type": "scatter",
         "x": [
          1,
          2,
          3,
          4,
          5,
          6,
          7,
          8,
          9,
          10,
          11,
          12,
          13,
          14,
          15,
          16,
          17,
          18,
          19,
          20
         ],
         "y": {
          "bdata": "rEwNkX0H0j+6+DxWYX3UP00ge3FpDbY/FUFufsKO2D/j7LEJ3K7KP9VX6YxHVNQ/iCDxtY/33D/VZGVu/v7ZP4IjxqafKck/P35EZcH00z8SzQHXKcbaPxM9fu3qld4/9RRlhzj/3T8AsZvpUyfgP068bd9Iyt0/drb4Jo1s3z8o3cNmFb3UP5JHCrX2Ltg/g9W/cDsK3j+9WTiBAAuyPw==",
          "dtype": "f8"
         }
        },
        {
         "hovertemplate": "Random Forest<br>Itération optimale = 14<br>Score = 0.5048<extra></extra>",
         "marker": {
          "color": "red",
          "size": 8,
          "symbol": "star"
         },
         "mode": "markers",
         "name": "Random Forest ★",
         "showlegend": false,
         "type": "scatter",
         "x": [
          14
         ],
         "y": [
          0.5048007548007547
         ]
        },
        {
         "hovertemplate": "Itération = %{x}<br>Score = %{y:.4f}<extra></extra>",
         "mode": "lines+markers",
         "name": "Gradient Boosting (max=0.5531)",
         "type": "scatter",
         "x": [
          1,
          2,
          3,
          4,
          5,
          6,
          7,
          8,
          9,
          10,
          11,
          12,
          13,
          14,
          15,
          16,
          17,
          18,
          19,
          20
         ],
         "y": {
          "bdata": "d2r1W/464T9Da5FU38/gP2ND9jq9QuE/k3ukNhBp4D/W4R3rv/zdP0gKuDAeM+A/ZhAQnq3A4D9mzMi8DabfP3aCiucUud4/atd3PVT54D/AO6euKU/hP13bmj9sJ+A/H97vnbX84D8U1x7HAbPhP8YT7yt/4OA/+cOlKcJs4T9ISt//ifLZP6BZ5TaxyeA/xvqlpdSs4D9m5nrs9wjhPw==",
          "dtype": "f8"
         }
        },
        {
         "hovertemplate": "Gradient Boosting<br>Itération optimale = 14<br>Score = 0.5531<extra></extra>",
         "marker": {
          "color": "red",
          "size": 8,
          "symbol": "star"
         },
         "mode": "markers",
         "name": "Gradient Boosting ★",
         "showlegend": false,
         "type": "scatter",
         "x": [
          14
         ],
         "y": [
          0.5531014336654345
         ]
        },
        {
         "hovertemplate": "Itération = %{x}<br>Score = %{y:.4f}<extra></extra>",
         "mode": "lines+markers",
         "name": "LightGBM (max=0.5669)",
         "type": "scatter",
         "x": [
          1,
          2,
          3,
          4,
          5,
          6,
          7,
          8,
          9,
          10,
          11,
          12,
          13,
          14,
          15,
          16,
          17,
          18,
          19,
          20
         ],
         "y": {
          "bdata": "o/ShpEtW4T+iM6lCkcHhP848SZE2eOE/FlWpeE8h4T9B7nHFJQzgP27RKfoSJOI/XrEMRqGB4T8L/M6A9mvhP+7oQUXYNuE/sISsYNbH4T/AHKMP4aThPyazUT9x3eA/oXcOVVF84T8gu+wC1UPhP4DgmDj+F+E/AkVldoTL4D/sCb21VtvhP5a6I+pYf+E/o5YTgjCO3z/PLF6sIjnhPw==",
          "dtype": "f8"
         }
        },
        {
         "hovertemplate": "LightGBM<br>Itération optimale = 6<br>Score = 0.5669<extra></extra>",
         "marker": {
          "color": "red",
          "size": 8,
          "symbol": "star"
         },
         "mode": "markers",
         "name": "LightGBM ★",
         "showlegend": false,
         "type": "scatter",
         "x": [
          6
         ],
         "y": [
          0.5669035802844016
         ]
        }
       ],
       "layout": {
        "height": 550,
        "legend": {
         "title": {
          "text": "Modèles"
         }
        },
        "template": {
         "data": {
          "bar": [
           {
            "error_x": {
             "color": "#2a3f5f"
            },
            "error_y": {
             "color": "#2a3f5f"
            },
            "marker": {
             "line": {
              "color": "white",
              "width": 0.5
             },
             "pattern": {
              "fillmode": "overlay",
              "size": 10,
              "solidity": 0.2
             }
            },
            "type": "bar"
           }
          ],
          "barpolar": [
           {
            "marker": {
             "line": {
              "color": "white",
              "width": 0.5
             },
             "pattern": {
              "fillmode": "overlay",
              "size": 10,
              "solidity": 0.2
             }
            },
            "type": "barpolar"
           }
          ],
          "carpet": [
           {
            "aaxis": {
             "endlinecolor": "#2a3f5f",
             "gridcolor": "#C8D4E3",
             "linecolor": "#C8D4E3",
             "minorgridcolor": "#C8D4E3",
             "startlinecolor": "#2a3f5f"
            },
            "baxis": {
             "endlinecolor": "#2a3f5f",
             "gridcolor": "#C8D4E3",
             "linecolor": "#C8D4E3",
             "minorgridcolor": "#C8D4E3",
             "startlinecolor": "#2a3f5f"
            },
            "type": "carpet"
           }
          ],
          "choropleth": [
           {
            "colorbar": {
             "outlinewidth": 0,
             "ticks": ""
            },
            "type": "choropleth"
           }
          ],
          "contour": [
           {
            "colorbar": {
             "outlinewidth": 0,
             "ticks": ""
            },
            "colorscale": [
             [
              0,
              "#0d0887"
             ],
             [
              0.1111111111111111,
              "#46039f"
             ],
             [
              0.2222222222222222,
              "#7201a8"
             ],
             [
              0.3333333333333333,
              "#9c179e"
             ],
             [
              0.4444444444444444,
              "#bd3786"
             ],
             [
              0.5555555555555556,
              "#d8576b"
             ],
             [
              0.6666666666666666,
              "#ed7953"
             ],
             [
              0.7777777777777778,
              "#fb9f3a"
             ],
             [
              0.8888888888888888,
              "#fdca26"
             ],
             [
              1,
              "#f0f921"
             ]
            ],
            "type": "contour"
           }
          ],
          "contourcarpet": [
           {
            "colorbar": {
             "outlinewidth": 0,
             "ticks": ""
            },
            "type": "contourcarpet"
           }
          ],
          "heatmap": [
           {
            "colorbar": {
             "outlinewidth": 0,
             "ticks": ""
            },
            "colorscale": [
             [
              0,
              "#0d0887"
             ],
             [
              0.1111111111111111,
              "#46039f"
             ],
             [
              0.2222222222222222,
              "#7201a8"
             ],
             [
              0.3333333333333333,
              "#9c179e"
             ],
             [
              0.4444444444444444,
              "#bd3786"
             ],
             [
              0.5555555555555556,
              "#d8576b"
             ],
             [
              0.6666666666666666,
              "#ed7953"
             ],
             [
              0.7777777777777778,
              "#fb9f3a"
             ],
             [
              0.8888888888888888,
              "#fdca26"
             ],
             [
              1,
              "#f0f921"
             ]
            ],
            "type": "heatmap"
           }
          ],
          "histogram": [
           {
            "marker": {
             "pattern": {
              "fillmode": "overlay",
              "size": 10,
              "solidity": 0.2
             }
            },
            "type": "histogram"
           }
          ],
          "histogram2d": [
           {
            "colorbar": {
             "outlinewidth": 0,
             "ticks": ""
            },
            "colorscale": [
             [
              0,
              "#0d0887"
             ],
             [
              0.1111111111111111,
              "#46039f"
             ],
             [
              0.2222222222222222,
              "#7201a8"
             ],
             [
              0.3333333333333333,
              "#9c179e"
             ],
             [
              0.4444444444444444,
              "#bd3786"
             ],
             [
              0.5555555555555556,
              "#d8576b"
             ],
             [
              0.6666666666666666,
              "#ed7953"
             ],
             [
              0.7777777777777778,
              "#fb9f3a"
             ],
             [
              0.8888888888888888,
              "#fdca26"
             ],
             [
              1,
              "#f0f921"
             ]
            ],
            "type": "histogram2d"
           }
          ],
          "histogram2dcontour": [
           {
            "colorbar": {
             "outlinewidth": 0,
             "ticks": ""
            },
            "colorscale": [
             [
              0,
              "#0d0887"
             ],
             [
              0.1111111111111111,
              "#46039f"
             ],
             [
              0.2222222222222222,
              "#7201a8"
             ],
             [
              0.3333333333333333,
              "#9c179e"
             ],
             [
              0.4444444444444444,
              "#bd3786"
             ],
             [
              0.5555555555555556,
              "#d8576b"
             ],
             [
              0.6666666666666666,
              "#ed7953"
             ],
             [
              0.7777777777777778,
              "#fb9f3a"
             ],
             [
              0.8888888888888888,
              "#fdca26"
             ],
             [
              1,
              "#f0f921"
             ]
            ],
            "type": "histogram2dcontour"
           }
          ],
          "mesh3d": [
           {
            "colorbar": {
             "outlinewidth": 0,
             "ticks": ""
            },
            "type": "mesh3d"
           }
          ],
          "parcoords": [
           {
            "line": {
             "colorbar": {
              "outlinewidth": 0,
              "ticks": ""
             }
            },
            "type": "parcoords"
           }
          ],
          "pie": [
           {
            "automargin": true,
            "type": "pie"
           }
          ],
          "scatter": [
           {
            "fillpattern": {
             "fillmode": "overlay",
             "size": 10,
             "solidity": 0.2
            },
            "type": "scatter"
           }
          ],
          "scatter3d": [
           {
            "line": {
             "colorbar": {
              "outlinewidth": 0,
              "ticks": ""
             }
            },
            "marker": {
             "colorbar": {
              "outlinewidth": 0,
              "ticks": ""
             }
            },
            "type": "scatter3d"
           }
          ],
          "scattercarpet": [
           {
            "marker": {
             "colorbar": {
              "outlinewidth": 0,
              "ticks": ""
             }
            },
            "type": "scattercarpet"
           }
          ],
          "scattergeo": [
           {
            "marker": {
             "colorbar": {
              "outlinewidth": 0,
              "ticks": ""
             }
            },
            "type": "scattergeo"
           }
          ],
          "scattergl": [
           {
            "marker": {
             "colorbar": {
              "outlinewidth": 0,
              "ticks": ""
             }
            },
            "type": "scattergl"
           }
          ],
          "scattermap": [
           {
            "marker": {
             "colorbar": {
              "outlinewidth": 0,
              "ticks": ""
             }
            },
            "type": "scattermap"
           }
          ],
          "scattermapbox": [
           {
            "marker": {
             "colorbar": {
              "outlinewidth": 0,
              "ticks": ""
             }
            },
            "type": "scattermapbox"
           }
          ],
          "scatterpolar": [
           {
            "marker": {
             "colorbar": {
              "outlinewidth": 0,
              "ticks": ""
             }
            },
            "type": "scatterpolar"
           }
          ],
          "scatterpolargl": [
           {
            "marker": {
             "colorbar": {
              "outlinewidth": 0,
              "ticks": ""
             }
            },
            "type": "scatterpolargl"
           }
          ],
          "scatterternary": [
           {
            "marker": {
             "colorbar": {
              "outlinewidth": 0,
              "ticks": ""
             }
            },
            "type": "scatterternary"
           }
          ],
          "surface": [
           {
            "colorbar": {
             "outlinewidth": 0,
             "ticks": ""
            },
            "colorscale": [
             [
              0,
              "#0d0887"
             ],
             [
              0.1111111111111111,
              "#46039f"
             ],
             [
              0.2222222222222222,
              "#7201a8"
             ],
             [
              0.3333333333333333,
              "#9c179e"
             ],
             [
              0.4444444444444444,
              "#bd3786"
             ],
             [
              0.5555555555555556,
              "#d8576b"
             ],
             [
              0.6666666666666666,
              "#ed7953"
             ],
             [
              0.7777777777777778,
              "#fb9f3a"
             ],
             [
              0.8888888888888888,
              "#fdca26"
             ],
             [
              1,
              "#f0f921"
             ]
            ],
            "type": "surface"
           }
          ],
          "table": [
           {
            "cells": {
             "fill": {
              "color": "#EBF0F8"
             },
             "line": {
              "color": "white"
             }
            },
            "header": {
             "fill": {
              "color": "#C8D4E3"
             },
             "line": {
              "color": "white"
             }
            },
            "type": "table"
           }
          ]
         },
         "layout": {
          "annotationdefaults": {
           "arrowcolor": "#2a3f5f",
           "arrowhead": 0,
           "arrowwidth": 1
          },
          "autotypenumbers": "strict",
          "coloraxis": {
           "colorbar": {
            "outlinewidth": 0,
            "ticks": ""
           }
          },
          "colorscale": {
           "diverging": [
            [
             0,
             "#8e0152"
            ],
            [
             0.1,
             "#c51b7d"
            ],
            [
             0.2,
             "#de77ae"
            ],
            [
             0.3,
             "#f1b6da"
            ],
            [
             0.4,
             "#fde0ef"
            ],
            [
             0.5,
             "#f7f7f7"
            ],
            [
             0.6,
             "#e6f5d0"
            ],
            [
             0.7,
             "#b8e186"
            ],
            [
             0.8,
             "#7fbc41"
            ],
            [
             0.9,
             "#4d9221"
            ],
            [
             1,
             "#276419"
            ]
           ],
           "sequential": [
            [
             0,
             "#0d0887"
            ],
            [
             0.1111111111111111,
             "#46039f"
            ],
            [
             0.2222222222222222,
             "#7201a8"
            ],
            [
             0.3333333333333333,
             "#9c179e"
            ],
            [
             0.4444444444444444,
             "#bd3786"
            ],
            [
             0.5555555555555556,
             "#d8576b"
            ],
            [
             0.6666666666666666,
             "#ed7953"
            ],
            [
             0.7777777777777778,
             "#fb9f3a"
            ],
            [
             0.8888888888888888,
             "#fdca26"
            ],
            [
             1,
             "#f0f921"
            ]
           ],
           "sequentialminus": [
            [
             0,
             "#0d0887"
            ],
            [
             0.1111111111111111,
             "#46039f"
            ],
            [
             0.2222222222222222,
             "#7201a8"
            ],
            [
             0.3333333333333333,
             "#9c179e"
            ],
            [
             0.4444444444444444,
             "#bd3786"
            ],
            [
             0.5555555555555556,
             "#d8576b"
            ],
            [
             0.6666666666666666,
             "#ed7953"
            ],
            [
             0.7777777777777778,
             "#fb9f3a"
            ],
            [
             0.8888888888888888,
             "#fdca26"
            ],
            [
             1,
             "#f0f921"
            ]
           ]
          },
          "colorway": [
           "#636efa",
           "#EF553B",
           "#00cc96",
           "#ab63fa",
           "#FFA15A",
           "#19d3f3",
           "#FF6692",
           "#B6E880",
           "#FF97FF",
           "#FECB52"
          ],
          "font": {
           "color": "#2a3f5f"
          },
          "geo": {
           "bgcolor": "white",
           "lakecolor": "white",
           "landcolor": "white",
           "showlakes": true,
           "showland": true,
           "subunitcolor": "#C8D4E3"
          },
          "hoverlabel": {
           "align": "left"
          },
          "hovermode": "closest",
          "mapbox": {
           "style": "light"
          },
          "paper_bgcolor": "white",
          "plot_bgcolor": "white",
          "polar": {
           "angularaxis": {
            "gridcolor": "#EBF0F8",
            "linecolor": "#EBF0F8",
            "ticks": ""
           },
           "bgcolor": "white",
           "radialaxis": {
            "gridcolor": "#EBF0F8",
            "linecolor": "#EBF0F8",
            "ticks": ""
           }
          },
          "scene": {
           "xaxis": {
            "backgroundcolor": "white",
            "gridcolor": "#DFE8F3",
            "gridwidth": 2,
            "linecolor": "#EBF0F8",
            "showbackground": true,
            "ticks": "",
            "zerolinecolor": "#EBF0F8"
           },
           "yaxis": {
            "backgroundcolor": "white",
            "gridcolor": "#DFE8F3",
            "gridwidth": 2,
            "linecolor": "#EBF0F8",
            "showbackground": true,
            "ticks": "",
            "zerolinecolor": "#EBF0F8"
           },
           "zaxis": {
            "backgroundcolor": "white",
            "gridcolor": "#DFE8F3",
            "gridwidth": 2,
            "linecolor": "#EBF0F8",
            "showbackground": true,
            "ticks": "",
            "zerolinecolor": "#EBF0F8"
           }
          },
          "shapedefaults": {
           "line": {
            "color": "#2a3f5f"
           }
          },
          "ternary": {
           "aaxis": {
            "gridcolor": "#DFE8F3",
            "linecolor": "#A2B1C6",
            "ticks": ""
           },
           "baxis": {
            "gridcolor": "#DFE8F3",
            "linecolor": "#A2B1C6",
            "ticks": ""
           },
           "bgcolor": "white",
           "caxis": {
            "gridcolor": "#DFE8F3",
            "linecolor": "#A2B1C6",
            "ticks": ""
           }
          },
          "title": {
           "x": 0.05
          },
          "xaxis": {
           "automargin": true,
           "gridcolor": "#EBF0F8",
           "linecolor": "#EBF0F8",
           "ticks": "",
           "title": {
            "standoff": 15
           },
           "zerolinecolor": "#EBF0F8",
           "zerolinewidth": 2
          },
          "yaxis": {
           "automargin": true,
           "gridcolor": "#EBF0F8",
           "linecolor": "#EBF0F8",
           "ticks": "",
           "title": {
            "standoff": 15
           },
           "zerolinecolor": "#EBF0F8",
           "zerolinewidth": 2
          }
         }
        },
        "title": {
         "text": "📉 Courbes de convergence Bayésienne (F1-score)"
        },
        "width": 950,
        "xaxis": {
         "title": {
          "text": "Itérations"
         }
        },
        "yaxis": {
         "title": {
          "text": "F1-score"
         }
        }
       }
      }
     },
     "metadata": {},
     "output_type": "display_data"
    }
   ],
   "source": [
    "# Itérations de l'optimisation bayésienne\n",
    "trees_models.plot_all_bayes_convergences()"
   ]
  },
  {
   "cell_type": "code",
   "execution_count": 18,
   "id": "740ed852",
   "metadata": {},
   "outputs": [
    {
     "data": {
      "application/vnd.plotly.v1+json": {
       "config": {
        "plotlyServerURL": "https://plot.ly"
       },
       "data": [
        {
         "hovertemplate": "FPR = %{x:.2f}<br>TPR = %{y:.2f}<extra></extra>",
         "mode": "lines",
         "name": "Random Forest (AUC = 0.767)",
         "type": "scatter",
         "x": {
          "bdata": "AAAAAAAAAAAAAAAAAAAAAB3UQR3UQX0/HdRBHdRBfT8d1EEd1EGNPx3UQR3UQY0/Fl/xFV/xlT8WX/EVX/GVP5IkSZIkSaI/kiRJkiRJoj8WX/EVX/GlPxZf8RVf8aU/mpmZmZmZqT+amZmZmZmpPxZf8RVf8bU/Fl/xFV/xtT9YfMVXfMW3P1h8xVd8xbc/mpmZmZmZuT+amZmZmZm5P9u2bdu2bbs/27Zt27Ztuz8d1EEd1EG9Px3UQR3UQb0/X/EVX/EVvz9f8RVf8RW/P1AHdVAHdcA/UAd1UAd1wD/UQR3UQR3EP9RBHdRBHcQ/t23btm3bxj+3bdu2bdvGP1h8xVd8xcc/WHzFV3zFxz87qIM6qIPKPzuogzqog8o/vuIrvuIrzj++4iu+4ivOP1AHdVAHddA/UAd1UAd10D+hDuqgDurQP6EO6qAO6tA/kiRJkiRJ0j+SJEmSJEnSP9RBHdRBHdQ/1EEd1EEd1D9YfMVXfMXXP1h8xVd8xdc/SZIkSZIk2T9JkiRJkiTZP+qgDuqgDto/6qAO6qAO2j/NzMzMzMzcP83MzMzMzNw/vuIrvuIr3j++4iu+4ivePw/qoA7qoN4/D+qgDuqg3j9f8RVf8RXfP1/xFV/xFd8/JUmSJEmS5D8lSZIkSZLkP27btm3btuU/btu2bdu25T8HdVAHdVDnPwd1UAd1UOc/qIM6qIM66D+ogzqogzroP6EO6qAO6ug/oQ7qoA7q6D8WX/EVX/HtPxZf8RVf8e0/AAAAAAAA8D8=",
          "dtype": "f8"
         },
         "y": {
          "bdata": "AAAAAAAAAAARERERERGRPxEREREREZE/ERERERERoT8RERERERGhPwAAAAAAANA/AAAAAAAA0D8iIiIiIiLSPyIiIiIiItI/RERERERE1D9ERERERETUP2ZmZmZmZtY/ZmZmZmZm1j93d3d3d3fXP3d3d3d3d9c/iYiIiIiI2D+JiIiIiIjYP5qZmZmZmdk/mpmZmZmZ2T+rqqqqqqraP6uqqqqqqto/zczMzMzM3D/NzMzMzMzcP97d3d3d3d0/3t3d3d3d3T/v7u7u7u7eP+/u7u7u7t4/iYiIiIiI4D+JiIiIiIjgPxEREREREeE/ERERERER4T+amZmZmZnhP5qZmZmZmeE/IiIiIiIi4j8iIiIiIiLiP6uqqqqqquI/q6qqqqqq4j+8u7u7u7vjP7y7u7u7u+M/zczMzMzM5D/NzMzMzMzkP1VVVVVVVeU/VVVVVVVV5T9mZmZmZmbmP2ZmZmZmZuY/d3d3d3d35z93d3d3d3fnPwAAAAAAAOg/AAAAAAAA6D+JiIiIiIjoP4mIiIiIiOg/ERERERER6T8RERERERHpP5qZmZmZmek/mpmZmZmZ6T8iIiIiIiLqPyIiIiIiIuo/MzMzMzMz6z8zMzMzMzPrP7y7u7u7u+s/vLu7u7u76z/NzMzMzMzsP83MzMzMzOw/3t3d3d3d7T/e3d3d3d3tP2ZmZmZmZu4/ZmZmZmZm7j/v7u7u7u7uP+/u7u7u7u4/d3d3d3d37z93d3d3d3fvPwAAAAAAAPA/AAAAAAAA8D8=",
          "dtype": "f8"
         }
        },
        {
         "hovertemplate": "FPR = %{x:.2f}<br>TPR = %{y:.2f}<extra></extra>",
         "mode": "lines",
         "name": "Gradient Boosting (AUC = 0.745)",
         "type": "scatter",
         "x": {
          "bdata": "AAAAAAAAAAAAAAAAAAAAAAAAAAAAAAAAHdRBHdRBjT8d1EEd1EGNPx3UQR3UQZ0/HdRBHdRBnT8WX/EVX/GlPxZf8RVf8aU/mpmZmZmZqT+amZmZmZmpPx3UQR3UQa0/HdRBHdRBrT9QB3VQB3WwP1AHdVAHdbA/kiRJkiRJsj+SJEmSJEmyP1h8xVd8xbc/WHzFV3zFtz+amZmZmZm5P5qZmZmZmbk/UAd1UAd1wD9QB3VQB3XAP/EVX/EVX8E/8RVf8RVfwT+SJEmSJEnCP5IkSZIkScI/MzMzMzMzwz8zMzMzMzPDP7dt27Zt28Y/t23btm3bxj+amZmZmZnJP5qZmZmZmck/fMVXfMVXzD98xVd8xVfMP1AHdVAHddA/UAd1UAd10D/xFV/xFV/RP/EVX/EVX9E/Qh3UQR3U0T9CHdRBHdTRPyVJkiRJktQ/JUmSJEmS1D8WX/EVX/HVPxZf8RVf8dU/ZmZmZmZm1j9mZmZmZmbWPwd1UAd1UNc/B3VQB3VQ1z8P6qAO6qDePw/qoA7qoN4/4yu+4iu+4j/jK77iK77iPzMzMzMzM+M/MzMzMzMz4z/UQR3UQR3kP9RBHdRBHeQ/JUmSJEmS5D8lSZIkSZLkP8VXfMVXfOU/xVd8xVd85T9u27Zt27blP27btm3btuU/X/EVX/EV5z9f8RVf8RXnPwd1UAd1UOc/B3VQB3VQ5z/5iq/4iq/oP/mKr/iKr+g/8RVf8RVf6T/xFV/xFV/pP3zFV3zFV+w/fMVXfMVX7D8AAAAAAADwPw==",
          "dtype": "f8"
         },
         "y": {
          "bdata": "AAAAAAAAAAARERERERGRP1VVVVVVVbU/VVVVVVVVtT9VVVVVVVXFP1VVVVVVVcU/mpmZmZmZyT+amZmZmZnJP7y7u7u7u8s/vLu7u7u7yz/e3d3d3d3NP97d3d3d3c0/ERERERER0T8RERERERHRPzMzMzMzM9M/MzMzMzMz0z9ERERERETUP0RERERERNQ/ZmZmZmZm1j9mZmZmZmbWP3d3d3d3d9c/d3d3d3d31z+JiIiIiIjYP4mIiIiIiNg/mpmZmZmZ2T+amZmZmZnZP83MzMzMzNw/zczMzMzM3D8AAAAAAADgPwAAAAAAAOA/ERERERER4T8RERERERHhPyIiIiIiIuI/IiIiIiIi4j9ERERERETkP0REREREROQ/zczMzMzM5D/NzMzMzMzkP1VVVVVVVeU/VVVVVVVV5T/v7u7u7u7mP+/u7u7u7uY/d3d3d3d35z93d3d3d3fnPwAAAAAAAOg/AAAAAAAA6D+JiIiIiIjoP4mIiIiIiOg/ERERERER6T8RERERERHpP5qZmZmZmek/mpmZmZmZ6T8iIiIiIiLqPyIiIiIiIuo/q6qqqqqq6j+rqqqqqqrqPzMzMzMzM+s/MzMzMzMz6z+8u7u7u7vrP7y7u7u7u+s/RERERERE7D9ERERERETsP83MzMzMzOw/zczMzMzM7D9VVVVVVVXtP1VVVVVVVe0/3t3d3d3d7T/e3d3d3d3tP2ZmZmZmZu4/ZmZmZmZm7j93d3d3d3fvP3d3d3d3d+8/AAAAAAAA8D8AAAAAAADwPw==",
          "dtype": "f8"
         }
        },
        {
         "hovertemplate": "FPR = %{x:.2f}<br>TPR = %{y:.2f}<extra></extra>",
         "mode": "lines",
         "name": "LightGBM (AUC = 0.733)",
         "type": "scatter",
         "x": {
          "bdata": "AAAAAAAAAAAAAAAAAAAAAAAAAAAAAAAAHdRBHdRBjT8d1EEd1EGNPxZf8RVf8ZU/Fl/xFV/xlT+SJEmSJEmiP5IkSZIkSaI/HdRBHdRBrT8d1EEd1EGtP1AHdVAHdbA/UAd1UAd1sD9YfMVXfMW3P1h8xVd8xbc/mpmZmZmZuT+amZmZmZm5P1/xFV/xFb8/X/EVX/EVvz+SJEmSJEnCP5IkSZIkScI/1EEd1EEdxD/UQR3UQR3EP3VQB3VQB8U/dVAHdVAHxT8WX/EVX/HFPxZf8RVf8cU/t23btm3bxj+3bdu2bdvGP/mKr/iKr8g/+Yqv+IqvyD+amZmZmZnJP5qZmZmZmck/27Zt27Ztyz/btm3btm3LP3zFV3zFV8w/fMVXfMVXzD9f8RVf8RXPP1/xFV/xFc8/AAAAAAAA0D8AAAAAAADQP/EVX/EVX9E/8RVf8RVf0T9CHdRBHdTRP0Id1EEd1NE/dVAHdVAH1T91UAd1UAfVP8VXfMVXfNU/xVd8xVd81T/5iq/4iq/YP/mKr/iKr9g/fMVXfMVX3D98xVd8xVfcPw/qoA7qoN4/D+qgDuqg3j9QB3VQB3XgP1AHdVAHdeA/SZIkSZIk4T9JkiRJkiThPzuogzqog+I/O6iDOqiD4j8zMzMzMzPjPzMzMzMzM+M/dVAHdVAH5T91UAd1UAflPwd1UAd1UOc/B3VQB3VQ5z+amZmZmZnpP5qZmZmZmek/Qh3UQR3U6T9CHdRBHdTpP9u2bdu2bes/27Zt27Zt6z8lSZIkSZLsPyVJkiRJkuw/HdRBHdRB7T8d1EEd1EHtPwAAAAAAAPA/",
          "dtype": "f8"
         },
         "y": {
          "bdata": "AAAAAAAAAAARERERERGRPxEREREREbE/ERERERERsT+8u7u7u7vLP7y7u7u7u8s/ERERERER0T8RERERERHRPyIiIiIiItI/IiIiIiIi0j8zMzMzMzPTPzMzMzMzM9M/VVVVVVVV1T9VVVVVVVXVP3d3d3d3d9c/d3d3d3d31z+JiIiIiIjYP4mIiIiIiNg/zczMzMzM3D/NzMzMzMzcP97d3d3d3d0/3t3d3d3d3T/v7u7u7u7eP+/u7u7u7t4/AAAAAAAA4D8AAAAAAADgP4mIiIiIiOA/iYiIiIiI4D8RERERERHhPxEREREREeE/mpmZmZmZ4T+amZmZmZnhPyIiIiIiIuI/IiIiIiIi4j+rqqqqqqriP6uqqqqqquI/MzMzMzMz4z8zMzMzMzPjP7y7u7u7u+M/vLu7u7u74z9ERERERETkP0REREREROQ/zczMzMzM5D/NzMzMzMzkP1VVVVVVVeU/VVVVVVVV5T9mZmZmZmbmP2ZmZmZmZuY/7+7u7u7u5j/v7u7u7u7mP3d3d3d3d+c/d3d3d3d35z8AAAAAAADoPwAAAAAAAOg/iYiIiIiI6D+JiIiIiIjoPxEREREREek/ERERERER6T+amZmZmZnpP5qZmZmZmek/MzMzMzMz6z8zMzMzMzPrP7y7u7u7u+s/vLu7u7u76z9ERERERETsP0REREREROw/zczMzMzM7D/NzMzMzMzsP97d3d3d3e0/3t3d3d3d7T9mZmZmZmbuP2ZmZmZmZu4/7+7u7u7u7j/v7u7u7u7uP3d3d3d3d+8/d3d3d3d37z8AAAAAAADwPwAAAAAAAPA/",
          "dtype": "f8"
         }
        },
        {
         "hoverinfo": "skip",
         "line": {
          "color": "gray",
          "dash": "dash"
         },
         "mode": "lines",
         "name": "Modèle aléatoire",
         "type": "scatter",
         "x": [
          0,
          1
         ],
         "y": [
          0,
          1
         ]
        }
       ],
       "layout": {
        "height": 520,
        "template": {
         "data": {
          "bar": [
           {
            "error_x": {
             "color": "#2a3f5f"
            },
            "error_y": {
             "color": "#2a3f5f"
            },
            "marker": {
             "line": {
              "color": "white",
              "width": 0.5
             },
             "pattern": {
              "fillmode": "overlay",
              "size": 10,
              "solidity": 0.2
             }
            },
            "type": "bar"
           }
          ],
          "barpolar": [
           {
            "marker": {
             "line": {
              "color": "white",
              "width": 0.5
             },
             "pattern": {
              "fillmode": "overlay",
              "size": 10,
              "solidity": 0.2
             }
            },
            "type": "barpolar"
           }
          ],
          "carpet": [
           {
            "aaxis": {
             "endlinecolor": "#2a3f5f",
             "gridcolor": "#C8D4E3",
             "linecolor": "#C8D4E3",
             "minorgridcolor": "#C8D4E3",
             "startlinecolor": "#2a3f5f"
            },
            "baxis": {
             "endlinecolor": "#2a3f5f",
             "gridcolor": "#C8D4E3",
             "linecolor": "#C8D4E3",
             "minorgridcolor": "#C8D4E3",
             "startlinecolor": "#2a3f5f"
            },
            "type": "carpet"
           }
          ],
          "choropleth": [
           {
            "colorbar": {
             "outlinewidth": 0,
             "ticks": ""
            },
            "type": "choropleth"
           }
          ],
          "contour": [
           {
            "colorbar": {
             "outlinewidth": 0,
             "ticks": ""
            },
            "colorscale": [
             [
              0,
              "#0d0887"
             ],
             [
              0.1111111111111111,
              "#46039f"
             ],
             [
              0.2222222222222222,
              "#7201a8"
             ],
             [
              0.3333333333333333,
              "#9c179e"
             ],
             [
              0.4444444444444444,
              "#bd3786"
             ],
             [
              0.5555555555555556,
              "#d8576b"
             ],
             [
              0.6666666666666666,
              "#ed7953"
             ],
             [
              0.7777777777777778,
              "#fb9f3a"
             ],
             [
              0.8888888888888888,
              "#fdca26"
             ],
             [
              1,
              "#f0f921"
             ]
            ],
            "type": "contour"
           }
          ],
          "contourcarpet": [
           {
            "colorbar": {
             "outlinewidth": 0,
             "ticks": ""
            },
            "type": "contourcarpet"
           }
          ],
          "heatmap": [
           {
            "colorbar": {
             "outlinewidth": 0,
             "ticks": ""
            },
            "colorscale": [
             [
              0,
              "#0d0887"
             ],
             [
              0.1111111111111111,
              "#46039f"
             ],
             [
              0.2222222222222222,
              "#7201a8"
             ],
             [
              0.3333333333333333,
              "#9c179e"
             ],
             [
              0.4444444444444444,
              "#bd3786"
             ],
             [
              0.5555555555555556,
              "#d8576b"
             ],
             [
              0.6666666666666666,
              "#ed7953"
             ],
             [
              0.7777777777777778,
              "#fb9f3a"
             ],
             [
              0.8888888888888888,
              "#fdca26"
             ],
             [
              1,
              "#f0f921"
             ]
            ],
            "type": "heatmap"
           }
          ],
          "histogram": [
           {
            "marker": {
             "pattern": {
              "fillmode": "overlay",
              "size": 10,
              "solidity": 0.2
             }
            },
            "type": "histogram"
           }
          ],
          "histogram2d": [
           {
            "colorbar": {
             "outlinewidth": 0,
             "ticks": ""
            },
            "colorscale": [
             [
              0,
              "#0d0887"
             ],
             [
              0.1111111111111111,
              "#46039f"
             ],
             [
              0.2222222222222222,
              "#7201a8"
             ],
             [
              0.3333333333333333,
              "#9c179e"
             ],
             [
              0.4444444444444444,
              "#bd3786"
             ],
             [
              0.5555555555555556,
              "#d8576b"
             ],
             [
              0.6666666666666666,
              "#ed7953"
             ],
             [
              0.7777777777777778,
              "#fb9f3a"
             ],
             [
              0.8888888888888888,
              "#fdca26"
             ],
             [
              1,
              "#f0f921"
             ]
            ],
            "type": "histogram2d"
           }
          ],
          "histogram2dcontour": [
           {
            "colorbar": {
             "outlinewidth": 0,
             "ticks": ""
            },
            "colorscale": [
             [
              0,
              "#0d0887"
             ],
             [
              0.1111111111111111,
              "#46039f"
             ],
             [
              0.2222222222222222,
              "#7201a8"
             ],
             [
              0.3333333333333333,
              "#9c179e"
             ],
             [
              0.4444444444444444,
              "#bd3786"
             ],
             [
              0.5555555555555556,
              "#d8576b"
             ],
             [
              0.6666666666666666,
              "#ed7953"
             ],
             [
              0.7777777777777778,
              "#fb9f3a"
             ],
             [
              0.8888888888888888,
              "#fdca26"
             ],
             [
              1,
              "#f0f921"
             ]
            ],
            "type": "histogram2dcontour"
           }
          ],
          "mesh3d": [
           {
            "colorbar": {
             "outlinewidth": 0,
             "ticks": ""
            },
            "type": "mesh3d"
           }
          ],
          "parcoords": [
           {
            "line": {
             "colorbar": {
              "outlinewidth": 0,
              "ticks": ""
             }
            },
            "type": "parcoords"
           }
          ],
          "pie": [
           {
            "automargin": true,
            "type": "pie"
           }
          ],
          "scatter": [
           {
            "fillpattern": {
             "fillmode": "overlay",
             "size": 10,
             "solidity": 0.2
            },
            "type": "scatter"
           }
          ],
          "scatter3d": [
           {
            "line": {
             "colorbar": {
              "outlinewidth": 0,
              "ticks": ""
             }
            },
            "marker": {
             "colorbar": {
              "outlinewidth": 0,
              "ticks": ""
             }
            },
            "type": "scatter3d"
           }
          ],
          "scattercarpet": [
           {
            "marker": {
             "colorbar": {
              "outlinewidth": 0,
              "ticks": ""
             }
            },
            "type": "scattercarpet"
           }
          ],
          "scattergeo": [
           {
            "marker": {
             "colorbar": {
              "outlinewidth": 0,
              "ticks": ""
             }
            },
            "type": "scattergeo"
           }
          ],
          "scattergl": [
           {
            "marker": {
             "colorbar": {
              "outlinewidth": 0,
              "ticks": ""
             }
            },
            "type": "scattergl"
           }
          ],
          "scattermap": [
           {
            "marker": {
             "colorbar": {
              "outlinewidth": 0,
              "ticks": ""
             }
            },
            "type": "scattermap"
           }
          ],
          "scattermapbox": [
           {
            "marker": {
             "colorbar": {
              "outlinewidth": 0,
              "ticks": ""
             }
            },
            "type": "scattermapbox"
           }
          ],
          "scatterpolar": [
           {
            "marker": {
             "colorbar": {
              "outlinewidth": 0,
              "ticks": ""
             }
            },
            "type": "scatterpolar"
           }
          ],
          "scatterpolargl": [
           {
            "marker": {
             "colorbar": {
              "outlinewidth": 0,
              "ticks": ""
             }
            },
            "type": "scatterpolargl"
           }
          ],
          "scatterternary": [
           {
            "marker": {
             "colorbar": {
              "outlinewidth": 0,
              "ticks": ""
             }
            },
            "type": "scatterternary"
           }
          ],
          "surface": [
           {
            "colorbar": {
             "outlinewidth": 0,
             "ticks": ""
            },
            "colorscale": [
             [
              0,
              "#0d0887"
             ],
             [
              0.1111111111111111,
              "#46039f"
             ],
             [
              0.2222222222222222,
              "#7201a8"
             ],
             [
              0.3333333333333333,
              "#9c179e"
             ],
             [
              0.4444444444444444,
              "#bd3786"
             ],
             [
              0.5555555555555556,
              "#d8576b"
             ],
             [
              0.6666666666666666,
              "#ed7953"
             ],
             [
              0.7777777777777778,
              "#fb9f3a"
             ],
             [
              0.8888888888888888,
              "#fdca26"
             ],
             [
              1,
              "#f0f921"
             ]
            ],
            "type": "surface"
           }
          ],
          "table": [
           {
            "cells": {
             "fill": {
              "color": "#EBF0F8"
             },
             "line": {
              "color": "white"
             }
            },
            "header": {
             "fill": {
              "color": "#C8D4E3"
             },
             "line": {
              "color": "white"
             }
            },
            "type": "table"
           }
          ]
         },
         "layout": {
          "annotationdefaults": {
           "arrowcolor": "#2a3f5f",
           "arrowhead": 0,
           "arrowwidth": 1
          },
          "autotypenumbers": "strict",
          "coloraxis": {
           "colorbar": {
            "outlinewidth": 0,
            "ticks": ""
           }
          },
          "colorscale": {
           "diverging": [
            [
             0,
             "#8e0152"
            ],
            [
             0.1,
             "#c51b7d"
            ],
            [
             0.2,
             "#de77ae"
            ],
            [
             0.3,
             "#f1b6da"
            ],
            [
             0.4,
             "#fde0ef"
            ],
            [
             0.5,
             "#f7f7f7"
            ],
            [
             0.6,
             "#e6f5d0"
            ],
            [
             0.7,
             "#b8e186"
            ],
            [
             0.8,
             "#7fbc41"
            ],
            [
             0.9,
             "#4d9221"
            ],
            [
             1,
             "#276419"
            ]
           ],
           "sequential": [
            [
             0,
             "#0d0887"
            ],
            [
             0.1111111111111111,
             "#46039f"
            ],
            [
             0.2222222222222222,
             "#7201a8"
            ],
            [
             0.3333333333333333,
             "#9c179e"
            ],
            [
             0.4444444444444444,
             "#bd3786"
            ],
            [
             0.5555555555555556,
             "#d8576b"
            ],
            [
             0.6666666666666666,
             "#ed7953"
            ],
            [
             0.7777777777777778,
             "#fb9f3a"
            ],
            [
             0.8888888888888888,
             "#fdca26"
            ],
            [
             1,
             "#f0f921"
            ]
           ],
           "sequentialminus": [
            [
             0,
             "#0d0887"
            ],
            [
             0.1111111111111111,
             "#46039f"
            ],
            [
             0.2222222222222222,
             "#7201a8"
            ],
            [
             0.3333333333333333,
             "#9c179e"
            ],
            [
             0.4444444444444444,
             "#bd3786"
            ],
            [
             0.5555555555555556,
             "#d8576b"
            ],
            [
             0.6666666666666666,
             "#ed7953"
            ],
            [
             0.7777777777777778,
             "#fb9f3a"
            ],
            [
             0.8888888888888888,
             "#fdca26"
            ],
            [
             1,
             "#f0f921"
            ]
           ]
          },
          "colorway": [
           "#636efa",
           "#EF553B",
           "#00cc96",
           "#ab63fa",
           "#FFA15A",
           "#19d3f3",
           "#FF6692",
           "#B6E880",
           "#FF97FF",
           "#FECB52"
          ],
          "font": {
           "color": "#2a3f5f"
          },
          "geo": {
           "bgcolor": "white",
           "lakecolor": "white",
           "landcolor": "white",
           "showlakes": true,
           "showland": true,
           "subunitcolor": "#C8D4E3"
          },
          "hoverlabel": {
           "align": "left"
          },
          "hovermode": "closest",
          "mapbox": {
           "style": "light"
          },
          "paper_bgcolor": "white",
          "plot_bgcolor": "white",
          "polar": {
           "angularaxis": {
            "gridcolor": "#EBF0F8",
            "linecolor": "#EBF0F8",
            "ticks": ""
           },
           "bgcolor": "white",
           "radialaxis": {
            "gridcolor": "#EBF0F8",
            "linecolor": "#EBF0F8",
            "ticks": ""
           }
          },
          "scene": {
           "xaxis": {
            "backgroundcolor": "white",
            "gridcolor": "#DFE8F3",
            "gridwidth": 2,
            "linecolor": "#EBF0F8",
            "showbackground": true,
            "ticks": "",
            "zerolinecolor": "#EBF0F8"
           },
           "yaxis": {
            "backgroundcolor": "white",
            "gridcolor": "#DFE8F3",
            "gridwidth": 2,
            "linecolor": "#EBF0F8",
            "showbackground": true,
            "ticks": "",
            "zerolinecolor": "#EBF0F8"
           },
           "zaxis": {
            "backgroundcolor": "white",
            "gridcolor": "#DFE8F3",
            "gridwidth": 2,
            "linecolor": "#EBF0F8",
            "showbackground": true,
            "ticks": "",
            "zerolinecolor": "#EBF0F8"
           }
          },
          "shapedefaults": {
           "line": {
            "color": "#2a3f5f"
           }
          },
          "ternary": {
           "aaxis": {
            "gridcolor": "#DFE8F3",
            "linecolor": "#A2B1C6",
            "ticks": ""
           },
           "baxis": {
            "gridcolor": "#DFE8F3",
            "linecolor": "#A2B1C6",
            "ticks": ""
           },
           "bgcolor": "white",
           "caxis": {
            "gridcolor": "#DFE8F3",
            "linecolor": "#A2B1C6",
            "ticks": ""
           }
          },
          "title": {
           "x": 0.05
          },
          "xaxis": {
           "automargin": true,
           "gridcolor": "#EBF0F8",
           "linecolor": "#EBF0F8",
           "ticks": "",
           "title": {
            "standoff": 15
           },
           "zerolinecolor": "#EBF0F8",
           "zerolinewidth": 2
          },
          "yaxis": {
           "automargin": true,
           "gridcolor": "#EBF0F8",
           "linecolor": "#EBF0F8",
           "ticks": "",
           "title": {
            "standoff": 15
           },
           "zerolinecolor": "#EBF0F8",
           "zerolinewidth": 2
          }
         }
        },
        "title": {
         "text": "📊 Courbes ROC comparées"
        },
        "width": 850,
        "xaxis": {
         "title": {
          "text": "Taux de faux positifs (FPR)"
         }
        },
        "yaxis": {
         "title": {
          "text": "Taux de vrais positifs (TPR)"
         }
        }
       }
      }
     },
     "metadata": {},
     "output_type": "display_data"
    }
   ],
   "source": [
    "# Courbes ROC\n",
    "trees_models.plot_roc_curve_interactive()"
   ]
  },
  {
   "cell_type": "code",
   "execution_count": 19,
   "id": "01099751",
   "metadata": {},
   "outputs": [
    {
     "data": {
      "application/vnd.plotly.v1+json": {
       "config": {
        "plotlyServerURL": "https://plot.ly"
       },
       "data": [
        {
         "hovertemplate": "Recall = %{x:.2f}<br>Précision = %{y:.2f}<extra></extra>",
         "mode": "lines",
         "name": "Random Forest (AP = 0.609)",
         "type": "scatter",
         "x": {
          "bdata": "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",
          "dtype": "f8"
         },
         "y": {
          "bdata": "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",
          "dtype": "f8"
         }
        },
        {
         "hovertemplate": "Recall = %{x:.2f}<br>Précision = %{y:.2f}<extra></extra>",
         "mode": "lines",
         "name": "LightGBM (AP = 0.594)",
         "type": "scatter",
         "x": {
          "bdata": "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",
          "dtype": "f8"
         },
         "y": {
          "bdata": "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",
          "dtype": "f8"
         }
        },
        {
         "hovertemplate": "Recall = %{x:.2f}<br>Précision = %{y:.2f}<extra></extra>",
         "mode": "lines",
         "name": "Gradient Boosting (AP = 0.585)",
         "type": "scatter",
         "x": {
          "bdata": "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",
          "dtype": "f8"
         },
         "y": {
          "bdata": "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",
          "dtype": "f8"
         }
        }
       ],
       "layout": {
        "height": 520,
        "template": {
         "data": {
          "bar": [
           {
            "error_x": {
             "color": "#2a3f5f"
            },
            "error_y": {
             "color": "#2a3f5f"
            },
            "marker": {
             "line": {
              "color": "white",
              "width": 0.5
             },
             "pattern": {
              "fillmode": "overlay",
              "size": 10,
              "solidity": 0.2
             }
            },
            "type": "bar"
           }
          ],
          "barpolar": [
           {
            "marker": {
             "line": {
              "color": "white",
              "width": 0.5
             },
             "pattern": {
              "fillmode": "overlay",
              "size": 10,
              "solidity": 0.2
             }
            },
            "type": "barpolar"
           }
          ],
          "carpet": [
           {
            "aaxis": {
             "endlinecolor": "#2a3f5f",
             "gridcolor": "#C8D4E3",
             "linecolor": "#C8D4E3",
             "minorgridcolor": "#C8D4E3",
             "startlinecolor": "#2a3f5f"
            },
            "baxis": {
             "endlinecolor": "#2a3f5f",
             "gridcolor": "#C8D4E3",
             "linecolor": "#C8D4E3",
             "minorgridcolor": "#C8D4E3",
             "startlinecolor": "#2a3f5f"
            },
            "type": "carpet"
           }
          ],
          "choropleth": [
           {
            "colorbar": {
             "outlinewidth": 0,
             "ticks": ""
            },
            "type": "choropleth"
           }
          ],
          "contour": [
           {
            "colorbar": {
             "outlinewidth": 0,
             "ticks": ""
            },
            "colorscale": [
             [
              0,
              "#0d0887"
             ],
             [
              0.1111111111111111,
              "#46039f"
             ],
             [
              0.2222222222222222,
              "#7201a8"
             ],
             [
              0.3333333333333333,
              "#9c179e"
             ],
             [
              0.4444444444444444,
              "#bd3786"
             ],
             [
              0.5555555555555556,
              "#d8576b"
             ],
             [
              0.6666666666666666,
              "#ed7953"
             ],
             [
              0.7777777777777778,
              "#fb9f3a"
             ],
             [
              0.8888888888888888,
              "#fdca26"
             ],
             [
              1,
              "#f0f921"
             ]
            ],
            "type": "contour"
           }
          ],
          "contourcarpet": [
           {
            "colorbar": {
             "outlinewidth": 0,
             "ticks": ""
            },
            "type": "contourcarpet"
           }
          ],
          "heatmap": [
           {
            "colorbar": {
             "outlinewidth": 0,
             "ticks": ""
            },
            "colorscale": [
             [
              0,
              "#0d0887"
             ],
             [
              0.1111111111111111,
              "#46039f"
             ],
             [
              0.2222222222222222,
              "#7201a8"
             ],
             [
              0.3333333333333333,
              "#9c179e"
             ],
             [
              0.4444444444444444,
              "#bd3786"
             ],
             [
              0.5555555555555556,
              "#d8576b"
             ],
             [
              0.6666666666666666,
              "#ed7953"
             ],
             [
              0.7777777777777778,
              "#fb9f3a"
             ],
             [
              0.8888888888888888,
              "#fdca26"
             ],
             [
              1,
              "#f0f921"
             ]
            ],
            "type": "heatmap"
           }
          ],
          "histogram": [
           {
            "marker": {
             "pattern": {
              "fillmode": "overlay",
              "size": 10,
              "solidity": 0.2
             }
            },
            "type": "histogram"
           }
          ],
          "histogram2d": [
           {
            "colorbar": {
             "outlinewidth": 0,
             "ticks": ""
            },
            "colorscale": [
             [
              0,
              "#0d0887"
             ],
             [
              0.1111111111111111,
              "#46039f"
             ],
             [
              0.2222222222222222,
              "#7201a8"
             ],
             [
              0.3333333333333333,
              "#9c179e"
             ],
             [
              0.4444444444444444,
              "#bd3786"
             ],
             [
              0.5555555555555556,
              "#d8576b"
             ],
             [
              0.6666666666666666,
              "#ed7953"
             ],
             [
              0.7777777777777778,
              "#fb9f3a"
             ],
             [
              0.8888888888888888,
              "#fdca26"
             ],
             [
              1,
              "#f0f921"
             ]
            ],
            "type": "histogram2d"
           }
          ],
          "histogram2dcontour": [
           {
            "colorbar": {
             "outlinewidth": 0,
             "ticks": ""
            },
            "colorscale": [
             [
              0,
              "#0d0887"
             ],
             [
              0.1111111111111111,
              "#46039f"
             ],
             [
              0.2222222222222222,
              "#7201a8"
             ],
             [
              0.3333333333333333,
              "#9c179e"
             ],
             [
              0.4444444444444444,
              "#bd3786"
             ],
             [
              0.5555555555555556,
              "#d8576b"
             ],
             [
              0.6666666666666666,
              "#ed7953"
             ],
             [
              0.7777777777777778,
              "#fb9f3a"
             ],
             [
              0.8888888888888888,
              "#fdca26"
             ],
             [
              1,
              "#f0f921"
             ]
            ],
            "type": "histogram2dcontour"
           }
          ],
          "mesh3d": [
           {
            "colorbar": {
             "outlinewidth": 0,
             "ticks": ""
            },
            "type": "mesh3d"
           }
          ],
          "parcoords": [
           {
            "line": {
             "colorbar": {
              "outlinewidth": 0,
              "ticks": ""
             }
            },
            "type": "parcoords"
           }
          ],
          "pie": [
           {
            "automargin": true,
            "type": "pie"
           }
          ],
          "scatter": [
           {
            "fillpattern": {
             "fillmode": "overlay",
             "size": 10,
             "solidity": 0.2
            },
            "type": "scatter"
           }
          ],
          "scatter3d": [
           {
            "line": {
             "colorbar": {
              "outlinewidth": 0,
              "ticks": ""
             }
            },
            "marker": {
             "colorbar": {
              "outlinewidth": 0,
              "ticks": ""
             }
            },
            "type": "scatter3d"
           }
          ],
          "scattercarpet": [
           {
            "marker": {
             "colorbar": {
              "outlinewidth": 0,
              "ticks": ""
             }
            },
            "type": "scattercarpet"
           }
          ],
          "scattergeo": [
           {
            "marker": {
             "colorbar": {
              "outlinewidth": 0,
              "ticks": ""
             }
            },
            "type": "scattergeo"
           }
          ],
          "scattergl": [
           {
            "marker": {
             "colorbar": {
              "outlinewidth": 0,
              "ticks": ""
             }
            },
            "type": "scattergl"
           }
          ],
          "scattermap": [
           {
            "marker": {
             "colorbar": {
              "outlinewidth": 0,
              "ticks": ""
             }
            },
            "type": "scattermap"
           }
          ],
          "scattermapbox": [
           {
            "marker": {
             "colorbar": {
              "outlinewidth": 0,
              "ticks": ""
             }
            },
            "type": "scattermapbox"
           }
          ],
          "scatterpolar": [
           {
            "marker": {
             "colorbar": {
              "outlinewidth": 0,
              "ticks": ""
             }
            },
            "type": "scatterpolar"
           }
          ],
          "scatterpolargl": [
           {
            "marker": {
             "colorbar": {
              "outlinewidth": 0,
              "ticks": ""
             }
            },
            "type": "scatterpolargl"
           }
          ],
          "scatterternary": [
           {
            "marker": {
             "colorbar": {
              "outlinewidth": 0,
              "ticks": ""
             }
            },
            "type": "scatterternary"
           }
          ],
          "surface": [
           {
            "colorbar": {
             "outlinewidth": 0,
             "ticks": ""
            },
            "colorscale": [
             [
              0,
              "#0d0887"
             ],
             [
              0.1111111111111111,
              "#46039f"
             ],
             [
              0.2222222222222222,
              "#7201a8"
             ],
             [
              0.3333333333333333,
              "#9c179e"
             ],
             [
              0.4444444444444444,
              "#bd3786"
             ],
             [
              0.5555555555555556,
              "#d8576b"
             ],
             [
              0.6666666666666666,
              "#ed7953"
             ],
             [
              0.7777777777777778,
              "#fb9f3a"
             ],
             [
              0.8888888888888888,
              "#fdca26"
             ],
             [
              1,
              "#f0f921"
             ]
            ],
            "type": "surface"
           }
          ],
          "table": [
           {
            "cells": {
             "fill": {
              "color": "#EBF0F8"
             },
             "line": {
              "color": "white"
             }
            },
            "header": {
             "fill": {
              "color": "#C8D4E3"
             },
             "line": {
              "color": "white"
             }
            },
            "type": "table"
           }
          ]
         },
         "layout": {
          "annotationdefaults": {
           "arrowcolor": "#2a3f5f",
           "arrowhead": 0,
           "arrowwidth": 1
          },
          "autotypenumbers": "strict",
          "coloraxis": {
           "colorbar": {
            "outlinewidth": 0,
            "ticks": ""
           }
          },
          "colorscale": {
           "diverging": [
            [
             0,
             "#8e0152"
            ],
            [
             0.1,
             "#c51b7d"
            ],
            [
             0.2,
             "#de77ae"
            ],
            [
             0.3,
             "#f1b6da"
            ],
            [
             0.4,
             "#fde0ef"
            ],
            [
             0.5,
             "#f7f7f7"
            ],
            [
             0.6,
             "#e6f5d0"
            ],
            [
             0.7,
             "#b8e186"
            ],
            [
             0.8,
             "#7fbc41"
            ],
            [
             0.9,
             "#4d9221"
            ],
            [
             1,
             "#276419"
            ]
           ],
           "sequential": [
            [
             0,
             "#0d0887"
            ],
            [
             0.1111111111111111,
             "#46039f"
            ],
            [
             0.2222222222222222,
             "#7201a8"
            ],
            [
             0.3333333333333333,
             "#9c179e"
            ],
            [
             0.4444444444444444,
             "#bd3786"
            ],
            [
             0.5555555555555556,
             "#d8576b"
            ],
            [
             0.6666666666666666,
             "#ed7953"
            ],
            [
             0.7777777777777778,
             "#fb9f3a"
            ],
            [
             0.8888888888888888,
             "#fdca26"
            ],
            [
             1,
             "#f0f921"
            ]
           ],
           "sequentialminus": [
            [
             0,
             "#0d0887"
            ],
            [
             0.1111111111111111,
             "#46039f"
            ],
            [
             0.2222222222222222,
             "#7201a8"
            ],
            [
             0.3333333333333333,
             "#9c179e"
            ],
            [
             0.4444444444444444,
             "#bd3786"
            ],
            [
             0.5555555555555556,
             "#d8576b"
            ],
            [
             0.6666666666666666,
             "#ed7953"
            ],
            [
             0.7777777777777778,
             "#fb9f3a"
            ],
            [
             0.8888888888888888,
             "#fdca26"
            ],
            [
             1,
             "#f0f921"
            ]
           ]
          },
          "colorway": [
           "#636efa",
           "#EF553B",
           "#00cc96",
           "#ab63fa",
           "#FFA15A",
           "#19d3f3",
           "#FF6692",
           "#B6E880",
           "#FF97FF",
           "#FECB52"
          ],
          "font": {
           "color": "#2a3f5f"
          },
          "geo": {
           "bgcolor": "white",
           "lakecolor": "white",
           "landcolor": "white",
           "showlakes": true,
           "showland": true,
           "subunitcolor": "#C8D4E3"
          },
          "hoverlabel": {
           "align": "left"
          },
          "hovermode": "closest",
          "mapbox": {
           "style": "light"
          },
          "paper_bgcolor": "white",
          "plot_bgcolor": "white",
          "polar": {
           "angularaxis": {
            "gridcolor": "#EBF0F8",
            "linecolor": "#EBF0F8",
            "ticks": ""
           },
           "bgcolor": "white",
           "radialaxis": {
            "gridcolor": "#EBF0F8",
            "linecolor": "#EBF0F8",
            "ticks": ""
           }
          },
          "scene": {
           "xaxis": {
            "backgroundcolor": "white",
            "gridcolor": "#DFE8F3",
            "gridwidth": 2,
            "linecolor": "#EBF0F8",
            "showbackground": true,
            "ticks": "",
            "zerolinecolor": "#EBF0F8"
           },
           "yaxis": {
            "backgroundcolor": "white",
            "gridcolor": "#DFE8F3",
            "gridwidth": 2,
            "linecolor": "#EBF0F8",
            "showbackground": true,
            "ticks": "",
            "zerolinecolor": "#EBF0F8"
           },
           "zaxis": {
            "backgroundcolor": "white",
            "gridcolor": "#DFE8F3",
            "gridwidth": 2,
            "linecolor": "#EBF0F8",
            "showbackground": true,
            "ticks": "",
            "zerolinecolor": "#EBF0F8"
           }
          },
          "shapedefaults": {
           "line": {
            "color": "#2a3f5f"
           }
          },
          "ternary": {
           "aaxis": {
            "gridcolor": "#DFE8F3",
            "linecolor": "#A2B1C6",
            "ticks": ""
           },
           "baxis": {
            "gridcolor": "#DFE8F3",
            "linecolor": "#A2B1C6",
            "ticks": ""
           },
           "bgcolor": "white",
           "caxis": {
            "gridcolor": "#DFE8F3",
            "linecolor": "#A2B1C6",
            "ticks": ""
           }
          },
          "title": {
           "x": 0.05
          },
          "xaxis": {
           "automargin": true,
           "gridcolor": "#EBF0F8",
           "linecolor": "#EBF0F8",
           "ticks": "",
           "title": {
            "standoff": 15
           },
           "zerolinecolor": "#EBF0F8",
           "zerolinewidth": 2
          },
          "yaxis": {
           "automargin": true,
           "gridcolor": "#EBF0F8",
           "linecolor": "#EBF0F8",
           "ticks": "",
           "title": {
            "standoff": 15
           },
           "zerolinecolor": "#EBF0F8",
           "zerolinewidth": 2
          }
         }
        },
        "title": {
         "text": "📈 Courbes Précision-Rappel comparées"
        },
        "width": 850,
        "xaxis": {
         "title": {
          "text": "Recall"
         }
        },
        "yaxis": {
         "title": {
          "text": "Precision"
         }
        }
       }
      }
     },
     "metadata": {},
     "output_type": "display_data"
    }
   ],
   "source": [
    "# Courbes Recall/Précision\n",
    "trees_models.plot_precision_recall_curve_interactive()"
   ]
  },
  {
   "cell_type": "code",
   "execution_count": 20,
   "id": "6ef531ff",
   "metadata": {},
   "outputs": [
    {
     "data": {
      "application/vnd.plotly.v1+json": {
       "config": {
        "plotlyServerURL": "https://plot.ly"
       },
       "data": [
        {
         "hovertemplate": "Seuil = %{x:.2f}<br>F1-score = %{y:.3f}<extra></extra>",
         "mode": "lines+markers",
         "name": "Gradient Boosting (max=0.606)",
         "type": "scatter",
         "x": {
          "bdata": "exSuR+F6hD8Lv1ubZmCUP9hz4JJcg54/U5QyRSlTpD+67vRApGSpPyFJtzwfdq4/w9E8HM3DsT/3/h2aiky0Pyos/xdI1bY/XVnglQVeuT+RhsETw+a7P8SzopGAb74/fPDBBx98wD8Wh7LGfcDBP7Ado4XcBMM/SbSTRDtJxD/jSoQDmo3FP33hdML40cY/FnhlgVcWyD+wDlZAtlrJP0qlRv8Un8o/4zs3vnPjyz990id90ifNPxdpGDwxbM4/sP8I+4+wzz8ly/xcd3rQP3IWdbymHNE/v2HtG9a+0T8MrWV7BWHSP1j43do0A9M/pUNWOmSl0z/yjs6Zk0fUPz/aRvnC6dQ/jCW/WPKL1T/ZcDe4IS7WPya8rxdR0NY/cgcod4By1z+/UqDWrxTYPwyeGDbfttg/WemQlQ5Z2T+mNAn1PfvZP/N/gVRtndo/P8v5s5w/2z+MFnITzOHbP9lh6nL7g9w/Jq1i0iom3T9z+NoxWsjdP8BDU5GJat4/DI/L8LgM3z9Z2kNQ6K7fP9MS3teLKOA/ejiah6N54D8gXlY3u8rgP8aDEufSG+E/banOlups4T8Tz4pGAr7hP7r0RvYZD+I/YBoDpjFg4j8GQL9VSbHiP61lewVhAuM/U4s3tXhT4z/6sPNkkKTjP6DWrxSo9eM/R/xrxL9G5D/tISh015fkP5NH5CPv6OQ/Om2g0wY65T/gklyDHovlP4e4GDM23OU/Ld7U4k0t5j/UA5GSZX7mP3opTUJ9z+Y/IE8J8pQg5z/HdMWhrHHnP22agVHEwuc/FMA9AdwT6D+65fmw82ToP2ALtmALtug/BzFyECMH6T+tVi7AOljpP1R86m9Sqek/+qGmH2r66T+hx2LPgUvqP0ftHn+ZnOo/7RLbLrHt6j+UOJfeyD7rPzpeU47gj+s/4YMPPvjg6z+HqcvtDzLsPy7Ph50ng+w/1PRDTT/U7D96GgD9ViXtPyFAvKxudu0/x2V4XIbH7T9uizQMnhjuPxSx8Lu1ae4/utasa8267j9h/Ggb5QvvPwciJcv8XO8/rkfhehSu7z8=",
          "dtype": "f8"
         },
         "y": [
          0.5167464114832536,
          0.5076142131979695,
          0.5104166666666666,
          0.5133689839572193,
          0.5363128491620112,
          0.5485714285714286,
          0.5497076023391813,
          0.5497076023391813,
          0.5595238095238095,
          0.5766871165644172,
          0.5949367088607594,
          0.5935483870967742,
          0.5866666666666667,
          0.5850340136054422,
          0.5972222222222222,
          0.6013986013986014,
          0.6013986013986014,
          0.6056338028169014,
          0.5957446808510638,
          0.5755395683453237,
          0.5797101449275363,
          0.5693430656934306,
          0.5693430656934306,
          0.5693430656934306,
          0.5735294117647058,
          0.5777777777777777,
          0.5777777777777777,
          0.5757575757575758,
          0.5846153846153846,
          0.5891472868217055,
          0.5891472868217055,
          0.578125,
          0.5669291338582677,
          0.5669291338582677,
          0.544,
          0.5483870967741935,
          0.5483870967741935,
          0.5483870967741935,
          0.5528455284552846,
          0.5573770491803278,
          0.5333333333333333,
          0.5378151260504201,
          0.5470085470085471,
          0.5344827586206896,
          0.5344827586206896,
          0.5263157894736842,
          0.5309734513274337,
          0.5309734513274337,
          0.5309734513274337,
          0.5309734513274337,
          0.5405405405405406,
          0.5272727272727272,
          0.5272727272727272,
          0.5272727272727272,
          0.5272727272727272,
          0.5137614678899083,
          0.5137614678899083,
          0.5046728971962616,
          0.5046728971962616,
          0.47619047619047616,
          0.46153846153846156,
          0.46153846153846156,
          0.46601941747572817,
          0.46601941747572817,
          0.4444444444444444,
          0.4536082474226804,
          0.4536082474226804,
          0.4583333333333333,
          0.4421052631578947,
          0.4421052631578947,
          0.4421052631578947,
          0.44680851063829785,
          0.44680851063829785,
          0.44680851063829785,
          0.44680851063829785,
          0.43010752688172044,
          0.4175824175824176,
          0.4222222222222222,
          0.4222222222222222,
          0.42696629213483145,
          0.4090909090909091,
          0.41379310344827586,
          0.3953488372093023,
          0.3953488372093023,
          0.3953488372093023,
          0.3764705882352941,
          0.3614457831325301,
          0.3614457831325301,
          0.345679012345679,
          0.325,
          0.325,
          0.325,
          0.3291139240506329,
          0.3116883116883117,
          0.2702702702702703,
          0.273972602739726,
          0.273972602739726,
          0.2535211267605634,
          0.22857142857142856,
          0.14925373134328357
         ]
        },
        {
         "hovertemplate": "Seuil = %{x:.2f}<br>F1-score = %{y:.3f}<extra></extra>",
         "mode": "lines+markers",
         "name": "Random Forest (max=0.592)",
         "type": "scatter",
         "x": {
          "bdata": "exSuR+F6hD8Lv1ubZmCUP9hz4JJcg54/U5QyRSlTpD+67vRApGSpPyFJtzwfdq4/w9E8HM3DsT/3/h2aiky0Pyos/xdI1bY/XVnglQVeuT+RhsETw+a7P8SzopGAb74/fPDBBx98wD8Wh7LGfcDBP7Ado4XcBMM/SbSTRDtJxD/jSoQDmo3FP33hdML40cY/FnhlgVcWyD+wDlZAtlrJP0qlRv8Un8o/4zs3vnPjyz990id90ifNPxdpGDwxbM4/sP8I+4+wzz8ly/xcd3rQP3IWdbymHNE/v2HtG9a+0T8MrWV7BWHSP1j43do0A9M/pUNWOmSl0z/yjs6Zk0fUPz/aRvnC6dQ/jCW/WPKL1T/ZcDe4IS7WPya8rxdR0NY/cgcod4By1z+/UqDWrxTYPwyeGDbfttg/WemQlQ5Z2T+mNAn1PfvZP/N/gVRtndo/P8v5s5w/2z+MFnITzOHbP9lh6nL7g9w/Jq1i0iom3T9z+NoxWsjdP8BDU5GJat4/DI/L8LgM3z9Z2kNQ6K7fP9MS3teLKOA/ejiah6N54D8gXlY3u8rgP8aDEufSG+E/banOlups4T8Tz4pGAr7hP7r0RvYZD+I/YBoDpjFg4j8GQL9VSbHiP61lewVhAuM/U4s3tXhT4z/6sPNkkKTjP6DWrxSo9eM/R/xrxL9G5D/tISh015fkP5NH5CPv6OQ/Om2g0wY65T/gklyDHovlP4e4GDM23OU/Ld7U4k0t5j/UA5GSZX7mP3opTUJ9z+Y/IE8J8pQg5z/HdMWhrHHnP22agVHEwuc/FMA9AdwT6D+65fmw82ToP2ALtmALtug/BzFyECMH6T+tVi7AOljpP1R86m9Sqek/+qGmH2r66T+hx2LPgUvqP0ftHn+ZnOo/7RLbLrHt6j+UOJfeyD7rPzpeU47gj+s/4YMPPvjg6z+HqcvtDzLsPy7Ph50ng+w/1PRDTT/U7D96GgD9ViXtPyFAvKxudu0/x2V4XIbH7T9uizQMnhjuPxSx8Lu1ae4/utasa8267j9h/Ggb5QvvPwciJcv8XO8/rkfhehSu7z8=",
          "dtype": "f8"
         },
         "y": [
          0.46332046332046334,
          0.47808764940239046,
          0.47808764940239046,
          0.4738955823293173,
          0.4796747967479675,
          0.48559670781893005,
          0.5,
          0.5130434782608696,
          0.5175438596491229,
          0.5155555555555555,
          0.5135135135135135,
          0.5137614678899083,
          0.5258215962441315,
          0.5242718446601942,
          0.5294117647058824,
          0.5174129353233831,
          0.5226130653266332,
          0.5306122448979592,
          0.5502645502645502,
          0.574585635359116,
          0.5730337078651685,
          0.5730337078651685,
          0.5581395348837209,
          0.562874251497006,
          0.5625,
          0.5641025641025641,
          0.567741935483871,
          0.5789473684210527,
          0.5866666666666667,
          0.5753424657534246,
          0.5833333333333334,
          0.5874125874125874,
          0.5915492957746479,
          0.5797101449275363,
          0.556390977443609,
          0.5606060606060606,
          0.5692307692307692,
          0.5511811023622047,
          0.56,
          0.5528455284552846,
          0.5666666666666667,
          0.559322033898305,
          0.5517241379310345,
          0.5565217391304348,
          0.5565217391304348,
          0.5535714285714286,
          0.5420560747663551,
          0.5242718446601942,
          0.5148514851485149,
          0.4897959183673469,
          0.4791666666666667,
          0.46808510638297873,
          0.4835164835164835,
          0.4943820224719101,
          0.4772727272727273,
          0.4772727272727273,
          0.4523809523809524,
          0.43373493975903615,
          0.43373493975903615,
          0.4050632911392405,
          0.3684210526315789,
          0.3013698630136986,
          0.3013698630136986,
          0.3013698630136986,
          0.2535211267605634,
          0.22857142857142856,
          0.2028985507246377,
          0.14925373134328357,
          0.09230769230769231,
          0.09230769230769231,
          0.09230769230769231,
          0.0625,
          0.03278688524590164,
          0,
          0,
          0,
          0,
          0,
          0,
          0,
          0,
          0,
          0,
          0,
          0,
          0,
          0,
          0,
          0,
          0,
          0,
          0,
          0,
          0,
          0,
          0,
          0,
          0,
          0,
          0
         ]
        },
        {
         "hovertemplate": "Seuil = %{x:.2f}<br>F1-score = %{y:.3f}<extra></extra>",
         "mode": "lines+markers",
         "name": "LightGBM (max=0.576)",
         "type": "scatter",
         "x": {
          "bdata": "exSuR+F6hD8Lv1ubZmCUP9hz4JJcg54/U5QyRSlTpD+67vRApGSpPyFJtzwfdq4/w9E8HM3DsT/3/h2aiky0Pyos/xdI1bY/XVnglQVeuT+RhsETw+a7P8SzopGAb74/fPDBBx98wD8Wh7LGfcDBP7Ado4XcBMM/SbSTRDtJxD/jSoQDmo3FP33hdML40cY/FnhlgVcWyD+wDlZAtlrJP0qlRv8Un8o/4zs3vnPjyz990id90ifNPxdpGDwxbM4/sP8I+4+wzz8ly/xcd3rQP3IWdbymHNE/v2HtG9a+0T8MrWV7BWHSP1j43do0A9M/pUNWOmSl0z/yjs6Zk0fUPz/aRvnC6dQ/jCW/WPKL1T/ZcDe4IS7WPya8rxdR0NY/cgcod4By1z+/UqDWrxTYPwyeGDbfttg/WemQlQ5Z2T+mNAn1PfvZP/N/gVRtndo/P8v5s5w/2z+MFnITzOHbP9lh6nL7g9w/Jq1i0iom3T9z+NoxWsjdP8BDU5GJat4/DI/L8LgM3z9Z2kNQ6K7fP9MS3teLKOA/ejiah6N54D8gXlY3u8rgP8aDEufSG+E/banOlups4T8Tz4pGAr7hP7r0RvYZD+I/YBoDpjFg4j8GQL9VSbHiP61lewVhAuM/U4s3tXhT4z/6sPNkkKTjP6DWrxSo9eM/R/xrxL9G5D/tISh015fkP5NH5CPv6OQ/Om2g0wY65T/gklyDHovlP4e4GDM23OU/Ld7U4k0t5j/UA5GSZX7mP3opTUJ9z+Y/IE8J8pQg5z/HdMWhrHHnP22agVHEwuc/FMA9AdwT6D+65fmw82ToP2ALtmALtug/BzFyECMH6T+tVi7AOljpP1R86m9Sqek/+qGmH2r66T+hx2LPgUvqP0ftHn+ZnOo/7RLbLrHt6j+UOJfeyD7rPzpeU47gj+s/4YMPPvjg6z+HqcvtDzLsPy7Ph50ng+w/1PRDTT/U7D96GgD9ViXtPyFAvKxudu0/x2V4XIbH7T9uizQMnhjuPxSx8Lu1ae4/utasa8267j9h/Ggb5QvvPwciJcv8XO8/rkfhehSu7z8=",
          "dtype": "f8"
         },
         "y": [
          0.5578231292517006,
          0.5517241379310345,
          0.5755395683453237,
          0.5755395683453237,
          0.5714285714285714,
          0.5714285714285714,
          0.5606060606060606,
          0.5648854961832062,
          0.5648854961832062,
          0.5538461538461539,
          0.5581395348837209,
          0.5581395348837209,
          0.5581395348837209,
          0.5625,
          0.5669291338582677,
          0.5669291338582677,
          0.5669291338582677,
          0.5669291338582677,
          0.5669291338582677,
          0.5555555555555556,
          0.5555555555555556,
          0.56,
          0.5483870967741935,
          0.5483870967741935,
          0.5528455284552846,
          0.5528455284552846,
          0.5528455284552846,
          0.5573770491803278,
          0.55,
          0.55,
          0.55,
          0.5378151260504201,
          0.5378151260504201,
          0.5423728813559322,
          0.5423728813559322,
          0.5470085470085471,
          0.5344827586206896,
          0.5391304347826087,
          0.5391304347826087,
          0.5263157894736842,
          0.5309734513274337,
          0.5178571428571429,
          0.5178571428571429,
          0.5137614678899083,
          0.5137614678899083,
          0.5137614678899083,
          0.5137614678899083,
          0.5137614678899083,
          0.5137614678899083,
          0.5137614678899083,
          0.5137614678899083,
          0.5046728971962616,
          0.5046728971962616,
          0.5046728971962616,
          0.5046728971962616,
          0.5094339622641509,
          0.5142857142857142,
          0.5142857142857142,
          0.5192307692307693,
          0.5192307692307693,
          0.5192307692307693,
          0.5192307692307693,
          0.5048543689320388,
          0.5048543689320388,
          0.49019607843137253,
          0.49019607843137253,
          0.49019607843137253,
          0.49019607843137253,
          0.49019607843137253,
          0.49019607843137253,
          0.49019607843137253,
          0.4752475247524752,
          0.4752475247524752,
          0.46,
          0.46,
          0.46464646464646464,
          0.46464646464646464,
          0.46938775510204084,
          0.4742268041237113,
          0.4742268041237113,
          0.4742268041237113,
          0.4583333333333333,
          0.4583333333333333,
          0.4583333333333333,
          0.4631578947368421,
          0.43010752688172044,
          0.43010752688172044,
          0.43478260869565216,
          0.43956043956043955,
          0.449438202247191,
          0.4318181818181818,
          0.4186046511627907,
          0.4186046511627907,
          0.4186046511627907,
          0.4186046511627907,
          0.4186046511627907,
          0.4,
          0.4146341463414634,
          0.4050632911392405,
          0.32432432432432434
         ]
        }
       ],
       "layout": {
        "height": 520,
        "template": {
         "data": {
          "bar": [
           {
            "error_x": {
             "color": "#2a3f5f"
            },
            "error_y": {
             "color": "#2a3f5f"
            },
            "marker": {
             "line": {
              "color": "white",
              "width": 0.5
             },
             "pattern": {
              "fillmode": "overlay",
              "size": 10,
              "solidity": 0.2
             }
            },
            "type": "bar"
           }
          ],
          "barpolar": [
           {
            "marker": {
             "line": {
              "color": "white",
              "width": 0.5
             },
             "pattern": {
              "fillmode": "overlay",
              "size": 10,
              "solidity": 0.2
             }
            },
            "type": "barpolar"
           }
          ],
          "carpet": [
           {
            "aaxis": {
             "endlinecolor": "#2a3f5f",
             "gridcolor": "#C8D4E3",
             "linecolor": "#C8D4E3",
             "minorgridcolor": "#C8D4E3",
             "startlinecolor": "#2a3f5f"
            },
            "baxis": {
             "endlinecolor": "#2a3f5f",
             "gridcolor": "#C8D4E3",
             "linecolor": "#C8D4E3",
             "minorgridcolor": "#C8D4E3",
             "startlinecolor": "#2a3f5f"
            },
            "type": "carpet"
           }
          ],
          "choropleth": [
           {
            "colorbar": {
             "outlinewidth": 0,
             "ticks": ""
            },
            "type": "choropleth"
           }
          ],
          "contour": [
           {
            "colorbar": {
             "outlinewidth": 0,
             "ticks": ""
            },
            "colorscale": [
             [
              0,
              "#0d0887"
             ],
             [
              0.1111111111111111,
              "#46039f"
             ],
             [
              0.2222222222222222,
              "#7201a8"
             ],
             [
              0.3333333333333333,
              "#9c179e"
             ],
             [
              0.4444444444444444,
              "#bd3786"
             ],
             [
              0.5555555555555556,
              "#d8576b"
             ],
             [
              0.6666666666666666,
              "#ed7953"
             ],
             [
              0.7777777777777778,
              "#fb9f3a"
             ],
             [
              0.8888888888888888,
              "#fdca26"
             ],
             [
              1,
              "#f0f921"
             ]
            ],
            "type": "contour"
           }
          ],
          "contourcarpet": [
           {
            "colorbar": {
             "outlinewidth": 0,
             "ticks": ""
            },
            "type": "contourcarpet"
           }
          ],
          "heatmap": [
           {
            "colorbar": {
             "outlinewidth": 0,
             "ticks": ""
            },
            "colorscale": [
             [
              0,
              "#0d0887"
             ],
             [
              0.1111111111111111,
              "#46039f"
             ],
             [
              0.2222222222222222,
              "#7201a8"
             ],
             [
              0.3333333333333333,
              "#9c179e"
             ],
             [
              0.4444444444444444,
              "#bd3786"
             ],
             [
              0.5555555555555556,
              "#d8576b"
             ],
             [
              0.6666666666666666,
              "#ed7953"
             ],
             [
              0.7777777777777778,
              "#fb9f3a"
             ],
             [
              0.8888888888888888,
              "#fdca26"
             ],
             [
              1,
              "#f0f921"
             ]
            ],
            "type": "heatmap"
           }
          ],
          "histogram": [
           {
            "marker": {
             "pattern": {
              "fillmode": "overlay",
              "size": 10,
              "solidity": 0.2
             }
            },
            "type": "histogram"
           }
          ],
          "histogram2d": [
           {
            "colorbar": {
             "outlinewidth": 0,
             "ticks": ""
            },
            "colorscale": [
             [
              0,
              "#0d0887"
             ],
             [
              0.1111111111111111,
              "#46039f"
             ],
             [
              0.2222222222222222,
              "#7201a8"
             ],
             [
              0.3333333333333333,
              "#9c179e"
             ],
             [
              0.4444444444444444,
              "#bd3786"
             ],
             [
              0.5555555555555556,
              "#d8576b"
             ],
             [
              0.6666666666666666,
              "#ed7953"
             ],
             [
              0.7777777777777778,
              "#fb9f3a"
             ],
             [
              0.8888888888888888,
              "#fdca26"
             ],
             [
              1,
              "#f0f921"
             ]
            ],
            "type": "histogram2d"
           }
          ],
          "histogram2dcontour": [
           {
            "colorbar": {
             "outlinewidth": 0,
             "ticks": ""
            },
            "colorscale": [
             [
              0,
              "#0d0887"
             ],
             [
              0.1111111111111111,
              "#46039f"
             ],
             [
              0.2222222222222222,
              "#7201a8"
             ],
             [
              0.3333333333333333,
              "#9c179e"
             ],
             [
              0.4444444444444444,
              "#bd3786"
             ],
             [
              0.5555555555555556,
              "#d8576b"
             ],
             [
              0.6666666666666666,
              "#ed7953"
             ],
             [
              0.7777777777777778,
              "#fb9f3a"
             ],
             [
              0.8888888888888888,
              "#fdca26"
             ],
             [
              1,
              "#f0f921"
             ]
            ],
            "type": "histogram2dcontour"
           }
          ],
          "mesh3d": [
           {
            "colorbar": {
             "outlinewidth": 0,
             "ticks": ""
            },
            "type": "mesh3d"
           }
          ],
          "parcoords": [
           {
            "line": {
             "colorbar": {
              "outlinewidth": 0,
              "ticks": ""
             }
            },
            "type": "parcoords"
           }
          ],
          "pie": [
           {
            "automargin": true,
            "type": "pie"
           }
          ],
          "scatter": [
           {
            "fillpattern": {
             "fillmode": "overlay",
             "size": 10,
             "solidity": 0.2
            },
            "type": "scatter"
           }
          ],
          "scatter3d": [
           {
            "line": {
             "colorbar": {
              "outlinewidth": 0,
              "ticks": ""
             }
            },
            "marker": {
             "colorbar": {
              "outlinewidth": 0,
              "ticks": ""
             }
            },
            "type": "scatter3d"
           }
          ],
          "scattercarpet": [
           {
            "marker": {
             "colorbar": {
              "outlinewidth": 0,
              "ticks": ""
             }
            },
            "type": "scattercarpet"
           }
          ],
          "scattergeo": [
           {
            "marker": {
             "colorbar": {
              "outlinewidth": 0,
              "ticks": ""
             }
            },
            "type": "scattergeo"
           }
          ],
          "scattergl": [
           {
            "marker": {
             "colorbar": {
              "outlinewidth": 0,
              "ticks": ""
             }
            },
            "type": "scattergl"
           }
          ],
          "scattermap": [
           {
            "marker": {
             "colorbar": {
              "outlinewidth": 0,
              "ticks": ""
             }
            },
            "type": "scattermap"
           }
          ],
          "scattermapbox": [
           {
            "marker": {
             "colorbar": {
              "outlinewidth": 0,
              "ticks": ""
             }
            },
            "type": "scattermapbox"
           }
          ],
          "scatterpolar": [
           {
            "marker": {
             "colorbar": {
              "outlinewidth": 0,
              "ticks": ""
             }
            },
            "type": "scatterpolar"
           }
          ],
          "scatterpolargl": [
           {
            "marker": {
             "colorbar": {
              "outlinewidth": 0,
              "ticks": ""
             }
            },
            "type": "scatterpolargl"
           }
          ],
          "scatterternary": [
           {
            "marker": {
             "colorbar": {
              "outlinewidth": 0,
              "ticks": ""
             }
            },
            "type": "scatterternary"
           }
          ],
          "surface": [
           {
            "colorbar": {
             "outlinewidth": 0,
             "ticks": ""
            },
            "colorscale": [
             [
              0,
              "#0d0887"
             ],
             [
              0.1111111111111111,
              "#46039f"
             ],
             [
              0.2222222222222222,
              "#7201a8"
             ],
             [
              0.3333333333333333,
              "#9c179e"
             ],
             [
              0.4444444444444444,
              "#bd3786"
             ],
             [
              0.5555555555555556,
              "#d8576b"
             ],
             [
              0.6666666666666666,
              "#ed7953"
             ],
             [
              0.7777777777777778,
              "#fb9f3a"
             ],
             [
              0.8888888888888888,
              "#fdca26"
             ],
             [
              1,
              "#f0f921"
             ]
            ],
            "type": "surface"
           }
          ],
          "table": [
           {
            "cells": {
             "fill": {
              "color": "#EBF0F8"
             },
             "line": {
              "color": "white"
             }
            },
            "header": {
             "fill": {
              "color": "#C8D4E3"
             },
             "line": {
              "color": "white"
             }
            },
            "type": "table"
           }
          ]
         },
         "layout": {
          "annotationdefaults": {
           "arrowcolor": "#2a3f5f",
           "arrowhead": 0,
           "arrowwidth": 1
          },
          "autotypenumbers": "strict",
          "coloraxis": {
           "colorbar": {
            "outlinewidth": 0,
            "ticks": ""
           }
          },
          "colorscale": {
           "diverging": [
            [
             0,
             "#8e0152"
            ],
            [
             0.1,
             "#c51b7d"
            ],
            [
             0.2,
             "#de77ae"
            ],
            [
             0.3,
             "#f1b6da"
            ],
            [
             0.4,
             "#fde0ef"
            ],
            [
             0.5,
             "#f7f7f7"
            ],
            [
             0.6,
             "#e6f5d0"
            ],
            [
             0.7,
             "#b8e186"
            ],
            [
             0.8,
             "#7fbc41"
            ],
            [
             0.9,
             "#4d9221"
            ],
            [
             1,
             "#276419"
            ]
           ],
           "sequential": [
            [
             0,
             "#0d0887"
            ],
            [
             0.1111111111111111,
             "#46039f"
            ],
            [
             0.2222222222222222,
             "#7201a8"
            ],
            [
             0.3333333333333333,
             "#9c179e"
            ],
            [
             0.4444444444444444,
             "#bd3786"
            ],
            [
             0.5555555555555556,
             "#d8576b"
            ],
            [
             0.6666666666666666,
             "#ed7953"
            ],
            [
             0.7777777777777778,
             "#fb9f3a"
            ],
            [
             0.8888888888888888,
             "#fdca26"
            ],
            [
             1,
             "#f0f921"
            ]
           ],
           "sequentialminus": [
            [
             0,
             "#0d0887"
            ],
            [
             0.1111111111111111,
             "#46039f"
            ],
            [
             0.2222222222222222,
             "#7201a8"
            ],
            [
             0.3333333333333333,
             "#9c179e"
            ],
            [
             0.4444444444444444,
             "#bd3786"
            ],
            [
             0.5555555555555556,
             "#d8576b"
            ],
            [
             0.6666666666666666,
             "#ed7953"
            ],
            [
             0.7777777777777778,
             "#fb9f3a"
            ],
            [
             0.8888888888888888,
             "#fdca26"
            ],
            [
             1,
             "#f0f921"
            ]
           ]
          },
          "colorway": [
           "#636efa",
           "#EF553B",
           "#00cc96",
           "#ab63fa",
           "#FFA15A",
           "#19d3f3",
           "#FF6692",
           "#B6E880",
           "#FF97FF",
           "#FECB52"
          ],
          "font": {
           "color": "#2a3f5f"
          },
          "geo": {
           "bgcolor": "white",
           "lakecolor": "white",
           "landcolor": "white",
           "showlakes": true,
           "showland": true,
           "subunitcolor": "#C8D4E3"
          },
          "hoverlabel": {
           "align": "left"
          },
          "hovermode": "closest",
          "mapbox": {
           "style": "light"
          },
          "paper_bgcolor": "white",
          "plot_bgcolor": "white",
          "polar": {
           "angularaxis": {
            "gridcolor": "#EBF0F8",
            "linecolor": "#EBF0F8",
            "ticks": ""
           },
           "bgcolor": "white",
           "radialaxis": {
            "gridcolor": "#EBF0F8",
            "linecolor": "#EBF0F8",
            "ticks": ""
           }
          },
          "scene": {
           "xaxis": {
            "backgroundcolor": "white",
            "gridcolor": "#DFE8F3",
            "gridwidth": 2,
            "linecolor": "#EBF0F8",
            "showbackground": true,
            "ticks": "",
            "zerolinecolor": "#EBF0F8"
           },
           "yaxis": {
            "backgroundcolor": "white",
            "gridcolor": "#DFE8F3",
            "gridwidth": 2,
            "linecolor": "#EBF0F8",
            "showbackground": true,
            "ticks": "",
            "zerolinecolor": "#EBF0F8"
           },
           "zaxis": {
            "backgroundcolor": "white",
            "gridcolor": "#DFE8F3",
            "gridwidth": 2,
            "linecolor": "#EBF0F8",
            "showbackground": true,
            "ticks": "",
            "zerolinecolor": "#EBF0F8"
           }
          },
          "shapedefaults": {
           "line": {
            "color": "#2a3f5f"
           }
          },
          "ternary": {
           "aaxis": {
            "gridcolor": "#DFE8F3",
            "linecolor": "#A2B1C6",
            "ticks": ""
           },
           "baxis": {
            "gridcolor": "#DFE8F3",
            "linecolor": "#A2B1C6",
            "ticks": ""
           },
           "bgcolor": "white",
           "caxis": {
            "gridcolor": "#DFE8F3",
            "linecolor": "#A2B1C6",
            "ticks": ""
           }
          },
          "title": {
           "x": 0.05
          },
          "xaxis": {
           "automargin": true,
           "gridcolor": "#EBF0F8",
           "linecolor": "#EBF0F8",
           "ticks": "",
           "title": {
            "standoff": 15
           },
           "zerolinecolor": "#EBF0F8",
           "zerolinewidth": 2
          },
          "yaxis": {
           "automargin": true,
           "gridcolor": "#EBF0F8",
           "linecolor": "#EBF0F8",
           "ticks": "",
           "title": {
            "standoff": 15
           },
           "zerolinecolor": "#EBF0F8",
           "zerolinewidth": 2
          }
         }
        },
        "title": {
         "text": "🎯 F1-score en fonction du seuil (trié par performance)"
        },
        "width": 950,
        "xaxis": {
         "title": {
          "text": "Seuil de décision"
         }
        },
        "yaxis": {
         "range": [
          0,
          1.02
         ],
         "title": {
          "text": "F1-score"
         }
        }
       }
      }
     },
     "metadata": {},
     "output_type": "display_data"
    }
   ],
   "source": [
    "# Evolution du F1-score\n",
    "dict_models = trees_models.best_f1_by_model()"
   ]
  },
  {
   "cell_type": "code",
   "execution_count": 21,
   "id": "c635788d",
   "metadata": {},
   "outputs": [
    {
     "name": "stdout",
     "output_type": "stream",
     "text": [
      "Meilleur modèle : LightGBM\n",
      "Score (F1 CV) : 0.5669\n"
     ]
    }
   ],
   "source": [
    "dict_best_model_trees = trees_models.get_best_model() # modèle qui maximise le critère\n",
    "best_model_name_trees = dict_best_model_trees[\"model_name\"]"
   ]
  },
  {
   "cell_type": "code",
   "execution_count": 22,
   "id": "0e15f9b4",
   "metadata": {},
   "outputs": [
    {
     "data": {
      "text/html": [
       "\n",
       "        <div class=\"alert alert-success\" style=\"font-family:Arial;\">\n",
       "        <h4>📊 Évaluation du modèle : <code>LightGBM</code></h4>\n",
       "\n",
       "        <h5>⚙️ Métriques globales</h5>\n",
       "        <table border=\"1\" style=\"border-collapse:collapse; width:100%; text-align:left;\">\n",
       "            <thead style=\"background-color:#f2f2f2;\">\n",
       "            <tr><th style=\"padding:6px;\">Métrique</th><th style=\"padding:6px;\">Valeur</th></tr>\n",
       "            </thead>\n",
       "            <tbody>\n",
       "            <tr>\n",
       "                <td style=\"padding:6px;\">Accuracy</td>\n",
       "                <td style=\"padding:6px;\">0.735</td>\n",
       "\n",
       "            </tr>\n",
       "            <tr>\n",
       "                <td style=\"padding:6px;\">ROC AUC</td>\n",
       "                <td style=\"padding:6px;\">0.733</td>\n",
       "            </tr>\n",
       "            </tbody>\n",
       "        </table>\n",
       "\n",
       "        <h5 style=\"margin-top:20px;\">🎯 Métriques par classe</h5>\n",
       "        <table border=\"1\" style=\"border-collapse:collapse; width:100%; text-align:left;\">\n",
       "            <thead style=\"background-color:#f2f2f2;\">\n",
       "            <tr>\n",
       "                <th style=\"padding:6px;\">Classe</th>\n",
       "                <th style=\"padding:6px;\">Précision</th>\n",
       "                <th style=\"padding:6px;\">Rappel</th>\n",
       "                <th style=\"padding:6px;\">F1-score</th>\n",
       "            </tr>\n",
       "            </thead>\n",
       "            <tbody>\n",
       "            <tr>\n",
       "                <td style=\"padding:6px;\"><b>Non défaut</b></td>\n",
       "                <td style=\"padding:6px;\">0.788</td>\n",
       "                <td style=\"padding:6px;\">0.850</td>\n",
       "                <td style=\"padding:6px;\">0.818</td>\n",
       "            </tr>\n",
       "            <tr>\n",
       "                <td style=\"padding:6px;\"><b>Défaut</b></td>\n",
       "                <td style=\"padding:6px;\">0.571</td>\n",
       "                <td style=\"padding:6px;\">0.467</td>\n",
       "                <td style=\"padding:6px;\">0.514</td>\n",
       "            </tr>\n",
       "            </tbody>\n",
       "        </table>\n",
       "        </div>\n",
       "        "
      ],
      "text/plain": [
       "<IPython.core.display.HTML object>"
      ]
     },
     "metadata": {},
     "output_type": "display_data"
    }
   ],
   "source": [
    "trees_models.evaluate_model(best_model_name_trees)"
   ]
  },
  {
   "cell_type": "markdown",
   "id": "4aa2ef52",
   "metadata": {},
   "source": [
    "**Aide à la sélection \"métier\" du seuil de score**"
   ]
  },
  {
   "cell_type": "code",
   "execution_count": 23,
   "id": "7f7dab1b",
   "metadata": {},
   "outputs": [
    {
     "data": {
      "application/vnd.plotly.v1+json": {
       "config": {
        "plotlyServerURL": "https://plot.ly"
       },
       "data": [
        {
         "hovertemplate": "Seuil = %{x:.2f}<br>Precision = %{y:.3f}<extra></extra>",
         "mode": "lines+markers",
         "name": "Precision",
         "type": "scatter",
         "x": {
          "bdata": "exSuR+F6hD8Lv1ubZmCUP9hz4JJcg54/U5QyRSlTpD+67vRApGSpPyFJtzwfdq4/w9E8HM3DsT/3/h2aiky0Pyos/xdI1bY/XVnglQVeuT+RhsETw+a7P8SzopGAb74/fPDBBx98wD8Wh7LGfcDBP7Ado4XcBMM/SbSTRDtJxD/jSoQDmo3FP33hdML40cY/FnhlgVcWyD+wDlZAtlrJP0qlRv8Un8o/4zs3vnPjyz990id90ifNPxdpGDwxbM4/sP8I+4+wzz8ly/xcd3rQP3IWdbymHNE/v2HtG9a+0T8MrWV7BWHSP1j43do0A9M/pUNWOmSl0z/yjs6Zk0fUPz/aRvnC6dQ/jCW/WPKL1T/ZcDe4IS7WPya8rxdR0NY/cgcod4By1z+/UqDWrxTYPwyeGDbfttg/WemQlQ5Z2T+mNAn1PfvZP/N/gVRtndo/P8v5s5w/2z+MFnITzOHbP9lh6nL7g9w/Jq1i0iom3T9z+NoxWsjdP8BDU5GJat4/DI/L8LgM3z9Z2kNQ6K7fP9MS3teLKOA/ejiah6N54D8gXlY3u8rgP8aDEufSG+E/banOlups4T8Tz4pGAr7hP7r0RvYZD+I/YBoDpjFg4j8GQL9VSbHiP61lewVhAuM/U4s3tXhT4z/6sPNkkKTjP6DWrxSo9eM/R/xrxL9G5D/tISh015fkP5NH5CPv6OQ/Om2g0wY65T/gklyDHovlP4e4GDM23OU/Ld7U4k0t5j/UA5GSZX7mP3opTUJ9z+Y/IE8J8pQg5z/HdMWhrHHnP22agVHEwuc/FMA9AdwT6D+65fmw82ToP2ALtmALtug/BzFyECMH6T+tVi7AOljpP1R86m9Sqek/+qGmH2r66T+hx2LPgUvqP0ftHn+ZnOo/7RLbLrHt6j+UOJfeyD7rPzpeU47gj+s/4YMPPvjg6z+HqcvtDzLsPy7Ph50ng+w/1PRDTT/U7D96GgD9ViXtPyFAvKxudu0/x2V4XIbH7T9uizQMnhjuPxSx8Lu1ae4/utasa8267j9h/Ggb5QvvPwciJcv8XO8/rkfhehSu7z8=",
          "dtype": "f8"
         },
         "y": {
          "bdata": "IJPiBTIp3j8eHh4eHh7eP2ggKh3ZM+A/aCAqHdkz4D+FChUqVKjgP4UKFSpUqOA/HMdxHMdx4D+iFTYHEq3gP6IVNgcSreA/UAd1UAd14D8LWchCFrLgPwtZyEIWsuA/C1nIQhay4D/x8PDw8PDgPypnt/CrMeE/Kme38Ksx4T8qZ7fwqzHhPypnt/CrMeE/Kme38Ksx4T/44IMPPvjgP/jggw8++OA/sRM7sRM74T8AAAAAAADhPwAAAAAAAOE/URRFURRF4T9RFEVRFEXhP1EURVEUReE/jDHGGGOM4T+amZmZmZnhP5qZmZmZmeE/mpmZmZmZ4T8NJ3VfHlvhPw0ndV8eW+E/lnsaYbmn4T+WexphuafhP3AfwX0E9+E/btu2bdu24T8J8pQgTwniPwnylCBPCeI/chzHcRzH4T81wXgr+xziP4qd2Imd2OE/ip3YiZ3Y4T+SJEmSJEniP5IkSZIkSeI/kiRJkiRJ4j+SJEmSJEniP5IkSZIkSeI/kiRJkiRJ4j+SJEmSJEniP5IkSZIkSeI/yhXE5Api4j/KFcTkCmLiP8oVxOQKYuI/yhXE5Api4j8tZCELWcjiPzMzMzMzM+M/MzMzMzMz4z+jiy666KLjP6OLLrroouM/o4suuuii4z+jiy666KLjP9aUNWVNWeM/1pQ1ZU1Z4z/DMAzDMAzjP8MwDMMwDOM/wzAMwzAM4z/DMAzDMAzjP8MwDMMwDOM/wzAMwzAM4z/DMAzDMAzjP7sStStRu+I/uxK1K1G74j9mZmZmZmbiP2ZmZmZmZuI/8y3f8i3f4j/zLd/yLd/iP+U1lNdQXuM/RT7rBlPk4z9FPusGU+TjP0U+6wZT5OM/5DiO4ziO4z/kOI7jOI7jP+Q4juM4juM/1EEd1EEd5D9lk0022WTjP2WTTTbZZOM/AAAAAAAA5D+llFJKKaXkP3waYbmnEeY/btu2bdu25T92Yid2YifmP3ZiJ3ZiJ+Y/dmIndmIn5j92Yid2YifmP3ZiJ3ZiJ+Y/w/UoXI/C5T+66KKLLrroPyivobyG8uo/27Zt27Zt6z8=",
          "dtype": "f8"
         }
        },
        {
         "hovertemplate": "Seuil = %{x:.2f}<br>Recall = %{y:.3f}<extra></extra>",
         "mode": "lines+markers",
         "name": "Recall",
         "type": "scatter",
         "x": {
          "bdata": "exSuR+F6hD8Lv1ubZmCUP9hz4JJcg54/U5QyRSlTpD+67vRApGSpPyFJtzwfdq4/w9E8HM3DsT/3/h2aiky0Pyos/xdI1bY/XVnglQVeuT+RhsETw+a7P8SzopGAb74/fPDBBx98wD8Wh7LGfcDBP7Ado4XcBMM/SbSTRDtJxD/jSoQDmo3FP33hdML40cY/FnhlgVcWyD+wDlZAtlrJP0qlRv8Un8o/4zs3vnPjyz990id90ifNPxdpGDwxbM4/sP8I+4+wzz8ly/xcd3rQP3IWdbymHNE/v2HtG9a+0T8MrWV7BWHSP1j43do0A9M/pUNWOmSl0z/yjs6Zk0fUPz/aRvnC6dQ/jCW/WPKL1T/ZcDe4IS7WPya8rxdR0NY/cgcod4By1z+/UqDWrxTYPwyeGDbfttg/WemQlQ5Z2T+mNAn1PfvZP/N/gVRtndo/P8v5s5w/2z+MFnITzOHbP9lh6nL7g9w/Jq1i0iom3T9z+NoxWsjdP8BDU5GJat4/DI/L8LgM3z9Z2kNQ6K7fP9MS3teLKOA/ejiah6N54D8gXlY3u8rgP8aDEufSG+E/banOlups4T8Tz4pGAr7hP7r0RvYZD+I/YBoDpjFg4j8GQL9VSbHiP61lewVhAuM/U4s3tXhT4z/6sPNkkKTjP6DWrxSo9eM/R/xrxL9G5D/tISh015fkP5NH5CPv6OQ/Om2g0wY65T/gklyDHovlP4e4GDM23OU/Ld7U4k0t5j/UA5GSZX7mP3opTUJ9z+Y/IE8J8pQg5z/HdMWhrHHnP22agVHEwuc/FMA9AdwT6D+65fmw82ToP2ALtmALtug/BzFyECMH6T+tVi7AOljpP1R86m9Sqek/+qGmH2r66T+hx2LPgUvqP0ftHn+ZnOo/7RLbLrHt6j+UOJfeyD7rPzpeU47gj+s/4YMPPvjg6z+HqcvtDzLsPy7Ph50ng+w/1PRDTT/U7D96GgD9ViXtPyFAvKxudu0/x2V4XIbH7T9uizQMnhjuPxSx8Lu1ae4/utasa8267j9h/Ggb5QvvPwciJcv8XO8/rkfhehSu7z8=",
          "dtype": "f8"
         },
         "y": {
          "bdata": "3t3d3d3d5T9VVVVVVVXlP1VVVVVVVeU/VVVVVVVV5T9ERERERETkP0REREREROQ/vLu7u7u74z+8u7u7u7vjP7y7u7u7u+M/MzMzMzMz4z8zMzMzMzPjPzMzMzMzM+M/MzMzMzMz4z8zMzMzMzPjPzMzMzMzM+M/MzMzMzMz4z8zMzMzMzPjPzMzMzMzM+M/MzMzMzMz4z+rqqqqqqriP6uqqqqqquI/q6qqqqqq4j8iIiIiIiLiPyIiIiIiIuI/IiIiIiIi4j8iIiIiIiLiPyIiIiIiIuI/IiIiIiIi4j+amZmZmZnhP5qZmZmZmeE/mpmZmZmZ4T8RERERERHhPxEREREREeE/ERERERER4T8RERERERHhPxEREREREeE/iYiIiIiI4D+JiIiIiIjgP4mIiIiIiOA/AAAAAAAA4D8AAAAAAADgP+/u7u7u7t4/7+7u7u7u3j/e3d3d3d3dP97d3d3d3d0/3t3d3d3d3T/e3d3d3d3dP97d3d3d3d0/3t3d3d3d3T/e3d3d3d3dP97d3d3d3d0/zczMzMzM3D/NzMzMzMzcP83MzMzMzNw/zczMzMzM3D/NzMzMzMzcP83MzMzMzNw/zczMzMzM3D/NzMzMzMzcP83MzMzMzNw/zczMzMzM3D/NzMzMzMzcP7y7u7u7u9s/vLu7u7u72z+rqqqqqqraP6uqqqqqqto/q6qqqqqq2j+rqqqqqqraP6uqqqqqqto/q6qqqqqq2j+rqqqqqqraP5qZmZmZmdk/mpmZmZmZ2T+JiIiIiIjYP4mIiIiIiNg/iYiIiIiI2D+JiIiIiIjYP4mIiIiIiNg/iYiIiIiI2D+JiIiIiIjYP4mIiIiIiNg/d3d3d3d31z93d3d3d3fXP3d3d3d3d9c/d3d3d3d31z9VVVVVVVXVP1VVVVVVVdU/VVVVVVVV1T9VVVVVVVXVP1VVVVVVVdU/RERERERE1D8zMzMzMzPTPzMzMzMzM9M/MzMzMzMz0z8zMzMzMzPTPzMzMzMzM9M/IiIiIiIi0j8iIiIiIiLSPxEREREREdE/mpmZmZmZyT8=",
          "dtype": "f8"
         }
        },
        {
         "hovertemplate": "Seuil = %{x:.2f}<br>F1 = %{y:.3f}<extra></extra>",
         "mode": "lines+markers",
         "name": "F1",
         "type": "scatter",
         "x": {
          "bdata": "exSuR+F6hD8Lv1ubZmCUP9hz4JJcg54/U5QyRSlTpD+67vRApGSpPyFJtzwfdq4/w9E8HM3DsT/3/h2aiky0Pyos/xdI1bY/XVnglQVeuT+RhsETw+a7P8SzopGAb74/fPDBBx98wD8Wh7LGfcDBP7Ado4XcBMM/SbSTRDtJxD/jSoQDmo3FP33hdML40cY/FnhlgVcWyD+wDlZAtlrJP0qlRv8Un8o/4zs3vnPjyz990id90ifNPxdpGDwxbM4/sP8I+4+wzz8ly/xcd3rQP3IWdbymHNE/v2HtG9a+0T8MrWV7BWHSP1j43do0A9M/pUNWOmSl0z/yjs6Zk0fUPz/aRvnC6dQ/jCW/WPKL1T/ZcDe4IS7WPya8rxdR0NY/cgcod4By1z+/UqDWrxTYPwyeGDbfttg/WemQlQ5Z2T+mNAn1PfvZP/N/gVRtndo/P8v5s5w/2z+MFnITzOHbP9lh6nL7g9w/Jq1i0iom3T9z+NoxWsjdP8BDU5GJat4/DI/L8LgM3z9Z2kNQ6K7fP9MS3teLKOA/ejiah6N54D8gXlY3u8rgP8aDEufSG+E/banOlups4T8Tz4pGAr7hP7r0RvYZD+I/YBoDpjFg4j8GQL9VSbHiP61lewVhAuM/U4s3tXhT4z/6sPNkkKTjP6DWrxSo9eM/R/xrxL9G5D/tISh015fkP5NH5CPv6OQ/Om2g0wY65T/gklyDHovlP4e4GDM23OU/Ld7U4k0t5j/UA5GSZX7mP3opTUJ9z+Y/IE8J8pQg5z/HdMWhrHHnP22agVHEwuc/FMA9AdwT6D+65fmw82ToP2ALtmALtug/BzFyECMH6T+tVi7AOljpP1R86m9Sqek/+qGmH2r66T+hx2LPgUvqP0ftHn+ZnOo/7RLbLrHt6j+UOJfeyD7rPzpeU47gj+s/4YMPPvjg6z+HqcvtDzLsPy7Ph50ng+w/1PRDTT/U7D96GgD9ViXtPyFAvKxudu0/x2V4XIbH7T9uizQMnhjuPxSx8Lu1ae4/utasa8267j9h/Ggb5QvvPwciJcv8XO8/rkfhehSu7z8=",
          "dtype": "f8"
         },
         "y": {
          "bdata": "dtQi5K/Z4T+WexphuafhP6Ab8/TRauI/oBvz9NFq4j+SJEmSJEniP5IkSZIkSeI/8MEHH3zw4T9q7oK/ihPiP2rugr+KE+I/khu5kRu54T93xB1xR9zhP3fEHXFH3OE/d8QdcUfc4T8AAAAAAADiP4lEIpFIJOI/iUQikUgk4j+JRCKRSCTiP4lEIpFIJOI/iUQikUgk4j9yHMdxHMfhP3Icx3Ecx+E/7FG4HoXr4T+MMcYYY4zhP4wxxhhjjOE/sZEOG+mw4T+xkQ4b6bDhP7GRDhvpsOE/3qe4ZAjW4T+amZmZmZnhP5qZmZmZmeE/mpmZmZmZ4T8RyDURyDXhPxHINRHINeE/DSd1Xx5b4T8NJ3VfHlvhPxIYgREYgeE/uacRlnsa4T8UbTV4jkDhPxRtNXiOQOE/eQ3lNZTX4D/B2w8JvP3gPyVJkiRJkuA/JUmSJEmS4D8MB9Hju3DgPwwH0eO7cOA/DAfR47tw4D8MB9Hju3DgPwwH0eO7cOA/DAfR47tw4D8MB9Hju3DgPwwH0eO7cOA/IVaUxkcm4D8hVpTGRybgPyFWlMZHJuA/IVaUxkcm4D/jrexzSE3gP1AHdVAHdeA/UAd1UAd14D/ZiZ3YiZ3gP9mJndiJneA/2Ymd2Imd4D/ZiZ3YiZ3gP1LJeVnEJ+A/Usl5WcQn4D9fX19fX1/fP19fX19fX98/X19fX19f3z9fX19fX1/fP19fX19fX98/X19fX19f3z9fX19fX1/fP/hGFJh0at4/+EYUmHRq3j9xPQrXo3DdP3E9CtejcN0/EvN2hsS83T8S83aGxLzdP4OXU/ByCt4/nkSmYbtZ3j+eRKZhu1neP55EpmG7Wd4/VVVVVVVV3T9VVVVVVVXdP1VVVVVVVd0/RtqxAmGk3T+HG2644YbbP4cbbrjhhts/velNb3rT2z8cwiEcwiHcP8xhDnOYw9w/o4suuuii2z+zpqwpa8raP7OmrClryto/s6asKWvK2j+zpqwpa8raP7OmrClryto/mpmZmZmZ2T+J2pWoXYnaP9kzEJWO7Nk/HEyRz7rB1D8=",
          "dtype": "f8"
         }
        }
       ],
       "layout": {
        "height": 500,
        "hovermode": "x unified",
        "legend": {
         "title": {
          "text": "Métriques"
         }
        },
        "template": {
         "data": {
          "bar": [
           {
            "error_x": {
             "color": "#2a3f5f"
            },
            "error_y": {
             "color": "#2a3f5f"
            },
            "marker": {
             "line": {
              "color": "white",
              "width": 0.5
             },
             "pattern": {
              "fillmode": "overlay",
              "size": 10,
              "solidity": 0.2
             }
            },
            "type": "bar"
           }
          ],
          "barpolar": [
           {
            "marker": {
             "line": {
              "color": "white",
              "width": 0.5
             },
             "pattern": {
              "fillmode": "overlay",
              "size": 10,
              "solidity": 0.2
             }
            },
            "type": "barpolar"
           }
          ],
          "carpet": [
           {
            "aaxis": {
             "endlinecolor": "#2a3f5f",
             "gridcolor": "#C8D4E3",
             "linecolor": "#C8D4E3",
             "minorgridcolor": "#C8D4E3",
             "startlinecolor": "#2a3f5f"
            },
            "baxis": {
             "endlinecolor": "#2a3f5f",
             "gridcolor": "#C8D4E3",
             "linecolor": "#C8D4E3",
             "minorgridcolor": "#C8D4E3",
             "startlinecolor": "#2a3f5f"
            },
            "type": "carpet"
           }
          ],
          "choropleth": [
           {
            "colorbar": {
             "outlinewidth": 0,
             "ticks": ""
            },
            "type": "choropleth"
           }
          ],
          "contour": [
           {
            "colorbar": {
             "outlinewidth": 0,
             "ticks": ""
            },
            "colorscale": [
             [
              0,
              "#0d0887"
             ],
             [
              0.1111111111111111,
              "#46039f"
             ],
             [
              0.2222222222222222,
              "#7201a8"
             ],
             [
              0.3333333333333333,
              "#9c179e"
             ],
             [
              0.4444444444444444,
              "#bd3786"
             ],
             [
              0.5555555555555556,
              "#d8576b"
             ],
             [
              0.6666666666666666,
              "#ed7953"
             ],
             [
              0.7777777777777778,
              "#fb9f3a"
             ],
             [
              0.8888888888888888,
              "#fdca26"
             ],
             [
              1,
              "#f0f921"
             ]
            ],
            "type": "contour"
           }
          ],
          "contourcarpet": [
           {
            "colorbar": {
             "outlinewidth": 0,
             "ticks": ""
            },
            "type": "contourcarpet"
           }
          ],
          "heatmap": [
           {
            "colorbar": {
             "outlinewidth": 0,
             "ticks": ""
            },
            "colorscale": [
             [
              0,
              "#0d0887"
             ],
             [
              0.1111111111111111,
              "#46039f"
             ],
             [
              0.2222222222222222,
              "#7201a8"
             ],
             [
              0.3333333333333333,
              "#9c179e"
             ],
             [
              0.4444444444444444,
              "#bd3786"
             ],
             [
              0.5555555555555556,
              "#d8576b"
             ],
             [
              0.6666666666666666,
              "#ed7953"
             ],
             [
              0.7777777777777778,
              "#fb9f3a"
             ],
             [
              0.8888888888888888,
              "#fdca26"
             ],
             [
              1,
              "#f0f921"
             ]
            ],
            "type": "heatmap"
           }
          ],
          "histogram": [
           {
            "marker": {
             "pattern": {
              "fillmode": "overlay",
              "size": 10,
              "solidity": 0.2
             }
            },
            "type": "histogram"
           }
          ],
          "histogram2d": [
           {
            "colorbar": {
             "outlinewidth": 0,
             "ticks": ""
            },
            "colorscale": [
             [
              0,
              "#0d0887"
             ],
             [
              0.1111111111111111,
              "#46039f"
             ],
             [
              0.2222222222222222,
              "#7201a8"
             ],
             [
              0.3333333333333333,
              "#9c179e"
             ],
             [
              0.4444444444444444,
              "#bd3786"
             ],
             [
              0.5555555555555556,
              "#d8576b"
             ],
             [
              0.6666666666666666,
              "#ed7953"
             ],
             [
              0.7777777777777778,
              "#fb9f3a"
             ],
             [
              0.8888888888888888,
              "#fdca26"
             ],
             [
              1,
              "#f0f921"
             ]
            ],
            "type": "histogram2d"
           }
          ],
          "histogram2dcontour": [
           {
            "colorbar": {
             "outlinewidth": 0,
             "ticks": ""
            },
            "colorscale": [
             [
              0,
              "#0d0887"
             ],
             [
              0.1111111111111111,
              "#46039f"
             ],
             [
              0.2222222222222222,
              "#7201a8"
             ],
             [
              0.3333333333333333,
              "#9c179e"
             ],
             [
              0.4444444444444444,
              "#bd3786"
             ],
             [
              0.5555555555555556,
              "#d8576b"
             ],
             [
              0.6666666666666666,
              "#ed7953"
             ],
             [
              0.7777777777777778,
              "#fb9f3a"
             ],
             [
              0.8888888888888888,
              "#fdca26"
             ],
             [
              1,
              "#f0f921"
             ]
            ],
            "type": "histogram2dcontour"
           }
          ],
          "mesh3d": [
           {
            "colorbar": {
             "outlinewidth": 0,
             "ticks": ""
            },
            "type": "mesh3d"
           }
          ],
          "parcoords": [
           {
            "line": {
             "colorbar": {
              "outlinewidth": 0,
              "ticks": ""
             }
            },
            "type": "parcoords"
           }
          ],
          "pie": [
           {
            "automargin": true,
            "type": "pie"
           }
          ],
          "scatter": [
           {
            "fillpattern": {
             "fillmode": "overlay",
             "size": 10,
             "solidity": 0.2
            },
            "type": "scatter"
           }
          ],
          "scatter3d": [
           {
            "line": {
             "colorbar": {
              "outlinewidth": 0,
              "ticks": ""
             }
            },
            "marker": {
             "colorbar": {
              "outlinewidth": 0,
              "ticks": ""
             }
            },
            "type": "scatter3d"
           }
          ],
          "scattercarpet": [
           {
            "marker": {
             "colorbar": {
              "outlinewidth": 0,
              "ticks": ""
             }
            },
            "type": "scattercarpet"
           }
          ],
          "scattergeo": [
           {
            "marker": {
             "colorbar": {
              "outlinewidth": 0,
              "ticks": ""
             }
            },
            "type": "scattergeo"
           }
          ],
          "scattergl": [
           {
            "marker": {
             "colorbar": {
              "outlinewidth": 0,
              "ticks": ""
             }
            },
            "type": "scattergl"
           }
          ],
          "scattermap": [
           {
            "marker": {
             "colorbar": {
              "outlinewidth": 0,
              "ticks": ""
             }
            },
            "type": "scattermap"
           }
          ],
          "scattermapbox": [
           {
            "marker": {
             "colorbar": {
              "outlinewidth": 0,
              "ticks": ""
             }
            },
            "type": "scattermapbox"
           }
          ],
          "scatterpolar": [
           {
            "marker": {
             "colorbar": {
              "outlinewidth": 0,
              "ticks": ""
             }
            },
            "type": "scatterpolar"
           }
          ],
          "scatterpolargl": [
           {
            "marker": {
             "colorbar": {
              "outlinewidth": 0,
              "ticks": ""
             }
            },
            "type": "scatterpolargl"
           }
          ],
          "scatterternary": [
           {
            "marker": {
             "colorbar": {
              "outlinewidth": 0,
              "ticks": ""
             }
            },
            "type": "scatterternary"
           }
          ],
          "surface": [
           {
            "colorbar": {
             "outlinewidth": 0,
             "ticks": ""
            },
            "colorscale": [
             [
              0,
              "#0d0887"
             ],
             [
              0.1111111111111111,
              "#46039f"
             ],
             [
              0.2222222222222222,
              "#7201a8"
             ],
             [
              0.3333333333333333,
              "#9c179e"
             ],
             [
              0.4444444444444444,
              "#bd3786"
             ],
             [
              0.5555555555555556,
              "#d8576b"
             ],
             [
              0.6666666666666666,
              "#ed7953"
             ],
             [
              0.7777777777777778,
              "#fb9f3a"
             ],
             [
              0.8888888888888888,
              "#fdca26"
             ],
             [
              1,
              "#f0f921"
             ]
            ],
            "type": "surface"
           }
          ],
          "table": [
           {
            "cells": {
             "fill": {
              "color": "#EBF0F8"
             },
             "line": {
              "color": "white"
             }
            },
            "header": {
             "fill": {
              "color": "#C8D4E3"
             },
             "line": {
              "color": "white"
             }
            },
            "type": "table"
           }
          ]
         },
         "layout": {
          "annotationdefaults": {
           "arrowcolor": "#2a3f5f",
           "arrowhead": 0,
           "arrowwidth": 1
          },
          "autotypenumbers": "strict",
          "coloraxis": {
           "colorbar": {
            "outlinewidth": 0,
            "ticks": ""
           }
          },
          "colorscale": {
           "diverging": [
            [
             0,
             "#8e0152"
            ],
            [
             0.1,
             "#c51b7d"
            ],
            [
             0.2,
             "#de77ae"
            ],
            [
             0.3,
             "#f1b6da"
            ],
            [
             0.4,
             "#fde0ef"
            ],
            [
             0.5,
             "#f7f7f7"
            ],
            [
             0.6,
             "#e6f5d0"
            ],
            [
             0.7,
             "#b8e186"
            ],
            [
             0.8,
             "#7fbc41"
            ],
            [
             0.9,
             "#4d9221"
            ],
            [
             1,
             "#276419"
            ]
           ],
           "sequential": [
            [
             0,
             "#0d0887"
            ],
            [
             0.1111111111111111,
             "#46039f"
            ],
            [
             0.2222222222222222,
             "#7201a8"
            ],
            [
             0.3333333333333333,
             "#9c179e"
            ],
            [
             0.4444444444444444,
             "#bd3786"
            ],
            [
             0.5555555555555556,
             "#d8576b"
            ],
            [
             0.6666666666666666,
             "#ed7953"
            ],
            [
             0.7777777777777778,
             "#fb9f3a"
            ],
            [
             0.8888888888888888,
             "#fdca26"
            ],
            [
             1,
             "#f0f921"
            ]
           ],
           "sequentialminus": [
            [
             0,
             "#0d0887"
            ],
            [
             0.1111111111111111,
             "#46039f"
            ],
            [
             0.2222222222222222,
             "#7201a8"
            ],
            [
             0.3333333333333333,
             "#9c179e"
            ],
            [
             0.4444444444444444,
             "#bd3786"
            ],
            [
             0.5555555555555556,
             "#d8576b"
            ],
            [
             0.6666666666666666,
             "#ed7953"
            ],
            [
             0.7777777777777778,
             "#fb9f3a"
            ],
            [
             0.8888888888888888,
             "#fdca26"
            ],
            [
             1,
             "#f0f921"
            ]
           ]
          },
          "colorway": [
           "#636efa",
           "#EF553B",
           "#00cc96",
           "#ab63fa",
           "#FFA15A",
           "#19d3f3",
           "#FF6692",
           "#B6E880",
           "#FF97FF",
           "#FECB52"
          ],
          "font": {
           "color": "#2a3f5f"
          },
          "geo": {
           "bgcolor": "white",
           "lakecolor": "white",
           "landcolor": "white",
           "showlakes": true,
           "showland": true,
           "subunitcolor": "#C8D4E3"
          },
          "hoverlabel": {
           "align": "left"
          },
          "hovermode": "closest",
          "mapbox": {
           "style": "light"
          },
          "paper_bgcolor": "white",
          "plot_bgcolor": "white",
          "polar": {
           "angularaxis": {
            "gridcolor": "#EBF0F8",
            "linecolor": "#EBF0F8",
            "ticks": ""
           },
           "bgcolor": "white",
           "radialaxis": {
            "gridcolor": "#EBF0F8",
            "linecolor": "#EBF0F8",
            "ticks": ""
           }
          },
          "scene": {
           "xaxis": {
            "backgroundcolor": "white",
            "gridcolor": "#DFE8F3",
            "gridwidth": 2,
            "linecolor": "#EBF0F8",
            "showbackground": true,
            "ticks": "",
            "zerolinecolor": "#EBF0F8"
           },
           "yaxis": {
            "backgroundcolor": "white",
            "gridcolor": "#DFE8F3",
            "gridwidth": 2,
            "linecolor": "#EBF0F8",
            "showbackground": true,
            "ticks": "",
            "zerolinecolor": "#EBF0F8"
           },
           "zaxis": {
            "backgroundcolor": "white",
            "gridcolor": "#DFE8F3",
            "gridwidth": 2,
            "linecolor": "#EBF0F8",
            "showbackground": true,
            "ticks": "",
            "zerolinecolor": "#EBF0F8"
           }
          },
          "shapedefaults": {
           "line": {
            "color": "#2a3f5f"
           }
          },
          "ternary": {
           "aaxis": {
            "gridcolor": "#DFE8F3",
            "linecolor": "#A2B1C6",
            "ticks": ""
           },
           "baxis": {
            "gridcolor": "#DFE8F3",
            "linecolor": "#A2B1C6",
            "ticks": ""
           },
           "bgcolor": "white",
           "caxis": {
            "gridcolor": "#DFE8F3",
            "linecolor": "#A2B1C6",
            "ticks": ""
           }
          },
          "title": {
           "x": 0.05
          },
          "xaxis": {
           "automargin": true,
           "gridcolor": "#EBF0F8",
           "linecolor": "#EBF0F8",
           "ticks": "",
           "title": {
            "standoff": 15
           },
           "zerolinecolor": "#EBF0F8",
           "zerolinewidth": 2
          },
          "yaxis": {
           "automargin": true,
           "gridcolor": "#EBF0F8",
           "linecolor": "#EBF0F8",
           "ticks": "",
           "title": {
            "standoff": 15
           },
           "zerolinecolor": "#EBF0F8",
           "zerolinewidth": 2
          }
         }
        },
        "title": {
         "text": "📈 LightGBM — Évolution des métriques selon le seuil"
        },
        "width": 850,
        "xaxis": {
         "tickformat": ".2f",
         "title": {
          "text": "Seuil de score"
         }
        },
        "yaxis": {
         "range": [
          0,
          1.05
         ],
         "title": {
          "text": "Valeur de la métrique"
         }
        }
       }
      }
     },
     "metadata": {},
     "output_type": "display_data"
    }
   ],
   "source": [
    "trees_models.plot_metrics_by_threshold(best_model_name_trees)\n",
    "df_metrics_trees = trees_models.get_metrics_by_threshold(best_model_name_trees)"
   ]
  }
 ],
 "metadata": {
  "celltoolbar": "Aucun(e)",
  "kernelspec": {
   "display_name": "kernel_venv_cours_scoring",
   "language": "python",
   "name": ".venv_cours_scoring"
  },
  "language_info": {
   "codemirror_mode": {
    "name": "ipython",
    "version": 3
   },
   "file_extension": ".py",
   "mimetype": "text/x-python",
   "name": "python",
   "nbconvert_exporter": "python",
   "pygments_lexer": "ipython3",
   "version": "3.10.11"
  }
 },
 "nbformat": 4,
 "nbformat_minor": 5
}
