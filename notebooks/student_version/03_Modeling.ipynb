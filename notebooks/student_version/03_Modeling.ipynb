{
 "cells": [
  {
   "cell_type": "markdown",
   "id": "c3bbd233",
   "metadata": {},
   "source": [
    "# M2 TIDE : Application des connaissances"
   ]
  },
  {
   "cell_type": "code",
   "execution_count": null,
   "id": "dca22b77",
   "metadata": {},
   "outputs": [],
   "source": [
    "import os\n",
    "import sys\n",
    "from pathlib import Path\n",
    "import pandas as pd\n",
    "from sklearn.preprocessing import StandardScaler\n",
    "sys.path.insert(0, str(Path(os.getcwd()).resolve().parent.parent))\n",
    "path = Path(f\"../../data/processed\").resolve()\n",
    "from src.utils.class_modeling import ModelComparator\n",
    "\n",
    "list_var_num: list = ['Duree_credit', 'Montant_credit', 'Age']\n",
    "list_var_cat: list = ['Objet_credit', 'Historique_credit', 'Epargne', 'Anciennete_emploi', \n",
    "           'Situation_familiale', 'Anciennete_domicile', 'Nb_credits', 'Biens', \n",
    "           'Type_emploi', 'Comptes', 'Taux_effort', 'Autres_credits', 'Statut_domicile', \n",
    "           'Garanties', 'Telephone', 'Nb_pers_charge', 'Etranger']\n",
    "target: str = \"Cible\"\n",
    "\n",
    "X_train = pd.read_parquet(f\"{path}/X_train.parquet\")\n",
    "X_test = pd.read_parquet(f\"{path}/X_test.parquet\")\n",
    "y_train = pd.read_parquet(f\"{path}/y_train.parquet\").squeeze()\n",
    "y_test = pd.read_parquet(f\"{path}/y_test.parquet\").squeeze()\n",
    "random_state = 0"
   ]
  },
  {
   "cell_type": "markdown",
   "id": "8a5adff8",
   "metadata": {},
   "source": [
    "### 6. Régressions logistiques"
   ]
  },
  {
   "cell_type": "markdown",
   "id": "aa40b16c",
   "metadata": {},
   "source": [
    "\n",
    "<div class=\"alert alert-block alert-info\">\n",
    "<b>🔔 Rappel sur la régression logistique :</b></p>\n",
    "  <table>\n",
    "    <thead>\n",
    "      <tr>\n",
    "        <th>Avantages</th>\n",
    "        <th>Inconvénients</th>\n",
    "      </tr>\n",
    "    </thead>\n",
    "    <tbody>\n",
    "      <tr>\n",
    "        <td>\n",
    "          <ul>\n",
    "            <li><code>interprétabilité des résultats</code> (signe des coefficients, rapports de cotes, etc…). Ces avantages rendent la RL particulièrement intéressante dans le monde professionnel. Par exemple, pour un score d'octroi de crédit, on a pour obligation légale d'expliquer les facteurs qui ont entrainé le refus.</li>\n",
    "            <li><code>robustesse des résultats</code> (évite le sur-apprentissage) contrairement à un modèle Boosting (ex : XGBoost) ou Réseau de neurones.</li>\n",
    "            <li><code>temps de calculs</code> (à l'apprentissage et à l'utilisation en production) plus faible qu'un XGBoost par exemple.</li>\n",
    "          </ul>\n",
    "        </td>\n",
    "        <td>\n",
    "          <ul>\n",
    "            <li>Elle nécessite une <code>phase de préparation des données plus exigeante</code> que les modèles à base d'arbres et les réseaux de neurones (présélection des variables pour éviter les colinéarités, normalisation des variables explicatives continues pour éviter les effets d'échelle). Néanmoins, pour réduire la multicolinéarité et l'effet d'échelle, il est possible de pénaliser (L2:Ridge, L1:Lasso, L1+L2:Elastic net).</li>\n",
    "            <li><code>moins performante</code></li>\n",
    "          </ul>\n",
    "        </td>\n",
    "      </tr>\n",
    "    </tbody>\n",
    "  </table>\n",
    "<div>"
   ]
  },
  {
   "cell_type": "markdown",
   "id": "3d41523d",
   "metadata": {},
   "source": [
    "#### 6.1 Identifier les variables explicatives non pertinentes pour la régression logistique (cf parties précédentes sur l'étude des liens)"
   ]
  },
  {
   "cell_type": "code",
   "execution_count": 3,
   "id": "8f21b865",
   "metadata": {},
   "outputs": [
    {
     "name": "stdout",
     "output_type": "stream",
     "text": [
      "Rappel des variables à supprimer pour la régression logistique : ['Statut_domicile', 'Taux_effort', 'Nb_credits', 'Type_emploi', 'Telephone', 'Anciennete_domicile', 'Nb_pers_charge']\n"
     ]
    }
   ],
   "source": [
    "list_var_cat_to_drop: list = ['Statut_domicile', 'Taux_effort', 'Nb_credits', 'Type_emploi', 'Telephone', 'Anciennete_domicile', 'Nb_pers_charge'] # cf \"Data_exploration.ipynb\"\n",
    "print(f'Rappel des variables à supprimer pour la régression logistique : {list_var_cat_to_drop}')\n",
    "# => pas de variable catégorielle à supprimer"
   ]
  },
  {
   "cell_type": "markdown",
   "id": "91b91f84",
   "metadata": {},
   "source": [
    "<div class=\"alert alert-block alert-info\">\n",
    "<b>Note :</b> On a supprimé les variables catégorielles d'origine de notre dataframe. Il va falloir trouver un moyen d'identifier les \n",
    "dummy variables associées\n",
    "</div>"
   ]
  },
  {
   "cell_type": "code",
   "execution_count": 4,
   "id": "d46e1569",
   "metadata": {},
   "outputs": [
    {
     "name": "stdout",
     "output_type": "stream",
     "text": [
      "['DUMMY_Telephone_Oui__enregistré_sous_le_nom_du_client', 'DUMMY_Taux_effort_4', 'DUMMY_Anciennete_domicile_2', 'DUMMY_Nb_pers_charge_2', 'DUMMY_Statut_domicile_Locataire', 'DUMMY_Type_emploi_Cadre___Indépendant___Employé_hautement_qualifié___Dirigeant', 'DUMMY_Statut_domicile_Propriétaire', 'DUMMY_Nb_credits_2', 'DUMMY_Anciennete_domicile_3', 'DUMMY_Taux_effort_3', 'DUMMY_Nb_credits_3', 'DUMMY_Anciennete_domicile_4', 'DUMMY_Type_emploi_Employé_qualifié___Fonctionnaire', 'DUMMY_Nb_credits_4', 'DUMMY_Anciennete_domicile_1', 'DUMMY_Type_emploi_Chômeur___Non_qualifié___Non_résident', 'DUMMY_Statut_domicile_Hébergement_gratuit', 'DUMMY_Telephone_Néant', 'DUMMY_Taux_effort_1', 'DUMMY_Taux_effort_2', 'DUMMY_Type_emploi_Non_qualifié___résident', 'DUMMY_Nb_credits_1', 'DUMMY_Nb_pers_charge_1']\n"
     ]
    }
   ],
   "source": [
    "dummy_var = [i for i in X_train.columns if i.startswith('DUMMY_')]\n",
    "dummy_to_drop = []\n",
    "for i in list_var_cat_to_drop:\n",
    "    for j in dummy_var:\n",
    "        if i in j:dummy_to_drop.append(j)\n",
    "dummy_to_drop_for_RL = list(set(dummy_to_drop))\n",
    "print(dummy_to_drop_for_RL)"
   ]
  },
  {
   "cell_type": "markdown",
   "id": "c8d42183",
   "metadata": {},
   "source": [
    "#### 6.2 Normaliser les variables explicatives continues"
   ]
  },
  {
   "cell_type": "markdown",
   "id": "a05fb516",
   "metadata": {},
   "source": [
    "<div class=\"alert alert-block alert-info\">\n",
    "<b>🔔 Rappel : intérêts de la normalisation des variables explicatives continues</b></p>\n",
    "  <table>\n",
    "    <thead>\n",
    "      <tr>\n",
    "        <th>Avantage</th>\n",
    "        <th>Description</th>\n",
    "      </tr>\n",
    "    </thead>\n",
    "    <tbody>\n",
    "      <tr>\n",
    "        <td>Échelle homogène</td>\n",
    "        <td>Mettre toutes les variables sur une échelle comparable pour éviter qu'une variable ne domine l'apprentissage en raison de valeurs plus grandes.</td>\n",
    "      </tr>\n",
    "      <tr>\n",
    "        <td>Amélioration de la convergence</td>\n",
    "        <td>Accélère la convergence et facilite l'optimisation des algorithmes comme la descente de gradient, la régression linéaire ou les réseaux de neurones.</td>\n",
    "      </tr>\n",
    "      <tr>\n",
    "        <td>Performance des algorithmes</td>\n",
    "        <td>Évite que des variables à grande échelle biaisent les calculs, notamment pour les algorithmes sensibles aux distances (kNN, SVM, etc.).</td>\n",
    "      </tr>\n",
    "      <tr>\n",
    "        <td>Interprétabilité</td>\n",
    "        <td>Facilite l'interprétation de l'importance relative de chaque variable dans le modèle.</td>\n",
    "      </tr>\n",
    "    </tbody>\n",
    "  </table>\n",
    "</div>\n"
   ]
  },
  {
   "cell_type": "markdown",
   "id": "04abd37d",
   "metadata": {},
   "source": [
    "<div class=\"alert alert-block alert-info\">\n",
    "  <b>⚠️ Remarque très importante :</b>\n",
    "  il est primordial de normaliser en prenant pour base la table d'apprentissage. Puis, appliquer la normalisation sur\n",
    "le jeu de données test\n",
    "</div>\n"
   ]
  },
  {
   "cell_type": "code",
   "execution_count": 5,
   "id": "4b0576d7",
   "metadata": {},
   "outputs": [],
   "source": [
    "scaler = StandardScaler()\n",
    "\n",
    "X_train_with_norm = X_train.copy()\n",
    "X_test_with_norm = X_test.copy()\n",
    "\n",
    "# Apprentissage pour normaliser sur le jeu d'apprentissage\n",
    "scaler.fit(X_train[list_var_num]) # calcule la moyenne et l'écart-type des variables de la liste \"list_var_num\"\n",
    "\n",
    "# Application de la normalisation sur les jeux de données (train et test)\n",
    "X_train_with_norm[list_var_num]= scaler.transform(X_train[list_var_num]) # train\n",
    "X_test_with_norm[list_var_num] = scaler.transform(X_test[list_var_num]) # test"
   ]
  },
  {
   "cell_type": "markdown",
   "id": "03fd92b4",
   "metadata": {},
   "source": [
    "#### 6.3 Recherche du meilleur modèle "
   ]
  },
  {
   "cell_type": "code",
   "execution_count": 6,
   "id": "560de36c",
   "metadata": {},
   "outputs": [],
   "source": [
    "list_models = [\"Logistic Regression (L1)\", \"Logistic Regression (L2)\", \"Logistic Regression (ElasticNet)\"] # liste des modélisations à tester\n",
    "logistic_models = ModelComparator(y_train= y_train, X_train= X_train_with_norm, y_test= y_test, X_test= X_test_with_norm, list_models= list_models, random_state= random_state) # initier la class permettant la modélisation"
   ]
  },
  {
   "cell_type": "markdown",
   "id": "01f125a1",
   "metadata": {},
   "source": [
    "<div class=\"alert alert-block alert-info\">\n",
    "<b>🔔 Rappel : plusieurs approches pour optimiser les hyperparamètres d'un modèle :</b></p>\n",
    "  <table>\n",
    "    <thead>\n",
    "      <tr>\n",
    "        <th>Méthode</th>\n",
    "        <th>Description</th>\n",
    "      </tr>\n",
    "    </thead>\n",
    "    <tbody>\n",
    "      <tr>\n",
    "        <td>Grid Search</td>\n",
    "        <td>Exploration exhaustive d'une grille pré-définie de valeurs d'hyperparamètres pour trouver la meilleure combinaison.</td>\n",
    "      </tr>\n",
    "      <tr>\n",
    "      <tr>\n",
    "        <td>Méthode aléatoire</td>\n",
    "        <td>Exploration de l'espace des hyperparamètres en échantillonnant aléatoirement des combinaisons, souvent plus efficace que Grid Search dans de grands espaces.</td>\n",
    "      </tr>\n",
    "        <td>Optimisation Bayésienne</td>\n",
    "        <td> modèle probabiliste (souvent un processus gaussien) qui sélectionne intelligemment les prochaines combinaisons d'hyperparamètres à tester. Cela permet d'équilibrer exploration (essayer de nouvelles zones) et exploitation (affiner les zones prometteuses), réduisant ainsi le nombre d'évaluations nécessaires pour trouver des hyperparamètres optimaux.</td>\n",
    "      </tr>\n",
    "    </tbody>\n",
    "  </table>\n",
    "</div>\n"
   ]
  },
  {
   "cell_type": "markdown",
   "id": "eb46fb9d",
   "metadata": {},
   "source": [
    "Nous allons utiliser `l'Optimisation Bayésienne` car c'est souvent celle qui permet les meilleurs résultats (mais elle peut être coûteuse en temps de calculs)"
   ]
  },
  {
   "cell_type": "markdown",
   "id": "1f24dc67",
   "metadata": {},
   "source": [
    "<div class=\"alert alert-block alert-info\">\n",
    "<b>🔔 Rappel : métriques candidates pour optimiser les performances du modèle :</b></p>\n",
    "  <table>\n",
    "    <thead>\n",
    "      <tr>\n",
    "        <th>Métrique</th>\n",
    "        <th>Avantages</th>\n",
    "        <th>Inconvénients</th>\n",
    "        <th>Contexte d'utilisation</th>\n",
    "      </tr>\n",
    "    </thead>\n",
    "    <tbody>\n",
    "      <tr>\n",
    "        <td>Accuracy</td>\n",
    "        <td>\n",
    "          <ul>\n",
    "            <li>Simple à interpréter</li>\n",
    "            <li>Fournit une vue d'ensemble de la performance du modèle</li>\n",
    "          </ul>\n",
    "        </td>\n",
    "        <td>\n",
    "          <ul>\n",
    "            <li>Peut être trompeuse en cas de classes très déséquilibrées (cas fréquent en scoring de crédit)</li>\n",
    "            <li>Ne distingue pas le coût entre octroi de crédit à risque et refus injustifié</li>\n",
    "          </ul>\n",
    "        </td>\n",
    "        <td>\n",
    "          <ul>\n",
    "            <li>Peut être utilisée comme indicateur global lorsque les défauts sont suffisamment représentatifs</li>\n",
    "          </ul>\n",
    "        </td>\n",
    "      </tr>\n",
    "      <tr>\n",
    "        <td>Precision</td>\n",
    "        <td>\n",
    "          <ul>\n",
    "            <li>Réduit le risque d'octroyer un crédit à un client à risque</li>\n",
    "            <li>Aide à limiter les faux positifs, c'est-à-dire les cas où un client est classé comme bon payeur à tort</li>\n",
    "          </ul>\n",
    "        </td>\n",
    "        <td>\n",
    "          <ul>\n",
    "            <li>Peut négliger les faux négatifs (clients bons payeurs à qui on refuse le crédit à tort)</li>\n",
    "          </ul>\n",
    "        </td>\n",
    "        <td>\n",
    "          <ul>\n",
    "            <li>Privilégiée lorsque le coût d'un crédit accordé à un mauvais payeur est très élevé</li>\n",
    "          </ul>\n",
    "        </td>\n",
    "      </tr>\n",
    "      <tr>\n",
    "        <td>Recall (Sensibilité)</td>\n",
    "        <td>\n",
    "          <ul>\n",
    "            <li>Maximise la détection des clients à risque</li>\n",
    "            <li>Diminue le nombre de défauts non identifiés</li>\n",
    "          </ul>\n",
    "        </td>\n",
    "        <td>\n",
    "          <ul>\n",
    "            <li>Peut augmenter le nombre de faux positifs, entraînant le refus de bons clients</li>\n",
    "          </ul>\n",
    "        </td>\n",
    "        <td>\n",
    "          <ul>\n",
    "            <li>Essentielle quand il est primordial d'identifier tous les cas à risque, même au prix d'un taux de refus plus élevé</li>\n",
    "          </ul>\n",
    "        </td>\n",
    "      </tr>\n",
    "      <tr>\n",
    "        <td>F1-score</td>\n",
    "        <td>\n",
    "          <ul>\n",
    "            <li>Fournit un équilibre entre la précision et le recall</li>\n",
    "            <li>Utile pour mesurer la performance globale quand il faut minimiser à la fois les erreurs de crédit risqué accordé et les refus injustifiés</li>\n",
    "          </ul>\n",
    "        </td>\n",
    "        <td>\n",
    "          <ul>\n",
    "            <li>Moins intuitif à interpréter pour les équipes non techniques</li>\n",
    "          </ul>\n",
    "        </td>\n",
    "        <td>\n",
    "          <ul>\n",
    "            <li>Recommandé quand il faut trouver un compromis entre les faux positifs et faux négatifs</li>\n",
    "          </ul>\n",
    "        </td>\n",
    "      </tr>\n",
    "      <tr>\n",
    "        <td>ROC AUC</td>\n",
    "        <td>\n",
    "          <ul>\n",
    "            <li>Mesure la capacité du modèle à distinguer les bons payeurs des mauvais payeurs sur l'ensemble des seuils</li>\n",
    "            <li>Indépendante du seuil de décision, ce qui est utile pour comparer plusieurs modèles</li>\n",
    "          </ul>\n",
    "        </td>\n",
    "        <td>\n",
    "          <ul>\n",
    "            <li>Quand cible très déséquibrée, surestimation de la performance : un modèle peut obtenir une AUC élevée en se focalisant principalement sur la classe majoritaire, même s'il détecte mal la classe minoritaire. Ainsi, le modèle risque de mal détecter les mauvais payeurs</li>\n",
    "          </ul>\n",
    "        </td>\n",
    "        <td>\n",
    "          <ul>\n",
    "            <li>Idéal pour la sélection et l'évaluation globale des modèles de scoring de crédit</li>\n",
    "          </ul>\n",
    "        </td>\n",
    "      </tr>\n",
    "      <tr>\n",
    "        <td>Log Loss</td>\n",
    "        <td>\n",
    "          <ul>\n",
    "            <li>Utilise la probabilité prédite pour chaque client, ce qui aide à calibrer le risque</li>\n",
    "            <li>Pénalise sévèrement les prédictions erronées avec haute confiance</li>\n",
    "          </ul>\n",
    "        </td>\n",
    "        <td>\n",
    "          <ul>\n",
    "            <li>Peut être moins intuitif pour les équipes opérationnelles</li>\n",
    "          </ul>\n",
    "        </td>\n",
    "        <td>\n",
    "          <ul>\n",
    "            <li>Utile lors de la calibration du modèle pour obtenir des probabilités bien calibrées et reflétant le risque réel</li>\n",
    "          </ul>\n",
    "        </td>\n",
    "      </tr>\n",
    "    </tbody>\n",
    "  </table>\n",
    "</div>\n"
   ]
  },
  {
   "cell_type": "markdown",
   "id": "aa6b30ae",
   "metadata": {},
   "source": [
    "Nous allons privilégier le `F1-score` comme critère."
   ]
  },
  {
   "cell_type": "markdown",
   "id": "f9a4d4bc",
   "metadata": {},
   "source": [
    "<div class=\"alert alert-block alert-info\">\n",
    "<b>🔔 Rappels sur les pénalisations</b></p>\n",
    "  <table>\n",
    "    <thead>\n",
    "      <tr>\n",
    "        <th>Type de Régression</th>\n",
    "        <th>Principe</th>\n",
    "        <th>Avantages</th>\n",
    "        <th>Inconvénients</th>\n",
    "        <th>Quand l'utiliser ?</th>\n",
    "      </tr>\n",
    "    </thead>\n",
    "    <tbody>\n",
    "      <tr>\n",
    "        <td>Ridge (L2)</td>\n",
    "        <td>Pénalise la somme des <b>carrés</b> des coefficients (L2)</td>\n",
    "        <td>\n",
    "          <ul>\n",
    "            <li>Réduit la variance du modèle</li>\n",
    "            <li>Gère bien la multicolinéarité</li>\n",
    "            <li>Convient aux modèles avec beaucoup de variables peu pertinentes</li>\n",
    "          </ul>\n",
    "        </td>\n",
    "        <td>\n",
    "          <ul>\n",
    "            <li>Ne réalise pas de sélection de variables</li>\n",
    "            <li>Les coefficients sont réduits mais jamais annulés</li>\n",
    "          </ul>\n",
    "        </td>\n",
    "        <td>\n",
    "          <ul>\n",
    "            <li>Quand toutes les variables peuvent être informatives</li>\n",
    "            <li>Quand la stabilité est prioritaire à l’interprétation</li>\n",
    "          </ul>\n",
    "        </td>\n",
    "      </tr>\n",
    "      <tr>\n",
    "        <td>Lasso (L1)</td>\n",
    "        <td>Pénalise la somme des <b>valeurs absolues</b> des coefficients (L1)</td>\n",
    "        <td>\n",
    "          <ul>\n",
    "            <li>Effectue une sélection automatique des variables</li>\n",
    "            <li>Donne des modèles plus interprétables</li>\n",
    "            <li>Peut annuler certains coefficients → simplification du modèle</li>\n",
    "          </ul>\n",
    "        </td>\n",
    "        <td>\n",
    "          <ul>\n",
    "            <li>Moins stable quand les variables sont fortement corrélées</li>\n",
    "            <li>Peut sélectionner arbitrairement parmi des variables similaires</li>\n",
    "          </ul>\n",
    "        </td>\n",
    "        <td>\n",
    "          <ul>\n",
    "            <li>Quand on cherche un modèle simple avec peu de variables</li>\n",
    "            <li>Utile en phase exploratoire pour repérer les variables importantes</li>\n",
    "          </ul>\n",
    "        </td>\n",
    "      </tr>\n",
    "      <tr>\n",
    "        <td>Elastic Net (L1 + L2)</td>\n",
    "        <td>Combine les pénalités L1 et L2</td>\n",
    "        <td>\n",
    "          <ul>\n",
    "            <li>Compromis entre sélection de variables (L1) et stabilité (L2)</li>\n",
    "            <li>Gère bien les variables corrélées</li>\n",
    "          </ul>\n",
    "        </td>\n",
    "        <td>\n",
    "          <ul>\n",
    "            <li>Ajoute un hyperparamètre supplémentaire (`l1_ratio`)</li>\n",
    "            <li>Plus complexe à ajuster</li>\n",
    "          </ul>\n",
    "        </td>\n",
    "        <td>\n",
    "          <ul>\n",
    "            <li>Quand il y a beaucoup de variables, certaines corrélées, d'autres inutiles</li>\n",
    "            <li>Bon choix par défaut si on hésite entre Lasso et Ridge</li>\n",
    "          </ul>\n",
    "        </td>\n",
    "      </tr>\n",
    "    </tbody>\n",
    "  </table>\n",
    "  <p><b>En résumé :</b></p>\n",
    "    <ul>\n",
    "      <li><b>Ridge (L2)</b> : Tous les coefficients restent, mais sont \"rétrécis\". Aucun n'est supprimé. Modèle plus stable.</li>\n",
    "      <li><b>Lasso (L1)</b> : Fait une sélection de variables en mettant certains coefficients à zéro. Modèle plus simple.</li>\n",
    "      <li><b>Elastic Net</b> : Équilibre entre L1 et L2, utile quand les variables sont nombreuses et corrélées.</li>\n",
    "    </ul>\n",
    "</div>\n"
   ]
  },
  {
   "cell_type": "code",
   "execution_count": 7,
   "id": "d6d3c6e8",
   "metadata": {},
   "outputs": [
    {
     "name": "stdout",
     "output_type": "stream",
     "text": [
      "🔍 Optimisation en cours : Logistic Regression (L1)\n",
      "🔍 Optimisation en cours : Logistic Regression (L2)\n",
      "🔍 Optimisation en cours : Logistic Regression (ElasticNet)\n"
     ]
    },
    {
     "data": {
      "text/html": [
       "<div>\n",
       "<style scoped>\n",
       "    .dataframe tbody tr th:only-of-type {\n",
       "        vertical-align: middle;\n",
       "    }\n",
       "\n",
       "    .dataframe tbody tr th {\n",
       "        vertical-align: top;\n",
       "    }\n",
       "\n",
       "    .dataframe thead th {\n",
       "        text-align: right;\n",
       "    }\n",
       "</style>\n",
       "<table border=\"1\" class=\"dataframe\">\n",
       "  <thead>\n",
       "    <tr style=\"text-align: right;\">\n",
       "      <th></th>\n",
       "      <th>Modèle</th>\n",
       "      <th>Score F1 (CV)</th>\n",
       "      <th>Durée (s)</th>\n",
       "    </tr>\n",
       "  </thead>\n",
       "  <tbody>\n",
       "    <tr>\n",
       "      <th>1</th>\n",
       "      <td>Logistic Regression (L2)</td>\n",
       "      <td>0.517581</td>\n",
       "      <td>9.57</td>\n",
       "    </tr>\n",
       "    <tr>\n",
       "      <th>0</th>\n",
       "      <td>Logistic Regression (L1)</td>\n",
       "      <td>0.511215</td>\n",
       "      <td>19.30</td>\n",
       "    </tr>\n",
       "    <tr>\n",
       "      <th>2</th>\n",
       "      <td>Logistic Regression (ElasticNet)</td>\n",
       "      <td>0.509199</td>\n",
       "      <td>10.03</td>\n",
       "    </tr>\n",
       "  </tbody>\n",
       "</table>\n",
       "</div>"
      ],
      "text/plain": [
       "                             Modèle  Score F1 (CV)  Durée (s)\n",
       "1          Logistic Regression (L2)       0.517581       9.57\n",
       "0          Logistic Regression (L1)       0.511215      19.30\n",
       "2  Logistic Regression (ElasticNet)       0.509199      10.03"
      ]
     },
     "execution_count": 7,
     "metadata": {},
     "output_type": "execute_result"
    }
   ],
   "source": [
    "logistic_models.bayes_optimize_models(n_iter= 20, cv_folds= 5, scoring= \"f1\")"
   ]
  },
  {
   "cell_type": "code",
   "execution_count": 8,
   "id": "c356c140",
   "metadata": {},
   "outputs": [
    {
     "data": {
      "application/vnd.plotly.v1+json": {
       "config": {
        "plotlyServerURL": "https://plot.ly"
       },
       "data": [
        {
         "hovertemplate": "Itération = %{x}<br>Score = %{y:.4f}<extra></extra>",
         "mode": "lines+markers",
         "name": "Logistic Regression (L1) (max=0.5112)",
         "type": "scatter",
         "x": [
          1,
          2,
          3,
          4,
          5,
          6,
          7,
          8,
          9,
          10,
          11,
          12,
          13,
          14,
          15,
          16,
          17,
          18,
          19,
          20
         ],
         "y": {
          "bdata": "loyrvrkV2D8AAAAAAAAAAFSUhdmg/Nc/AAAAAAAAAAAAAAAAAAAAAE7hhd9v8t8/gBIQ3zHL3z+WNeQ6L8HUPwAAAAAAAAAA05hh3SGDwD+biAdW3FHgP8dox+ugJOA/HUdcf/Ir4D+9yGuFVhDgPwq65arfW+A/7UMQSrjh3z/wrsl4KTPgPyy1ToHIWuA/clhfjbS+3z+t7PLP6ijgPw==",
          "dtype": "f8"
         }
        },
        {
         "hovertemplate": "Logistic Regression (L1)<br>Itération optimale = 15<br>Score = 0.5112<extra></extra>",
         "marker": {
          "color": "red",
          "size": 8,
          "symbol": "star"
         },
         "mode": "markers",
         "name": "Logistic Regression (L1) ★",
         "showlegend": false,
         "type": "scatter",
         "x": [
          15
         ],
         "y": [
          0.5112150514449365
         ]
        },
        {
         "hovertemplate": "Itération = %{x}<br>Score = %{y:.4f}<extra></extra>",
         "mode": "lines+markers",
         "name": "Logistic Regression (L2) (max=0.5176)",
         "type": "scatter",
         "x": [
          1,
          2,
          3,
          4,
          5,
          6,
          7,
          8,
          9,
          10,
          11,
          12,
          13,
          14,
          15,
          16,
          17,
          18,
          19,
          20
         ],
         "y": {
          "bdata": "7ugeeXTp3j/HFnwpnL7EP3XtzCTGMd8/AAAAAAAAAADTy2/4FAK9P1hZ1QdNbt8/BX2EflcX4D9bQORNA5HePwAAAAAAAAAAvq2oV0dC2T/+HRJ+zXHfP9jawbIGkOA/2NrBsgaQ4D8OQJZyaxfgP47aI8fu/N8/CPI8cD8g4D/VaauCxnPgPwbWy5ZMht8/zZsHz9hb4D/zuRjWWFPgPw==",
          "dtype": "f8"
         }
        },
        {
         "hovertemplate": "Logistic Regression (L2)<br>Itération optimale = 12<br>Score = 0.5176<extra></extra>",
         "marker": {
          "color": "red",
          "size": 8,
          "symbol": "star"
         },
         "mode": "markers",
         "name": "Logistic Regression (L2) ★",
         "showlegend": false,
         "type": "scatter",
         "x": [
          12
         ],
         "y": [
          0.5175813189842655
         ]
        },
        {
         "hovertemplate": "Itération = %{x}<br>Score = %{y:.4f}<extra></extra>",
         "mode": "lines+markers",
         "name": "Logistic Regression (ElasticNet) (max=0.5092)",
         "type": "scatter",
         "x": [
          1,
          2,
          3,
          4,
          5,
          6,
          7,
          8,
          9,
          10,
          11,
          12,
          13,
          14,
          15,
          16,
          17,
          18,
          19,
          20
         ],
         "y": {
          "bdata": "7sb/caUo2j8AAAAAAAAAAF7Au2itqN0/AAAAAAAAAAAAAAAAAAAAAEDRfbtYBOA/evdgi7PU3z9XiwCVeubYPwAAAAAAAAAAiIaHDvqjvT8VYmBqZOrfPwsf2bGiSd8/SKjJHrmp3z8FfYR+VxfgP/VA+WGjtd8/IIAMCVxL4D8ADjP8YAfgP2scIww7CeA/5N4z/dYA4D8W4LEL1bPfPw==",
          "dtype": "f8"
         }
        },
        {
         "hovertemplate": "Logistic Regression (ElasticNet)<br>Itération optimale = 16<br>Score = 0.5092<extra></extra>",
         "marker": {
          "color": "red",
          "size": 8,
          "symbol": "star"
         },
         "mode": "markers",
         "name": "Logistic Regression (ElasticNet) ★",
         "showlegend": false,
         "type": "scatter",
         "x": [
          16
         ],
         "y": [
          0.509199159310814
         ]
        }
       ],
       "layout": {
        "height": 550,
        "legend": {
         "title": {
          "text": "Modèles"
         }
        },
        "template": {
         "data": {
          "bar": [
           {
            "error_x": {
             "color": "#2a3f5f"
            },
            "error_y": {
             "color": "#2a3f5f"
            },
            "marker": {
             "line": {
              "color": "white",
              "width": 0.5
             },
             "pattern": {
              "fillmode": "overlay",
              "size": 10,
              "solidity": 0.2
             }
            },
            "type": "bar"
           }
          ],
          "barpolar": [
           {
            "marker": {
             "line": {
              "color": "white",
              "width": 0.5
             },
             "pattern": {
              "fillmode": "overlay",
              "size": 10,
              "solidity": 0.2
             }
            },
            "type": "barpolar"
           }
          ],
          "carpet": [
           {
            "aaxis": {
             "endlinecolor": "#2a3f5f",
             "gridcolor": "#C8D4E3",
             "linecolor": "#C8D4E3",
             "minorgridcolor": "#C8D4E3",
             "startlinecolor": "#2a3f5f"
            },
            "baxis": {
             "endlinecolor": "#2a3f5f",
             "gridcolor": "#C8D4E3",
             "linecolor": "#C8D4E3",
             "minorgridcolor": "#C8D4E3",
             "startlinecolor": "#2a3f5f"
            },
            "type": "carpet"
           }
          ],
          "choropleth": [
           {
            "colorbar": {
             "outlinewidth": 0,
             "ticks": ""
            },
            "type": "choropleth"
           }
          ],
          "contour": [
           {
            "colorbar": {
             "outlinewidth": 0,
             "ticks": ""
            },
            "colorscale": [
             [
              0,
              "#0d0887"
             ],
             [
              0.1111111111111111,
              "#46039f"
             ],
             [
              0.2222222222222222,
              "#7201a8"
             ],
             [
              0.3333333333333333,
              "#9c179e"
             ],
             [
              0.4444444444444444,
              "#bd3786"
             ],
             [
              0.5555555555555556,
              "#d8576b"
             ],
             [
              0.6666666666666666,
              "#ed7953"
             ],
             [
              0.7777777777777778,
              "#fb9f3a"
             ],
             [
              0.8888888888888888,
              "#fdca26"
             ],
             [
              1,
              "#f0f921"
             ]
            ],
            "type": "contour"
           }
          ],
          "contourcarpet": [
           {
            "colorbar": {
             "outlinewidth": 0,
             "ticks": ""
            },
            "type": "contourcarpet"
           }
          ],
          "heatmap": [
           {
            "colorbar": {
             "outlinewidth": 0,
             "ticks": ""
            },
            "colorscale": [
             [
              0,
              "#0d0887"
             ],
             [
              0.1111111111111111,
              "#46039f"
             ],
             [
              0.2222222222222222,
              "#7201a8"
             ],
             [
              0.3333333333333333,
              "#9c179e"
             ],
             [
              0.4444444444444444,
              "#bd3786"
             ],
             [
              0.5555555555555556,
              "#d8576b"
             ],
             [
              0.6666666666666666,
              "#ed7953"
             ],
             [
              0.7777777777777778,
              "#fb9f3a"
             ],
             [
              0.8888888888888888,
              "#fdca26"
             ],
             [
              1,
              "#f0f921"
             ]
            ],
            "type": "heatmap"
           }
          ],
          "histogram": [
           {
            "marker": {
             "pattern": {
              "fillmode": "overlay",
              "size": 10,
              "solidity": 0.2
             }
            },
            "type": "histogram"
           }
          ],
          "histogram2d": [
           {
            "colorbar": {
             "outlinewidth": 0,
             "ticks": ""
            },
            "colorscale": [
             [
              0,
              "#0d0887"
             ],
             [
              0.1111111111111111,
              "#46039f"
             ],
             [
              0.2222222222222222,
              "#7201a8"
             ],
             [
              0.3333333333333333,
              "#9c179e"
             ],
             [
              0.4444444444444444,
              "#bd3786"
             ],
             [
              0.5555555555555556,
              "#d8576b"
             ],
             [
              0.6666666666666666,
              "#ed7953"
             ],
             [
              0.7777777777777778,
              "#fb9f3a"
             ],
             [
              0.8888888888888888,
              "#fdca26"
             ],
             [
              1,
              "#f0f921"
             ]
            ],
            "type": "histogram2d"
           }
          ],
          "histogram2dcontour": [
           {
            "colorbar": {
             "outlinewidth": 0,
             "ticks": ""
            },
            "colorscale": [
             [
              0,
              "#0d0887"
             ],
             [
              0.1111111111111111,
              "#46039f"
             ],
             [
              0.2222222222222222,
              "#7201a8"
             ],
             [
              0.3333333333333333,
              "#9c179e"
             ],
             [
              0.4444444444444444,
              "#bd3786"
             ],
             [
              0.5555555555555556,
              "#d8576b"
             ],
             [
              0.6666666666666666,
              "#ed7953"
             ],
             [
              0.7777777777777778,
              "#fb9f3a"
             ],
             [
              0.8888888888888888,
              "#fdca26"
             ],
             [
              1,
              "#f0f921"
             ]
            ],
            "type": "histogram2dcontour"
           }
          ],
          "mesh3d": [
           {
            "colorbar": {
             "outlinewidth": 0,
             "ticks": ""
            },
            "type": "mesh3d"
           }
          ],
          "parcoords": [
           {
            "line": {
             "colorbar": {
              "outlinewidth": 0,
              "ticks": ""
             }
            },
            "type": "parcoords"
           }
          ],
          "pie": [
           {
            "automargin": true,
            "type": "pie"
           }
          ],
          "scatter": [
           {
            "fillpattern": {
             "fillmode": "overlay",
             "size": 10,
             "solidity": 0.2
            },
            "type": "scatter"
           }
          ],
          "scatter3d": [
           {
            "line": {
             "colorbar": {
              "outlinewidth": 0,
              "ticks": ""
             }
            },
            "marker": {
             "colorbar": {
              "outlinewidth": 0,
              "ticks": ""
             }
            },
            "type": "scatter3d"
           }
          ],
          "scattercarpet": [
           {
            "marker": {
             "colorbar": {
              "outlinewidth": 0,
              "ticks": ""
             }
            },
            "type": "scattercarpet"
           }
          ],
          "scattergeo": [
           {
            "marker": {
             "colorbar": {
              "outlinewidth": 0,
              "ticks": ""
             }
            },
            "type": "scattergeo"
           }
          ],
          "scattergl": [
           {
            "marker": {
             "colorbar": {
              "outlinewidth": 0,
              "ticks": ""
             }
            },
            "type": "scattergl"
           }
          ],
          "scattermap": [
           {
            "marker": {
             "colorbar": {
              "outlinewidth": 0,
              "ticks": ""
             }
            },
            "type": "scattermap"
           }
          ],
          "scattermapbox": [
           {
            "marker": {
             "colorbar": {
              "outlinewidth": 0,
              "ticks": ""
             }
            },
            "type": "scattermapbox"
           }
          ],
          "scatterpolar": [
           {
            "marker": {
             "colorbar": {
              "outlinewidth": 0,
              "ticks": ""
             }
            },
            "type": "scatterpolar"
           }
          ],
          "scatterpolargl": [
           {
            "marker": {
             "colorbar": {
              "outlinewidth": 0,
              "ticks": ""
             }
            },
            "type": "scatterpolargl"
           }
          ],
          "scatterternary": [
           {
            "marker": {
             "colorbar": {
              "outlinewidth": 0,
              "ticks": ""
             }
            },
            "type": "scatterternary"
           }
          ],
          "surface": [
           {
            "colorbar": {
             "outlinewidth": 0,
             "ticks": ""
            },
            "colorscale": [
             [
              0,
              "#0d0887"
             ],
             [
              0.1111111111111111,
              "#46039f"
             ],
             [
              0.2222222222222222,
              "#7201a8"
             ],
             [
              0.3333333333333333,
              "#9c179e"
             ],
             [
              0.4444444444444444,
              "#bd3786"
             ],
             [
              0.5555555555555556,
              "#d8576b"
             ],
             [
              0.6666666666666666,
              "#ed7953"
             ],
             [
              0.7777777777777778,
              "#fb9f3a"
             ],
             [
              0.8888888888888888,
              "#fdca26"
             ],
             [
              1,
              "#f0f921"
             ]
            ],
            "type": "surface"
           }
          ],
          "table": [
           {
            "cells": {
             "fill": {
              "color": "#EBF0F8"
             },
             "line": {
              "color": "white"
             }
            },
            "header": {
             "fill": {
              "color": "#C8D4E3"
             },
             "line": {
              "color": "white"
             }
            },
            "type": "table"
           }
          ]
         },
         "layout": {
          "annotationdefaults": {
           "arrowcolor": "#2a3f5f",
           "arrowhead": 0,
           "arrowwidth": 1
          },
          "autotypenumbers": "strict",
          "coloraxis": {
           "colorbar": {
            "outlinewidth": 0,
            "ticks": ""
           }
          },
          "colorscale": {
           "diverging": [
            [
             0,
             "#8e0152"
            ],
            [
             0.1,
             "#c51b7d"
            ],
            [
             0.2,
             "#de77ae"
            ],
            [
             0.3,
             "#f1b6da"
            ],
            [
             0.4,
             "#fde0ef"
            ],
            [
             0.5,
             "#f7f7f7"
            ],
            [
             0.6,
             "#e6f5d0"
            ],
            [
             0.7,
             "#b8e186"
            ],
            [
             0.8,
             "#7fbc41"
            ],
            [
             0.9,
             "#4d9221"
            ],
            [
             1,
             "#276419"
            ]
           ],
           "sequential": [
            [
             0,
             "#0d0887"
            ],
            [
             0.1111111111111111,
             "#46039f"
            ],
            [
             0.2222222222222222,
             "#7201a8"
            ],
            [
             0.3333333333333333,
             "#9c179e"
            ],
            [
             0.4444444444444444,
             "#bd3786"
            ],
            [
             0.5555555555555556,
             "#d8576b"
            ],
            [
             0.6666666666666666,
             "#ed7953"
            ],
            [
             0.7777777777777778,
             "#fb9f3a"
            ],
            [
             0.8888888888888888,
             "#fdca26"
            ],
            [
             1,
             "#f0f921"
            ]
           ],
           "sequentialminus": [
            [
             0,
             "#0d0887"
            ],
            [
             0.1111111111111111,
             "#46039f"
            ],
            [
             0.2222222222222222,
             "#7201a8"
            ],
            [
             0.3333333333333333,
             "#9c179e"
            ],
            [
             0.4444444444444444,
             "#bd3786"
            ],
            [
             0.5555555555555556,
             "#d8576b"
            ],
            [
             0.6666666666666666,
             "#ed7953"
            ],
            [
             0.7777777777777778,
             "#fb9f3a"
            ],
            [
             0.8888888888888888,
             "#fdca26"
            ],
            [
             1,
             "#f0f921"
            ]
           ]
          },
          "colorway": [
           "#636efa",
           "#EF553B",
           "#00cc96",
           "#ab63fa",
           "#FFA15A",
           "#19d3f3",
           "#FF6692",
           "#B6E880",
           "#FF97FF",
           "#FECB52"
          ],
          "font": {
           "color": "#2a3f5f"
          },
          "geo": {
           "bgcolor": "white",
           "lakecolor": "white",
           "landcolor": "white",
           "showlakes": true,
           "showland": true,
           "subunitcolor": "#C8D4E3"
          },
          "hoverlabel": {
           "align": "left"
          },
          "hovermode": "closest",
          "mapbox": {
           "style": "light"
          },
          "paper_bgcolor": "white",
          "plot_bgcolor": "white",
          "polar": {
           "angularaxis": {
            "gridcolor": "#EBF0F8",
            "linecolor": "#EBF0F8",
            "ticks": ""
           },
           "bgcolor": "white",
           "radialaxis": {
            "gridcolor": "#EBF0F8",
            "linecolor": "#EBF0F8",
            "ticks": ""
           }
          },
          "scene": {
           "xaxis": {
            "backgroundcolor": "white",
            "gridcolor": "#DFE8F3",
            "gridwidth": 2,
            "linecolor": "#EBF0F8",
            "showbackground": true,
            "ticks": "",
            "zerolinecolor": "#EBF0F8"
           },
           "yaxis": {
            "backgroundcolor": "white",
            "gridcolor": "#DFE8F3",
            "gridwidth": 2,
            "linecolor": "#EBF0F8",
            "showbackground": true,
            "ticks": "",
            "zerolinecolor": "#EBF0F8"
           },
           "zaxis": {
            "backgroundcolor": "white",
            "gridcolor": "#DFE8F3",
            "gridwidth": 2,
            "linecolor": "#EBF0F8",
            "showbackground": true,
            "ticks": "",
            "zerolinecolor": "#EBF0F8"
           }
          },
          "shapedefaults": {
           "line": {
            "color": "#2a3f5f"
           }
          },
          "ternary": {
           "aaxis": {
            "gridcolor": "#DFE8F3",
            "linecolor": "#A2B1C6",
            "ticks": ""
           },
           "baxis": {
            "gridcolor": "#DFE8F3",
            "linecolor": "#A2B1C6",
            "ticks": ""
           },
           "bgcolor": "white",
           "caxis": {
            "gridcolor": "#DFE8F3",
            "linecolor": "#A2B1C6",
            "ticks": ""
           }
          },
          "title": {
           "x": 0.05
          },
          "xaxis": {
           "automargin": true,
           "gridcolor": "#EBF0F8",
           "linecolor": "#EBF0F8",
           "ticks": "",
           "title": {
            "standoff": 15
           },
           "zerolinecolor": "#EBF0F8",
           "zerolinewidth": 2
          },
          "yaxis": {
           "automargin": true,
           "gridcolor": "#EBF0F8",
           "linecolor": "#EBF0F8",
           "ticks": "",
           "title": {
            "standoff": 15
           },
           "zerolinecolor": "#EBF0F8",
           "zerolinewidth": 2
          }
         }
        },
        "title": {
         "text": "📉 Courbes de convergence Bayésienne (F1-score)"
        },
        "width": 950,
        "xaxis": {
         "title": {
          "text": "Itérations"
         }
        },
        "yaxis": {
         "title": {
          "text": "F1-score"
         }
        }
       }
      }
     },
     "metadata": {},
     "output_type": "display_data"
    }
   ],
   "source": [
    "# Itérations de l'optimisation bayésienne\n",
    "logistic_models.plot_all_bayes_convergences()"
   ]
  },
  {
   "cell_type": "code",
   "execution_count": 9,
   "id": "2aba2cb9",
   "metadata": {},
   "outputs": [
    {
     "data": {
      "application/vnd.plotly.v1+json": {
       "config": {
        "plotlyServerURL": "https://plot.ly"
       },
       "data": [
        {
         "hovertemplate": "FPR = %{x:.2f}<br>TPR = %{y:.2f}<extra></extra>",
         "mode": "lines",
         "name": "Logistic Regression (L2) (AUC = 0.810)",
         "type": "scatter",
         "x": {
          "bdata": "AAAAAAAAAAAAAAAAAAAAAAAAAAAAAAAAHdRBHdRBfT8d1EEd1EF9PxZf8RVf8ZU/Fl/xFV/xlT8d1EEd1EGdPx3UQR3UQZ0/Fl/xFV/xpT8WX/EVX/GlP5qZmZmZmak/mpmZmZmZqT8d1EEd1EGtPx3UQR3UQa0/kiRJkiRJsj+SJEmSJEmyPxZf8RVf8bU/Fl/xFV/xtT+amZmZmZm5P5qZmZmZmbk/kiRJkiRJwj+SJEmSJEnCPxZf8RVf8cU/Fl/xFV/xxT87qIM6qIPKPzuogzqog8o/27Zt27Ztyz/btm3btm3LP3zFV3zFV8w/fMVXfMVXzD9QB3VQB3XQP1AHdVAHddA/kiRJkiRJ0j+SJEmSJEnSP9RBHdRBHdQ/1EEd1EEd1D91UAd1UAfVP3VQB3VQB9U/ZmZmZmZm1j9mZmZmZmbWPwd1UAd1UNc/B3VQB3VQ1z9YfMVXfMXXP1h8xVd8xdc/qIM6qIM62D+ogzqogzrYP/mKr/iKr9g/+Yqv+Iqv2D8svuIrvuLbPyy+4iu+4ts/zczMzMzM3D/NzMzMzMzcPw/qoA7qoN4/D+qgDuqg3j8WX/EVX/HlPxZf8RVf8eU/B3VQB3VQ5z8HdVAHdVDnP3VQB3VQB+0/dVAHdVAH7T8d1EEd1EHtPx3UQR3UQe0/AAAAAAAA8D8=",
          "dtype": "f8"
         },
         "y": {
          "bdata": "AAAAAAAAAAARERERERGRP3d3d3d3d8c/d3d3d3d3xz/e3d3d3d3NP97d3d3d3c0/IiIiIiIi0j8iIiIiIiLSPzMzMzMzM9M/MzMzMzMz0z9ERERERETUP0RERERERNQ/vLu7u7u72z+8u7u7u7vbP+/u7u7u7t4/7+7u7u7u3j8RERERERHhPxEREREREeE/mpmZmZmZ4T+amZmZmZnhP6uqqqqqquI/q6qqqqqq4j8zMzMzMzPjPzMzMzMzM+M/vLu7u7u74z+8u7u7u7vjP0REREREROQ/RERERERE5D/NzMzMzMzkP83MzMzMzOQ/VVVVVVVV5T9VVVVVVVXlP97d3d3d3eU/3t3d3d3d5T93d3d3d3fnP3d3d3d3d+c/AAAAAAAA6D8AAAAAAADoP4mIiIiIiOg/iYiIiIiI6D8RERERERHpPxEREREREek/mpmZmZmZ6T+amZmZmZnpP6uqqqqqquo/q6qqqqqq6j8zMzMzMzPrPzMzMzMzM+s/vLu7u7u76z+8u7u7u7vrP0REREREROw/RERERERE7D/NzMzMzMzsP83MzMzMzOw/VVVVVVVV7T9VVVVVVVXtP2ZmZmZmZu4/ZmZmZmZm7j/v7u7u7u7uP+/u7u7u7u4/d3d3d3d37z93d3d3d3fvPwAAAAAAAPA/AAAAAAAA8D8=",
          "dtype": "f8"
         }
        },
        {
         "hovertemplate": "FPR = %{x:.2f}<br>TPR = %{y:.2f}<extra></extra>",
         "mode": "lines",
         "name": "Logistic Regression (L1) (AUC = 0.805)",
         "type": "scatter",
         "x": {
          "bdata": "AAAAAAAAAAAAAAAAAAAAAAAAAAAAAAAAHdRBHdRBjT8d1EEd1EGNPxZf8RVf8ZU/Fl/xFV/xlT8d1EEd1EGdPx3UQR3UQZ0/kiRJkiRJoj+SJEmSJEmiPxZf8RVf8aU/Fl/xFV/xpT+amZmZmZmpP5qZmZmZmak/kiRJkiRJsj+SJEmSJEmyP9RBHdRBHbQ/1EEd1EEdtD/xFV/xFV/BP/EVX/EVX8E/kiRJkiRJwj+SJEmSJEnCPzMzMzMzM8M/MzMzMzMzwz/5iq/4iq/IP/mKr/iKr8g/O6iDOqiDyj87qIM6qIPKP9u2bdu2bcs/27Zt27Ztyz98xVd8xVfMP3zFV3zFV8w/oQ7qoA7q0D+hDuqgDurQP/EVX/EVX9E/8RVf8RVf0T+SJEmSJEnSP5IkSZIkSdI/1EEd1EEd1D/UQR3UQR3UP8VXfMVXfNU/xVd8xVd81T9mZmZmZmbWP2ZmZmZmZtY/+Yqv+Iqv2D/5iq/4iq/YP5qZmZmZmdk/mpmZmZmZ2T98xVd8xVfcP3zFV3zFV9w/ZmZmZmZm5j9mZmZmZmbmP7D4iq/4iuc/sPiKr/iK5z/NzMzMzMzsP83MzMzMzOw/HdRBHdRB7T8d1EEd1EHtP8VXfMVXfO0/xVd8xVd87T8AAAAAAADwPw==",
          "dtype": "f8"
         },
         "y": {
          "bdata": "AAAAAAAAAAARERERERGRP5qZmZmZmbk/mpmZmZmZuT8RERERERHBPxEREREREcE/vLu7u7u7yz+8u7u7u7vLP1VVVVVVVdU/VVVVVVVV1T9mZmZmZmbWP2ZmZmZmZtY/mpmZmZmZ2T+amZmZmZnZP97d3d3d3d0/3t3d3d3d3T+JiIiIiIjgP4mIiIiIiOA/ERERERER4T8RERERERHhPyIiIiIiIuI/IiIiIiIi4j+rqqqqqqriP6uqqqqqquI/MzMzMzMz4z8zMzMzMzPjP7y7u7u7u+M/vLu7u7u74z9ERERERETkP0REREREROQ/zczMzMzM5D/NzMzMzMzkP1VVVVVVVeU/VVVVVVVV5T9mZmZmZmbmP2ZmZmZmZuY/7+7u7u7u5j/v7u7u7u7mP3d3d3d3d+c/d3d3d3d35z+JiIiIiIjoP4mIiIiIiOg/ERERERER6T8RERERERHpPyIiIiIiIuo/IiIiIiIi6j9ERERERETsP0REREREROw/zczMzMzM7D/NzMzMzMzsP1VVVVVVVe0/VVVVVVVV7T/e3d3d3d3tP97d3d3d3e0/ZmZmZmZm7j9mZmZmZmbuP+/u7u7u7u4/7+7u7u7u7j93d3d3d3fvP3d3d3d3d+8/AAAAAAAA8D8AAAAAAADwPw==",
          "dtype": "f8"
         }
        },
        {
         "hovertemplate": "FPR = %{x:.2f}<br>TPR = %{y:.2f}<extra></extra>",
         "mode": "lines",
         "name": "Logistic Regression (ElasticNet) (AUC = 0.800)",
         "type": "scatter",
         "x": {
          "bdata": "AAAAAAAAAAAAAAAAAAAAAAAAAAAAAAAAHdRBHdRBjT8d1EEd1EGNPxZf8RVf8ZU/Fl/xFV/xlT8d1EEd1EGdPx3UQR3UQZ0/kiRJkiRJoj+SJEmSJEmiPxZf8RVf8aU/Fl/xFV/xpT+amZmZmZmpP5qZmZmZmak/HdRBHdRBrT8d1EEd1EGtP1AHdVAHdbA/UAd1UAd1sD9YfMVXfMW3P1h8xVd8xbc/mpmZmZmZuT+amZmZmZm5P/EVX/EVX8E/8RVf8RVfwT8zMzMzMzPDPzMzMzMzM8M/dVAHdVAHxT91UAd1UAfFP7dt27Zt28Y/t23btm3bxj/5iq/4iq/IP/mKr/iKr8g/O6iDOqiDyj87qIM6qIPKP9u2bdu2bcs/27Zt27Ztyz9QB3VQB3XQP1AHdVAHddA/kiRJkiRJ0j+SJEmSJEnSP9RBHdRBHdQ/1EEd1EEd1D8lSZIkSZLUPyVJkiRJktQ/dVAHdVAH1T91UAd1UAfVP6iDOqiDOtg/qIM6qIM62D9JkiRJkiTZP0mSJEmSJNk/6qAO6qAO2j/qoA7qoA7aP4uv+Iqv+No/i6/4iq/42j98xVd8xVfcP3zFV3zFV9w/vuIrvuIr5j++4iu+4ivmP0mSJEmSJOk/SZIkSZIk6T8lSZIkSZLsPyVJkiRJkuw/xVd8xVd87T/FV3zFV3ztP27btm3btu0/btu2bdu27T8AAAAAAADwPw==",
          "dtype": "f8"
         },
         "y": {
          "bdata": "AAAAAAAAAAARERERERGRP5qZmZmZmbk/mpmZmZmZuT/e3d3d3d29P97d3d3d3b0/mpmZmZmZyT+amZmZmZnJP0RERERERNQ/RERERERE1D9VVVVVVVXVP1VVVVVVVdU/iYiIiIiI2D+JiIiIiIjYP6uqqqqqqto/q6qqqqqq2j/e3d3d3d3dP97d3d3d3d0/7+7u7u7u3j/v7u7u7u7eP4mIiIiIiOA/iYiIiIiI4D8RERERERHhPxEREREREeE/mpmZmZmZ4T+amZmZmZnhPyIiIiIiIuI/IiIiIiIi4j+rqqqqqqriP6uqqqqqquI/vLu7u7u74z+8u7u7u7vjP0REREREROQ/RERERERE5D/NzMzMzMzkP83MzMzMzOQ/VVVVVVVV5T9VVVVVVVXlP97d3d3d3eU/3t3d3d3d5T93d3d3d3fnP3d3d3d3d+c/AAAAAAAA6D8AAAAAAADoP4mIiIiIiOg/iYiIiIiI6D+amZmZmZnpP5qZmZmZmek/q6qqqqqq6j+rqqqqqqrqPzMzMzMzM+s/MzMzMzMz6z9ERERERETsP0REREREROw/zczMzMzM7D/NzMzMzMzsP1VVVVVVVe0/VVVVVVVV7T/e3d3d3d3tP97d3d3d3e0/ZmZmZmZm7j9mZmZmZmbuP+/u7u7u7u4/7+7u7u7u7j93d3d3d3fvP3d3d3d3d+8/AAAAAAAA8D8AAAAAAADwPw==",
          "dtype": "f8"
         }
        },
        {
         "hoverinfo": "skip",
         "line": {
          "color": "gray",
          "dash": "dash"
         },
         "mode": "lines",
         "name": "Modèle aléatoire",
         "type": "scatter",
         "x": [
          0,
          1
         ],
         "y": [
          0,
          1
         ]
        }
       ],
       "layout": {
        "height": 520,
        "template": {
         "data": {
          "bar": [
           {
            "error_x": {
             "color": "#2a3f5f"
            },
            "error_y": {
             "color": "#2a3f5f"
            },
            "marker": {
             "line": {
              "color": "white",
              "width": 0.5
             },
             "pattern": {
              "fillmode": "overlay",
              "size": 10,
              "solidity": 0.2
             }
            },
            "type": "bar"
           }
          ],
          "barpolar": [
           {
            "marker": {
             "line": {
              "color": "white",
              "width": 0.5
             },
             "pattern": {
              "fillmode": "overlay",
              "size": 10,
              "solidity": 0.2
             }
            },
            "type": "barpolar"
           }
          ],
          "carpet": [
           {
            "aaxis": {
             "endlinecolor": "#2a3f5f",
             "gridcolor": "#C8D4E3",
             "linecolor": "#C8D4E3",
             "minorgridcolor": "#C8D4E3",
             "startlinecolor": "#2a3f5f"
            },
            "baxis": {
             "endlinecolor": "#2a3f5f",
             "gridcolor": "#C8D4E3",
             "linecolor": "#C8D4E3",
             "minorgridcolor": "#C8D4E3",
             "startlinecolor": "#2a3f5f"
            },
            "type": "carpet"
           }
          ],
          "choropleth": [
           {
            "colorbar": {
             "outlinewidth": 0,
             "ticks": ""
            },
            "type": "choropleth"
           }
          ],
          "contour": [
           {
            "colorbar": {
             "outlinewidth": 0,
             "ticks": ""
            },
            "colorscale": [
             [
              0,
              "#0d0887"
             ],
             [
              0.1111111111111111,
              "#46039f"
             ],
             [
              0.2222222222222222,
              "#7201a8"
             ],
             [
              0.3333333333333333,
              "#9c179e"
             ],
             [
              0.4444444444444444,
              "#bd3786"
             ],
             [
              0.5555555555555556,
              "#d8576b"
             ],
             [
              0.6666666666666666,
              "#ed7953"
             ],
             [
              0.7777777777777778,
              "#fb9f3a"
             ],
             [
              0.8888888888888888,
              "#fdca26"
             ],
             [
              1,
              "#f0f921"
             ]
            ],
            "type": "contour"
           }
          ],
          "contourcarpet": [
           {
            "colorbar": {
             "outlinewidth": 0,
             "ticks": ""
            },
            "type": "contourcarpet"
           }
          ],
          "heatmap": [
           {
            "colorbar": {
             "outlinewidth": 0,
             "ticks": ""
            },
            "colorscale": [
             [
              0,
              "#0d0887"
             ],
             [
              0.1111111111111111,
              "#46039f"
             ],
             [
              0.2222222222222222,
              "#7201a8"
             ],
             [
              0.3333333333333333,
              "#9c179e"
             ],
             [
              0.4444444444444444,
              "#bd3786"
             ],
             [
              0.5555555555555556,
              "#d8576b"
             ],
             [
              0.6666666666666666,
              "#ed7953"
             ],
             [
              0.7777777777777778,
              "#fb9f3a"
             ],
             [
              0.8888888888888888,
              "#fdca26"
             ],
             [
              1,
              "#f0f921"
             ]
            ],
            "type": "heatmap"
           }
          ],
          "histogram": [
           {
            "marker": {
             "pattern": {
              "fillmode": "overlay",
              "size": 10,
              "solidity": 0.2
             }
            },
            "type": "histogram"
           }
          ],
          "histogram2d": [
           {
            "colorbar": {
             "outlinewidth": 0,
             "ticks": ""
            },
            "colorscale": [
             [
              0,
              "#0d0887"
             ],
             [
              0.1111111111111111,
              "#46039f"
             ],
             [
              0.2222222222222222,
              "#7201a8"
             ],
             [
              0.3333333333333333,
              "#9c179e"
             ],
             [
              0.4444444444444444,
              "#bd3786"
             ],
             [
              0.5555555555555556,
              "#d8576b"
             ],
             [
              0.6666666666666666,
              "#ed7953"
             ],
             [
              0.7777777777777778,
              "#fb9f3a"
             ],
             [
              0.8888888888888888,
              "#fdca26"
             ],
             [
              1,
              "#f0f921"
             ]
            ],
            "type": "histogram2d"
           }
          ],
          "histogram2dcontour": [
           {
            "colorbar": {
             "outlinewidth": 0,
             "ticks": ""
            },
            "colorscale": [
             [
              0,
              "#0d0887"
             ],
             [
              0.1111111111111111,
              "#46039f"
             ],
             [
              0.2222222222222222,
              "#7201a8"
             ],
             [
              0.3333333333333333,
              "#9c179e"
             ],
             [
              0.4444444444444444,
              "#bd3786"
             ],
             [
              0.5555555555555556,
              "#d8576b"
             ],
             [
              0.6666666666666666,
              "#ed7953"
             ],
             [
              0.7777777777777778,
              "#fb9f3a"
             ],
             [
              0.8888888888888888,
              "#fdca26"
             ],
             [
              1,
              "#f0f921"
             ]
            ],
            "type": "histogram2dcontour"
           }
          ],
          "mesh3d": [
           {
            "colorbar": {
             "outlinewidth": 0,
             "ticks": ""
            },
            "type": "mesh3d"
           }
          ],
          "parcoords": [
           {
            "line": {
             "colorbar": {
              "outlinewidth": 0,
              "ticks": ""
             }
            },
            "type": "parcoords"
           }
          ],
          "pie": [
           {
            "automargin": true,
            "type": "pie"
           }
          ],
          "scatter": [
           {
            "fillpattern": {
             "fillmode": "overlay",
             "size": 10,
             "solidity": 0.2
            },
            "type": "scatter"
           }
          ],
          "scatter3d": [
           {
            "line": {
             "colorbar": {
              "outlinewidth": 0,
              "ticks": ""
             }
            },
            "marker": {
             "colorbar": {
              "outlinewidth": 0,
              "ticks": ""
             }
            },
            "type": "scatter3d"
           }
          ],
          "scattercarpet": [
           {
            "marker": {
             "colorbar": {
              "outlinewidth": 0,
              "ticks": ""
             }
            },
            "type": "scattercarpet"
           }
          ],
          "scattergeo": [
           {
            "marker": {
             "colorbar": {
              "outlinewidth": 0,
              "ticks": ""
             }
            },
            "type": "scattergeo"
           }
          ],
          "scattergl": [
           {
            "marker": {
             "colorbar": {
              "outlinewidth": 0,
              "ticks": ""
             }
            },
            "type": "scattergl"
           }
          ],
          "scattermap": [
           {
            "marker": {
             "colorbar": {
              "outlinewidth": 0,
              "ticks": ""
             }
            },
            "type": "scattermap"
           }
          ],
          "scattermapbox": [
           {
            "marker": {
             "colorbar": {
              "outlinewidth": 0,
              "ticks": ""
             }
            },
            "type": "scattermapbox"
           }
          ],
          "scatterpolar": [
           {
            "marker": {
             "colorbar": {
              "outlinewidth": 0,
              "ticks": ""
             }
            },
            "type": "scatterpolar"
           }
          ],
          "scatterpolargl": [
           {
            "marker": {
             "colorbar": {
              "outlinewidth": 0,
              "ticks": ""
             }
            },
            "type": "scatterpolargl"
           }
          ],
          "scatterternary": [
           {
            "marker": {
             "colorbar": {
              "outlinewidth": 0,
              "ticks": ""
             }
            },
            "type": "scatterternary"
           }
          ],
          "surface": [
           {
            "colorbar": {
             "outlinewidth": 0,
             "ticks": ""
            },
            "colorscale": [
             [
              0,
              "#0d0887"
             ],
             [
              0.1111111111111111,
              "#46039f"
             ],
             [
              0.2222222222222222,
              "#7201a8"
             ],
             [
              0.3333333333333333,
              "#9c179e"
             ],
             [
              0.4444444444444444,
              "#bd3786"
             ],
             [
              0.5555555555555556,
              "#d8576b"
             ],
             [
              0.6666666666666666,
              "#ed7953"
             ],
             [
              0.7777777777777778,
              "#fb9f3a"
             ],
             [
              0.8888888888888888,
              "#fdca26"
             ],
             [
              1,
              "#f0f921"
             ]
            ],
            "type": "surface"
           }
          ],
          "table": [
           {
            "cells": {
             "fill": {
              "color": "#EBF0F8"
             },
             "line": {
              "color": "white"
             }
            },
            "header": {
             "fill": {
              "color": "#C8D4E3"
             },
             "line": {
              "color": "white"
             }
            },
            "type": "table"
           }
          ]
         },
         "layout": {
          "annotationdefaults": {
           "arrowcolor": "#2a3f5f",
           "arrowhead": 0,
           "arrowwidth": 1
          },
          "autotypenumbers": "strict",
          "coloraxis": {
           "colorbar": {
            "outlinewidth": 0,
            "ticks": ""
           }
          },
          "colorscale": {
           "diverging": [
            [
             0,
             "#8e0152"
            ],
            [
             0.1,
             "#c51b7d"
            ],
            [
             0.2,
             "#de77ae"
            ],
            [
             0.3,
             "#f1b6da"
            ],
            [
             0.4,
             "#fde0ef"
            ],
            [
             0.5,
             "#f7f7f7"
            ],
            [
             0.6,
             "#e6f5d0"
            ],
            [
             0.7,
             "#b8e186"
            ],
            [
             0.8,
             "#7fbc41"
            ],
            [
             0.9,
             "#4d9221"
            ],
            [
             1,
             "#276419"
            ]
           ],
           "sequential": [
            [
             0,
             "#0d0887"
            ],
            [
             0.1111111111111111,
             "#46039f"
            ],
            [
             0.2222222222222222,
             "#7201a8"
            ],
            [
             0.3333333333333333,
             "#9c179e"
            ],
            [
             0.4444444444444444,
             "#bd3786"
            ],
            [
             0.5555555555555556,
             "#d8576b"
            ],
            [
             0.6666666666666666,
             "#ed7953"
            ],
            [
             0.7777777777777778,
             "#fb9f3a"
            ],
            [
             0.8888888888888888,
             "#fdca26"
            ],
            [
             1,
             "#f0f921"
            ]
           ],
           "sequentialminus": [
            [
             0,
             "#0d0887"
            ],
            [
             0.1111111111111111,
             "#46039f"
            ],
            [
             0.2222222222222222,
             "#7201a8"
            ],
            [
             0.3333333333333333,
             "#9c179e"
            ],
            [
             0.4444444444444444,
             "#bd3786"
            ],
            [
             0.5555555555555556,
             "#d8576b"
            ],
            [
             0.6666666666666666,
             "#ed7953"
            ],
            [
             0.7777777777777778,
             "#fb9f3a"
            ],
            [
             0.8888888888888888,
             "#fdca26"
            ],
            [
             1,
             "#f0f921"
            ]
           ]
          },
          "colorway": [
           "#636efa",
           "#EF553B",
           "#00cc96",
           "#ab63fa",
           "#FFA15A",
           "#19d3f3",
           "#FF6692",
           "#B6E880",
           "#FF97FF",
           "#FECB52"
          ],
          "font": {
           "color": "#2a3f5f"
          },
          "geo": {
           "bgcolor": "white",
           "lakecolor": "white",
           "landcolor": "white",
           "showlakes": true,
           "showland": true,
           "subunitcolor": "#C8D4E3"
          },
          "hoverlabel": {
           "align": "left"
          },
          "hovermode": "closest",
          "mapbox": {
           "style": "light"
          },
          "paper_bgcolor": "white",
          "plot_bgcolor": "white",
          "polar": {
           "angularaxis": {
            "gridcolor": "#EBF0F8",
            "linecolor": "#EBF0F8",
            "ticks": ""
           },
           "bgcolor": "white",
           "radialaxis": {
            "gridcolor": "#EBF0F8",
            "linecolor": "#EBF0F8",
            "ticks": ""
           }
          },
          "scene": {
           "xaxis": {
            "backgroundcolor": "white",
            "gridcolor": "#DFE8F3",
            "gridwidth": 2,
            "linecolor": "#EBF0F8",
            "showbackground": true,
            "ticks": "",
            "zerolinecolor": "#EBF0F8"
           },
           "yaxis": {
            "backgroundcolor": "white",
            "gridcolor": "#DFE8F3",
            "gridwidth": 2,
            "linecolor": "#EBF0F8",
            "showbackground": true,
            "ticks": "",
            "zerolinecolor": "#EBF0F8"
           },
           "zaxis": {
            "backgroundcolor": "white",
            "gridcolor": "#DFE8F3",
            "gridwidth": 2,
            "linecolor": "#EBF0F8",
            "showbackground": true,
            "ticks": "",
            "zerolinecolor": "#EBF0F8"
           }
          },
          "shapedefaults": {
           "line": {
            "color": "#2a3f5f"
           }
          },
          "ternary": {
           "aaxis": {
            "gridcolor": "#DFE8F3",
            "linecolor": "#A2B1C6",
            "ticks": ""
           },
           "baxis": {
            "gridcolor": "#DFE8F3",
            "linecolor": "#A2B1C6",
            "ticks": ""
           },
           "bgcolor": "white",
           "caxis": {
            "gridcolor": "#DFE8F3",
            "linecolor": "#A2B1C6",
            "ticks": ""
           }
          },
          "title": {
           "x": 0.05
          },
          "xaxis": {
           "automargin": true,
           "gridcolor": "#EBF0F8",
           "linecolor": "#EBF0F8",
           "ticks": "",
           "title": {
            "standoff": 15
           },
           "zerolinecolor": "#EBF0F8",
           "zerolinewidth": 2
          },
          "yaxis": {
           "automargin": true,
           "gridcolor": "#EBF0F8",
           "linecolor": "#EBF0F8",
           "ticks": "",
           "title": {
            "standoff": 15
           },
           "zerolinecolor": "#EBF0F8",
           "zerolinewidth": 2
          }
         }
        },
        "title": {
         "text": "📊 Courbes ROC comparées"
        },
        "width": 850,
        "xaxis": {
         "title": {
          "text": "Taux de faux positifs (FPR)"
         }
        },
        "yaxis": {
         "title": {
          "text": "Taux de vrais positifs (TPR)"
         }
        }
       }
      }
     },
     "metadata": {},
     "output_type": "display_data"
    }
   ],
   "source": [
    "# Courbes ROC\n",
    "logistic_models.plot_roc_curve_interactive()"
   ]
  },
  {
   "cell_type": "code",
   "execution_count": 10,
   "id": "5a885b03",
   "metadata": {},
   "outputs": [
    {
     "data": {
      "application/vnd.plotly.v1+json": {
       "config": {
        "plotlyServerURL": "https://plot.ly"
       },
       "data": [
        {
         "hovertemplate": "Recall = %{x:.2f}<br>Précision = %{y:.2f}<extra></extra>",
         "mode": "lines",
         "name": "Logistic Regression (L2) (AP = 0.702)",
         "type": "scatter",
         "x": {
          "bdata": "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",
          "dtype": "f8"
         },
         "y": {
          "bdata": "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",
          "dtype": "f8"
         }
        },
        {
         "hovertemplate": "Recall = %{x:.2f}<br>Précision = %{y:.2f}<extra></extra>",
         "mode": "lines",
         "name": "Logistic Regression (L1) (AP = 0.675)",
         "type": "scatter",
         "x": {
          "bdata": "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",
          "dtype": "f8"
         },
         "y": {
          "bdata": "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",
          "dtype": "f8"
         }
        },
        {
         "hovertemplate": "Recall = %{x:.2f}<br>Précision = %{y:.2f}<extra></extra>",
         "mode": "lines",
         "name": "Logistic Regression (ElasticNet) (AP = 0.666)",
         "type": "scatter",
         "x": {
          "bdata": "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",
          "dtype": "f8"
         },
         "y": {
          "bdata": "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",
          "dtype": "f8"
         }
        }
       ],
       "layout": {
        "height": 520,
        "template": {
         "data": {
          "bar": [
           {
            "error_x": {
             "color": "#2a3f5f"
            },
            "error_y": {
             "color": "#2a3f5f"
            },
            "marker": {
             "line": {
              "color": "white",
              "width": 0.5
             },
             "pattern": {
              "fillmode": "overlay",
              "size": 10,
              "solidity": 0.2
             }
            },
            "type": "bar"
           }
          ],
          "barpolar": [
           {
            "marker": {
             "line": {
              "color": "white",
              "width": 0.5
             },
             "pattern": {
              "fillmode": "overlay",
              "size": 10,
              "solidity": 0.2
             }
            },
            "type": "barpolar"
           }
          ],
          "carpet": [
           {
            "aaxis": {
             "endlinecolor": "#2a3f5f",
             "gridcolor": "#C8D4E3",
             "linecolor": "#C8D4E3",
             "minorgridcolor": "#C8D4E3",
             "startlinecolor": "#2a3f5f"
            },
            "baxis": {
             "endlinecolor": "#2a3f5f",
             "gridcolor": "#C8D4E3",
             "linecolor": "#C8D4E3",
             "minorgridcolor": "#C8D4E3",
             "startlinecolor": "#2a3f5f"
            },
            "type": "carpet"
           }
          ],
          "choropleth": [
           {
            "colorbar": {
             "outlinewidth": 0,
             "ticks": ""
            },
            "type": "choropleth"
           }
          ],
          "contour": [
           {
            "colorbar": {
             "outlinewidth": 0,
             "ticks": ""
            },
            "colorscale": [
             [
              0,
              "#0d0887"
             ],
             [
              0.1111111111111111,
              "#46039f"
             ],
             [
              0.2222222222222222,
              "#7201a8"
             ],
             [
              0.3333333333333333,
              "#9c179e"
             ],
             [
              0.4444444444444444,
              "#bd3786"
             ],
             [
              0.5555555555555556,
              "#d8576b"
             ],
             [
              0.6666666666666666,
              "#ed7953"
             ],
             [
              0.7777777777777778,
              "#fb9f3a"
             ],
             [
              0.8888888888888888,
              "#fdca26"
             ],
             [
              1,
              "#f0f921"
             ]
            ],
            "type": "contour"
           }
          ],
          "contourcarpet": [
           {
            "colorbar": {
             "outlinewidth": 0,
             "ticks": ""
            },
            "type": "contourcarpet"
           }
          ],
          "heatmap": [
           {
            "colorbar": {
             "outlinewidth": 0,
             "ticks": ""
            },
            "colorscale": [
             [
              0,
              "#0d0887"
             ],
             [
              0.1111111111111111,
              "#46039f"
             ],
             [
              0.2222222222222222,
              "#7201a8"
             ],
             [
              0.3333333333333333,
              "#9c179e"
             ],
             [
              0.4444444444444444,
              "#bd3786"
             ],
             [
              0.5555555555555556,
              "#d8576b"
             ],
             [
              0.6666666666666666,
              "#ed7953"
             ],
             [
              0.7777777777777778,
              "#fb9f3a"
             ],
             [
              0.8888888888888888,
              "#fdca26"
             ],
             [
              1,
              "#f0f921"
             ]
            ],
            "type": "heatmap"
           }
          ],
          "histogram": [
           {
            "marker": {
             "pattern": {
              "fillmode": "overlay",
              "size": 10,
              "solidity": 0.2
             }
            },
            "type": "histogram"
           }
          ],
          "histogram2d": [
           {
            "colorbar": {
             "outlinewidth": 0,
             "ticks": ""
            },
            "colorscale": [
             [
              0,
              "#0d0887"
             ],
             [
              0.1111111111111111,
              "#46039f"
             ],
             [
              0.2222222222222222,
              "#7201a8"
             ],
             [
              0.3333333333333333,
              "#9c179e"
             ],
             [
              0.4444444444444444,
              "#bd3786"
             ],
             [
              0.5555555555555556,
              "#d8576b"
             ],
             [
              0.6666666666666666,
              "#ed7953"
             ],
             [
              0.7777777777777778,
              "#fb9f3a"
             ],
             [
              0.8888888888888888,
              "#fdca26"
             ],
             [
              1,
              "#f0f921"
             ]
            ],
            "type": "histogram2d"
           }
          ],
          "histogram2dcontour": [
           {
            "colorbar": {
             "outlinewidth": 0,
             "ticks": ""
            },
            "colorscale": [
             [
              0,
              "#0d0887"
             ],
             [
              0.1111111111111111,
              "#46039f"
             ],
             [
              0.2222222222222222,
              "#7201a8"
             ],
             [
              0.3333333333333333,
              "#9c179e"
             ],
             [
              0.4444444444444444,
              "#bd3786"
             ],
             [
              0.5555555555555556,
              "#d8576b"
             ],
             [
              0.6666666666666666,
              "#ed7953"
             ],
             [
              0.7777777777777778,
              "#fb9f3a"
             ],
             [
              0.8888888888888888,
              "#fdca26"
             ],
             [
              1,
              "#f0f921"
             ]
            ],
            "type": "histogram2dcontour"
           }
          ],
          "mesh3d": [
           {
            "colorbar": {
             "outlinewidth": 0,
             "ticks": ""
            },
            "type": "mesh3d"
           }
          ],
          "parcoords": [
           {
            "line": {
             "colorbar": {
              "outlinewidth": 0,
              "ticks": ""
             }
            },
            "type": "parcoords"
           }
          ],
          "pie": [
           {
            "automargin": true,
            "type": "pie"
           }
          ],
          "scatter": [
           {
            "fillpattern": {
             "fillmode": "overlay",
             "size": 10,
             "solidity": 0.2
            },
            "type": "scatter"
           }
          ],
          "scatter3d": [
           {
            "line": {
             "colorbar": {
              "outlinewidth": 0,
              "ticks": ""
             }
            },
            "marker": {
             "colorbar": {
              "outlinewidth": 0,
              "ticks": ""
             }
            },
            "type": "scatter3d"
           }
          ],
          "scattercarpet": [
           {
            "marker": {
             "colorbar": {
              "outlinewidth": 0,
              "ticks": ""
             }
            },
            "type": "scattercarpet"
           }
          ],
          "scattergeo": [
           {
            "marker": {
             "colorbar": {
              "outlinewidth": 0,
              "ticks": ""
             }
            },
            "type": "scattergeo"
           }
          ],
          "scattergl": [
           {
            "marker": {
             "colorbar": {
              "outlinewidth": 0,
              "ticks": ""
             }
            },
            "type": "scattergl"
           }
          ],
          "scattermap": [
           {
            "marker": {
             "colorbar": {
              "outlinewidth": 0,
              "ticks": ""
             }
            },
            "type": "scattermap"
           }
          ],
          "scattermapbox": [
           {
            "marker": {
             "colorbar": {
              "outlinewidth": 0,
              "ticks": ""
             }
            },
            "type": "scattermapbox"
           }
          ],
          "scatterpolar": [
           {
            "marker": {
             "colorbar": {
              "outlinewidth": 0,
              "ticks": ""
             }
            },
            "type": "scatterpolar"
           }
          ],
          "scatterpolargl": [
           {
            "marker": {
             "colorbar": {
              "outlinewidth": 0,
              "ticks": ""
             }
            },
            "type": "scatterpolargl"
           }
          ],
          "scatterternary": [
           {
            "marker": {
             "colorbar": {
              "outlinewidth": 0,
              "ticks": ""
             }
            },
            "type": "scatterternary"
           }
          ],
          "surface": [
           {
            "colorbar": {
             "outlinewidth": 0,
             "ticks": ""
            },
            "colorscale": [
             [
              0,
              "#0d0887"
             ],
             [
              0.1111111111111111,
              "#46039f"
             ],
             [
              0.2222222222222222,
              "#7201a8"
             ],
             [
              0.3333333333333333,
              "#9c179e"
             ],
             [
              0.4444444444444444,
              "#bd3786"
             ],
             [
              0.5555555555555556,
              "#d8576b"
             ],
             [
              0.6666666666666666,
              "#ed7953"
             ],
             [
              0.7777777777777778,
              "#fb9f3a"
             ],
             [
              0.8888888888888888,
              "#fdca26"
             ],
             [
              1,
              "#f0f921"
             ]
            ],
            "type": "surface"
           }
          ],
          "table": [
           {
            "cells": {
             "fill": {
              "color": "#EBF0F8"
             },
             "line": {
              "color": "white"
             }
            },
            "header": {
             "fill": {
              "color": "#C8D4E3"
             },
             "line": {
              "color": "white"
             }
            },
            "type": "table"
           }
          ]
         },
         "layout": {
          "annotationdefaults": {
           "arrowcolor": "#2a3f5f",
           "arrowhead": 0,
           "arrowwidth": 1
          },
          "autotypenumbers": "strict",
          "coloraxis": {
           "colorbar": {
            "outlinewidth": 0,
            "ticks": ""
           }
          },
          "colorscale": {
           "diverging": [
            [
             0,
             "#8e0152"
            ],
            [
             0.1,
             "#c51b7d"
            ],
            [
             0.2,
             "#de77ae"
            ],
            [
             0.3,
             "#f1b6da"
            ],
            [
             0.4,
             "#fde0ef"
            ],
            [
             0.5,
             "#f7f7f7"
            ],
            [
             0.6,
             "#e6f5d0"
            ],
            [
             0.7,
             "#b8e186"
            ],
            [
             0.8,
             "#7fbc41"
            ],
            [
             0.9,
             "#4d9221"
            ],
            [
             1,
             "#276419"
            ]
           ],
           "sequential": [
            [
             0,
             "#0d0887"
            ],
            [
             0.1111111111111111,
             "#46039f"
            ],
            [
             0.2222222222222222,
             "#7201a8"
            ],
            [
             0.3333333333333333,
             "#9c179e"
            ],
            [
             0.4444444444444444,
             "#bd3786"
            ],
            [
             0.5555555555555556,
             "#d8576b"
            ],
            [
             0.6666666666666666,
             "#ed7953"
            ],
            [
             0.7777777777777778,
             "#fb9f3a"
            ],
            [
             0.8888888888888888,
             "#fdca26"
            ],
            [
             1,
             "#f0f921"
            ]
           ],
           "sequentialminus": [
            [
             0,
             "#0d0887"
            ],
            [
             0.1111111111111111,
             "#46039f"
            ],
            [
             0.2222222222222222,
             "#7201a8"
            ],
            [
             0.3333333333333333,
             "#9c179e"
            ],
            [
             0.4444444444444444,
             "#bd3786"
            ],
            [
             0.5555555555555556,
             "#d8576b"
            ],
            [
             0.6666666666666666,
             "#ed7953"
            ],
            [
             0.7777777777777778,
             "#fb9f3a"
            ],
            [
             0.8888888888888888,
             "#fdca26"
            ],
            [
             1,
             "#f0f921"
            ]
           ]
          },
          "colorway": [
           "#636efa",
           "#EF553B",
           "#00cc96",
           "#ab63fa",
           "#FFA15A",
           "#19d3f3",
           "#FF6692",
           "#B6E880",
           "#FF97FF",
           "#FECB52"
          ],
          "font": {
           "color": "#2a3f5f"
          },
          "geo": {
           "bgcolor": "white",
           "lakecolor": "white",
           "landcolor": "white",
           "showlakes": true,
           "showland": true,
           "subunitcolor": "#C8D4E3"
          },
          "hoverlabel": {
           "align": "left"
          },
          "hovermode": "closest",
          "mapbox": {
           "style": "light"
          },
          "paper_bgcolor": "white",
          "plot_bgcolor": "white",
          "polar": {
           "angularaxis": {
            "gridcolor": "#EBF0F8",
            "linecolor": "#EBF0F8",
            "ticks": ""
           },
           "bgcolor": "white",
           "radialaxis": {
            "gridcolor": "#EBF0F8",
            "linecolor": "#EBF0F8",
            "ticks": ""
           }
          },
          "scene": {
           "xaxis": {
            "backgroundcolor": "white",
            "gridcolor": "#DFE8F3",
            "gridwidth": 2,
            "linecolor": "#EBF0F8",
            "showbackground": true,
            "ticks": "",
            "zerolinecolor": "#EBF0F8"
           },
           "yaxis": {
            "backgroundcolor": "white",
            "gridcolor": "#DFE8F3",
            "gridwidth": 2,
            "linecolor": "#EBF0F8",
            "showbackground": true,
            "ticks": "",
            "zerolinecolor": "#EBF0F8"
           },
           "zaxis": {
            "backgroundcolor": "white",
            "gridcolor": "#DFE8F3",
            "gridwidth": 2,
            "linecolor": "#EBF0F8",
            "showbackground": true,
            "ticks": "",
            "zerolinecolor": "#EBF0F8"
           }
          },
          "shapedefaults": {
           "line": {
            "color": "#2a3f5f"
           }
          },
          "ternary": {
           "aaxis": {
            "gridcolor": "#DFE8F3",
            "linecolor": "#A2B1C6",
            "ticks": ""
           },
           "baxis": {
            "gridcolor": "#DFE8F3",
            "linecolor": "#A2B1C6",
            "ticks": ""
           },
           "bgcolor": "white",
           "caxis": {
            "gridcolor": "#DFE8F3",
            "linecolor": "#A2B1C6",
            "ticks": ""
           }
          },
          "title": {
           "x": 0.05
          },
          "xaxis": {
           "automargin": true,
           "gridcolor": "#EBF0F8",
           "linecolor": "#EBF0F8",
           "ticks": "",
           "title": {
            "standoff": 15
           },
           "zerolinecolor": "#EBF0F8",
           "zerolinewidth": 2
          },
          "yaxis": {
           "automargin": true,
           "gridcolor": "#EBF0F8",
           "linecolor": "#EBF0F8",
           "ticks": "",
           "title": {
            "standoff": 15
           },
           "zerolinecolor": "#EBF0F8",
           "zerolinewidth": 2
          }
         }
        },
        "title": {
         "text": "📈 Courbes Précision-Rappel comparées"
        },
        "width": 850,
        "xaxis": {
         "title": {
          "text": "Recall"
         }
        },
        "yaxis": {
         "title": {
          "text": "Precision"
         }
        }
       }
      }
     },
     "metadata": {},
     "output_type": "display_data"
    }
   ],
   "source": [
    "# Courbes Recall/Précision\n",
    "logistic_models.plot_precision_recall_curve_interactive()"
   ]
  },
  {
   "cell_type": "code",
   "execution_count": 11,
   "id": "2f2b1972",
   "metadata": {},
   "outputs": [
    {
     "data": {
      "application/vnd.plotly.v1+json": {
       "config": {
        "plotlyServerURL": "https://plot.ly"
       },
       "data": [
        {
         "hovertemplate": "Seuil = %{x:.2f}<br>F1-score = %{y:.3f}<extra></extra>",
         "mode": "lines+markers",
         "name": "Logistic Regression (L2) (max=0.642)",
         "type": "scatter",
         "x": {
          "bdata": "exSuR+F6hD8Lv1ubZmCUP9hz4JJcg54/U5QyRSlTpD+67vRApGSpPyFJtzwfdq4/w9E8HM3DsT/3/h2aiky0Pyos/xdI1bY/XVnglQVeuT+RhsETw+a7P8SzopGAb74/fPDBBx98wD8Wh7LGfcDBP7Ado4XcBMM/SbSTRDtJxD/jSoQDmo3FP33hdML40cY/FnhlgVcWyD+wDlZAtlrJP0qlRv8Un8o/4zs3vnPjyz990id90ifNPxdpGDwxbM4/sP8I+4+wzz8ly/xcd3rQP3IWdbymHNE/v2HtG9a+0T8MrWV7BWHSP1j43do0A9M/pUNWOmSl0z/yjs6Zk0fUPz/aRvnC6dQ/jCW/WPKL1T/ZcDe4IS7WPya8rxdR0NY/cgcod4By1z+/UqDWrxTYPwyeGDbfttg/WemQlQ5Z2T+mNAn1PfvZP/N/gVRtndo/P8v5s5w/2z+MFnITzOHbP9lh6nL7g9w/Jq1i0iom3T9z+NoxWsjdP8BDU5GJat4/DI/L8LgM3z9Z2kNQ6K7fP9MS3teLKOA/ejiah6N54D8gXlY3u8rgP8aDEufSG+E/banOlups4T8Tz4pGAr7hP7r0RvYZD+I/YBoDpjFg4j8GQL9VSbHiP61lewVhAuM/U4s3tXhT4z/6sPNkkKTjP6DWrxSo9eM/R/xrxL9G5D/tISh015fkP5NH5CPv6OQ/Om2g0wY65T/gklyDHovlP4e4GDM23OU/Ld7U4k0t5j/UA5GSZX7mP3opTUJ9z+Y/IE8J8pQg5z/HdMWhrHHnP22agVHEwuc/FMA9AdwT6D+65fmw82ToP2ALtmALtug/BzFyECMH6T+tVi7AOljpP1R86m9Sqek/+qGmH2r66T+hx2LPgUvqP0ftHn+ZnOo/7RLbLrHt6j+UOJfeyD7rPzpeU47gj+s/4YMPPvjg6z+HqcvtDzLsPy7Ph50ng+w/1PRDTT/U7D96GgD9ViXtPyFAvKxudu0/x2V4XIbH7T9uizQMnhjuPxSx8Lu1ae4/utasa8267j9h/Ggb5QvvPwciJcv8XO8/rkfhehSu7z8=",
          "dtype": "f8"
         },
         "y": [
          0.46332046332046334,
          0.4669260700389105,
          0.47244094488188976,
          0.4838709677419355,
          0.47346938775510206,
          0.5,
          0.5201793721973094,
          0.5253456221198156,
          0.5213270142180095,
          0.5288461538461539,
          0.55,
          0.5583756345177665,
          0.5641025641025641,
          0.5759162303664922,
          0.5913978494623656,
          0.5978260869565217,
          0.5966850828729282,
          0.6067415730337079,
          0.6022727272727273,
          0.6091954022988506,
          0.6190476190476191,
          0.6181818181818182,
          0.6172839506172839,
          0.6025641025641025,
          0.6052631578947368,
          0.6052631578947368,
          0.5960264900662252,
          0.5945945945945946,
          0.5815602836879432,
          0.5985401459854015,
          0.6015037593984962,
          0.6,
          0.6,
          0.6046511627906976,
          0.59375,
          0.5967741935483871,
          0.6115702479338843,
          0.6101694915254238,
          0.6086956521739131,
          0.6086956521739131,
          0.6086956521739131,
          0.6194690265486725,
          0.6194690265486725,
          0.625,
          0.625,
          0.6422018348623854,
          0.6296296296296297,
          0.6226415094339622,
          0.6153846153846154,
          0.6138613861386139,
          0.5833333333333334,
          0.5684210526315789,
          0.5591397849462365,
          0.5274725274725275,
          0.4772727272727273,
          0.45977011494252873,
          0.4418604651162791,
          0.42857142857142855,
          0.43373493975903615,
          0.43373493975903615,
          0.425,
          0.38461538461538464,
          0.3684210526315789,
          0.3684210526315789,
          0.3684210526315789,
          0.37333333333333335,
          0.37333333333333335,
          0.35135135135135137,
          0.35135135135135137,
          0.35135135135135137,
          0.35135135135135137,
          0.3055555555555556,
          0.30985915492957744,
          0.23529411764705882,
          0.208955223880597,
          0.18181818181818182,
          0.18181818181818182,
          0.18181818181818182,
          0.18181818181818182,
          0.15384615384615385,
          0.15384615384615385,
          0.15384615384615385,
          0.125,
          0.125,
          0.125,
          0.09523809523809523,
          0.09523809523809523,
          0.09523809523809523,
          0.09523809523809523,
          0.06451612903225806,
          0.03278688524590164,
          0.03278688524590164,
          0.03278688524590164,
          0,
          0,
          0,
          0,
          0,
          0,
          0
         ]
        },
        {
         "hovertemplate": "Seuil = %{x:.2f}<br>F1-score = %{y:.3f}<extra></extra>",
         "mode": "lines+markers",
         "name": "Logistic Regression (L1) (max=0.628)",
         "type": "scatter",
         "x": {
          "bdata": "exSuR+F6hD8Lv1ubZmCUP9hz4JJcg54/U5QyRSlTpD+67vRApGSpPyFJtzwfdq4/w9E8HM3DsT/3/h2aiky0Pyos/xdI1bY/XVnglQVeuT+RhsETw+a7P8SzopGAb74/fPDBBx98wD8Wh7LGfcDBP7Ado4XcBMM/SbSTRDtJxD/jSoQDmo3FP33hdML40cY/FnhlgVcWyD+wDlZAtlrJP0qlRv8Un8o/4zs3vnPjyz990id90ifNPxdpGDwxbM4/sP8I+4+wzz8ly/xcd3rQP3IWdbymHNE/v2HtG9a+0T8MrWV7BWHSP1j43do0A9M/pUNWOmSl0z/yjs6Zk0fUPz/aRvnC6dQ/jCW/WPKL1T/ZcDe4IS7WPya8rxdR0NY/cgcod4By1z+/UqDWrxTYPwyeGDbfttg/WemQlQ5Z2T+mNAn1PfvZP/N/gVRtndo/P8v5s5w/2z+MFnITzOHbP9lh6nL7g9w/Jq1i0iom3T9z+NoxWsjdP8BDU5GJat4/DI/L8LgM3z9Z2kNQ6K7fP9MS3teLKOA/ejiah6N54D8gXlY3u8rgP8aDEufSG+E/banOlups4T8Tz4pGAr7hP7r0RvYZD+I/YBoDpjFg4j8GQL9VSbHiP61lewVhAuM/U4s3tXhT4z/6sPNkkKTjP6DWrxSo9eM/R/xrxL9G5D/tISh015fkP5NH5CPv6OQ/Om2g0wY65T/gklyDHovlP4e4GDM23OU/Ld7U4k0t5j/UA5GSZX7mP3opTUJ9z+Y/IE8J8pQg5z/HdMWhrHHnP22agVHEwuc/FMA9AdwT6D+65fmw82ToP2ALtmALtug/BzFyECMH6T+tVi7AOljpP1R86m9Sqek/+qGmH2r66T+hx2LPgUvqP0ftHn+ZnOo/7RLbLrHt6j+UOJfeyD7rPzpeU47gj+s/4YMPPvjg6z+HqcvtDzLsPy7Ph50ng+w/1PRDTT/U7D96GgD9ViXtPyFAvKxudu0/x2V4XIbH7T9uizQMnhjuPxSx8Lu1ae4/utasa8267j9h/Ggb5QvvPwciJcv8XO8/rkfhehSu7z8=",
          "dtype": "f8"
         },
         "y": [
          0.46332046332046334,
          0.4669260700389105,
          0.47058823529411764,
          0.4777327935222672,
          0.475,
          0.4830508474576271,
          0.4956521739130435,
          0.5135135135135135,
          0.5185185185185185,
          0.5188679245283019,
          0.5365853658536586,
          0.5445544554455446,
          0.5583756345177665,
          0.5851063829787234,
          0.5978260869565217,
          0.6111111111111112,
          0.6206896551724138,
          0.627906976744186,
          0.6181818181818182,
          0.6181818181818182,
          0.6086956521739131,
          0.620253164556962,
          0.6103896103896104,
          0.6040268456375839,
          0.5986394557823129,
          0.6111111111111112,
          0.6099290780141844,
          0.5942028985507246,
          0.5925925925925926,
          0.6060606060606061,
          0.59375,
          0.5984251968503937,
          0.5967741935483871,
          0.5967741935483871,
          0.5853658536585366,
          0.5853658536585366,
          0.5950413223140496,
          0.6050420168067226,
          0.6101694915254238,
          0.603448275862069,
          0.5892857142857143,
          0.5892857142857143,
          0.5925925925925926,
          0.5925925925925926,
          0.6095238095238096,
          0.6095238095238096,
          0.6138613861386139,
          0.6,
          0.5858585858585859,
          0.5714285714285714,
          0.5773195876288659,
          0.5591397849462365,
          0.5434782608695652,
          0.5274725274725275,
          0.5168539325842697,
          0.4827586206896552,
          0.4883720930232558,
          0.47058823529411764,
          0.47058823529411764,
          0.43902439024390244,
          0.4,
          0.379746835443038,
          0.33766233766233766,
          0.33766233766233766,
          0.33766233766233766,
          0.34210526315789475,
          0.32,
          0.2972972972972973,
          0.273972602739726,
          0.273972602739726,
          0.25,
          0.22857142857142856,
          0.17647058823529413,
          0.1791044776119403,
          0.18181818181818182,
          0.15384615384615385,
          0.15384615384615385,
          0.15384615384615385,
          0.15384615384615385,
          0.15384615384615385,
          0.15384615384615385,
          0.15384615384615385,
          0.15384615384615385,
          0.15384615384615385,
          0.15384615384615385,
          0.09523809523809523,
          0.09523809523809523,
          0.06451612903225806,
          0.06451612903225806,
          0.06451612903225806,
          0.03278688524590164,
          0.03278688524590164,
          0,
          0,
          0,
          0,
          0,
          0,
          0,
          0
         ]
        },
        {
         "hovertemplate": "Seuil = %{x:.2f}<br>F1-score = %{y:.3f}<extra></extra>",
         "mode": "lines+markers",
         "name": "Logistic Regression (ElasticNet) (max=0.620)",
         "type": "scatter",
         "x": {
          "bdata": "exSuR+F6hD8Lv1ubZmCUP9hz4JJcg54/U5QyRSlTpD+67vRApGSpPyFJtzwfdq4/w9E8HM3DsT/3/h2aiky0Pyos/xdI1bY/XVnglQVeuT+RhsETw+a7P8SzopGAb74/fPDBBx98wD8Wh7LGfcDBP7Ado4XcBMM/SbSTRDtJxD/jSoQDmo3FP33hdML40cY/FnhlgVcWyD+wDlZAtlrJP0qlRv8Un8o/4zs3vnPjyz990id90ifNPxdpGDwxbM4/sP8I+4+wzz8ly/xcd3rQP3IWdbymHNE/v2HtG9a+0T8MrWV7BWHSP1j43do0A9M/pUNWOmSl0z/yjs6Zk0fUPz/aRvnC6dQ/jCW/WPKL1T/ZcDe4IS7WPya8rxdR0NY/cgcod4By1z+/UqDWrxTYPwyeGDbfttg/WemQlQ5Z2T+mNAn1PfvZP/N/gVRtndo/P8v5s5w/2z+MFnITzOHbP9lh6nL7g9w/Jq1i0iom3T9z+NoxWsjdP8BDU5GJat4/DI/L8LgM3z9Z2kNQ6K7fP9MS3teLKOA/ejiah6N54D8gXlY3u8rgP8aDEufSG+E/banOlups4T8Tz4pGAr7hP7r0RvYZD+I/YBoDpjFg4j8GQL9VSbHiP61lewVhAuM/U4s3tXhT4z/6sPNkkKTjP6DWrxSo9eM/R/xrxL9G5D/tISh015fkP5NH5CPv6OQ/Om2g0wY65T/gklyDHovlP4e4GDM23OU/Ld7U4k0t5j/UA5GSZX7mP3opTUJ9z+Y/IE8J8pQg5z/HdMWhrHHnP22agVHEwuc/FMA9AdwT6D+65fmw82ToP2ALtmALtug/BzFyECMH6T+tVi7AOljpP1R86m9Sqek/+qGmH2r66T+hx2LPgUvqP0ftHn+ZnOo/7RLbLrHt6j+UOJfeyD7rPzpeU47gj+s/4YMPPvjg6z+HqcvtDzLsPy7Ph50ng+w/1PRDTT/U7D96GgD9ViXtPyFAvKxudu0/x2V4XIbH7T9uizQMnhjuPxSx8Lu1ae4/utasa8267j9h/Ggb5QvvPwciJcv8XO8/rkfhehSu7z8=",
          "dtype": "f8"
         },
         "y": [
          0.46332046332046334,
          0.4669260700389105,
          0.47619047619047616,
          0.4773662551440329,
          0.4769874476987448,
          0.4892703862660944,
          0.4978165938864629,
          0.509090909090909,
          0.5185185185185185,
          0.5365853658536586,
          0.5445544554455446,
          0.5555555555555556,
          0.5789473684210527,
          0.5913978494623656,
          0.6010928961748634,
          0.6145251396648045,
          0.6198830409356725,
          0.6107784431137725,
          0.6097560975609756,
          0.5962732919254659,
          0.6037735849056604,
          0.6153846153846154,
          0.5986394557823129,
          0.6068965517241379,
          0.6068965517241379,
          0.6111111111111112,
          0.5815602836879432,
          0.5882352941176471,
          0.5970149253731343,
          0.6060606060606061,
          0.6046511627906976,
          0.6031746031746031,
          0.5967741935483871,
          0.5967741935483871,
          0.5967741935483871,
          0.6016260162601627,
          0.6016260162601627,
          0.5882352941176471,
          0.5862068965517241,
          0.5862068965517241,
          0.5862068965517241,
          0.5892857142857143,
          0.5892857142857143,
          0.5818181818181818,
          0.5925925925925926,
          0.6037735849056604,
          0.5961538461538461,
          0.58,
          0.58,
          0.5858585858585859,
          0.5918367346938775,
          0.5833333333333334,
          0.5531914893617021,
          0.5274725274725275,
          0.5274725274725275,
          0.5111111111111111,
          0.5,
          0.5,
          0.47058823529411764,
          0.4578313253012048,
          0.4578313253012048,
          0.43902439024390244,
          0.4,
          0.358974358974359,
          0.358974358974359,
          0.33766233766233766,
          0.33766233766233766,
          0.3157894736842105,
          0.32,
          0.32,
          0.273972602739726,
          0.22535211267605634,
          0.22535211267605634,
          0.22535211267605634,
          0.17647058823529413,
          0.18181818181818182,
          0.15384615384615385,
          0.15384615384615385,
          0.15384615384615385,
          0.15384615384615385,
          0.15384615384615385,
          0.15384615384615385,
          0.15384615384615385,
          0.15384615384615385,
          0.15384615384615385,
          0.15384615384615385,
          0.15384615384615385,
          0.09523809523809523,
          0.06451612903225806,
          0.06451612903225806,
          0.06451612903225806,
          0.03278688524590164,
          0.03278688524590164,
          0.03278688524590164,
          0,
          0,
          0,
          0,
          0,
          0
         ]
        }
       ],
       "layout": {
        "height": 520,
        "template": {
         "data": {
          "bar": [
           {
            "error_x": {
             "color": "#2a3f5f"
            },
            "error_y": {
             "color": "#2a3f5f"
            },
            "marker": {
             "line": {
              "color": "white",
              "width": 0.5
             },
             "pattern": {
              "fillmode": "overlay",
              "size": 10,
              "solidity": 0.2
             }
            },
            "type": "bar"
           }
          ],
          "barpolar": [
           {
            "marker": {
             "line": {
              "color": "white",
              "width": 0.5
             },
             "pattern": {
              "fillmode": "overlay",
              "size": 10,
              "solidity": 0.2
             }
            },
            "type": "barpolar"
           }
          ],
          "carpet": [
           {
            "aaxis": {
             "endlinecolor": "#2a3f5f",
             "gridcolor": "#C8D4E3",
             "linecolor": "#C8D4E3",
             "minorgridcolor": "#C8D4E3",
             "startlinecolor": "#2a3f5f"
            },
            "baxis": {
             "endlinecolor": "#2a3f5f",
             "gridcolor": "#C8D4E3",
             "linecolor": "#C8D4E3",
             "minorgridcolor": "#C8D4E3",
             "startlinecolor": "#2a3f5f"
            },
            "type": "carpet"
           }
          ],
          "choropleth": [
           {
            "colorbar": {
             "outlinewidth": 0,
             "ticks": ""
            },
            "type": "choropleth"
           }
          ],
          "contour": [
           {
            "colorbar": {
             "outlinewidth": 0,
             "ticks": ""
            },
            "colorscale": [
             [
              0,
              "#0d0887"
             ],
             [
              0.1111111111111111,
              "#46039f"
             ],
             [
              0.2222222222222222,
              "#7201a8"
             ],
             [
              0.3333333333333333,
              "#9c179e"
             ],
             [
              0.4444444444444444,
              "#bd3786"
             ],
             [
              0.5555555555555556,
              "#d8576b"
             ],
             [
              0.6666666666666666,
              "#ed7953"
             ],
             [
              0.7777777777777778,
              "#fb9f3a"
             ],
             [
              0.8888888888888888,
              "#fdca26"
             ],
             [
              1,
              "#f0f921"
             ]
            ],
            "type": "contour"
           }
          ],
          "contourcarpet": [
           {
            "colorbar": {
             "outlinewidth": 0,
             "ticks": ""
            },
            "type": "contourcarpet"
           }
          ],
          "heatmap": [
           {
            "colorbar": {
             "outlinewidth": 0,
             "ticks": ""
            },
            "colorscale": [
             [
              0,
              "#0d0887"
             ],
             [
              0.1111111111111111,
              "#46039f"
             ],
             [
              0.2222222222222222,
              "#7201a8"
             ],
             [
              0.3333333333333333,
              "#9c179e"
             ],
             [
              0.4444444444444444,
              "#bd3786"
             ],
             [
              0.5555555555555556,
              "#d8576b"
             ],
             [
              0.6666666666666666,
              "#ed7953"
             ],
             [
              0.7777777777777778,
              "#fb9f3a"
             ],
             [
              0.8888888888888888,
              "#fdca26"
             ],
             [
              1,
              "#f0f921"
             ]
            ],
            "type": "heatmap"
           }
          ],
          "histogram": [
           {
            "marker": {
             "pattern": {
              "fillmode": "overlay",
              "size": 10,
              "solidity": 0.2
             }
            },
            "type": "histogram"
           }
          ],
          "histogram2d": [
           {
            "colorbar": {
             "outlinewidth": 0,
             "ticks": ""
            },
            "colorscale": [
             [
              0,
              "#0d0887"
             ],
             [
              0.1111111111111111,
              "#46039f"
             ],
             [
              0.2222222222222222,
              "#7201a8"
             ],
             [
              0.3333333333333333,
              "#9c179e"
             ],
             [
              0.4444444444444444,
              "#bd3786"
             ],
             [
              0.5555555555555556,
              "#d8576b"
             ],
             [
              0.6666666666666666,
              "#ed7953"
             ],
             [
              0.7777777777777778,
              "#fb9f3a"
             ],
             [
              0.8888888888888888,
              "#fdca26"
             ],
             [
              1,
              "#f0f921"
             ]
            ],
            "type": "histogram2d"
           }
          ],
          "histogram2dcontour": [
           {
            "colorbar": {
             "outlinewidth": 0,
             "ticks": ""
            },
            "colorscale": [
             [
              0,
              "#0d0887"
             ],
             [
              0.1111111111111111,
              "#46039f"
             ],
             [
              0.2222222222222222,
              "#7201a8"
             ],
             [
              0.3333333333333333,
              "#9c179e"
             ],
             [
              0.4444444444444444,
              "#bd3786"
             ],
             [
              0.5555555555555556,
              "#d8576b"
             ],
             [
              0.6666666666666666,
              "#ed7953"
             ],
             [
              0.7777777777777778,
              "#fb9f3a"
             ],
             [
              0.8888888888888888,
              "#fdca26"
             ],
             [
              1,
              "#f0f921"
             ]
            ],
            "type": "histogram2dcontour"
           }
          ],
          "mesh3d": [
           {
            "colorbar": {
             "outlinewidth": 0,
             "ticks": ""
            },
            "type": "mesh3d"
           }
          ],
          "parcoords": [
           {
            "line": {
             "colorbar": {
              "outlinewidth": 0,
              "ticks": ""
             }
            },
            "type": "parcoords"
           }
          ],
          "pie": [
           {
            "automargin": true,
            "type": "pie"
           }
          ],
          "scatter": [
           {
            "fillpattern": {
             "fillmode": "overlay",
             "size": 10,
             "solidity": 0.2
            },
            "type": "scatter"
           }
          ],
          "scatter3d": [
           {
            "line": {
             "colorbar": {
              "outlinewidth": 0,
              "ticks": ""
             }
            },
            "marker": {
             "colorbar": {
              "outlinewidth": 0,
              "ticks": ""
             }
            },
            "type": "scatter3d"
           }
          ],
          "scattercarpet": [
           {
            "marker": {
             "colorbar": {
              "outlinewidth": 0,
              "ticks": ""
             }
            },
            "type": "scattercarpet"
           }
          ],
          "scattergeo": [
           {
            "marker": {
             "colorbar": {
              "outlinewidth": 0,
              "ticks": ""
             }
            },
            "type": "scattergeo"
           }
          ],
          "scattergl": [
           {
            "marker": {
             "colorbar": {
              "outlinewidth": 0,
              "ticks": ""
             }
            },
            "type": "scattergl"
           }
          ],
          "scattermap": [
           {
            "marker": {
             "colorbar": {
              "outlinewidth": 0,
              "ticks": ""
             }
            },
            "type": "scattermap"
           }
          ],
          "scattermapbox": [
           {
            "marker": {
             "colorbar": {
              "outlinewidth": 0,
              "ticks": ""
             }
            },
            "type": "scattermapbox"
           }
          ],
          "scatterpolar": [
           {
            "marker": {
             "colorbar": {
              "outlinewidth": 0,
              "ticks": ""
             }
            },
            "type": "scatterpolar"
           }
          ],
          "scatterpolargl": [
           {
            "marker": {
             "colorbar": {
              "outlinewidth": 0,
              "ticks": ""
             }
            },
            "type": "scatterpolargl"
           }
          ],
          "scatterternary": [
           {
            "marker": {
             "colorbar": {
              "outlinewidth": 0,
              "ticks": ""
             }
            },
            "type": "scatterternary"
           }
          ],
          "surface": [
           {
            "colorbar": {
             "outlinewidth": 0,
             "ticks": ""
            },
            "colorscale": [
             [
              0,
              "#0d0887"
             ],
             [
              0.1111111111111111,
              "#46039f"
             ],
             [
              0.2222222222222222,
              "#7201a8"
             ],
             [
              0.3333333333333333,
              "#9c179e"
             ],
             [
              0.4444444444444444,
              "#bd3786"
             ],
             [
              0.5555555555555556,
              "#d8576b"
             ],
             [
              0.6666666666666666,
              "#ed7953"
             ],
             [
              0.7777777777777778,
              "#fb9f3a"
             ],
             [
              0.8888888888888888,
              "#fdca26"
             ],
             [
              1,
              "#f0f921"
             ]
            ],
            "type": "surface"
           }
          ],
          "table": [
           {
            "cells": {
             "fill": {
              "color": "#EBF0F8"
             },
             "line": {
              "color": "white"
             }
            },
            "header": {
             "fill": {
              "color": "#C8D4E3"
             },
             "line": {
              "color": "white"
             }
            },
            "type": "table"
           }
          ]
         },
         "layout": {
          "annotationdefaults": {
           "arrowcolor": "#2a3f5f",
           "arrowhead": 0,
           "arrowwidth": 1
          },
          "autotypenumbers": "strict",
          "coloraxis": {
           "colorbar": {
            "outlinewidth": 0,
            "ticks": ""
           }
          },
          "colorscale": {
           "diverging": [
            [
             0,
             "#8e0152"
            ],
            [
             0.1,
             "#c51b7d"
            ],
            [
             0.2,
             "#de77ae"
            ],
            [
             0.3,
             "#f1b6da"
            ],
            [
             0.4,
             "#fde0ef"
            ],
            [
             0.5,
             "#f7f7f7"
            ],
            [
             0.6,
             "#e6f5d0"
            ],
            [
             0.7,
             "#b8e186"
            ],
            [
             0.8,
             "#7fbc41"
            ],
            [
             0.9,
             "#4d9221"
            ],
            [
             1,
             "#276419"
            ]
           ],
           "sequential": [
            [
             0,
             "#0d0887"
            ],
            [
             0.1111111111111111,
             "#46039f"
            ],
            [
             0.2222222222222222,
             "#7201a8"
            ],
            [
             0.3333333333333333,
             "#9c179e"
            ],
            [
             0.4444444444444444,
             "#bd3786"
            ],
            [
             0.5555555555555556,
             "#d8576b"
            ],
            [
             0.6666666666666666,
             "#ed7953"
            ],
            [
             0.7777777777777778,
             "#fb9f3a"
            ],
            [
             0.8888888888888888,
             "#fdca26"
            ],
            [
             1,
             "#f0f921"
            ]
           ],
           "sequentialminus": [
            [
             0,
             "#0d0887"
            ],
            [
             0.1111111111111111,
             "#46039f"
            ],
            [
             0.2222222222222222,
             "#7201a8"
            ],
            [
             0.3333333333333333,
             "#9c179e"
            ],
            [
             0.4444444444444444,
             "#bd3786"
            ],
            [
             0.5555555555555556,
             "#d8576b"
            ],
            [
             0.6666666666666666,
             "#ed7953"
            ],
            [
             0.7777777777777778,
             "#fb9f3a"
            ],
            [
             0.8888888888888888,
             "#fdca26"
            ],
            [
             1,
             "#f0f921"
            ]
           ]
          },
          "colorway": [
           "#636efa",
           "#EF553B",
           "#00cc96",
           "#ab63fa",
           "#FFA15A",
           "#19d3f3",
           "#FF6692",
           "#B6E880",
           "#FF97FF",
           "#FECB52"
          ],
          "font": {
           "color": "#2a3f5f"
          },
          "geo": {
           "bgcolor": "white",
           "lakecolor": "white",
           "landcolor": "white",
           "showlakes": true,
           "showland": true,
           "subunitcolor": "#C8D4E3"
          },
          "hoverlabel": {
           "align": "left"
          },
          "hovermode": "closest",
          "mapbox": {
           "style": "light"
          },
          "paper_bgcolor": "white",
          "plot_bgcolor": "white",
          "polar": {
           "angularaxis": {
            "gridcolor": "#EBF0F8",
            "linecolor": "#EBF0F8",
            "ticks": ""
           },
           "bgcolor": "white",
           "radialaxis": {
            "gridcolor": "#EBF0F8",
            "linecolor": "#EBF0F8",
            "ticks": ""
           }
          },
          "scene": {
           "xaxis": {
            "backgroundcolor": "white",
            "gridcolor": "#DFE8F3",
            "gridwidth": 2,
            "linecolor": "#EBF0F8",
            "showbackground": true,
            "ticks": "",
            "zerolinecolor": "#EBF0F8"
           },
           "yaxis": {
            "backgroundcolor": "white",
            "gridcolor": "#DFE8F3",
            "gridwidth": 2,
            "linecolor": "#EBF0F8",
            "showbackground": true,
            "ticks": "",
            "zerolinecolor": "#EBF0F8"
           },
           "zaxis": {
            "backgroundcolor": "white",
            "gridcolor": "#DFE8F3",
            "gridwidth": 2,
            "linecolor": "#EBF0F8",
            "showbackground": true,
            "ticks": "",
            "zerolinecolor": "#EBF0F8"
           }
          },
          "shapedefaults": {
           "line": {
            "color": "#2a3f5f"
           }
          },
          "ternary": {
           "aaxis": {
            "gridcolor": "#DFE8F3",
            "linecolor": "#A2B1C6",
            "ticks": ""
           },
           "baxis": {
            "gridcolor": "#DFE8F3",
            "linecolor": "#A2B1C6",
            "ticks": ""
           },
           "bgcolor": "white",
           "caxis": {
            "gridcolor": "#DFE8F3",
            "linecolor": "#A2B1C6",
            "ticks": ""
           }
          },
          "title": {
           "x": 0.05
          },
          "xaxis": {
           "automargin": true,
           "gridcolor": "#EBF0F8",
           "linecolor": "#EBF0F8",
           "ticks": "",
           "title": {
            "standoff": 15
           },
           "zerolinecolor": "#EBF0F8",
           "zerolinewidth": 2
          },
          "yaxis": {
           "automargin": true,
           "gridcolor": "#EBF0F8",
           "linecolor": "#EBF0F8",
           "ticks": "",
           "title": {
            "standoff": 15
           },
           "zerolinecolor": "#EBF0F8",
           "zerolinewidth": 2
          }
         }
        },
        "title": {
         "text": "🎯 F1-score en fonction du seuil (trié par performance)"
        },
        "width": 950,
        "xaxis": {
         "title": {
          "text": "Seuil de décision"
         }
        },
        "yaxis": {
         "range": [
          0,
          1.02
         ],
         "title": {
          "text": "F1-score"
         }
        }
       }
      }
     },
     "metadata": {},
     "output_type": "display_data"
    }
   ],
   "source": [
    "# Evolution du F1-score\n",
    "dict_models = logistic_models.best_f1_by_model()"
   ]
  },
  {
   "cell_type": "markdown",
   "id": "46ff1a1a",
   "metadata": {},
   "source": [
    "<div class=\"alert alert-block alert-info\">\n",
    "<b>🔔 Rappels sur le F1-score : interprétation selon sa valeur</b></p>\n",
    "\n",
    "  <table border=\"1\" style=\"border-collapse:collapse; width:100%; text-align:left;\">\n",
    "    <thead style=\"background-color:#f2f2f2;\">\n",
    "      <tr>\n",
    "        <th style=\"padding:8px;\">🔢Valeur du F1-score</th>\n",
    "        <th style=\"padding:8px;\">Interprétation Modèle</th>\n",
    "        <th style=\"padding:8px;\">Lecture Métier</th>\n",
    "      </tr>\n",
    "    </thead>\n",
    "    <tbody>\n",
    "      <tr>\n",
    "        <td style=\"padding:8px;\"><b>≈ 1.00</b></td>\n",
    "        <td style=\"padding:8px;\">Modèle quasi-parfait : haute précision et haut rappel.</td>\n",
    "        <td style=\"padding:8px;\">Très bon modèle : détecte presque tous les défauts sans refuser inutilement.</td>\n",
    "      </tr>\n",
    "      <tr>\n",
    "        <td style=\"padding:8px;\"><b>0.80 – 0.99</b></td>\n",
    "        <td style=\"padding:8px;\">Excellent compromis entre détection et justesse des refus.</td>\n",
    "        <td style=\"padding:8px;\">Robuste en production si les données sont stables et bien préparées.</td>\n",
    "      </tr>\n",
    "      <tr>\n",
    "        <td style=\"padding:8px;\"><b>0.65 – 0.79</b></td>\n",
    "        <td style=\"padding:8px;\">Bon niveau, utilisable avec confiance.</td>\n",
    "        <td style=\"padding:8px;\">Modèle solide, peut être déployé avec suivi régulier.</td>\n",
    "      </tr>\n",
    "      <tr>\n",
    "        <td style=\"padding:8px;\"><b>0.50 – 0.64</b></td>\n",
    "        <td style=\"padding:8px;\">Compromis modéré, encore perfectible.</td>\n",
    "        <td style=\"padding:8px;\">Le modèle laisse passer trop de défauts ou refuse trop de bons clients.</td>\n",
    "      </tr>\n",
    "      <tr>\n",
    "        <td style=\"padding:8px;\"><b>0.30 – 0.49</b></td>\n",
    "        <td style=\"padding:8px;\">Modèle déséquilibré, mauvaise performance globale.</td>\n",
    "        <td style=\"padding:8px;\">Ni fiable pour la détection du risque, ni pour éviter la gêne client.</td>\n",
    "      </tr>\n",
    "      <tr>\n",
    "        <td style=\"padding:8px;\"><b>&lt; 0.30</b></td>\n",
    "        <td style=\"padding:8px;\">Modèle inefficace, proche d’un modèle aléatoire.</td>\n",
    "        <td style=\"padding:8px;\">Modèle non utilisable pour l’octroi de crédit.</td>\n",
    "      </tr>\n",
    "    </tbody>\n",
    "  </table>\n",
    "</div>\n"
   ]
  },
  {
   "cell_type": "markdown",
   "id": "66669340",
   "metadata": {},
   "source": [
    "#### 6.3 Focus sur le meilleur modèle (au sens du F1-score)"
   ]
  },
  {
   "cell_type": "markdown",
   "id": "b60b528f",
   "metadata": {},
   "source": [
    "#### 6.4 Evaluer le modèle (sélectionner le modèle qui maximise le F1-score)"
   ]
  },
  {
   "cell_type": "markdown",
   "id": "29097f98",
   "metadata": {},
   "source": [
    "  <div class=\"alert alert-block alert-info\">\n",
    "  <h4><b>Recall et Précision dans un modèle de score d’octroi de crédit</b></h4>\n",
    "\n",
    "  <h5><u>Recall</u></h5>\n",
    "  <p>\n",
    "    <b>Formule :</b><br>\n",
    "    Recall = VP / (VP + FN) = Part des défauts correctement détectés par le modèle parmi tous les défauts réels.\n",
    "  </p>\n",
    "  <p>\n",
    "    <b>Interprétation :</b><br>\n",
    "    Parmi les clients qui auraient réellement fait défaut, combien ont été correctement prédits comme risqués ?\n",
    "  </p>\n",
    "  <p>\n",
    "    <b>Exemple :</b><br>\n",
    "    Un recall de 10% signifie que le modèle détecte seulement 10% des clients risqués. Il laisse passer 90% des défauts potentiels.\n",
    "  </p>\n",
    "  <p>\n",
    "    <b>Enjeu métier :</b><br>\n",
    "    Maximiser le recall, c’est minimiser le nombre de crédits accordés à des clients qui ne rembourseront pas.<br>\n",
    "    <i>👉 La banque cherche ici à limiter au maximum les pertes financières liées aux impayés, quitte à refuser certains bons clients.</i>\n",
    "  </p>\n",
    "\n",
    "  <h5><u>Précision</u></h5>\n",
    "  <p>\n",
    "    <b>Formule :</b><br>\n",
    "    Précision = VP / (VP + FP) = Part des clients correctement identifiés comme risqués parmi ceux prédits comme tels.\n",
    "  </p>\n",
    "  <p>\n",
    "    <b>Interprétation :</b><br>\n",
    "    Parmi tous les clients prédits comme risqués, combien sont effectivement de vrais clients à risque ?\n",
    "  </p>\n",
    "  <p>\n",
    "    <b>Exemple :</b><br>\n",
    "    Une précision de 70% signifie que 30% des refus concernent des clients qui auraient bien remboursé (faux positifs).\n",
    "  </p>\n",
    "  <p>\n",
    "    <b>Enjeu métier :</b><br>\n",
    "    Maximiser la précision, c’est éviter de refuser un crédit à un bon client.<br>\n",
    "    <i>👉 La banque veut ici préserver sa relation client et son image de marque.</i>\n",
    "  </p>\n",
    "\n",
    "  <h5><u>Trade-off entre Recall et Précision</u></h5>\n",
    "  <table border=\"1\" style=\"border-collapse:collapse; width:100%; text-align:left;\">\n",
    "    <thead>\n",
    "      <tr style=\"background-color:#f2f2f2;\">\n",
    "        <th style=\"padding:8px;\">🎯 Objectif métier</th>\n",
    "        <th style=\"padding:8px;\">📈 Priorité métrique</th>\n",
    "        <th style=\"padding:8px;\">💬 Conséquences</th>\n",
    "      </tr>\n",
    "    </thead>\n",
    "    <tbody>\n",
    "      <tr>\n",
    "        <td style=\"padding:8px;\">Limiter au maximum les défauts de paiement</td>\n",
    "        <td style=\"padding:8px;\">Recall élevé</td>\n",
    "        <td style=\"padding:8px;\">Risque de refuser des clients solvables (gêne client)</td>\n",
    "      </tr>\n",
    "      <tr>\n",
    "        <td style=\"padding:8px;\">Éviter les refus injustifiés / préserver l'image</td>\n",
    "        <td style=\"padding:8px;\">Précision élevée</td>\n",
    "        <td style=\"padding:8px;\">Risque d’accorder un crédit à un client risqué</td>\n",
    "      </tr>\n",
    "      <tr>\n",
    "        <td style=\"padding:8px;\">Trouver un équilibre entre risque et opportunité</td>\n",
    "        <td style=\"padding:8px;\">F1-score (compromis)</td>\n",
    "        <td style=\"padding:8px;\">Équilibre entre détection du risque et satisfaction client</td>\n",
    "      </tr>\n",
    "    </tbody>\n",
    "  </table>\n",
    "\n",
    "  <p style=\"margin-top:15px;\">\n",
    "    ✅ <b>Conclusion :</b> Le choix de la métrique dépend des priorités stratégiques de la banque : <br>\n",
    "    - <i>Plutôt risk-averse ?</i> → Maximiser le recall.<br>\n",
    "    - <i>Plutôt orientée expérience client ?</i> → Maximiser la précision.<br>\n",
    "    - <i>Besoin d’un bon compromis ?</i> → Suivre le F1-score.\n",
    "  </p>\n"
   ]
  },
  {
   "cell_type": "code",
   "execution_count": 12,
   "id": "f320f2dc",
   "metadata": {},
   "outputs": [
    {
     "name": "stdout",
     "output_type": "stream",
     "text": [
      "Meilleur modèle : Logistic Regression (L2)\n",
      "Score (F1 CV) : 0.5176\n"
     ]
    }
   ],
   "source": [
    "dict_best_model = logistic_models.get_best_model() # modèle qui maximise le critère\n",
    "best_model_name = dict_best_model[\"model_name\"]"
   ]
  },
  {
   "cell_type": "code",
   "execution_count": 13,
   "id": "26199484",
   "metadata": {},
   "outputs": [
    {
     "data": {
      "text/html": [
       "\n",
       "        <div class=\"alert alert-success\" style=\"font-family:Arial;\">\n",
       "        <h4>📊 Évaluation du modèle : <code>Logistic Regression (L2)</code></h4>\n",
       "\n",
       "        <h5>⚙️ Métriques globales</h5>\n",
       "        <table border=\"1\" style=\"border-collapse:collapse; width:100%; text-align:left;\">\n",
       "            <thead style=\"background-color:#f2f2f2;\">\n",
       "            <tr><th style=\"padding:6px;\">Métrique</th><th style=\"padding:6px;\">Valeur</th></tr>\n",
       "            </thead>\n",
       "            <tbody>\n",
       "            <tr>\n",
       "                <td style=\"padding:6px;\">Accuracy</td>\n",
       "                <td style=\"padding:6px;\">0.800</td>\n",
       "\n",
       "            </tr>\n",
       "            <tr>\n",
       "                <td style=\"padding:6px;\">ROC AUC</td>\n",
       "                <td style=\"padding:6px;\">0.810</td>\n",
       "            </tr>\n",
       "            </tbody>\n",
       "        </table>\n",
       "\n",
       "        <h5 style=\"margin-top:20px;\">🎯 Métriques par classe</h5>\n",
       "        <table border=\"1\" style=\"border-collapse:collapse; width:100%; text-align:left;\">\n",
       "            <thead style=\"background-color:#f2f2f2;\">\n",
       "            <tr>\n",
       "                <th style=\"padding:6px;\">Classe</th>\n",
       "                <th style=\"padding:6px;\">Précision</th>\n",
       "                <th style=\"padding:6px;\">Rappel</th>\n",
       "                <th style=\"padding:6px;\">F1-score</th>\n",
       "            </tr>\n",
       "            </thead>\n",
       "            <tbody>\n",
       "            <tr>\n",
       "                <td style=\"padding:6px;\"><b>Non défaut</b></td>\n",
       "                <td style=\"padding:6px;\">0.812</td>\n",
       "                <td style=\"padding:6px;\">0.929</td>\n",
       "                <td style=\"padding:6px;\">0.867</td>\n",
       "            </tr>\n",
       "            <tr>\n",
       "                <td style=\"padding:6px;\"><b>Défaut</b></td>\n",
       "                <td style=\"padding:6px;\">0.750</td>\n",
       "                <td style=\"padding:6px;\">0.500</td>\n",
       "                <td style=\"padding:6px;\">0.600</td>\n",
       "            </tr>\n",
       "            </tbody>\n",
       "        </table>\n",
       "        </div>\n",
       "        "
      ],
      "text/plain": [
       "<IPython.core.display.HTML object>"
      ]
     },
     "metadata": {},
     "output_type": "display_data"
    }
   ],
   "source": [
    "logistic_models.evaluate_model(best_model_name)"
   ]
  },
  {
   "cell_type": "markdown",
   "id": "79304211",
   "metadata": {},
   "source": [
    "<div class=\"alert alert-block alert-success\">\n",
    "  <h4>📊 Interprétation des performances du modèle de scoring</h4>\n",
    "\n",
    "  <p><b>📌 Répartition de la variable cible :</b> 70% de <i>non défaut</i> (clients fiables) et 30% de <i>défaut</i> (clients à risque).</p>\n",
    "  <p>Ce déséquilibre implique qu’un bon modèle ne peut pas se contenter d’une forte accuracy : il doit surtout bien détecter les défauts tout en limitant les faux refus.</p>\n",
    "\n",
    "  <h5>⚙️ Métriques globales</h5>\n",
    "  <table border=\"1\" style=\"border-collapse: collapse; width: 100%; text-align: left;\">\n",
    "    <thead style=\"background-color:#f2f2f2;\">\n",
    "      <tr>\n",
    "        <th style=\"padding:8px;\">Métrique</th>\n",
    "        <th style=\"padding:8px;\">Valeur</th>\n",
    "        <th style=\"padding:8px;\">Interprétation</th>\n",
    "      </tr>\n",
    "    </thead>\n",
    "    <tbody>\n",
    "      <tr>\n",
    "        <td style=\"padding:8px;\">Accuracy</td>\n",
    "        <td style=\"padding:8px;\">0.77</td>\n",
    "        <td style=\"padding:8px;\">\n",
    "          77% des prédictions sont correctes. À interpréter avec prudence car un modèle naïf qui prédirait toujours \"non défaut\" atteindrait déjà 70%.\n",
    "        </td>\n",
    "      </tr>\n",
    "      <tr>\n",
    "        <td style=\"padding:8px;\">ROC AUC</td>\n",
    "        <td style=\"padding:8px;\">0.7452</td>\n",
    "        <td style=\"padding:8px;\">\n",
    "          Bonne capacité à discriminer les bons des mauvais payeurs. Score satisfaisant dans un contexte de déséquilibre.\n",
    "        </td>\n",
    "      </tr>\n",
    "    </tbody>\n",
    "  </table>\n",
    "\n",
    "  <h5 style=\"margin-top:20px;\">🏷️ Métriques par classe</h5>\n",
    "  <table border=\"1\" style=\"border-collapse: collapse; width: 100%; text-align: left;\">\n",
    "    <thead style=\"background-color:#f2f2f2;\">\n",
    "      <tr>\n",
    "        <th style=\"padding:8px;\">Classe</th>\n",
    "        <th style=\"padding:8px;\">🎯 Précision</th>\n",
    "        <th style=\"padding:8px;\">🔍 Recall</th>\n",
    "        <th style=\"padding:8px;\">⚖️ F1-score</th>\n",
    "      </tr>\n",
    "    </thead>\n",
    "    <tbody>\n",
    "      <tr>\n",
    "        <td style=\"padding:8px;\"><b>Non défaut (classe 0)</b></td>\n",
    "        <td style=\"padding:8px;\">\n",
    "          <b>0.856</b><br>\n",
    "          → 86% des clients prédits comme fiables le sont réellement. Le modèle évite efficacement les faux refus.\n",
    "        </td>\n",
    "        <td style=\"padding:8px;\">\n",
    "          <b>0.807</b><br>\n",
    "          → Le modèle capte 81% des clients qui remboursent. Il maintient la satisfaction des clients solvables.\n",
    "        </td>\n",
    "        <td style=\"padding:8px;\">\n",
    "          <b>0.831</b><br>\n",
    "          → Très bon équilibre sur cette classe majoritaire. Peu d’erreurs, bon confort métier.\n",
    "        </td>\n",
    "      </tr>\n",
    "      <tr>\n",
    "        <td style=\"padding:8px;\"><b>Défaut (classe 1)</b></td>\n",
    "        <td style=\"padding:8px;\">\n",
    "          <b>0.603</b><br>\n",
    "          → Sur 100 clients considérés comme risqués, 60 le sont réellement. Taux de refus injustifiés à surveiller.\n",
    "        </td>\n",
    "        <td style=\"padding:8px;\">\n",
    "          <b>0.683</b><br>\n",
    "          → 68% des vrais défauts sont détectés. Bon score dans un contexte déséquilibré, mais perfectible.\n",
    "        </td>\n",
    "        <td style=\"padding:8px;\">\n",
    "          <b>0.641</b><br>\n",
    "          → Compromis raisonnable entre détection et justesse. Des défauts échappent encore au modèle.\n",
    "        </td>\n",
    "      </tr>\n",
    "    </tbody>\n",
    "  </table>\n",
    "\n",
    "  <h4 style=\"margin-top: 20px;\">🚀 Axes pour améliorer la performance</h4>\n",
    "  <ul>\n",
    "    <li><b>Ajuster le seuil de décision</b> pour privilégier le rappel (ex : seuil &lt; 0.5).</li>\n",
    "    <li><b>Enrichir les variables explicatives</b> (demander d'autres informations au métier, faire des croisements entre variables, appliquer des transformations aux variables).</li>\n",
    "    <li><b>Tester d’autres modèles</b> plus performants : Random Forest, XGBoost, LightGBM.</li>\n",
    "    <li><b>Travailler avec les métiers</b> pour ajuster le compromis recall / précision selon la stratégie risque / image client.</li>\n",
    "  </ul>\n",
    "</div>\n"
   ]
  },
  {
   "cell_type": "markdown",
   "id": "011b0ae2",
   "metadata": {},
   "source": [
    "#### 6.4.2 Déterminer un seuil manuellement (avec une approche métier)"
   ]
  },
  {
   "cell_type": "code",
   "execution_count": 14,
   "id": "827eea20",
   "metadata": {},
   "outputs": [
    {
     "data": {
      "application/vnd.plotly.v1+json": {
       "config": {
        "plotlyServerURL": "https://plot.ly"
       },
       "data": [
        {
         "hovertemplate": "Seuil = %{x:.2f}<br>Precision = %{y:.3f}<extra></extra>",
         "mode": "lines+markers",
         "name": "Precision",
         "type": "scatter",
         "x": {
          "bdata": "exSuR+F6hD8Lv1ubZmCUP9hz4JJcg54/U5QyRSlTpD+67vRApGSpPyFJtzwfdq4/w9E8HM3DsT/3/h2aiky0Pyos/xdI1bY/XVnglQVeuT+RhsETw+a7P8SzopGAb74/fPDBBx98wD8Wh7LGfcDBP7Ado4XcBMM/SbSTRDtJxD/jSoQDmo3FP33hdML40cY/FnhlgVcWyD+wDlZAtlrJP0qlRv8Un8o/4zs3vnPjyz990id90ifNPxdpGDwxbM4/sP8I+4+wzz8ly/xcd3rQP3IWdbymHNE/v2HtG9a+0T8MrWV7BWHSP1j43do0A9M/pUNWOmSl0z/yjs6Zk0fUPz/aRvnC6dQ/jCW/WPKL1T/ZcDe4IS7WPya8rxdR0NY/cgcod4By1z+/UqDWrxTYPwyeGDbfttg/WemQlQ5Z2T+mNAn1PfvZP/N/gVRtndo/P8v5s5w/2z+MFnITzOHbP9lh6nL7g9w/Jq1i0iom3T9z+NoxWsjdP8BDU5GJat4/DI/L8LgM3z9Z2kNQ6K7fP9MS3teLKOA/ejiah6N54D8gXlY3u8rgP8aDEufSG+E/banOlups4T8Tz4pGAr7hP7r0RvYZD+I/YBoDpjFg4j8GQL9VSbHiP61lewVhAuM/U4s3tXhT4z/6sPNkkKTjP6DWrxSo9eM/R/xrxL9G5D/tISh015fkP5NH5CPv6OQ/Om2g0wY65T/gklyDHovlP4e4GDM23OU/Ld7U4k0t5j/UA5GSZX7mP3opTUJ9z+Y/IE8J8pQg5z/HdMWhrHHnP22agVHEwuc/FMA9AdwT6D+65fmw82ToP2ALtmALtug/BzFyECMH6T+tVi7AOljpP1R86m9Sqek/+qGmH2r66T+hx2LPgUvqP0ftHn+ZnOo/7RLbLrHt6j+UOJfeyD7rPzpeU47gj+s/4YMPPvjg6z+HqcvtDzLsPy7Ph50ng+w/1PRDTT/U7D96GgD9ViXtPyFAvKxudu0/x2V4XIbH7T9uizQMnhjuPxSx8Lu1ae4/utasa8267j9h/Ggb5QvvPwciJcv8XO8/rkfhehSu7z8=",
          "dtype": "f8"
         },
         "y": {
          "bdata": "YKN3ReZL0z94VLP+DH7TP5TINGw3y9M/Ut/ZqO9s1D8KQdn7mhDUP2VNWVPWlNU/9UzluuPF1j/N6jDKVDzXP7o+XZ+uT9c/inzWDabI1z9JkiRJkiTZP5+T6auEsdk/L6G9hPYS2j8Z0QdUx97aP/y+7/u+79s/Y4wxxhhj3D8zKBUm3o/cP+axFUHDSd0/sdzTCMs93T8S3EdwH8HdPwntJbSX0N4/X/EVX/EV3z9fX19fX1/fP1VVVVVVVd8/AAAAAAAA4D8AAAAAAADgP2D6pV/6pd8/AAAAAAAA4D/UrflhkTLgP+UnxFn5CeE/jBgxYsSI4T9CHdRBHdThP0Id1EEd1OE/IQtZyEIW4j/i4eHh4eHhPwAAAAAAgOI/VFwyBOto4z8Jyz2NsNzjP1100UUXXeQ/XXTRRRdd5D9ddNFFF13kPxOMt7LPIeU/E4y3ss8h5T+e2Imd2InlP57YiZ3YieU/t23btm3b5j+rqqqqqqrmP29605ve9OY/RhdddNFF5z8yOB+D8zHoPzmO4ziO4+g/+Yqv+Iqv6D822WSTTTbpP8YYY4wxxug/AAAAAAAA6D9CewntJbTnPyd2Yid2Yuc/AAAAAAAA6D+RhSxkIQvpP5GFLGQhC+k/MzMzMzMz6z+rqqqqqqrqPwAAAAAAAOw/AAAAAAAA7D8AAAAAAADsP97d3d3d3e0/3t3d3d3d7T9u27Zt27btP27btm3btu0/btu2bdu27T9u27Zt27btP1VVVVVVVe0/AAAAAAAA8D8AAAAAAADwPwAAAAAAAPA/AAAAAAAA8D8AAAAAAADwPwAAAAAAAPA/AAAAAAAA8D8AAAAAAADwPwAAAAAAAPA/AAAAAAAA8D8AAAAAAADwPwAAAAAAAPA/AAAAAAAA8D8AAAAAAADwPwAAAAAAAPA/AAAAAAAA8D8AAAAAAADwPwAAAAAAAPA/AAAAAAAA8D8AAAAAAADwPwAAAAAAAPA/AAAAAAAAAAAAAAAAAAAAAAAAAAAAAAAAAAAAAAAAAAAAAAAAAAAAAAAAAAAAAAAAAAAAAAAAAAA=",
          "dtype": "f8"
         }
        },
        {
         "hovertemplate": "Seuil = %{x:.2f}<br>Recall = %{y:.3f}<extra></extra>",
         "mode": "lines+markers",
         "name": "Recall",
         "type": "scatter",
         "x": {
          "bdata": "exSuR+F6hD8Lv1ubZmCUP9hz4JJcg54/U5QyRSlTpD+67vRApGSpPyFJtzwfdq4/w9E8HM3DsT/3/h2aiky0Pyos/xdI1bY/XVnglQVeuT+RhsETw+a7P8SzopGAb74/fPDBBx98wD8Wh7LGfcDBP7Ado4XcBMM/SbSTRDtJxD/jSoQDmo3FP33hdML40cY/FnhlgVcWyD+wDlZAtlrJP0qlRv8Un8o/4zs3vnPjyz990id90ifNPxdpGDwxbM4/sP8I+4+wzz8ly/xcd3rQP3IWdbymHNE/v2HtG9a+0T8MrWV7BWHSP1j43do0A9M/pUNWOmSl0z/yjs6Zk0fUPz/aRvnC6dQ/jCW/WPKL1T/ZcDe4IS7WPya8rxdR0NY/cgcod4By1z+/UqDWrxTYPwyeGDbfttg/WemQlQ5Z2T+mNAn1PfvZP/N/gVRtndo/P8v5s5w/2z+MFnITzOHbP9lh6nL7g9w/Jq1i0iom3T9z+NoxWsjdP8BDU5GJat4/DI/L8LgM3z9Z2kNQ6K7fP9MS3teLKOA/ejiah6N54D8gXlY3u8rgP8aDEufSG+E/banOlups4T8Tz4pGAr7hP7r0RvYZD+I/YBoDpjFg4j8GQL9VSbHiP61lewVhAuM/U4s3tXhT4z/6sPNkkKTjP6DWrxSo9eM/R/xrxL9G5D/tISh015fkP5NH5CPv6OQ/Om2g0wY65T/gklyDHovlP4e4GDM23OU/Ld7U4k0t5j/UA5GSZX7mP3opTUJ9z+Y/IE8J8pQg5z/HdMWhrHHnP22agVHEwuc/FMA9AdwT6D+65fmw82ToP2ALtmALtug/BzFyECMH6T+tVi7AOljpP1R86m9Sqek/+qGmH2r66T+hx2LPgUvqP0ftHn+ZnOo/7RLbLrHt6j+UOJfeyD7rPzpeU47gj+s/4YMPPvjg6z+HqcvtDzLsPy7Ph50ng+w/1PRDTT/U7D96GgD9ViXtPyFAvKxudu0/x2V4XIbH7T9uizQMnhjuPxSx8Lu1ae4/utasa8267j9h/Ggb5QvvPwciJcv8XO8/rkfhehSu7z8=",
          "dtype": "f8"
         },
         "y": {
          "bdata": "AAAAAAAA8D8AAAAAAADwPwAAAAAAAPA/AAAAAAAA8D/v7u7u7u7uP+/u7u7u7u4/7+7u7u7u7j9mZmZmZmbuP1VVVVVVVe0/VVVVVVVV7T9VVVVVVVXtP1VVVVVVVe0/VVVVVVVV7T9VVVVVVVXtP1VVVVVVVe0/VVVVVVVV7T/NzMzMzMzsP83MzMzMzOw/RERERERE7D9ERERERETsP7y7u7u7u+s/MzMzMzMz6z+rqqqqqqrqPxEREREREek/iYiIiIiI6D+JiIiIiIjoPwAAAAAAAOg/d3d3d3d35z/e3d3d3d3lP97d3d3d3eU/VVVVVVVV5T/NzMzMzMzkP83MzMzMzOQ/zczMzMzM5D9ERERERETkP7y7u7u7u+M/vLu7u7u74z8zMzMzMzPjP6uqqqqqquI/q6qqqqqq4j+rqqqqqqriP6uqqqqqquI/q6qqqqqq4j+rqqqqqqriP6uqqqqqquI/q6qqqqqq4j8iIiIiIiLiP5qZmZmZmeE/ERERERER4T+JiIiIiIjgP97d3d3d3d0/zczMzMzM3D+8u7u7u7vbP5qZmZmZmdk/ZmZmZmZm1j9VVVVVVVXVP0RERERERNQ/MzMzMzMz0z8zMzMzMzPTPzMzMzMzM9M/IiIiIiIi0j8AAAAAAADQP97d3d3d3c0/3t3d3d3dzT/e3d3d3d3NP97d3d3d3c0/3t3d3d3dzT+8u7u7u7vLP7y7u7u7u8s/vLu7u7u7yz+8u7u7u7vLP3d3d3d3d8c/d3d3d3d3xz8RERERERHBP97d3d3d3b0/mpmZmZmZuT+amZmZmZm5P5qZmZmZmbk/mpmZmZmZuT9VVVVVVVW1P1VVVVVVVbU/VVVVVVVVtT8RERERERGxPxEREREREbE/ERERERERsT+amZmZmZmpP5qZmZmZmak/mpmZmZmZqT+amZmZmZmpPxEREREREaE/ERERERERkT8RERERERGRPxEREREREZE/AAAAAAAAAAAAAAAAAAAAAAAAAAAAAAAAAAAAAAAAAAAAAAAAAAAAAAAAAAAAAAAAAAAAAAAAAAA=",
          "dtype": "f8"
         }
        },
        {
         "hovertemplate": "Seuil = %{x:.2f}<br>F1 = %{y:.3f}<extra></extra>",
         "mode": "lines+markers",
         "name": "F1",
         "type": "scatter",
         "x": {
          "bdata": "exSuR+F6hD8Lv1ubZmCUP9hz4JJcg54/U5QyRSlTpD+67vRApGSpPyFJtzwfdq4/w9E8HM3DsT/3/h2aiky0Pyos/xdI1bY/XVnglQVeuT+RhsETw+a7P8SzopGAb74/fPDBBx98wD8Wh7LGfcDBP7Ado4XcBMM/SbSTRDtJxD/jSoQDmo3FP33hdML40cY/FnhlgVcWyD+wDlZAtlrJP0qlRv8Un8o/4zs3vnPjyz990id90ifNPxdpGDwxbM4/sP8I+4+wzz8ly/xcd3rQP3IWdbymHNE/v2HtG9a+0T8MrWV7BWHSP1j43do0A9M/pUNWOmSl0z/yjs6Zk0fUPz/aRvnC6dQ/jCW/WPKL1T/ZcDe4IS7WPya8rxdR0NY/cgcod4By1z+/UqDWrxTYPwyeGDbfttg/WemQlQ5Z2T+mNAn1PfvZP/N/gVRtndo/P8v5s5w/2z+MFnITzOHbP9lh6nL7g9w/Jq1i0iom3T9z+NoxWsjdP8BDU5GJat4/DI/L8LgM3z9Z2kNQ6K7fP9MS3teLKOA/ejiah6N54D8gXlY3u8rgP8aDEufSG+E/banOlups4T8Tz4pGAr7hP7r0RvYZD+I/YBoDpjFg4j8GQL9VSbHiP61lewVhAuM/U4s3tXhT4z/6sPNkkKTjP6DWrxSo9eM/R/xrxL9G5D/tISh015fkP5NH5CPv6OQ/Om2g0wY65T/gklyDHovlP4e4GDM23OU/Ld7U4k0t5j/UA5GSZX7mP3opTUJ9z+Y/IE8J8pQg5z/HdMWhrHHnP22agVHEwuc/FMA9AdwT6D+65fmw82ToP2ALtmALtug/BzFyECMH6T+tVi7AOljpP1R86m9Sqek/+qGmH2r66T+hx2LPgUvqP0ftHn+ZnOo/7RLbLrHt6j+UOJfeyD7rPzpeU47gj+s/4YMPPvjg6z+HqcvtDzLsPy7Ph50ng+w/1PRDTT/U7D96GgD9ViXtPyFAvKxudu0/x2V4XIbH7T9uizQMnhjuPxSx8Lu1ae4/utasa8267j9h/Ggb5QvvPwciJcv8XO8/rkfhehSu7z8=",
          "dtype": "f8"
         },
         "y": {
          "bdata": "cdph3wqn3T8e4h3iHeLdP4/H4/F4PN4/+N5777333j/6LQSMUk3ePwAAAAAAAOA/KoX0NU+l4D+GPkOfoc/gP0LOkv21ruA/xU7sxE7s4D+amZmZmZnhP8NiJJQ23uE/0iAN0iAN4j8mHNXf523iP+2yyy677OI/spCFLGQh4z+qaJ5QCxjjPze1qU1tauM/RhdddNFF4z926Ddbh37jP/Q8z/M8z+M/yFOCPCXI4z+35odFysDjP4M0SIM0SOM/5TWU11Be4z/lNZTXUF7jP5lKTCWmEuM/bzBFPusG4z9K8+JPJJziPzE2C6o9J+M/+DPhz4Q/4z8zMzMzMzPjPzMzMzMzM+M/1pQ1ZU1Z4z8AAAAAAADjPxljjDHGGOM/BqXCxPuR4z/vy2MrgobjPzi96U1veuM/OL3pTW964z84velNb3rjPwsrPbWw0uM/Cys9tbDS4z8AAAAAAADkPwAAAAAAAOQ/z0jF3OqM5D9fQnsJ7SXkP4fUBOOt7OM/FDuxEzux4z8rwzeiwKTjP6uqqqqqquI/CCPtWIEw4j/kkUceeeThPxEO4RAO4eA/jC666KKL3j/6zdah32zdPxJ3xB1xR9w/27Zt27Zt2z8fclkxUMLbPx9yWTFQwts/MzMzMzMz2z/ZiZ3YiZ3YP0N5DeU1lNc/Q3kN5TWU1z9DeQ3lNZTXP+UXS36x5Nc/5RdLfrHk1z/JZ91ginzWP8ln3WCKfNY/yWfdYIp81j/JZ91ginzWP+Q4juM4jtM/l3oyfrvU0z8eHh4eHh7OP3qgcnYLv8o/RhdddNFFxz9GF1100UXHP0YXXXTRRcc/RhdddNFFxz8UO7ETO7HDPxQ7sRM7scM/FDuxEzuxwz8AAAAAAADAPwAAAAAAAMA/AAAAAAAAwD8YhmEYhmG4PxiGYRiGYbg/GIZhGIZhuD8YhmEYhmG4P4QQQgghhLA/O9q8T3HJoD872rxPccmgPzvavE9xyaA/AAAAAAAAAAAAAAAAAAAAAAAAAAAAAAAAAAAAAAAAAAAAAAAAAAAAAAAAAAAAAAAAAAAAAAAAAAA=",
          "dtype": "f8"
         }
        }
       ],
       "layout": {
        "height": 500,
        "hovermode": "x unified",
        "legend": {
         "title": {
          "text": "Métriques"
         }
        },
        "template": {
         "data": {
          "bar": [
           {
            "error_x": {
             "color": "#2a3f5f"
            },
            "error_y": {
             "color": "#2a3f5f"
            },
            "marker": {
             "line": {
              "color": "white",
              "width": 0.5
             },
             "pattern": {
              "fillmode": "overlay",
              "size": 10,
              "solidity": 0.2
             }
            },
            "type": "bar"
           }
          ],
          "barpolar": [
           {
            "marker": {
             "line": {
              "color": "white",
              "width": 0.5
             },
             "pattern": {
              "fillmode": "overlay",
              "size": 10,
              "solidity": 0.2
             }
            },
            "type": "barpolar"
           }
          ],
          "carpet": [
           {
            "aaxis": {
             "endlinecolor": "#2a3f5f",
             "gridcolor": "#C8D4E3",
             "linecolor": "#C8D4E3",
             "minorgridcolor": "#C8D4E3",
             "startlinecolor": "#2a3f5f"
            },
            "baxis": {
             "endlinecolor": "#2a3f5f",
             "gridcolor": "#C8D4E3",
             "linecolor": "#C8D4E3",
             "minorgridcolor": "#C8D4E3",
             "startlinecolor": "#2a3f5f"
            },
            "type": "carpet"
           }
          ],
          "choropleth": [
           {
            "colorbar": {
             "outlinewidth": 0,
             "ticks": ""
            },
            "type": "choropleth"
           }
          ],
          "contour": [
           {
            "colorbar": {
             "outlinewidth": 0,
             "ticks": ""
            },
            "colorscale": [
             [
              0,
              "#0d0887"
             ],
             [
              0.1111111111111111,
              "#46039f"
             ],
             [
              0.2222222222222222,
              "#7201a8"
             ],
             [
              0.3333333333333333,
              "#9c179e"
             ],
             [
              0.4444444444444444,
              "#bd3786"
             ],
             [
              0.5555555555555556,
              "#d8576b"
             ],
             [
              0.6666666666666666,
              "#ed7953"
             ],
             [
              0.7777777777777778,
              "#fb9f3a"
             ],
             [
              0.8888888888888888,
              "#fdca26"
             ],
             [
              1,
              "#f0f921"
             ]
            ],
            "type": "contour"
           }
          ],
          "contourcarpet": [
           {
            "colorbar": {
             "outlinewidth": 0,
             "ticks": ""
            },
            "type": "contourcarpet"
           }
          ],
          "heatmap": [
           {
            "colorbar": {
             "outlinewidth": 0,
             "ticks": ""
            },
            "colorscale": [
             [
              0,
              "#0d0887"
             ],
             [
              0.1111111111111111,
              "#46039f"
             ],
             [
              0.2222222222222222,
              "#7201a8"
             ],
             [
              0.3333333333333333,
              "#9c179e"
             ],
             [
              0.4444444444444444,
              "#bd3786"
             ],
             [
              0.5555555555555556,
              "#d8576b"
             ],
             [
              0.6666666666666666,
              "#ed7953"
             ],
             [
              0.7777777777777778,
              "#fb9f3a"
             ],
             [
              0.8888888888888888,
              "#fdca26"
             ],
             [
              1,
              "#f0f921"
             ]
            ],
            "type": "heatmap"
           }
          ],
          "histogram": [
           {
            "marker": {
             "pattern": {
              "fillmode": "overlay",
              "size": 10,
              "solidity": 0.2
             }
            },
            "type": "histogram"
           }
          ],
          "histogram2d": [
           {
            "colorbar": {
             "outlinewidth": 0,
             "ticks": ""
            },
            "colorscale": [
             [
              0,
              "#0d0887"
             ],
             [
              0.1111111111111111,
              "#46039f"
             ],
             [
              0.2222222222222222,
              "#7201a8"
             ],
             [
              0.3333333333333333,
              "#9c179e"
             ],
             [
              0.4444444444444444,
              "#bd3786"
             ],
             [
              0.5555555555555556,
              "#d8576b"
             ],
             [
              0.6666666666666666,
              "#ed7953"
             ],
             [
              0.7777777777777778,
              "#fb9f3a"
             ],
             [
              0.8888888888888888,
              "#fdca26"
             ],
             [
              1,
              "#f0f921"
             ]
            ],
            "type": "histogram2d"
           }
          ],
          "histogram2dcontour": [
           {
            "colorbar": {
             "outlinewidth": 0,
             "ticks": ""
            },
            "colorscale": [
             [
              0,
              "#0d0887"
             ],
             [
              0.1111111111111111,
              "#46039f"
             ],
             [
              0.2222222222222222,
              "#7201a8"
             ],
             [
              0.3333333333333333,
              "#9c179e"
             ],
             [
              0.4444444444444444,
              "#bd3786"
             ],
             [
              0.5555555555555556,
              "#d8576b"
             ],
             [
              0.6666666666666666,
              "#ed7953"
             ],
             [
              0.7777777777777778,
              "#fb9f3a"
             ],
             [
              0.8888888888888888,
              "#fdca26"
             ],
             [
              1,
              "#f0f921"
             ]
            ],
            "type": "histogram2dcontour"
           }
          ],
          "mesh3d": [
           {
            "colorbar": {
             "outlinewidth": 0,
             "ticks": ""
            },
            "type": "mesh3d"
           }
          ],
          "parcoords": [
           {
            "line": {
             "colorbar": {
              "outlinewidth": 0,
              "ticks": ""
             }
            },
            "type": "parcoords"
           }
          ],
          "pie": [
           {
            "automargin": true,
            "type": "pie"
           }
          ],
          "scatter": [
           {
            "fillpattern": {
             "fillmode": "overlay",
             "size": 10,
             "solidity": 0.2
            },
            "type": "scatter"
           }
          ],
          "scatter3d": [
           {
            "line": {
             "colorbar": {
              "outlinewidth": 0,
              "ticks": ""
             }
            },
            "marker": {
             "colorbar": {
              "outlinewidth": 0,
              "ticks": ""
             }
            },
            "type": "scatter3d"
           }
          ],
          "scattercarpet": [
           {
            "marker": {
             "colorbar": {
              "outlinewidth": 0,
              "ticks": ""
             }
            },
            "type": "scattercarpet"
           }
          ],
          "scattergeo": [
           {
            "marker": {
             "colorbar": {
              "outlinewidth": 0,
              "ticks": ""
             }
            },
            "type": "scattergeo"
           }
          ],
          "scattergl": [
           {
            "marker": {
             "colorbar": {
              "outlinewidth": 0,
              "ticks": ""
             }
            },
            "type": "scattergl"
           }
          ],
          "scattermap": [
           {
            "marker": {
             "colorbar": {
              "outlinewidth": 0,
              "ticks": ""
             }
            },
            "type": "scattermap"
           }
          ],
          "scattermapbox": [
           {
            "marker": {
             "colorbar": {
              "outlinewidth": 0,
              "ticks": ""
             }
            },
            "type": "scattermapbox"
           }
          ],
          "scatterpolar": [
           {
            "marker": {
             "colorbar": {
              "outlinewidth": 0,
              "ticks": ""
             }
            },
            "type": "scatterpolar"
           }
          ],
          "scatterpolargl": [
           {
            "marker": {
             "colorbar": {
              "outlinewidth": 0,
              "ticks": ""
             }
            },
            "type": "scatterpolargl"
           }
          ],
          "scatterternary": [
           {
            "marker": {
             "colorbar": {
              "outlinewidth": 0,
              "ticks": ""
             }
            },
            "type": "scatterternary"
           }
          ],
          "surface": [
           {
            "colorbar": {
             "outlinewidth": 0,
             "ticks": ""
            },
            "colorscale": [
             [
              0,
              "#0d0887"
             ],
             [
              0.1111111111111111,
              "#46039f"
             ],
             [
              0.2222222222222222,
              "#7201a8"
             ],
             [
              0.3333333333333333,
              "#9c179e"
             ],
             [
              0.4444444444444444,
              "#bd3786"
             ],
             [
              0.5555555555555556,
              "#d8576b"
             ],
             [
              0.6666666666666666,
              "#ed7953"
             ],
             [
              0.7777777777777778,
              "#fb9f3a"
             ],
             [
              0.8888888888888888,
              "#fdca26"
             ],
             [
              1,
              "#f0f921"
             ]
            ],
            "type": "surface"
           }
          ],
          "table": [
           {
            "cells": {
             "fill": {
              "color": "#EBF0F8"
             },
             "line": {
              "color": "white"
             }
            },
            "header": {
             "fill": {
              "color": "#C8D4E3"
             },
             "line": {
              "color": "white"
             }
            },
            "type": "table"
           }
          ]
         },
         "layout": {
          "annotationdefaults": {
           "arrowcolor": "#2a3f5f",
           "arrowhead": 0,
           "arrowwidth": 1
          },
          "autotypenumbers": "strict",
          "coloraxis": {
           "colorbar": {
            "outlinewidth": 0,
            "ticks": ""
           }
          },
          "colorscale": {
           "diverging": [
            [
             0,
             "#8e0152"
            ],
            [
             0.1,
             "#c51b7d"
            ],
            [
             0.2,
             "#de77ae"
            ],
            [
             0.3,
             "#f1b6da"
            ],
            [
             0.4,
             "#fde0ef"
            ],
            [
             0.5,
             "#f7f7f7"
            ],
            [
             0.6,
             "#e6f5d0"
            ],
            [
             0.7,
             "#b8e186"
            ],
            [
             0.8,
             "#7fbc41"
            ],
            [
             0.9,
             "#4d9221"
            ],
            [
             1,
             "#276419"
            ]
           ],
           "sequential": [
            [
             0,
             "#0d0887"
            ],
            [
             0.1111111111111111,
             "#46039f"
            ],
            [
             0.2222222222222222,
             "#7201a8"
            ],
            [
             0.3333333333333333,
             "#9c179e"
            ],
            [
             0.4444444444444444,
             "#bd3786"
            ],
            [
             0.5555555555555556,
             "#d8576b"
            ],
            [
             0.6666666666666666,
             "#ed7953"
            ],
            [
             0.7777777777777778,
             "#fb9f3a"
            ],
            [
             0.8888888888888888,
             "#fdca26"
            ],
            [
             1,
             "#f0f921"
            ]
           ],
           "sequentialminus": [
            [
             0,
             "#0d0887"
            ],
            [
             0.1111111111111111,
             "#46039f"
            ],
            [
             0.2222222222222222,
             "#7201a8"
            ],
            [
             0.3333333333333333,
             "#9c179e"
            ],
            [
             0.4444444444444444,
             "#bd3786"
            ],
            [
             0.5555555555555556,
             "#d8576b"
            ],
            [
             0.6666666666666666,
             "#ed7953"
            ],
            [
             0.7777777777777778,
             "#fb9f3a"
            ],
            [
             0.8888888888888888,
             "#fdca26"
            ],
            [
             1,
             "#f0f921"
            ]
           ]
          },
          "colorway": [
           "#636efa",
           "#EF553B",
           "#00cc96",
           "#ab63fa",
           "#FFA15A",
           "#19d3f3",
           "#FF6692",
           "#B6E880",
           "#FF97FF",
           "#FECB52"
          ],
          "font": {
           "color": "#2a3f5f"
          },
          "geo": {
           "bgcolor": "white",
           "lakecolor": "white",
           "landcolor": "white",
           "showlakes": true,
           "showland": true,
           "subunitcolor": "#C8D4E3"
          },
          "hoverlabel": {
           "align": "left"
          },
          "hovermode": "closest",
          "mapbox": {
           "style": "light"
          },
          "paper_bgcolor": "white",
          "plot_bgcolor": "white",
          "polar": {
           "angularaxis": {
            "gridcolor": "#EBF0F8",
            "linecolor": "#EBF0F8",
            "ticks": ""
           },
           "bgcolor": "white",
           "radialaxis": {
            "gridcolor": "#EBF0F8",
            "linecolor": "#EBF0F8",
            "ticks": ""
           }
          },
          "scene": {
           "xaxis": {
            "backgroundcolor": "white",
            "gridcolor": "#DFE8F3",
            "gridwidth": 2,
            "linecolor": "#EBF0F8",
            "showbackground": true,
            "ticks": "",
            "zerolinecolor": "#EBF0F8"
           },
           "yaxis": {
            "backgroundcolor": "white",
            "gridcolor": "#DFE8F3",
            "gridwidth": 2,
            "linecolor": "#EBF0F8",
            "showbackground": true,
            "ticks": "",
            "zerolinecolor": "#EBF0F8"
           },
           "zaxis": {
            "backgroundcolor": "white",
            "gridcolor": "#DFE8F3",
            "gridwidth": 2,
            "linecolor": "#EBF0F8",
            "showbackground": true,
            "ticks": "",
            "zerolinecolor": "#EBF0F8"
           }
          },
          "shapedefaults": {
           "line": {
            "color": "#2a3f5f"
           }
          },
          "ternary": {
           "aaxis": {
            "gridcolor": "#DFE8F3",
            "linecolor": "#A2B1C6",
            "ticks": ""
           },
           "baxis": {
            "gridcolor": "#DFE8F3",
            "linecolor": "#A2B1C6",
            "ticks": ""
           },
           "bgcolor": "white",
           "caxis": {
            "gridcolor": "#DFE8F3",
            "linecolor": "#A2B1C6",
            "ticks": ""
           }
          },
          "title": {
           "x": 0.05
          },
          "xaxis": {
           "automargin": true,
           "gridcolor": "#EBF0F8",
           "linecolor": "#EBF0F8",
           "ticks": "",
           "title": {
            "standoff": 15
           },
           "zerolinecolor": "#EBF0F8",
           "zerolinewidth": 2
          },
          "yaxis": {
           "automargin": true,
           "gridcolor": "#EBF0F8",
           "linecolor": "#EBF0F8",
           "ticks": "",
           "title": {
            "standoff": 15
           },
           "zerolinecolor": "#EBF0F8",
           "zerolinewidth": 2
          }
         }
        },
        "title": {
         "text": "📈 Logistic Regression (L2) — Évolution des métriques selon le seuil"
        },
        "width": 850,
        "xaxis": {
         "tickformat": ".2f",
         "title": {
          "text": "Seuil de score"
         }
        },
        "yaxis": {
         "range": [
          0,
          1.05
         ],
         "title": {
          "text": "Valeur de la métrique"
         }
        }
       }
      }
     },
     "metadata": {},
     "output_type": "display_data"
    }
   ],
   "source": [
    "logistic_models.plot_metrics_by_threshold(best_model_name)\n",
    "df_metrics = logistic_models.get_metrics_by_threshold(best_model_name)"
   ]
  },
  {
   "cell_type": "markdown",
   "id": "ccadaa39",
   "metadata": {},
   "source": [
    "<div class=\"alert alert-block alert-warning\">\n",
    "<b>Question 30:</b> Nous souhaitons refuser moins de 30% de crédits à tort,  quel seuil choisir ?\n",
    "</div>"
   ]
  },
  {
   "cell_type": "markdown",
   "id": "28853f3e",
   "metadata": {},
   "source": [
    "<div class=\"alert alert-block alert-warning\">\n",
    "<b>Question 31:</b> Nous souhaitons détecter au moins 75% des défauts de paiement , quel seuil choisir ?\n",
    "</div>"
   ]
  },
  {
   "cell_type": "markdown",
   "id": "b84ebf0b",
   "metadata": {},
   "source": [
    "### 7. Modèles à base d'arbres"
   ]
  },
  {
   "cell_type": "code",
   "execution_count": 17,
   "id": "f43970ee",
   "metadata": {},
   "outputs": [
    {
     "name": "stdout",
     "output_type": "stream",
     "text": [
      "🔍 Optimisation en cours : Random Forest\n",
      "🔍 Optimisation en cours : Gradient Boosting\n",
      "🔍 Optimisation en cours : LightGBM\n",
      "[LightGBM] [Warning] No further splits with positive gain, best gain: -inf\n",
      "[LightGBM] [Warning] No further splits with positive gain, best gain: -inf\n",
      "[LightGBM] [Warning] No further splits with positive gain, best gain: -inf\n",
      "[LightGBM] [Warning] No further splits with positive gain, best gain: -inf\n",
      "[LightGBM] [Warning] No further splits with positive gain, best gain: -inf\n",
      "[LightGBM] [Warning] No further splits with positive gain, best gain: -inf\n",
      "[LightGBM] [Warning] No further splits with positive gain, best gain: -inf\n",
      "[LightGBM] [Warning] No further splits with positive gain, best gain: -inf\n",
      "[LightGBM] [Warning] No further splits with positive gain, best gain: -inf\n",
      "[LightGBM] [Warning] No further splits with positive gain, best gain: -inf\n",
      "[LightGBM] [Warning] No further splits with positive gain, best gain: -inf\n",
      "[LightGBM] [Warning] No further splits with positive gain, best gain: -inf\n",
      "[LightGBM] [Warning] No further splits with positive gain, best gain: -inf\n",
      "[LightGBM] [Warning] No further splits with positive gain, best gain: -inf\n",
      "[LightGBM] [Warning] No further splits with positive gain, best gain: -inf\n",
      "[LightGBM] [Warning] No further splits with positive gain, best gain: -inf\n",
      "[LightGBM] [Warning] No further splits with positive gain, best gain: -inf\n",
      "[LightGBM] [Warning] No further splits with positive gain, best gain: -inf\n",
      "[LightGBM] [Warning] No further splits with positive gain, best gain: -inf\n",
      "[LightGBM] [Warning] No further splits with positive gain, best gain: -inf\n",
      "[LightGBM] [Warning] No further splits with positive gain, best gain: -inf\n",
      "[LightGBM] [Warning] No further splits with positive gain, best gain: -inf\n",
      "[LightGBM] [Warning] No further splits with positive gain, best gain: -inf\n",
      "[LightGBM] [Warning] No further splits with positive gain, best gain: -inf\n",
      "[LightGBM] [Warning] No further splits with positive gain, best gain: -inf\n",
      "[LightGBM] [Warning] No further splits with positive gain, best gain: -inf\n",
      "[LightGBM] [Warning] No further splits with positive gain, best gain: -inf\n",
      "[LightGBM] [Warning] No further splits with positive gain, best gain: -inf\n",
      "[LightGBM] [Warning] No further splits with positive gain, best gain: -inf\n",
      "[LightGBM] [Warning] No further splits with positive gain, best gain: -inf\n",
      "[LightGBM] [Warning] No further splits with positive gain, best gain: -inf\n",
      "[LightGBM] [Warning] No further splits with positive gain, best gain: -inf\n",
      "[LightGBM] [Warning] No further splits with positive gain, best gain: -inf\n",
      "[LightGBM] [Warning] No further splits with positive gain, best gain: -inf\n",
      "[LightGBM] [Warning] No further splits with positive gain, best gain: -inf\n",
      "[LightGBM] [Warning] No further splits with positive gain, best gain: -inf\n",
      "[LightGBM] [Warning] No further splits with positive gain, best gain: -inf\n",
      "[LightGBM] [Warning] No further splits with positive gain, best gain: -inf\n",
      "[LightGBM] [Warning] No further splits with positive gain, best gain: -inf\n",
      "[LightGBM] [Warning] No further splits with positive gain, best gain: -inf\n",
      "[LightGBM] [Warning] No further splits with positive gain, best gain: -inf\n",
      "[LightGBM] [Warning] No further splits with positive gain, best gain: -inf\n",
      "[LightGBM] [Warning] No further splits with positive gain, best gain: -inf\n",
      "[LightGBM] [Warning] No further splits with positive gain, best gain: -inf\n",
      "[LightGBM] [Warning] No further splits with positive gain, best gain: -inf\n",
      "[LightGBM] [Warning] No further splits with positive gain, best gain: -inf\n",
      "[LightGBM] [Warning] No further splits with positive gain, best gain: -inf\n",
      "[LightGBM] [Warning] No further splits with positive gain, best gain: -inf\n",
      "[LightGBM] [Warning] No further splits with positive gain, best gain: -inf\n",
      "[LightGBM] [Warning] No further splits with positive gain, best gain: -inf\n",
      "[LightGBM] [Warning] No further splits with positive gain, best gain: -inf\n",
      "[LightGBM] [Warning] No further splits with positive gain, best gain: -inf\n",
      "[LightGBM] [Warning] No further splits with positive gain, best gain: -inf\n",
      "[LightGBM] [Warning] No further splits with positive gain, best gain: -inf\n",
      "[LightGBM] [Warning] No further splits with positive gain, best gain: -inf\n",
      "[LightGBM] [Warning] No further splits with positive gain, best gain: -inf\n",
      "[LightGBM] [Warning] No further splits with positive gain, best gain: -inf\n",
      "[LightGBM] [Warning] No further splits with positive gain, best gain: -inf\n",
      "[LightGBM] [Warning] No further splits with positive gain, best gain: -inf\n",
      "[LightGBM] [Warning] No further splits with positive gain, best gain: -inf\n",
      "[LightGBM] [Warning] No further splits with positive gain, best gain: -inf\n",
      "[LightGBM] [Warning] No further splits with positive gain, best gain: -inf\n",
      "[LightGBM] [Warning] No further splits with positive gain, best gain: -inf\n",
      "[LightGBM] [Warning] No further splits with positive gain, best gain: -inf\n",
      "[LightGBM] [Warning] No further splits with positive gain, best gain: -inf\n",
      "[LightGBM] [Warning] No further splits with positive gain, best gain: -inf\n",
      "[LightGBM] [Warning] No further splits with positive gain, best gain: -inf\n",
      "[LightGBM] [Warning] No further splits with positive gain, best gain: -inf\n",
      "[LightGBM] [Warning] No further splits with positive gain, best gain: -inf\n",
      "[LightGBM] [Warning] No further splits with positive gain, best gain: -inf\n",
      "[LightGBM] [Warning] No further splits with positive gain, best gain: -inf\n",
      "[LightGBM] [Warning] No further splits with positive gain, best gain: -inf\n",
      "[LightGBM] [Warning] No further splits with positive gain, best gain: -inf\n",
      "[LightGBM] [Warning] No further splits with positive gain, best gain: -inf\n",
      "[LightGBM] [Warning] No further splits with positive gain, best gain: -inf\n",
      "[LightGBM] [Warning] No further splits with positive gain, best gain: -inf\n",
      "[LightGBM] [Warning] No further splits with positive gain, best gain: -inf\n",
      "[LightGBM] [Warning] No further splits with positive gain, best gain: -inf\n",
      "[LightGBM] [Warning] No further splits with positive gain, best gain: -inf\n",
      "[LightGBM] [Warning] No further splits with positive gain, best gain: -inf\n",
      "[LightGBM] [Warning] No further splits with positive gain, best gain: -inf\n",
      "[LightGBM] [Warning] No further splits with positive gain, best gain: -inf\n",
      "[LightGBM] [Warning] No further splits with positive gain, best gain: -inf\n",
      "[LightGBM] [Warning] No further splits with positive gain, best gain: -inf\n",
      "[LightGBM] [Warning] No further splits with positive gain, best gain: -inf\n",
      "[LightGBM] [Warning] No further splits with positive gain, best gain: -inf\n",
      "[LightGBM] [Warning] No further splits with positive gain, best gain: -inf\n",
      "[LightGBM] [Warning] No further splits with positive gain, best gain: -inf\n",
      "[LightGBM] [Warning] No further splits with positive gain, best gain: -inf\n",
      "[LightGBM] [Warning] No further splits with positive gain, best gain: -inf\n",
      "[LightGBM] [Warning] No further splits with positive gain, best gain: -inf\n",
      "[LightGBM] [Warning] No further splits with positive gain, best gain: -inf\n",
      "[LightGBM] [Warning] No further splits with positive gain, best gain: -inf\n",
      "[LightGBM] [Warning] No further splits with positive gain, best gain: -inf\n",
      "[LightGBM] [Warning] No further splits with positive gain, best gain: -inf\n",
      "[LightGBM] [Warning] No further splits with positive gain, best gain: -inf\n",
      "[LightGBM] [Warning] No further splits with positive gain, best gain: -inf\n",
      "[LightGBM] [Warning] No further splits with positive gain, best gain: -inf\n",
      "[LightGBM] [Warning] No further splits with positive gain, best gain: -inf\n",
      "[LightGBM] [Warning] No further splits with positive gain, best gain: -inf\n",
      "[LightGBM] [Warning] No further splits with positive gain, best gain: -inf\n",
      "[LightGBM] [Warning] No further splits with positive gain, best gain: -inf\n",
      "[LightGBM] [Warning] No further splits with positive gain, best gain: -inf\n",
      "[LightGBM] [Warning] No further splits with positive gain, best gain: -inf\n",
      "[LightGBM] [Warning] No further splits with positive gain, best gain: -inf\n",
      "[LightGBM] [Warning] No further splits with positive gain, best gain: -inf\n",
      "[LightGBM] [Warning] No further splits with positive gain, best gain: -inf\n",
      "[LightGBM] [Warning] No further splits with positive gain, best gain: -inf\n",
      "[LightGBM] [Warning] No further splits with positive gain, best gain: -inf\n",
      "[LightGBM] [Warning] No further splits with positive gain, best gain: -inf\n",
      "[LightGBM] [Warning] No further splits with positive gain, best gain: -inf\n",
      "[LightGBM] [Warning] No further splits with positive gain, best gain: -inf\n",
      "[LightGBM] [Warning] No further splits with positive gain, best gain: -inf\n",
      "[LightGBM] [Warning] No further splits with positive gain, best gain: -inf\n",
      "[LightGBM] [Warning] No further splits with positive gain, best gain: -inf\n",
      "[LightGBM] [Warning] No further splits with positive gain, best gain: -inf\n",
      "[LightGBM] [Warning] No further splits with positive gain, best gain: -inf\n",
      "[LightGBM] [Warning] No further splits with positive gain, best gain: -inf\n",
      "[LightGBM] [Warning] No further splits with positive gain, best gain: -inf\n",
      "[LightGBM] [Warning] No further splits with positive gain, best gain: -inf\n",
      "[LightGBM] [Warning] No further splits with positive gain, best gain: -inf\n",
      "[LightGBM] [Warning] No further splits with positive gain, best gain: -inf\n",
      "[LightGBM] [Warning] No further splits with positive gain, best gain: -inf\n",
      "[LightGBM] [Warning] No further splits with positive gain, best gain: -inf\n",
      "[LightGBM] [Warning] No further splits with positive gain, best gain: -inf\n",
      "[LightGBM] [Warning] No further splits with positive gain, best gain: -inf\n",
      "[LightGBM] [Warning] No further splits with positive gain, best gain: -inf\n",
      "[LightGBM] [Warning] No further splits with positive gain, best gain: -inf\n",
      "[LightGBM] [Warning] No further splits with positive gain, best gain: -inf\n",
      "[LightGBM] [Warning] No further splits with positive gain, best gain: -inf\n",
      "[LightGBM] [Warning] No further splits with positive gain, best gain: -inf\n",
      "[LightGBM] [Warning] No further splits with positive gain, best gain: -inf\n",
      "[LightGBM] [Warning] No further splits with positive gain, best gain: -inf\n",
      "[LightGBM] [Warning] No further splits with positive gain, best gain: -inf\n",
      "[LightGBM] [Warning] No further splits with positive gain, best gain: -inf\n",
      "[LightGBM] [Warning] No further splits with positive gain, best gain: -inf\n",
      "[LightGBM] [Warning] No further splits with positive gain, best gain: -inf\n",
      "[LightGBM] [Warning] No further splits with positive gain, best gain: -inf\n",
      "[LightGBM] [Warning] No further splits with positive gain, best gain: -inf\n",
      "[LightGBM] [Warning] No further splits with positive gain, best gain: -inf\n",
      "[LightGBM] [Warning] No further splits with positive gain, best gain: -inf\n",
      "[LightGBM] [Warning] No further splits with positive gain, best gain: -inf\n",
      "[LightGBM] [Warning] No further splits with positive gain, best gain: -inf\n",
      "[LightGBM] [Warning] No further splits with positive gain, best gain: -inf\n",
      "[LightGBM] [Warning] No further splits with positive gain, best gain: -inf\n",
      "[LightGBM] [Warning] No further splits with positive gain, best gain: -inf\n",
      "[LightGBM] [Warning] No further splits with positive gain, best gain: -inf\n",
      "[LightGBM] [Warning] No further splits with positive gain, best gain: -inf\n",
      "[LightGBM] [Warning] No further splits with positive gain, best gain: -inf\n",
      "[LightGBM] [Warning] No further splits with positive gain, best gain: -inf\n",
      "[LightGBM] [Warning] No further splits with positive gain, best gain: -inf\n",
      "[LightGBM] [Warning] No further splits with positive gain, best gain: -inf\n",
      "[LightGBM] [Warning] No further splits with positive gain, best gain: -inf\n",
      "[LightGBM] [Warning] No further splits with positive gain, best gain: -inf\n",
      "[LightGBM] [Warning] No further splits with positive gain, best gain: -inf\n",
      "[LightGBM] [Warning] No further splits with positive gain, best gain: -inf\n",
      "[LightGBM] [Warning] No further splits with positive gain, best gain: -inf\n",
      "[LightGBM] [Warning] No further splits with positive gain, best gain: -inf\n",
      "[LightGBM] [Warning] No further splits with positive gain, best gain: -inf\n",
      "[LightGBM] [Warning] No further splits with positive gain, best gain: -inf\n",
      "[LightGBM] [Warning] No further splits with positive gain, best gain: -inf\n",
      "[LightGBM] [Warning] No further splits with positive gain, best gain: -inf\n",
      "[LightGBM] [Warning] No further splits with positive gain, best gain: -inf\n",
      "[LightGBM] [Warning] No further splits with positive gain, best gain: -inf\n",
      "[LightGBM] [Warning] No further splits with positive gain, best gain: -inf\n",
      "[LightGBM] [Warning] No further splits with positive gain, best gain: -inf\n",
      "[LightGBM] [Warning] No further splits with positive gain, best gain: -inf\n",
      "[LightGBM] [Warning] No further splits with positive gain, best gain: -inf\n",
      "[LightGBM] [Warning] No further splits with positive gain, best gain: -inf\n",
      "[LightGBM] [Warning] No further splits with positive gain, best gain: -inf\n",
      "[LightGBM] [Warning] No further splits with positive gain, best gain: -inf\n",
      "[LightGBM] [Warning] No further splits with positive gain, best gain: -inf\n",
      "[LightGBM] [Warning] No further splits with positive gain, best gain: -inf\n",
      "[LightGBM] [Warning] No further splits with positive gain, best gain: -inf\n",
      "[LightGBM] [Warning] No further splits with positive gain, best gain: -inf\n",
      "[LightGBM] [Warning] No further splits with positive gain, best gain: -inf\n",
      "[LightGBM] [Warning] No further splits with positive gain, best gain: -inf\n",
      "[LightGBM] [Warning] No further splits with positive gain, best gain: -inf\n",
      "[LightGBM] [Warning] No further splits with positive gain, best gain: -inf\n",
      "[LightGBM] [Warning] No further splits with positive gain, best gain: -inf\n",
      "[LightGBM] [Warning] No further splits with positive gain, best gain: -inf\n",
      "[LightGBM] [Warning] No further splits with positive gain, best gain: -inf\n",
      "[LightGBM] [Warning] No further splits with positive gain, best gain: -inf\n",
      "[LightGBM] [Warning] No further splits with positive gain, best gain: -inf\n",
      "[LightGBM] [Warning] No further splits with positive gain, best gain: -inf\n",
      "[LightGBM] [Warning] No further splits with positive gain, best gain: -inf\n",
      "[LightGBM] [Warning] No further splits with positive gain, best gain: -inf\n",
      "[LightGBM] [Warning] No further splits with positive gain, best gain: -inf\n",
      "[LightGBM] [Warning] No further splits with positive gain, best gain: -inf\n",
      "[LightGBM] [Warning] No further splits with positive gain, best gain: -inf\n",
      "[LightGBM] [Warning] No further splits with positive gain, best gain: -inf\n",
      "[LightGBM] [Warning] No further splits with positive gain, best gain: -inf\n",
      "[LightGBM] [Warning] No further splits with positive gain, best gain: -inf\n",
      "[LightGBM] [Warning] No further splits with positive gain, best gain: -inf\n",
      "[LightGBM] [Warning] No further splits with positive gain, best gain: -inf\n",
      "[LightGBM] [Warning] No further splits with positive gain, best gain: -inf\n",
      "[LightGBM] [Warning] No further splits with positive gain, best gain: -inf\n",
      "[LightGBM] [Warning] No further splits with positive gain, best gain: -inf\n",
      "[LightGBM] [Warning] No further splits with positive gain, best gain: -inf\n",
      "[LightGBM] [Warning] No further splits with positive gain, best gain: -inf\n",
      "[LightGBM] [Warning] No further splits with positive gain, best gain: -inf\n",
      "[LightGBM] [Warning] No further splits with positive gain, best gain: -inf\n",
      "[LightGBM] [Warning] No further splits with positive gain, best gain: -inf\n",
      "[LightGBM] [Warning] No further splits with positive gain, best gain: -inf\n",
      "[LightGBM] [Warning] No further splits with positive gain, best gain: -inf\n",
      "[LightGBM] [Warning] No further splits with positive gain, best gain: -inf\n",
      "[LightGBM] [Warning] No further splits with positive gain, best gain: -inf\n",
      "[LightGBM] [Warning] No further splits with positive gain, best gain: -inf\n",
      "[LightGBM] [Warning] No further splits with positive gain, best gain: -inf\n",
      "[LightGBM] [Warning] No further splits with positive gain, best gain: -inf\n",
      "[LightGBM] [Warning] No further splits with positive gain, best gain: -inf\n",
      "[LightGBM] [Warning] No further splits with positive gain, best gain: -inf\n",
      "[LightGBM] [Warning] No further splits with positive gain, best gain: -inf\n",
      "[LightGBM] [Warning] No further splits with positive gain, best gain: -inf\n",
      "[LightGBM] [Warning] No further splits with positive gain, best gain: -inf\n",
      "[LightGBM] [Warning] No further splits with positive gain, best gain: -inf\n",
      "[LightGBM] [Warning] No further splits with positive gain, best gain: -inf\n",
      "[LightGBM] [Warning] No further splits with positive gain, best gain: -inf\n",
      "[LightGBM] [Warning] No further splits with positive gain, best gain: -inf\n",
      "[LightGBM] [Warning] No further splits with positive gain, best gain: -inf\n",
      "[LightGBM] [Warning] No further splits with positive gain, best gain: -inf\n",
      "[LightGBM] [Warning] No further splits with positive gain, best gain: -inf\n",
      "[LightGBM] [Warning] No further splits with positive gain, best gain: -inf\n",
      "[LightGBM] [Warning] No further splits with positive gain, best gain: -inf\n",
      "[LightGBM] [Warning] No further splits with positive gain, best gain: -inf\n",
      "[LightGBM] [Warning] No further splits with positive gain, best gain: -inf\n",
      "[LightGBM] [Warning] No further splits with positive gain, best gain: -inf\n",
      "[LightGBM] [Warning] No further splits with positive gain, best gain: -inf\n",
      "[LightGBM] [Warning] No further splits with positive gain, best gain: -inf\n",
      "[LightGBM] [Warning] No further splits with positive gain, best gain: -inf\n",
      "[LightGBM] [Warning] No further splits with positive gain, best gain: -inf\n",
      "[LightGBM] [Warning] No further splits with positive gain, best gain: -inf\n",
      "[LightGBM] [Warning] No further splits with positive gain, best gain: -inf\n",
      "[LightGBM] [Warning] No further splits with positive gain, best gain: -inf\n",
      "[LightGBM] [Warning] No further splits with positive gain, best gain: -inf\n",
      "[LightGBM] [Warning] No further splits with positive gain, best gain: -inf\n",
      "[LightGBM] [Warning] No further splits with positive gain, best gain: -inf\n",
      "[LightGBM] [Warning] No further splits with positive gain, best gain: -inf\n",
      "[LightGBM] [Warning] No further splits with positive gain, best gain: -inf\n",
      "[LightGBM] [Warning] No further splits with positive gain, best gain: -inf\n",
      "[LightGBM] [Warning] No further splits with positive gain, best gain: -inf\n",
      "[LightGBM] [Warning] No further splits with positive gain, best gain: -inf\n",
      "[LightGBM] [Warning] No further splits with positive gain, best gain: -inf\n",
      "[LightGBM] [Warning] No further splits with positive gain, best gain: -inf\n",
      "[LightGBM] [Warning] No further splits with positive gain, best gain: -inf\n",
      "[LightGBM] [Warning] No further splits with positive gain, best gain: -inf\n",
      "[LightGBM] [Warning] No further splits with positive gain, best gain: -inf\n",
      "[LightGBM] [Warning] No further splits with positive gain, best gain: -inf\n",
      "[LightGBM] [Warning] No further splits with positive gain, best gain: -inf\n",
      "[LightGBM] [Warning] No further splits with positive gain, best gain: -inf\n",
      "[LightGBM] [Warning] No further splits with positive gain, best gain: -inf\n",
      "[LightGBM] [Warning] No further splits with positive gain, best gain: -inf\n",
      "[LightGBM] [Warning] No further splits with positive gain, best gain: -inf\n",
      "[LightGBM] [Warning] No further splits with positive gain, best gain: -inf\n",
      "[LightGBM] [Warning] No further splits with positive gain, best gain: -inf\n",
      "[LightGBM] [Warning] No further splits with positive gain, best gain: -inf\n",
      "[LightGBM] [Warning] No further splits with positive gain, best gain: -inf\n",
      "[LightGBM] [Warning] No further splits with positive gain, best gain: -inf\n",
      "[LightGBM] [Warning] No further splits with positive gain, best gain: -inf\n",
      "[LightGBM] [Warning] No further splits with positive gain, best gain: -inf\n",
      "[LightGBM] [Warning] No further splits with positive gain, best gain: -inf\n",
      "[LightGBM] [Warning] No further splits with positive gain, best gain: -inf\n",
      "[LightGBM] [Warning] No further splits with positive gain, best gain: -inf\n",
      "[LightGBM] [Warning] No further splits with positive gain, best gain: -inf\n",
      "[LightGBM] [Warning] No further splits with positive gain, best gain: -inf\n",
      "[LightGBM] [Warning] No further splits with positive gain, best gain: -inf\n",
      "[LightGBM] [Warning] No further splits with positive gain, best gain: -inf\n",
      "[LightGBM] [Warning] No further splits with positive gain, best gain: -inf\n",
      "[LightGBM] [Warning] No further splits with positive gain, best gain: -inf\n",
      "[LightGBM] [Warning] No further splits with positive gain, best gain: -inf\n",
      "[LightGBM] [Warning] No further splits with positive gain, best gain: -inf\n",
      "[LightGBM] [Warning] No further splits with positive gain, best gain: -inf\n",
      "[LightGBM] [Warning] No further splits with positive gain, best gain: -inf\n",
      "[LightGBM] [Warning] No further splits with positive gain, best gain: -inf\n",
      "[LightGBM] [Warning] No further splits with positive gain, best gain: -inf\n",
      "[LightGBM] [Warning] No further splits with positive gain, best gain: -inf\n",
      "[LightGBM] [Warning] No further splits with positive gain, best gain: -inf\n",
      "[LightGBM] [Warning] No further splits with positive gain, best gain: -inf\n",
      "[LightGBM] [Warning] No further splits with positive gain, best gain: -inf\n",
      "[LightGBM] [Warning] No further splits with positive gain, best gain: -inf\n",
      "[LightGBM] [Warning] No further splits with positive gain, best gain: -inf\n",
      "[LightGBM] [Warning] No further splits with positive gain, best gain: -inf\n",
      "[LightGBM] [Warning] No further splits with positive gain, best gain: -inf\n",
      "[LightGBM] [Warning] No further splits with positive gain, best gain: -inf\n",
      "[LightGBM] [Warning] No further splits with positive gain, best gain: -inf\n",
      "[LightGBM] [Warning] No further splits with positive gain, best gain: -inf\n",
      "[LightGBM] [Warning] No further splits with positive gain, best gain: -inf\n",
      "[LightGBM] [Warning] No further splits with positive gain, best gain: -inf\n",
      "[LightGBM] [Warning] No further splits with positive gain, best gain: -inf\n",
      "[LightGBM] [Warning] No further splits with positive gain, best gain: -inf\n",
      "[LightGBM] [Warning] No further splits with positive gain, best gain: -inf\n",
      "[LightGBM] [Warning] No further splits with positive gain, best gain: -inf\n",
      "[LightGBM] [Warning] No further splits with positive gain, best gain: -inf\n",
      "[LightGBM] [Warning] No further splits with positive gain, best gain: -inf\n",
      "[LightGBM] [Warning] No further splits with positive gain, best gain: -inf\n",
      "[LightGBM] [Warning] No further splits with positive gain, best gain: -inf\n",
      "[LightGBM] [Warning] No further splits with positive gain, best gain: -inf\n",
      "[LightGBM] [Warning] No further splits with positive gain, best gain: -inf\n",
      "[LightGBM] [Warning] No further splits with positive gain, best gain: -inf\n",
      "[LightGBM] [Warning] No further splits with positive gain, best gain: -inf\n"
     ]
    },
    {
     "data": {
      "text/html": [
       "<div>\n",
       "<style scoped>\n",
       "    .dataframe tbody tr th:only-of-type {\n",
       "        vertical-align: middle;\n",
       "    }\n",
       "\n",
       "    .dataframe tbody tr th {\n",
       "        vertical-align: top;\n",
       "    }\n",
       "\n",
       "    .dataframe thead th {\n",
       "        text-align: right;\n",
       "    }\n",
       "</style>\n",
       "<table border=\"1\" class=\"dataframe\">\n",
       "  <thead>\n",
       "    <tr style=\"text-align: right;\">\n",
       "      <th></th>\n",
       "      <th>Modèle</th>\n",
       "      <th>Score F1 (CV)</th>\n",
       "      <th>Durée (s)</th>\n",
       "    </tr>\n",
       "  </thead>\n",
       "  <tbody>\n",
       "    <tr>\n",
       "      <th>1</th>\n",
       "      <td>Gradient Boosting</td>\n",
       "      <td>0.564765</td>\n",
       "      <td>20.15</td>\n",
       "    </tr>\n",
       "    <tr>\n",
       "      <th>2</th>\n",
       "      <td>LightGBM</td>\n",
       "      <td>0.556053</td>\n",
       "      <td>28.20</td>\n",
       "    </tr>\n",
       "    <tr>\n",
       "      <th>0</th>\n",
       "      <td>Random Forest</td>\n",
       "      <td>0.473399</td>\n",
       "      <td>14.70</td>\n",
       "    </tr>\n",
       "  </tbody>\n",
       "</table>\n",
       "</div>"
      ],
      "text/plain": [
       "              Modèle  Score F1 (CV)  Durée (s)\n",
       "1  Gradient Boosting       0.564765      20.15\n",
       "2           LightGBM       0.556053      28.20\n",
       "0      Random Forest       0.473399      14.70"
      ]
     },
     "execution_count": 17,
     "metadata": {},
     "output_type": "execute_result"
    }
   ],
   "source": [
    "list_models = [\"Random Forest\", \"Gradient Boosting\", \"LightGBM\"] # liste des modélisations à tester\n",
    "trees_models = ModelComparator(y_train= y_train, X_train= X_train_with_norm, y_test= y_test, X_test= X_test_with_norm, list_models= list_models, random_state= random_state) # initier la class permettant la modélisation\n",
    "trees_models.bayes_optimize_models(n_iter= 20, cv_folds= 5, scoring= \"f1\")"
   ]
  },
  {
   "cell_type": "code",
   "execution_count": 18,
   "id": "5636f955",
   "metadata": {},
   "outputs": [
    {
     "data": {
      "application/vnd.plotly.v1+json": {
       "config": {
        "plotlyServerURL": "https://plot.ly"
       },
       "data": [
        {
         "hovertemplate": "Itération = %{x}<br>Score = %{y:.4f}<extra></extra>",
         "mode": "lines+markers",
         "name": "Random Forest (max=0.4734)",
         "type": "scatter",
         "x": [
          1,
          2,
          3,
          4,
          5,
          6,
          7,
          8,
          9,
          10,
          11,
          12,
          13,
          14,
          15,
          16,
          17,
          18,
          19,
          20
         ],
         "y": {
          "bdata": "+t46LIQ60T8LotrPS7rRPwAhB5cG6rg/zjZFrx8r2D9LfGYez0/IPw7UxehUc9M/mNQtw9ow2T/ZrjbAVkrWPzriVGMkcsk/lsWTt8Cw0D8efV0GIOncPyNXQ5yce9w/ENf1N/Sazj/i2cF5YuTdPy3BFDz549s/c5x+Fz1c3T/6y+DtLEzeP+BhSD5DNds/phVFMxqv2z9iA6luf6ncPw==",
          "dtype": "f8"
         }
        },
        {
         "hovertemplate": "Random Forest<br>Itération optimale = 17<br>Score = 0.4734<extra></extra>",
         "marker": {
          "color": "red",
          "size": 8,
          "symbol": "star"
         },
         "mode": "markers",
         "name": "Random Forest ★",
         "showlegend": false,
         "type": "scatter",
         "x": [
          17
         ],
         "y": [
          0.4733993838337366
         ]
        },
        {
         "hovertemplate": "Itération = %{x}<br>Score = %{y:.4f}<extra></extra>",
         "mode": "lines+markers",
         "name": "Gradient Boosting (max=0.5648)",
         "type": "scatter",
         "x": [
          1,
          2,
          3,
          4,
          5,
          6,
          7,
          8,
          9,
          10,
          11,
          12,
          13,
          14,
          15,
          16,
          17,
          18,
          19,
          20
         ],
         "y": {
          "bdata": "hspFrGnu3z/6ynZpc1DdP0vSbRboceE/rNDo884+4D8gda4rO5HdP8rTS2HT1N8/JkvIJoOf3z+bGJvSGffcPxKFoWI8Kt0/ncwc1Q0a3z8DrSXQKyDfP0GStcc2h+E/auaH5W7h4D9V4Nl8tHDgP7oWZN3oKOA/aDi1mVHo4T80c6BYjkzgPwkyyThILuE/+2JmM40S4j9WOwjDM8bgPw==",
          "dtype": "f8"
         }
        },
        {
         "hovertemplate": "Gradient Boosting<br>Itération optimale = 19<br>Score = 0.5648<extra></extra>",
         "marker": {
          "color": "red",
          "size": 8,
          "symbol": "star"
         },
         "mode": "markers",
         "name": "Gradient Boosting ★",
         "showlegend": false,
         "type": "scatter",
         "x": [
          19
         ],
         "y": [
          0.5647645954041701
         ]
        },
        {
         "hovertemplate": "Itération = %{x}<br>Score = %{y:.4f}<extra></extra>",
         "mode": "lines+markers",
         "name": "LightGBM (max=0.5561)",
         "type": "scatter",
         "x": [
          1,
          2,
          3,
          4,
          5,
          6,
          7,
          8,
          9,
          10,
          11,
          12,
          13,
          14,
          15,
          16,
          17,
          18,
          19,
          20
         ],
         "y": {
          "bdata": "k8vYX/m33j+4VF0SF0vgP2kMHPRvQuA/kMRfRW+h3z+qickHivLdP33rXrqPpt8/ZqES12VW3z+GFPSQcCjgP0DKI9x/+98/eQd7+zmN4D89tj61B27gP9PxFqNtv+A/GhK37S413z/2PsKICf/cP5iod/VGlOA/MXHVGUDS4D88Ay0ZL8vhP/kTNYwiUOE/KPn4Wn6S4T+1Lphs6H/gPw==",
          "dtype": "f8"
         }
        },
        {
         "hovertemplate": "LightGBM<br>Itération optimale = 17<br>Score = 0.5561<extra></extra>",
         "marker": {
          "color": "red",
          "size": 8,
          "symbol": "star"
         },
         "mode": "markers",
         "name": "LightGBM ★",
         "showlegend": false,
         "type": "scatter",
         "x": [
          17
         ],
         "y": [
          0.5560527316775743
         ]
        }
       ],
       "layout": {
        "height": 550,
        "legend": {
         "title": {
          "text": "Modèles"
         }
        },
        "template": {
         "data": {
          "bar": [
           {
            "error_x": {
             "color": "#2a3f5f"
            },
            "error_y": {
             "color": "#2a3f5f"
            },
            "marker": {
             "line": {
              "color": "white",
              "width": 0.5
             },
             "pattern": {
              "fillmode": "overlay",
              "size": 10,
              "solidity": 0.2
             }
            },
            "type": "bar"
           }
          ],
          "barpolar": [
           {
            "marker": {
             "line": {
              "color": "white",
              "width": 0.5
             },
             "pattern": {
              "fillmode": "overlay",
              "size": 10,
              "solidity": 0.2
             }
            },
            "type": "barpolar"
           }
          ],
          "carpet": [
           {
            "aaxis": {
             "endlinecolor": "#2a3f5f",
             "gridcolor": "#C8D4E3",
             "linecolor": "#C8D4E3",
             "minorgridcolor": "#C8D4E3",
             "startlinecolor": "#2a3f5f"
            },
            "baxis": {
             "endlinecolor": "#2a3f5f",
             "gridcolor": "#C8D4E3",
             "linecolor": "#C8D4E3",
             "minorgridcolor": "#C8D4E3",
             "startlinecolor": "#2a3f5f"
            },
            "type": "carpet"
           }
          ],
          "choropleth": [
           {
            "colorbar": {
             "outlinewidth": 0,
             "ticks": ""
            },
            "type": "choropleth"
           }
          ],
          "contour": [
           {
            "colorbar": {
             "outlinewidth": 0,
             "ticks": ""
            },
            "colorscale": [
             [
              0,
              "#0d0887"
             ],
             [
              0.1111111111111111,
              "#46039f"
             ],
             [
              0.2222222222222222,
              "#7201a8"
             ],
             [
              0.3333333333333333,
              "#9c179e"
             ],
             [
              0.4444444444444444,
              "#bd3786"
             ],
             [
              0.5555555555555556,
              "#d8576b"
             ],
             [
              0.6666666666666666,
              "#ed7953"
             ],
             [
              0.7777777777777778,
              "#fb9f3a"
             ],
             [
              0.8888888888888888,
              "#fdca26"
             ],
             [
              1,
              "#f0f921"
             ]
            ],
            "type": "contour"
           }
          ],
          "contourcarpet": [
           {
            "colorbar": {
             "outlinewidth": 0,
             "ticks": ""
            },
            "type": "contourcarpet"
           }
          ],
          "heatmap": [
           {
            "colorbar": {
             "outlinewidth": 0,
             "ticks": ""
            },
            "colorscale": [
             [
              0,
              "#0d0887"
             ],
             [
              0.1111111111111111,
              "#46039f"
             ],
             [
              0.2222222222222222,
              "#7201a8"
             ],
             [
              0.3333333333333333,
              "#9c179e"
             ],
             [
              0.4444444444444444,
              "#bd3786"
             ],
             [
              0.5555555555555556,
              "#d8576b"
             ],
             [
              0.6666666666666666,
              "#ed7953"
             ],
             [
              0.7777777777777778,
              "#fb9f3a"
             ],
             [
              0.8888888888888888,
              "#fdca26"
             ],
             [
              1,
              "#f0f921"
             ]
            ],
            "type": "heatmap"
           }
          ],
          "histogram": [
           {
            "marker": {
             "pattern": {
              "fillmode": "overlay",
              "size": 10,
              "solidity": 0.2
             }
            },
            "type": "histogram"
           }
          ],
          "histogram2d": [
           {
            "colorbar": {
             "outlinewidth": 0,
             "ticks": ""
            },
            "colorscale": [
             [
              0,
              "#0d0887"
             ],
             [
              0.1111111111111111,
              "#46039f"
             ],
             [
              0.2222222222222222,
              "#7201a8"
             ],
             [
              0.3333333333333333,
              "#9c179e"
             ],
             [
              0.4444444444444444,
              "#bd3786"
             ],
             [
              0.5555555555555556,
              "#d8576b"
             ],
             [
              0.6666666666666666,
              "#ed7953"
             ],
             [
              0.7777777777777778,
              "#fb9f3a"
             ],
             [
              0.8888888888888888,
              "#fdca26"
             ],
             [
              1,
              "#f0f921"
             ]
            ],
            "type": "histogram2d"
           }
          ],
          "histogram2dcontour": [
           {
            "colorbar": {
             "outlinewidth": 0,
             "ticks": ""
            },
            "colorscale": [
             [
              0,
              "#0d0887"
             ],
             [
              0.1111111111111111,
              "#46039f"
             ],
             [
              0.2222222222222222,
              "#7201a8"
             ],
             [
              0.3333333333333333,
              "#9c179e"
             ],
             [
              0.4444444444444444,
              "#bd3786"
             ],
             [
              0.5555555555555556,
              "#d8576b"
             ],
             [
              0.6666666666666666,
              "#ed7953"
             ],
             [
              0.7777777777777778,
              "#fb9f3a"
             ],
             [
              0.8888888888888888,
              "#fdca26"
             ],
             [
              1,
              "#f0f921"
             ]
            ],
            "type": "histogram2dcontour"
           }
          ],
          "mesh3d": [
           {
            "colorbar": {
             "outlinewidth": 0,
             "ticks": ""
            },
            "type": "mesh3d"
           }
          ],
          "parcoords": [
           {
            "line": {
             "colorbar": {
              "outlinewidth": 0,
              "ticks": ""
             }
            },
            "type": "parcoords"
           }
          ],
          "pie": [
           {
            "automargin": true,
            "type": "pie"
           }
          ],
          "scatter": [
           {
            "fillpattern": {
             "fillmode": "overlay",
             "size": 10,
             "solidity": 0.2
            },
            "type": "scatter"
           }
          ],
          "scatter3d": [
           {
            "line": {
             "colorbar": {
              "outlinewidth": 0,
              "ticks": ""
             }
            },
            "marker": {
             "colorbar": {
              "outlinewidth": 0,
              "ticks": ""
             }
            },
            "type": "scatter3d"
           }
          ],
          "scattercarpet": [
           {
            "marker": {
             "colorbar": {
              "outlinewidth": 0,
              "ticks": ""
             }
            },
            "type": "scattercarpet"
           }
          ],
          "scattergeo": [
           {
            "marker": {
             "colorbar": {
              "outlinewidth": 0,
              "ticks": ""
             }
            },
            "type": "scattergeo"
           }
          ],
          "scattergl": [
           {
            "marker": {
             "colorbar": {
              "outlinewidth": 0,
              "ticks": ""
             }
            },
            "type": "scattergl"
           }
          ],
          "scattermap": [
           {
            "marker": {
             "colorbar": {
              "outlinewidth": 0,
              "ticks": ""
             }
            },
            "type": "scattermap"
           }
          ],
          "scattermapbox": [
           {
            "marker": {
             "colorbar": {
              "outlinewidth": 0,
              "ticks": ""
             }
            },
            "type": "scattermapbox"
           }
          ],
          "scatterpolar": [
           {
            "marker": {
             "colorbar": {
              "outlinewidth": 0,
              "ticks": ""
             }
            },
            "type": "scatterpolar"
           }
          ],
          "scatterpolargl": [
           {
            "marker": {
             "colorbar": {
              "outlinewidth": 0,
              "ticks": ""
             }
            },
            "type": "scatterpolargl"
           }
          ],
          "scatterternary": [
           {
            "marker": {
             "colorbar": {
              "outlinewidth": 0,
              "ticks": ""
             }
            },
            "type": "scatterternary"
           }
          ],
          "surface": [
           {
            "colorbar": {
             "outlinewidth": 0,
             "ticks": ""
            },
            "colorscale": [
             [
              0,
              "#0d0887"
             ],
             [
              0.1111111111111111,
              "#46039f"
             ],
             [
              0.2222222222222222,
              "#7201a8"
             ],
             [
              0.3333333333333333,
              "#9c179e"
             ],
             [
              0.4444444444444444,
              "#bd3786"
             ],
             [
              0.5555555555555556,
              "#d8576b"
             ],
             [
              0.6666666666666666,
              "#ed7953"
             ],
             [
              0.7777777777777778,
              "#fb9f3a"
             ],
             [
              0.8888888888888888,
              "#fdca26"
             ],
             [
              1,
              "#f0f921"
             ]
            ],
            "type": "surface"
           }
          ],
          "table": [
           {
            "cells": {
             "fill": {
              "color": "#EBF0F8"
             },
             "line": {
              "color": "white"
             }
            },
            "header": {
             "fill": {
              "color": "#C8D4E3"
             },
             "line": {
              "color": "white"
             }
            },
            "type": "table"
           }
          ]
         },
         "layout": {
          "annotationdefaults": {
           "arrowcolor": "#2a3f5f",
           "arrowhead": 0,
           "arrowwidth": 1
          },
          "autotypenumbers": "strict",
          "coloraxis": {
           "colorbar": {
            "outlinewidth": 0,
            "ticks": ""
           }
          },
          "colorscale": {
           "diverging": [
            [
             0,
             "#8e0152"
            ],
            [
             0.1,
             "#c51b7d"
            ],
            [
             0.2,
             "#de77ae"
            ],
            [
             0.3,
             "#f1b6da"
            ],
            [
             0.4,
             "#fde0ef"
            ],
            [
             0.5,
             "#f7f7f7"
            ],
            [
             0.6,
             "#e6f5d0"
            ],
            [
             0.7,
             "#b8e186"
            ],
            [
             0.8,
             "#7fbc41"
            ],
            [
             0.9,
             "#4d9221"
            ],
            [
             1,
             "#276419"
            ]
           ],
           "sequential": [
            [
             0,
             "#0d0887"
            ],
            [
             0.1111111111111111,
             "#46039f"
            ],
            [
             0.2222222222222222,
             "#7201a8"
            ],
            [
             0.3333333333333333,
             "#9c179e"
            ],
            [
             0.4444444444444444,
             "#bd3786"
            ],
            [
             0.5555555555555556,
             "#d8576b"
            ],
            [
             0.6666666666666666,
             "#ed7953"
            ],
            [
             0.7777777777777778,
             "#fb9f3a"
            ],
            [
             0.8888888888888888,
             "#fdca26"
            ],
            [
             1,
             "#f0f921"
            ]
           ],
           "sequentialminus": [
            [
             0,
             "#0d0887"
            ],
            [
             0.1111111111111111,
             "#46039f"
            ],
            [
             0.2222222222222222,
             "#7201a8"
            ],
            [
             0.3333333333333333,
             "#9c179e"
            ],
            [
             0.4444444444444444,
             "#bd3786"
            ],
            [
             0.5555555555555556,
             "#d8576b"
            ],
            [
             0.6666666666666666,
             "#ed7953"
            ],
            [
             0.7777777777777778,
             "#fb9f3a"
            ],
            [
             0.8888888888888888,
             "#fdca26"
            ],
            [
             1,
             "#f0f921"
            ]
           ]
          },
          "colorway": [
           "#636efa",
           "#EF553B",
           "#00cc96",
           "#ab63fa",
           "#FFA15A",
           "#19d3f3",
           "#FF6692",
           "#B6E880",
           "#FF97FF",
           "#FECB52"
          ],
          "font": {
           "color": "#2a3f5f"
          },
          "geo": {
           "bgcolor": "white",
           "lakecolor": "white",
           "landcolor": "white",
           "showlakes": true,
           "showland": true,
           "subunitcolor": "#C8D4E3"
          },
          "hoverlabel": {
           "align": "left"
          },
          "hovermode": "closest",
          "mapbox": {
           "style": "light"
          },
          "paper_bgcolor": "white",
          "plot_bgcolor": "white",
          "polar": {
           "angularaxis": {
            "gridcolor": "#EBF0F8",
            "linecolor": "#EBF0F8",
            "ticks": ""
           },
           "bgcolor": "white",
           "radialaxis": {
            "gridcolor": "#EBF0F8",
            "linecolor": "#EBF0F8",
            "ticks": ""
           }
          },
          "scene": {
           "xaxis": {
            "backgroundcolor": "white",
            "gridcolor": "#DFE8F3",
            "gridwidth": 2,
            "linecolor": "#EBF0F8",
            "showbackground": true,
            "ticks": "",
            "zerolinecolor": "#EBF0F8"
           },
           "yaxis": {
            "backgroundcolor": "white",
            "gridcolor": "#DFE8F3",
            "gridwidth": 2,
            "linecolor": "#EBF0F8",
            "showbackground": true,
            "ticks": "",
            "zerolinecolor": "#EBF0F8"
           },
           "zaxis": {
            "backgroundcolor": "white",
            "gridcolor": "#DFE8F3",
            "gridwidth": 2,
            "linecolor": "#EBF0F8",
            "showbackground": true,
            "ticks": "",
            "zerolinecolor": "#EBF0F8"
           }
          },
          "shapedefaults": {
           "line": {
            "color": "#2a3f5f"
           }
          },
          "ternary": {
           "aaxis": {
            "gridcolor": "#DFE8F3",
            "linecolor": "#A2B1C6",
            "ticks": ""
           },
           "baxis": {
            "gridcolor": "#DFE8F3",
            "linecolor": "#A2B1C6",
            "ticks": ""
           },
           "bgcolor": "white",
           "caxis": {
            "gridcolor": "#DFE8F3",
            "linecolor": "#A2B1C6",
            "ticks": ""
           }
          },
          "title": {
           "x": 0.05
          },
          "xaxis": {
           "automargin": true,
           "gridcolor": "#EBF0F8",
           "linecolor": "#EBF0F8",
           "ticks": "",
           "title": {
            "standoff": 15
           },
           "zerolinecolor": "#EBF0F8",
           "zerolinewidth": 2
          },
          "yaxis": {
           "automargin": true,
           "gridcolor": "#EBF0F8",
           "linecolor": "#EBF0F8",
           "ticks": "",
           "title": {
            "standoff": 15
           },
           "zerolinecolor": "#EBF0F8",
           "zerolinewidth": 2
          }
         }
        },
        "title": {
         "text": "📉 Courbes de convergence Bayésienne (F1-score)"
        },
        "width": 950,
        "xaxis": {
         "title": {
          "text": "Itérations"
         }
        },
        "yaxis": {
         "title": {
          "text": "F1-score"
         }
        }
       }
      }
     },
     "metadata": {},
     "output_type": "display_data"
    }
   ],
   "source": [
    "# Itérations de l'optimisation bayésienne\n",
    "trees_models.plot_all_bayes_convergences()"
   ]
  },
  {
   "cell_type": "code",
   "execution_count": 19,
   "id": "740ed852",
   "metadata": {},
   "outputs": [
    {
     "data": {
      "application/vnd.plotly.v1+json": {
       "config": {
        "plotlyServerURL": "https://plot.ly"
       },
       "data": [
        {
         "hovertemplate": "FPR = %{x:.2f}<br>TPR = %{y:.2f}<extra></extra>",
         "mode": "lines",
         "name": "Random Forest (AUC = 0.840)",
         "type": "scatter",
         "x": {
          "bdata": "AAAAAAAAAAAAAAAAAAAAAAAAAAAAAAAAHdRBHdRBfT8d1EEd1EF9Px3UQR3UQY0/HdRBHdRBjT8WX/EVX/GVPxZf8RVf8ZU/kiRJkiRJoj+SJEmSJEmiPx3UQR3UQa0/HdRBHdRBrT9f8RVf8RW/P1/xFV/xFb8/UAd1UAd1wD9QB3VQB3XAP5IkSZIkScI/kiRJkiRJwj+3bdu2bdvGP7dt27Zt28Y/mpmZmZmZyT+amZmZmZnJPx3UQR3UQc0/HdRBHdRBzT9f8RVf8RXPP1/xFV/xFc8/oQ7qoA7q0D+hDuqgDurQP0Id1EEd1NE/Qh3UQR3U0T+EOqiDOqjTP4Q6qIM6qNM/JUmSJEmS1D8lSZIkSZLUP2ZmZmZmZtY/ZmZmZmZm1j+3bdu2bdvWP7dt27Zt29Y/B3VQB3VQ1z8HdVAHdVDXP6iDOqiDOtg/qIM6qIM62D9JkiRJkiTZP0mSJEmSJNk/6qAO6qAO2j/qoA7qoA7aP4uv+Iqv+No/i6/4iq/42j98xVd8xVfcP3zFV3zFV9w/qIM6qIM64D+ogzqogzrgPwAAAAAAAOg/AAAAAAAA6D8AAAAAAADwPw==",
          "dtype": "f8"
         },
         "y": {
          "bdata": "AAAAAAAAAAARERERERGRP5qZmZmZmck/mpmZmZmZyT8RERERERHRPxEREREREdE/q6qqqqqq2j+rqqqqqqraP7y7u7u7u9s/vLu7u7u72z/NzMzMzMzcP83MzMzMzNw/iYiIiIiI4D+JiIiIiIjgPxEREREREeE/ERERERER4T8iIiIiIiLiPyIiIiIiIuI/vLu7u7u74z+8u7u7u7vjP0REREREROQ/RERERERE5D/NzMzMzMzkP83MzMzMzOQ/VVVVVVVV5T9VVVVVVVXlP97d3d3d3eU/3t3d3d3d5T/v7u7u7u7mP+/u7u7u7uY/d3d3d3d35z93d3d3d3fnPwAAAAAAAOg/AAAAAAAA6D+JiIiIiIjoP4mIiIiIiOg/ERERERER6T8RERERERHpPyIiIiIiIuo/IiIiIiIi6j+rqqqqqqrqP6uqqqqqquo/MzMzMzMz6z8zMzMzMzPrP7y7u7u7u+s/vLu7u7u76z/NzMzMzMzsP83MzMzMzOw/3t3d3d3d7T/e3d3d3d3tP2ZmZmZmZu4/ZmZmZmZm7j93d3d3d3fvP3d3d3d3d+8/AAAAAAAA8D8AAAAAAADwPw==",
          "dtype": "f8"
         }
        },
        {
         "hovertemplate": "FPR = %{x:.2f}<br>TPR = %{y:.2f}<extra></extra>",
         "mode": "lines",
         "name": "Gradient Boosting (AUC = 0.792)",
         "type": "scatter",
         "x": {
          "bdata": "AAAAAAAAAAAAAAAAAAAAAAAAAAAAAAAAHdRBHdRBfT8d1EEd1EF9Px3UQR3UQZ0/HdRBHdRBnT+amZmZmZmpP5qZmZmZmak/1EEd1EEdtD/UQR3UQR20PxZf8RVf8bU/Fl/xFV/xtT+amZmZmZm5P5qZmZmZmbk/X/EVX/EVvz9f8RVf8RW/P/EVX/EVX8E/8RVf8RVfwT/UQR3UQR3EP9RBHdRBHcQ/dVAHdVAHxT91UAd1UAfFPxZf8RVf8cU/Fl/xFV/xxT87qIM6qIPKPzuogzqog8o/AAAAAAAA0D8AAAAAAADQP9RBHdRBHdQ/1EEd1EEd1D8lSZIkSZLUPyVJkiRJktQ/dVAHdVAH1T91UAd1UAfVP8VXfMVXfNU/xVd8xVd81T8HdVAHdVDXPwd1UAd1UNc/+Yqv+Iqv2D/5iq/4iq/YP83MzMzMzNw/zczMzMzM3D++4iu+4iveP77iK77iK94/qIM6qIM64D+ogzqogzrgP5IkSZIkSeI/kiRJkiRJ4j8P6qAO6qDmPw/qoA7qoOY/sPiKr/iK5z+w+Iqv+IrnP1h8xVd8xec/WHzFV3zF5z+amZmZmZnpP5qZmZmZmek/hDqogzqo6z+EOqiDOqjrP27btm3btu0/btu2bdu27T8AAAAAAADwPw==",
          "dtype": "f8"
         },
         "y": {
          "bdata": "AAAAAAAAAAARERERERGRPzMzMzMzM8M/MzMzMzMzwz9ERERERETUP0RERERERNQ/VVVVVVVV1T9VVVVVVVXVP4mIiIiIiNg/iYiIiIiI2D+amZmZmZnZP5qZmZmZmdk/vLu7u7u72z+8u7u7u7vbP83MzMzMzNw/zczMzMzM3D8AAAAAAADgPwAAAAAAAOA/ERERERER4T8RERERERHhP6uqqqqqquI/q6qqqqqq4j/NzMzMzMzkP83MzMzMzOQ/VVVVVVVV5T9VVVVVVVXlP97d3d3d3eU/3t3d3d3d5T9mZmZmZmbmP2ZmZmZmZuY/7+7u7u7u5j/v7u7u7u7mP3d3d3d3d+c/d3d3d3d35z8AAAAAAADoPwAAAAAAAOg/mpmZmZmZ6T+amZmZmZnpPyIiIiIiIuo/IiIiIiIi6j+rqqqqqqrqP6uqqqqqquo/MzMzMzMz6z8zMzMzMzPrP7y7u7u7u+s/vLu7u7u76z9ERERERETsP0REREREROw/zczMzMzM7D/NzMzMzMzsP1VVVVVVVe0/VVVVVVVV7T/e3d3d3d3tP97d3d3d3e0/ZmZmZmZm7j9mZmZmZmbuP+/u7u7u7u4/7+7u7u7u7j93d3d3d3fvP3d3d3d3d+8/AAAAAAAA8D8AAAAAAADwPw==",
          "dtype": "f8"
         }
        },
        {
         "hovertemplate": "FPR = %{x:.2f}<br>TPR = %{y:.2f}<extra></extra>",
         "mode": "lines",
         "name": "LightGBM (AUC = 0.759)",
         "type": "scatter",
         "x": {
          "bdata": "AAAAAAAAAAAAAAAAAAAAAAAAAAAAAAAAFl/xFV/xlT8WX/EVX/GVP5IkSZIkSaI/kiRJkiRJoj9QB3VQB3WwP1AHdVAHdbA/1EEd1EEdtD/UQR3UQR20PxZf8RVf8bU/Fl/xFV/xtT9YfMVXfMW3P1h8xVd8xbc/27Zt27Ztuz/btm3btm27Px3UQR3UQb0/HdRBHdRBvT/xFV/xFV/BP/EVX/EVX8E/kiRJkiRJwj+SJEmSJEnCPxZf8RVf8cU/Fl/xFV/xxT/btm3btm3LP9u2bdu2bcs/fMVXfMVXzD98xVd8xVfMP77iK77iK84/vuIrvuIrzj9f8RVf8RXPP1/xFV/xFc8/MzMzMzMz0z8zMzMzMzPTP4Q6qIM6qNM/hDqogzqo0z8lSZIkSZLUPyVJkiRJktQ/ZmZmZmZm1j9mZmZmZmbWP6iDOqiDOtg/qIM6qIM62D+ogzqogzrgP6iDOqiDOuA/mpmZmZmZ4T+amZmZmZnhP5IkSZIkSeI/kiRJkiRJ4j98xVd8xVfkP3zFV3zFV+Q/xVd8xVd85T/FV3zFV3zlP27btm3btuU/btu2bdu25T+w+Iqv+IrnP7D4iq/4iuc/8RVf8RVf6T/xFV/xFV/pPyy+4iu+4us/LL7iK77i6z8d1EEd1EHtPx3UQR3UQe0/B3VQB3VQ7z8HdVAHdVDvPwAAAAAAAPA/",
          "dtype": "f8"
         },
         "y": {
          "bdata": "AAAAAAAAAAARERERERGRP97d3d3d3b0/3t3d3d3dvT/e3d3d3d3NP97d3d3d3c0/MzMzMzMz0z8zMzMzMzPTP1VVVVVVVdU/VVVVVVVV1T9mZmZmZmbWP2ZmZmZmZtY/d3d3d3d31z93d3d3d3fXP4mIiIiIiNg/iYiIiIiI2D+8u7u7u7vbP7y7u7u7u9s/7+7u7u7u3j/v7u7u7u7eP4mIiIiIiOA/iYiIiIiI4D8RERERERHhPxEREREREeE/mpmZmZmZ4T+amZmZmZnhPyIiIiIiIuI/IiIiIiIi4j9ERERERETkP0REREREROQ/zczMzMzM5D/NzMzMzMzkP97d3d3d3eU/3t3d3d3d5T9mZmZmZmbmP2ZmZmZmZuY/AAAAAAAA6D8AAAAAAADoP4mIiIiIiOg/iYiIiIiI6D8RERERERHpPxEREREREek/mpmZmZmZ6T+amZmZmZnpP6uqqqqqquo/q6qqqqqq6j8zMzMzMzPrPzMzMzMzM+s/vLu7u7u76z+8u7u7u7vrP0REREREROw/RERERERE7D/NzMzMzMzsP83MzMzMzOw/VVVVVVVV7T9VVVVVVVXtP97d3d3d3e0/3t3d3d3d7T9mZmZmZmbuP2ZmZmZmZu4/7+7u7u7u7j/v7u7u7u7uP3d3d3d3d+8/d3d3d3d37z8AAAAAAADwPwAAAAAAAPA/",
          "dtype": "f8"
         }
        },
        {
         "hoverinfo": "skip",
         "line": {
          "color": "gray",
          "dash": "dash"
         },
         "mode": "lines",
         "name": "Modèle aléatoire",
         "type": "scatter",
         "x": [
          0,
          1
         ],
         "y": [
          0,
          1
         ]
        }
       ],
       "layout": {
        "height": 520,
        "template": {
         "data": {
          "bar": [
           {
            "error_x": {
             "color": "#2a3f5f"
            },
            "error_y": {
             "color": "#2a3f5f"
            },
            "marker": {
             "line": {
              "color": "white",
              "width": 0.5
             },
             "pattern": {
              "fillmode": "overlay",
              "size": 10,
              "solidity": 0.2
             }
            },
            "type": "bar"
           }
          ],
          "barpolar": [
           {
            "marker": {
             "line": {
              "color": "white",
              "width": 0.5
             },
             "pattern": {
              "fillmode": "overlay",
              "size": 10,
              "solidity": 0.2
             }
            },
            "type": "barpolar"
           }
          ],
          "carpet": [
           {
            "aaxis": {
             "endlinecolor": "#2a3f5f",
             "gridcolor": "#C8D4E3",
             "linecolor": "#C8D4E3",
             "minorgridcolor": "#C8D4E3",
             "startlinecolor": "#2a3f5f"
            },
            "baxis": {
             "endlinecolor": "#2a3f5f",
             "gridcolor": "#C8D4E3",
             "linecolor": "#C8D4E3",
             "minorgridcolor": "#C8D4E3",
             "startlinecolor": "#2a3f5f"
            },
            "type": "carpet"
           }
          ],
          "choropleth": [
           {
            "colorbar": {
             "outlinewidth": 0,
             "ticks": ""
            },
            "type": "choropleth"
           }
          ],
          "contour": [
           {
            "colorbar": {
             "outlinewidth": 0,
             "ticks": ""
            },
            "colorscale": [
             [
              0,
              "#0d0887"
             ],
             [
              0.1111111111111111,
              "#46039f"
             ],
             [
              0.2222222222222222,
              "#7201a8"
             ],
             [
              0.3333333333333333,
              "#9c179e"
             ],
             [
              0.4444444444444444,
              "#bd3786"
             ],
             [
              0.5555555555555556,
              "#d8576b"
             ],
             [
              0.6666666666666666,
              "#ed7953"
             ],
             [
              0.7777777777777778,
              "#fb9f3a"
             ],
             [
              0.8888888888888888,
              "#fdca26"
             ],
             [
              1,
              "#f0f921"
             ]
            ],
            "type": "contour"
           }
          ],
          "contourcarpet": [
           {
            "colorbar": {
             "outlinewidth": 0,
             "ticks": ""
            },
            "type": "contourcarpet"
           }
          ],
          "heatmap": [
           {
            "colorbar": {
             "outlinewidth": 0,
             "ticks": ""
            },
            "colorscale": [
             [
              0,
              "#0d0887"
             ],
             [
              0.1111111111111111,
              "#46039f"
             ],
             [
              0.2222222222222222,
              "#7201a8"
             ],
             [
              0.3333333333333333,
              "#9c179e"
             ],
             [
              0.4444444444444444,
              "#bd3786"
             ],
             [
              0.5555555555555556,
              "#d8576b"
             ],
             [
              0.6666666666666666,
              "#ed7953"
             ],
             [
              0.7777777777777778,
              "#fb9f3a"
             ],
             [
              0.8888888888888888,
              "#fdca26"
             ],
             [
              1,
              "#f0f921"
             ]
            ],
            "type": "heatmap"
           }
          ],
          "histogram": [
           {
            "marker": {
             "pattern": {
              "fillmode": "overlay",
              "size": 10,
              "solidity": 0.2
             }
            },
            "type": "histogram"
           }
          ],
          "histogram2d": [
           {
            "colorbar": {
             "outlinewidth": 0,
             "ticks": ""
            },
            "colorscale": [
             [
              0,
              "#0d0887"
             ],
             [
              0.1111111111111111,
              "#46039f"
             ],
             [
              0.2222222222222222,
              "#7201a8"
             ],
             [
              0.3333333333333333,
              "#9c179e"
             ],
             [
              0.4444444444444444,
              "#bd3786"
             ],
             [
              0.5555555555555556,
              "#d8576b"
             ],
             [
              0.6666666666666666,
              "#ed7953"
             ],
             [
              0.7777777777777778,
              "#fb9f3a"
             ],
             [
              0.8888888888888888,
              "#fdca26"
             ],
             [
              1,
              "#f0f921"
             ]
            ],
            "type": "histogram2d"
           }
          ],
          "histogram2dcontour": [
           {
            "colorbar": {
             "outlinewidth": 0,
             "ticks": ""
            },
            "colorscale": [
             [
              0,
              "#0d0887"
             ],
             [
              0.1111111111111111,
              "#46039f"
             ],
             [
              0.2222222222222222,
              "#7201a8"
             ],
             [
              0.3333333333333333,
              "#9c179e"
             ],
             [
              0.4444444444444444,
              "#bd3786"
             ],
             [
              0.5555555555555556,
              "#d8576b"
             ],
             [
              0.6666666666666666,
              "#ed7953"
             ],
             [
              0.7777777777777778,
              "#fb9f3a"
             ],
             [
              0.8888888888888888,
              "#fdca26"
             ],
             [
              1,
              "#f0f921"
             ]
            ],
            "type": "histogram2dcontour"
           }
          ],
          "mesh3d": [
           {
            "colorbar": {
             "outlinewidth": 0,
             "ticks": ""
            },
            "type": "mesh3d"
           }
          ],
          "parcoords": [
           {
            "line": {
             "colorbar": {
              "outlinewidth": 0,
              "ticks": ""
             }
            },
            "type": "parcoords"
           }
          ],
          "pie": [
           {
            "automargin": true,
            "type": "pie"
           }
          ],
          "scatter": [
           {
            "fillpattern": {
             "fillmode": "overlay",
             "size": 10,
             "solidity": 0.2
            },
            "type": "scatter"
           }
          ],
          "scatter3d": [
           {
            "line": {
             "colorbar": {
              "outlinewidth": 0,
              "ticks": ""
             }
            },
            "marker": {
             "colorbar": {
              "outlinewidth": 0,
              "ticks": ""
             }
            },
            "type": "scatter3d"
           }
          ],
          "scattercarpet": [
           {
            "marker": {
             "colorbar": {
              "outlinewidth": 0,
              "ticks": ""
             }
            },
            "type": "scattercarpet"
           }
          ],
          "scattergeo": [
           {
            "marker": {
             "colorbar": {
              "outlinewidth": 0,
              "ticks": ""
             }
            },
            "type": "scattergeo"
           }
          ],
          "scattergl": [
           {
            "marker": {
             "colorbar": {
              "outlinewidth": 0,
              "ticks": ""
             }
            },
            "type": "scattergl"
           }
          ],
          "scattermap": [
           {
            "marker": {
             "colorbar": {
              "outlinewidth": 0,
              "ticks": ""
             }
            },
            "type": "scattermap"
           }
          ],
          "scattermapbox": [
           {
            "marker": {
             "colorbar": {
              "outlinewidth": 0,
              "ticks": ""
             }
            },
            "type": "scattermapbox"
           }
          ],
          "scatterpolar": [
           {
            "marker": {
             "colorbar": {
              "outlinewidth": 0,
              "ticks": ""
             }
            },
            "type": "scatterpolar"
           }
          ],
          "scatterpolargl": [
           {
            "marker": {
             "colorbar": {
              "outlinewidth": 0,
              "ticks": ""
             }
            },
            "type": "scatterpolargl"
           }
          ],
          "scatterternary": [
           {
            "marker": {
             "colorbar": {
              "outlinewidth": 0,
              "ticks": ""
             }
            },
            "type": "scatterternary"
           }
          ],
          "surface": [
           {
            "colorbar": {
             "outlinewidth": 0,
             "ticks": ""
            },
            "colorscale": [
             [
              0,
              "#0d0887"
             ],
             [
              0.1111111111111111,
              "#46039f"
             ],
             [
              0.2222222222222222,
              "#7201a8"
             ],
             [
              0.3333333333333333,
              "#9c179e"
             ],
             [
              0.4444444444444444,
              "#bd3786"
             ],
             [
              0.5555555555555556,
              "#d8576b"
             ],
             [
              0.6666666666666666,
              "#ed7953"
             ],
             [
              0.7777777777777778,
              "#fb9f3a"
             ],
             [
              0.8888888888888888,
              "#fdca26"
             ],
             [
              1,
              "#f0f921"
             ]
            ],
            "type": "surface"
           }
          ],
          "table": [
           {
            "cells": {
             "fill": {
              "color": "#EBF0F8"
             },
             "line": {
              "color": "white"
             }
            },
            "header": {
             "fill": {
              "color": "#C8D4E3"
             },
             "line": {
              "color": "white"
             }
            },
            "type": "table"
           }
          ]
         },
         "layout": {
          "annotationdefaults": {
           "arrowcolor": "#2a3f5f",
           "arrowhead": 0,
           "arrowwidth": 1
          },
          "autotypenumbers": "strict",
          "coloraxis": {
           "colorbar": {
            "outlinewidth": 0,
            "ticks": ""
           }
          },
          "colorscale": {
           "diverging": [
            [
             0,
             "#8e0152"
            ],
            [
             0.1,
             "#c51b7d"
            ],
            [
             0.2,
             "#de77ae"
            ],
            [
             0.3,
             "#f1b6da"
            ],
            [
             0.4,
             "#fde0ef"
            ],
            [
             0.5,
             "#f7f7f7"
            ],
            [
             0.6,
             "#e6f5d0"
            ],
            [
             0.7,
             "#b8e186"
            ],
            [
             0.8,
             "#7fbc41"
            ],
            [
             0.9,
             "#4d9221"
            ],
            [
             1,
             "#276419"
            ]
           ],
           "sequential": [
            [
             0,
             "#0d0887"
            ],
            [
             0.1111111111111111,
             "#46039f"
            ],
            [
             0.2222222222222222,
             "#7201a8"
            ],
            [
             0.3333333333333333,
             "#9c179e"
            ],
            [
             0.4444444444444444,
             "#bd3786"
            ],
            [
             0.5555555555555556,
             "#d8576b"
            ],
            [
             0.6666666666666666,
             "#ed7953"
            ],
            [
             0.7777777777777778,
             "#fb9f3a"
            ],
            [
             0.8888888888888888,
             "#fdca26"
            ],
            [
             1,
             "#f0f921"
            ]
           ],
           "sequentialminus": [
            [
             0,
             "#0d0887"
            ],
            [
             0.1111111111111111,
             "#46039f"
            ],
            [
             0.2222222222222222,
             "#7201a8"
            ],
            [
             0.3333333333333333,
             "#9c179e"
            ],
            [
             0.4444444444444444,
             "#bd3786"
            ],
            [
             0.5555555555555556,
             "#d8576b"
            ],
            [
             0.6666666666666666,
             "#ed7953"
            ],
            [
             0.7777777777777778,
             "#fb9f3a"
            ],
            [
             0.8888888888888888,
             "#fdca26"
            ],
            [
             1,
             "#f0f921"
            ]
           ]
          },
          "colorway": [
           "#636efa",
           "#EF553B",
           "#00cc96",
           "#ab63fa",
           "#FFA15A",
           "#19d3f3",
           "#FF6692",
           "#B6E880",
           "#FF97FF",
           "#FECB52"
          ],
          "font": {
           "color": "#2a3f5f"
          },
          "geo": {
           "bgcolor": "white",
           "lakecolor": "white",
           "landcolor": "white",
           "showlakes": true,
           "showland": true,
           "subunitcolor": "#C8D4E3"
          },
          "hoverlabel": {
           "align": "left"
          },
          "hovermode": "closest",
          "mapbox": {
           "style": "light"
          },
          "paper_bgcolor": "white",
          "plot_bgcolor": "white",
          "polar": {
           "angularaxis": {
            "gridcolor": "#EBF0F8",
            "linecolor": "#EBF0F8",
            "ticks": ""
           },
           "bgcolor": "white",
           "radialaxis": {
            "gridcolor": "#EBF0F8",
            "linecolor": "#EBF0F8",
            "ticks": ""
           }
          },
          "scene": {
           "xaxis": {
            "backgroundcolor": "white",
            "gridcolor": "#DFE8F3",
            "gridwidth": 2,
            "linecolor": "#EBF0F8",
            "showbackground": true,
            "ticks": "",
            "zerolinecolor": "#EBF0F8"
           },
           "yaxis": {
            "backgroundcolor": "white",
            "gridcolor": "#DFE8F3",
            "gridwidth": 2,
            "linecolor": "#EBF0F8",
            "showbackground": true,
            "ticks": "",
            "zerolinecolor": "#EBF0F8"
           },
           "zaxis": {
            "backgroundcolor": "white",
            "gridcolor": "#DFE8F3",
            "gridwidth": 2,
            "linecolor": "#EBF0F8",
            "showbackground": true,
            "ticks": "",
            "zerolinecolor": "#EBF0F8"
           }
          },
          "shapedefaults": {
           "line": {
            "color": "#2a3f5f"
           }
          },
          "ternary": {
           "aaxis": {
            "gridcolor": "#DFE8F3",
            "linecolor": "#A2B1C6",
            "ticks": ""
           },
           "baxis": {
            "gridcolor": "#DFE8F3",
            "linecolor": "#A2B1C6",
            "ticks": ""
           },
           "bgcolor": "white",
           "caxis": {
            "gridcolor": "#DFE8F3",
            "linecolor": "#A2B1C6",
            "ticks": ""
           }
          },
          "title": {
           "x": 0.05
          },
          "xaxis": {
           "automargin": true,
           "gridcolor": "#EBF0F8",
           "linecolor": "#EBF0F8",
           "ticks": "",
           "title": {
            "standoff": 15
           },
           "zerolinecolor": "#EBF0F8",
           "zerolinewidth": 2
          },
          "yaxis": {
           "automargin": true,
           "gridcolor": "#EBF0F8",
           "linecolor": "#EBF0F8",
           "ticks": "",
           "title": {
            "standoff": 15
           },
           "zerolinecolor": "#EBF0F8",
           "zerolinewidth": 2
          }
         }
        },
        "title": {
         "text": "📊 Courbes ROC comparées"
        },
        "width": 850,
        "xaxis": {
         "title": {
          "text": "Taux de faux positifs (FPR)"
         }
        },
        "yaxis": {
         "title": {
          "text": "Taux de vrais positifs (TPR)"
         }
        }
       }
      }
     },
     "metadata": {},
     "output_type": "display_data"
    }
   ],
   "source": [
    "# Courbes ROC\n",
    "trees_models.plot_roc_curve_interactive()"
   ]
  },
  {
   "cell_type": "code",
   "execution_count": null,
   "id": "01099751",
   "metadata": {},
   "outputs": [
    {
     "data": {
      "application/vnd.plotly.v1+json": {
       "config": {
        "plotlyServerURL": "https://plot.ly"
       },
       "data": [
        {
         "hovertemplate": "Recall = %{x:.2f}<br>Précision = %{y:.2f}<extra></extra>",
         "mode": "lines",
         "name": "Logistic Regression (L2) (AP = 0.702)",
         "type": "scatter",
         "x": {
          "bdata": "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",
          "dtype": "f8"
         },
         "y": {
          "bdata": "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",
          "dtype": "f8"
         }
        },
        {
         "hovertemplate": "Recall = %{x:.2f}<br>Précision = %{y:.2f}<extra></extra>",
         "mode": "lines",
         "name": "Logistic Regression (L1) (AP = 0.675)",
         "type": "scatter",
         "x": {
          "bdata": "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",
          "dtype": "f8"
         },
         "y": {
          "bdata": "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",
          "dtype": "f8"
         }
        },
        {
         "hovertemplate": "Recall = %{x:.2f}<br>Précision = %{y:.2f}<extra></extra>",
         "mode": "lines",
         "name": "Logistic Regression (ElasticNet) (AP = 0.666)",
         "type": "scatter",
         "x": {
          "bdata": "AAAAAAAA8D8AAAAAAADwPwAAAAAAAPA/AAAAAAAA8D8AAAAAAADwPwAAAAAAAPA/AAAAAAAA8D8AAAAAAADwPwAAAAAAAPA/AAAAAAAA8D8AAAAAAADwP3d3d3d3d+8/d3d3d3d37z/v7u7u7u7uP+/u7u7u7u4/7+7u7u7u7j/v7u7u7u7uP+/u7u7u7u4/ZmZmZmZm7j9mZmZmZmbuP2ZmZmZmZu4/ZmZmZmZm7j9mZmZmZmbuP2ZmZmZmZu4/ZmZmZmZm7j9mZmZmZmbuP2ZmZmZmZu4/ZmZmZmZm7j9mZmZmZmbuP2ZmZmZmZu4/ZmZmZmZm7j9mZmZmZmbuP2ZmZmZmZu4/ZmZmZmZm7j/e3d3d3d3tP97d3d3d3e0/3t3d3d3d7T/e3d3d3d3tP97d3d3d3e0/3t3d3d3d7T/e3d3d3d3tP97d3d3d3e0/3t3d3d3d7T/e3d3d3d3tP97d3d3d3e0/3t3d3d3d7T/e3d3d3d3tP97d3d3d3e0/VVVVVVVV7T9VVVVVVVXtP1VVVVVVVe0/VVVVVVVV7T9VVVVVVVXtP1VVVVVVVe0/VVVVVVVV7T9VVVVVVVXtP1VVVVVVVe0/VVVVVVVV7T9VVVVVVVXtP1VVVVVVVe0/VVVVVVVV7T9VVVVVVVXtP1VVVVVVVe0/VVVVVVVV7T9VVVVVVVXtP1VVVVVVVe0/VVVVVVVV7T9VVVVVVVXtP1VVVVVVVe0/VVVVVVVV7T9VVVVVVVXtP1VVVVVVVe0/VVVVVVVV7T9VVVVVVVXtP1VVVVVVVe0/VVVVVVVV7T9VVVVVVVXtP1VVVVVVVe0/VVVVVVVV7T9VVVVVVVXtP1VVVVVVVe0/VVVVVVVV7T9VVVVVVVXtP1VVVVVVVe0/zczMzMzM7D/NzMzMzMzsP83MzMzMzOw/zczMzMzM7D9ERERERETsP0REREREROw/RERERERE7D+8u7u7u7vrPzMzMzMzM+s/MzMzMzMz6z8zMzMzMzPrP6uqqqqqquo/q6qqqqqq6j+rqqqqqqrqPyIiIiIiIuo/mpmZmZmZ6T+amZmZmZnpP5qZmZmZmek/mpmZmZmZ6T+amZmZmZnpP5qZmZmZmek/mpmZmZmZ6T+amZmZmZnpPxEREREREek/iYiIiIiI6D+JiIiIiIjoPwAAAAAAAOg/AAAAAAAA6D93d3d3d3fnP3d3d3d3d+c/d3d3d3d35z93d3d3d3fnP3d3d3d3d+c/7+7u7u7u5j9mZmZmZmbmP97d3d3d3eU/3t3d3d3d5T/e3d3d3d3lP97d3d3d3eU/3t3d3d3d5T9VVVVVVVXlP1VVVVVVVeU/VVVVVVVV5T9VVVVVVVXlP1VVVVVVVeU/VVVVVVVV5T9VVVVVVVXlP83MzMzMzOQ/zczMzMzM5D9ERERERETkP0REREREROQ/RERERERE5D+8u7u7u7vjP7y7u7u7u+M/vLu7u7u74z8zMzMzMzPjP6uqqqqqquI/q6qqqqqq4j+rqqqqqqriPyIiIiIiIuI/IiIiIiIi4j8iIiIiIiLiP5qZmZmZmeE/mpmZmZmZ4T+amZmZmZnhPxEREREREeE/ERERERER4T8RERERERHhPxEREREREeE/ERERERER4T8RERERERHhP4mIiIiIiOA/iYiIiIiI4D8AAAAAAADgP+/u7u7u7t4/7+7u7u7u3j/v7u7u7u7eP+/u7u7u7t4/7+7u7u7u3j/e3d3d3d3dP97d3d3d3d0/zczMzMzM3D+8u7u7u7vbP6uqqqqqqto/q6qqqqqq2j+amZmZmZnZP4mIiIiIiNg/iYiIiIiI2D93d3d3d3fXP2ZmZmZmZtY/VVVVVVVV1T9VVVVVVVXVP0RERERERNQ/RERERERE1D8zMzMzMzPTPyIiIiIiItI/ERERERER0T8AAAAAAADQP97d3d3d3c0/vLu7u7u7yz+amZmZmZnJP5qZmZmZmck/d3d3d3d3xz9VVVVVVVXFPzMzMzMzM8M/ERERERERwT/e3d3d3d29P97d3d3d3b0/mpmZmZmZuT+amZmZmZm5P5qZmZmZmbk/VVVVVVVVtT8RERERERGxP5qZmZmZmak/ERERERERoT8RERERERGRPwAAAAAAAAAA",
          "dtype": "f8"
         },
         "y": {
          "bdata": "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",
          "dtype": "f8"
         }
        }
       ],
       "layout": {
        "height": 520,
        "template": {
         "data": {
          "bar": [
           {
            "error_x": {
             "color": "#2a3f5f"
            },
            "error_y": {
             "color": "#2a3f5f"
            },
            "marker": {
             "line": {
              "color": "white",
              "width": 0.5
             },
             "pattern": {
              "fillmode": "overlay",
              "size": 10,
              "solidity": 0.2
             }
            },
            "type": "bar"
           }
          ],
          "barpolar": [
           {
            "marker": {
             "line": {
              "color": "white",
              "width": 0.5
             },
             "pattern": {
              "fillmode": "overlay",
              "size": 10,
              "solidity": 0.2
             }
            },
            "type": "barpolar"
           }
          ],
          "carpet": [
           {
            "aaxis": {
             "endlinecolor": "#2a3f5f",
             "gridcolor": "#C8D4E3",
             "linecolor": "#C8D4E3",
             "minorgridcolor": "#C8D4E3",
             "startlinecolor": "#2a3f5f"
            },
            "baxis": {
             "endlinecolor": "#2a3f5f",
             "gridcolor": "#C8D4E3",
             "linecolor": "#C8D4E3",
             "minorgridcolor": "#C8D4E3",
             "startlinecolor": "#2a3f5f"
            },
            "type": "carpet"
           }
          ],
          "choropleth": [
           {
            "colorbar": {
             "outlinewidth": 0,
             "ticks": ""
            },
            "type": "choropleth"
           }
          ],
          "contour": [
           {
            "colorbar": {
             "outlinewidth": 0,
             "ticks": ""
            },
            "colorscale": [
             [
              0,
              "#0d0887"
             ],
             [
              0.1111111111111111,
              "#46039f"
             ],
             [
              0.2222222222222222,
              "#7201a8"
             ],
             [
              0.3333333333333333,
              "#9c179e"
             ],
             [
              0.4444444444444444,
              "#bd3786"
             ],
             [
              0.5555555555555556,
              "#d8576b"
             ],
             [
              0.6666666666666666,
              "#ed7953"
             ],
             [
              0.7777777777777778,
              "#fb9f3a"
             ],
             [
              0.8888888888888888,
              "#fdca26"
             ],
             [
              1,
              "#f0f921"
             ]
            ],
            "type": "contour"
           }
          ],
          "contourcarpet": [
           {
            "colorbar": {
             "outlinewidth": 0,
             "ticks": ""
            },
            "type": "contourcarpet"
           }
          ],
          "heatmap": [
           {
            "colorbar": {
             "outlinewidth": 0,
             "ticks": ""
            },
            "colorscale": [
             [
              0,
              "#0d0887"
             ],
             [
              0.1111111111111111,
              "#46039f"
             ],
             [
              0.2222222222222222,
              "#7201a8"
             ],
             [
              0.3333333333333333,
              "#9c179e"
             ],
             [
              0.4444444444444444,
              "#bd3786"
             ],
             [
              0.5555555555555556,
              "#d8576b"
             ],
             [
              0.6666666666666666,
              "#ed7953"
             ],
             [
              0.7777777777777778,
              "#fb9f3a"
             ],
             [
              0.8888888888888888,
              "#fdca26"
             ],
             [
              1,
              "#f0f921"
             ]
            ],
            "type": "heatmap"
           }
          ],
          "histogram": [
           {
            "marker": {
             "pattern": {
              "fillmode": "overlay",
              "size": 10,
              "solidity": 0.2
             }
            },
            "type": "histogram"
           }
          ],
          "histogram2d": [
           {
            "colorbar": {
             "outlinewidth": 0,
             "ticks": ""
            },
            "colorscale": [
             [
              0,
              "#0d0887"
             ],
             [
              0.1111111111111111,
              "#46039f"
             ],
             [
              0.2222222222222222,
              "#7201a8"
             ],
             [
              0.3333333333333333,
              "#9c179e"
             ],
             [
              0.4444444444444444,
              "#bd3786"
             ],
             [
              0.5555555555555556,
              "#d8576b"
             ],
             [
              0.6666666666666666,
              "#ed7953"
             ],
             [
              0.7777777777777778,
              "#fb9f3a"
             ],
             [
              0.8888888888888888,
              "#fdca26"
             ],
             [
              1,
              "#f0f921"
             ]
            ],
            "type": "histogram2d"
           }
          ],
          "histogram2dcontour": [
           {
            "colorbar": {
             "outlinewidth": 0,
             "ticks": ""
            },
            "colorscale": [
             [
              0,
              "#0d0887"
             ],
             [
              0.1111111111111111,
              "#46039f"
             ],
             [
              0.2222222222222222,
              "#7201a8"
             ],
             [
              0.3333333333333333,
              "#9c179e"
             ],
             [
              0.4444444444444444,
              "#bd3786"
             ],
             [
              0.5555555555555556,
              "#d8576b"
             ],
             [
              0.6666666666666666,
              "#ed7953"
             ],
             [
              0.7777777777777778,
              "#fb9f3a"
             ],
             [
              0.8888888888888888,
              "#fdca26"
             ],
             [
              1,
              "#f0f921"
             ]
            ],
            "type": "histogram2dcontour"
           }
          ],
          "mesh3d": [
           {
            "colorbar": {
             "outlinewidth": 0,
             "ticks": ""
            },
            "type": "mesh3d"
           }
          ],
          "parcoords": [
           {
            "line": {
             "colorbar": {
              "outlinewidth": 0,
              "ticks": ""
             }
            },
            "type": "parcoords"
           }
          ],
          "pie": [
           {
            "automargin": true,
            "type": "pie"
           }
          ],
          "scatter": [
           {
            "fillpattern": {
             "fillmode": "overlay",
             "size": 10,
             "solidity": 0.2
            },
            "type": "scatter"
           }
          ],
          "scatter3d": [
           {
            "line": {
             "colorbar": {
              "outlinewidth": 0,
              "ticks": ""
             }
            },
            "marker": {
             "colorbar": {
              "outlinewidth": 0,
              "ticks": ""
             }
            },
            "type": "scatter3d"
           }
          ],
          "scattercarpet": [
           {
            "marker": {
             "colorbar": {
              "outlinewidth": 0,
              "ticks": ""
             }
            },
            "type": "scattercarpet"
           }
          ],
          "scattergeo": [
           {
            "marker": {
             "colorbar": {
              "outlinewidth": 0,
              "ticks": ""
             }
            },
            "type": "scattergeo"
           }
          ],
          "scattergl": [
           {
            "marker": {
             "colorbar": {
              "outlinewidth": 0,
              "ticks": ""
             }
            },
            "type": "scattergl"
           }
          ],
          "scattermap": [
           {
            "marker": {
             "colorbar": {
              "outlinewidth": 0,
              "ticks": ""
             }
            },
            "type": "scattermap"
           }
          ],
          "scattermapbox": [
           {
            "marker": {
             "colorbar": {
              "outlinewidth": 0,
              "ticks": ""
             }
            },
            "type": "scattermapbox"
           }
          ],
          "scatterpolar": [
           {
            "marker": {
             "colorbar": {
              "outlinewidth": 0,
              "ticks": ""
             }
            },
            "type": "scatterpolar"
           }
          ],
          "scatterpolargl": [
           {
            "marker": {
             "colorbar": {
              "outlinewidth": 0,
              "ticks": ""
             }
            },
            "type": "scatterpolargl"
           }
          ],
          "scatterternary": [
           {
            "marker": {
             "colorbar": {
              "outlinewidth": 0,
              "ticks": ""
             }
            },
            "type": "scatterternary"
           }
          ],
          "surface": [
           {
            "colorbar": {
             "outlinewidth": 0,
             "ticks": ""
            },
            "colorscale": [
             [
              0,
              "#0d0887"
             ],
             [
              0.1111111111111111,
              "#46039f"
             ],
             [
              0.2222222222222222,
              "#7201a8"
             ],
             [
              0.3333333333333333,
              "#9c179e"
             ],
             [
              0.4444444444444444,
              "#bd3786"
             ],
             [
              0.5555555555555556,
              "#d8576b"
             ],
             [
              0.6666666666666666,
              "#ed7953"
             ],
             [
              0.7777777777777778,
              "#fb9f3a"
             ],
             [
              0.8888888888888888,
              "#fdca26"
             ],
             [
              1,
              "#f0f921"
             ]
            ],
            "type": "surface"
           }
          ],
          "table": [
           {
            "cells": {
             "fill": {
              "color": "#EBF0F8"
             },
             "line": {
              "color": "white"
             }
            },
            "header": {
             "fill": {
              "color": "#C8D4E3"
             },
             "line": {
              "color": "white"
             }
            },
            "type": "table"
           }
          ]
         },
         "layout": {
          "annotationdefaults": {
           "arrowcolor": "#2a3f5f",
           "arrowhead": 0,
           "arrowwidth": 1
          },
          "autotypenumbers": "strict",
          "coloraxis": {
           "colorbar": {
            "outlinewidth": 0,
            "ticks": ""
           }
          },
          "colorscale": {
           "diverging": [
            [
             0,
             "#8e0152"
            ],
            [
             0.1,
             "#c51b7d"
            ],
            [
             0.2,
             "#de77ae"
            ],
            [
             0.3,
             "#f1b6da"
            ],
            [
             0.4,
             "#fde0ef"
            ],
            [
             0.5,
             "#f7f7f7"
            ],
            [
             0.6,
             "#e6f5d0"
            ],
            [
             0.7,
             "#b8e186"
            ],
            [
             0.8,
             "#7fbc41"
            ],
            [
             0.9,
             "#4d9221"
            ],
            [
             1,
             "#276419"
            ]
           ],
           "sequential": [
            [
             0,
             "#0d0887"
            ],
            [
             0.1111111111111111,
             "#46039f"
            ],
            [
             0.2222222222222222,
             "#7201a8"
            ],
            [
             0.3333333333333333,
             "#9c179e"
            ],
            [
             0.4444444444444444,
             "#bd3786"
            ],
            [
             0.5555555555555556,
             "#d8576b"
            ],
            [
             0.6666666666666666,
             "#ed7953"
            ],
            [
             0.7777777777777778,
             "#fb9f3a"
            ],
            [
             0.8888888888888888,
             "#fdca26"
            ],
            [
             1,
             "#f0f921"
            ]
           ],
           "sequentialminus": [
            [
             0,
             "#0d0887"
            ],
            [
             0.1111111111111111,
             "#46039f"
            ],
            [
             0.2222222222222222,
             "#7201a8"
            ],
            [
             0.3333333333333333,
             "#9c179e"
            ],
            [
             0.4444444444444444,
             "#bd3786"
            ],
            [
             0.5555555555555556,
             "#d8576b"
            ],
            [
             0.6666666666666666,
             "#ed7953"
            ],
            [
             0.7777777777777778,
             "#fb9f3a"
            ],
            [
             0.8888888888888888,
             "#fdca26"
            ],
            [
             1,
             "#f0f921"
            ]
           ]
          },
          "colorway": [
           "#636efa",
           "#EF553B",
           "#00cc96",
           "#ab63fa",
           "#FFA15A",
           "#19d3f3",
           "#FF6692",
           "#B6E880",
           "#FF97FF",
           "#FECB52"
          ],
          "font": {
           "color": "#2a3f5f"
          },
          "geo": {
           "bgcolor": "white",
           "lakecolor": "white",
           "landcolor": "white",
           "showlakes": true,
           "showland": true,
           "subunitcolor": "#C8D4E3"
          },
          "hoverlabel": {
           "align": "left"
          },
          "hovermode": "closest",
          "mapbox": {
           "style": "light"
          },
          "paper_bgcolor": "white",
          "plot_bgcolor": "white",
          "polar": {
           "angularaxis": {
            "gridcolor": "#EBF0F8",
            "linecolor": "#EBF0F8",
            "ticks": ""
           },
           "bgcolor": "white",
           "radialaxis": {
            "gridcolor": "#EBF0F8",
            "linecolor": "#EBF0F8",
            "ticks": ""
           }
          },
          "scene": {
           "xaxis": {
            "backgroundcolor": "white",
            "gridcolor": "#DFE8F3",
            "gridwidth": 2,
            "linecolor": "#EBF0F8",
            "showbackground": true,
            "ticks": "",
            "zerolinecolor": "#EBF0F8"
           },
           "yaxis": {
            "backgroundcolor": "white",
            "gridcolor": "#DFE8F3",
            "gridwidth": 2,
            "linecolor": "#EBF0F8",
            "showbackground": true,
            "ticks": "",
            "zerolinecolor": "#EBF0F8"
           },
           "zaxis": {
            "backgroundcolor": "white",
            "gridcolor": "#DFE8F3",
            "gridwidth": 2,
            "linecolor": "#EBF0F8",
            "showbackground": true,
            "ticks": "",
            "zerolinecolor": "#EBF0F8"
           }
          },
          "shapedefaults": {
           "line": {
            "color": "#2a3f5f"
           }
          },
          "ternary": {
           "aaxis": {
            "gridcolor": "#DFE8F3",
            "linecolor": "#A2B1C6",
            "ticks": ""
           },
           "baxis": {
            "gridcolor": "#DFE8F3",
            "linecolor": "#A2B1C6",
            "ticks": ""
           },
           "bgcolor": "white",
           "caxis": {
            "gridcolor": "#DFE8F3",
            "linecolor": "#A2B1C6",
            "ticks": ""
           }
          },
          "title": {
           "x": 0.05
          },
          "xaxis": {
           "automargin": true,
           "gridcolor": "#EBF0F8",
           "linecolor": "#EBF0F8",
           "ticks": "",
           "title": {
            "standoff": 15
           },
           "zerolinecolor": "#EBF0F8",
           "zerolinewidth": 2
          },
          "yaxis": {
           "automargin": true,
           "gridcolor": "#EBF0F8",
           "linecolor": "#EBF0F8",
           "ticks": "",
           "title": {
            "standoff": 15
           },
           "zerolinecolor": "#EBF0F8",
           "zerolinewidth": 2
          }
         }
        },
        "title": {
         "text": "📈 Courbes Précision-Rappel comparées"
        },
        "width": 850,
        "xaxis": {
         "title": {
          "text": "Recall"
         }
        },
        "yaxis": {
         "title": {
          "text": "Precision"
         }
        }
       }
      }
     },
     "metadata": {},
     "output_type": "display_data"
    }
   ],
   "source": [
    "# Courbes Recall/Précision\n",
    "trees_models.plot_precision_recall_curve_interactive()"
   ]
  },
  {
   "cell_type": "code",
   "execution_count": 21,
   "id": "6ef531ff",
   "metadata": {},
   "outputs": [
    {
     "data": {
      "application/vnd.plotly.v1+json": {
       "config": {
        "plotlyServerURL": "https://plot.ly"
       },
       "data": [
        {
         "hovertemplate": "Seuil = %{x:.2f}<br>F1-score = %{y:.3f}<extra></extra>",
         "mode": "lines+markers",
         "name": "Gradient Boosting (max=0.645)",
         "type": "scatter",
         "x": {
          "bdata": "exSuR+F6hD8Lv1ubZmCUP9hz4JJcg54/U5QyRSlTpD+67vRApGSpPyFJtzwfdq4/w9E8HM3DsT/3/h2aiky0Pyos/xdI1bY/XVnglQVeuT+RhsETw+a7P8SzopGAb74/fPDBBx98wD8Wh7LGfcDBP7Ado4XcBMM/SbSTRDtJxD/jSoQDmo3FP33hdML40cY/FnhlgVcWyD+wDlZAtlrJP0qlRv8Un8o/4zs3vnPjyz990id90ifNPxdpGDwxbM4/sP8I+4+wzz8ly/xcd3rQP3IWdbymHNE/v2HtG9a+0T8MrWV7BWHSP1j43do0A9M/pUNWOmSl0z/yjs6Zk0fUPz/aRvnC6dQ/jCW/WPKL1T/ZcDe4IS7WPya8rxdR0NY/cgcod4By1z+/UqDWrxTYPwyeGDbfttg/WemQlQ5Z2T+mNAn1PfvZP/N/gVRtndo/P8v5s5w/2z+MFnITzOHbP9lh6nL7g9w/Jq1i0iom3T9z+NoxWsjdP8BDU5GJat4/DI/L8LgM3z9Z2kNQ6K7fP9MS3teLKOA/ejiah6N54D8gXlY3u8rgP8aDEufSG+E/banOlups4T8Tz4pGAr7hP7r0RvYZD+I/YBoDpjFg4j8GQL9VSbHiP61lewVhAuM/U4s3tXhT4z/6sPNkkKTjP6DWrxSo9eM/R/xrxL9G5D/tISh015fkP5NH5CPv6OQ/Om2g0wY65T/gklyDHovlP4e4GDM23OU/Ld7U4k0t5j/UA5GSZX7mP3opTUJ9z+Y/IE8J8pQg5z/HdMWhrHHnP22agVHEwuc/FMA9AdwT6D+65fmw82ToP2ALtmALtug/BzFyECMH6T+tVi7AOljpP1R86m9Sqek/+qGmH2r66T+hx2LPgUvqP0ftHn+ZnOo/7RLbLrHt6j+UOJfeyD7rPzpeU47gj+s/4YMPPvjg6z+HqcvtDzLsPy7Ph50ng+w/1PRDTT/U7D96GgD9ViXtPyFAvKxudu0/x2V4XIbH7T9uizQMnhjuPxSx8Lu1ae4/utasa8267j9h/Ggb5QvvPwciJcv8XO8/rkfhehSu7z8=",
          "dtype": "f8"
         },
         "y": [
          0.4669260700389105,
          0.4796747967479675,
          0.48535564853556484,
          0.5022026431718062,
          0.509090909090909,
          0.5092592592592593,
          0.5192307692307693,
          0.5373134328358209,
          0.5538461538461539,
          0.5668449197860963,
          0.5714285714285714,
          0.574585635359116,
          0.5810055865921788,
          0.5795454545454546,
          0.5813953488372093,
          0.5988023952095808,
          0.6097560975609756,
          0.6049382716049383,
          0.6114649681528662,
          0.5960264900662252,
          0.5753424657534246,
          0.5793103448275863,
          0.5915492957746479,
          0.60431654676259,
          0.6131386861313869,
          0.6119402985074627,
          0.6259541984732825,
          0.6201550387596899,
          0.6349206349206349,
          0.6451612903225806,
          0.6451612903225806,
          0.639344262295082,
          0.6166666666666667,
          0.6050420168067226,
          0.5739130434782609,
          0.5714285714285714,
          0.5765765765765766,
          0.5504587155963303,
          0.5504587155963303,
          0.5504587155963303,
          0.5555555555555556,
          0.5333333333333333,
          0.5333333333333333,
          0.5294117647058824,
          0.5294117647058824,
          0.5252525252525253,
          0.5154639175257731,
          0.5154639175257731,
          0.5,
          0.5,
          0.5,
          0.48936170212765956,
          0.48936170212765956,
          0.5,
          0.5,
          0.5054945054945055,
          0.45977011494252873,
          0.47058823529411764,
          0.4634146341463415,
          0.4634146341463415,
          0.4634146341463415,
          0.475,
          0.475,
          0.475,
          0.475,
          0.475,
          0.475,
          0.45569620253164556,
          0.45569620253164556,
          0.45569620253164556,
          0.4155844155844156,
          0.4155844155844156,
          0.4155844155844156,
          0.39473684210526316,
          0.39473684210526316,
          0.37333333333333335,
          0.37333333333333335,
          0.3055555555555556,
          0.3055555555555556,
          0.28169014084507044,
          0.2571428571428571,
          0.2571428571428571,
          0.2571428571428571,
          0.2608695652173913,
          0.23529411764705882,
          0.23529411764705882,
          0.18181818181818182,
          0.18181818181818182,
          0.18181818181818182,
          0.18181818181818182,
          0.18181818181818182,
          0.09523809523809523,
          0.09523809523809523,
          0.09523809523809523,
          0.03278688524590164,
          0.03278688524590164,
          0,
          0,
          0,
          0
         ]
        },
        {
         "hovertemplate": "Seuil = %{x:.2f}<br>F1-score = %{y:.3f}<extra></extra>",
         "mode": "lines+markers",
         "name": "Random Forest (max=0.637)",
         "type": "scatter",
         "x": {
          "bdata": "exSuR+F6hD8Lv1ubZmCUP9hz4JJcg54/U5QyRSlTpD+67vRApGSpPyFJtzwfdq4/w9E8HM3DsT/3/h2aiky0Pyos/xdI1bY/XVnglQVeuT+RhsETw+a7P8SzopGAb74/fPDBBx98wD8Wh7LGfcDBP7Ado4XcBMM/SbSTRDtJxD/jSoQDmo3FP33hdML40cY/FnhlgVcWyD+wDlZAtlrJP0qlRv8Un8o/4zs3vnPjyz990id90ifNPxdpGDwxbM4/sP8I+4+wzz8ly/xcd3rQP3IWdbymHNE/v2HtG9a+0T8MrWV7BWHSP1j43do0A9M/pUNWOmSl0z/yjs6Zk0fUPz/aRvnC6dQ/jCW/WPKL1T/ZcDe4IS7WPya8rxdR0NY/cgcod4By1z+/UqDWrxTYPwyeGDbfttg/WemQlQ5Z2T+mNAn1PfvZP/N/gVRtndo/P8v5s5w/2z+MFnITzOHbP9lh6nL7g9w/Jq1i0iom3T9z+NoxWsjdP8BDU5GJat4/DI/L8LgM3z9Z2kNQ6K7fP9MS3teLKOA/ejiah6N54D8gXlY3u8rgP8aDEufSG+E/banOlups4T8Tz4pGAr7hP7r0RvYZD+I/YBoDpjFg4j8GQL9VSbHiP61lewVhAuM/U4s3tXhT4z/6sPNkkKTjP6DWrxSo9eM/R/xrxL9G5D/tISh015fkP5NH5CPv6OQ/Om2g0wY65T/gklyDHovlP4e4GDM23OU/Ld7U4k0t5j/UA5GSZX7mP3opTUJ9z+Y/IE8J8pQg5z/HdMWhrHHnP22agVHEwuc/FMA9AdwT6D+65fmw82ToP2ALtmALtug/BzFyECMH6T+tVi7AOljpP1R86m9Sqek/+qGmH2r66T+hx2LPgUvqP0ftHn+ZnOo/7RLbLrHt6j+UOJfeyD7rPzpeU47gj+s/4YMPPvjg6z+HqcvtDzLsPy7Ph50ng+w/1PRDTT/U7D96GgD9ViXtPyFAvKxudu0/x2V4XIbH7T9uizQMnhjuPxSx8Lu1ae4/utasa8267j9h/Ggb5QvvPwciJcv8XO8/rkfhehSu7z8=",
          "dtype": "f8"
         },
         "y": [
          0.46153846153846156,
          0.46153846153846156,
          0.46153846153846156,
          0.46511627906976744,
          0.47244094488188976,
          0.47619047619047616,
          0.4897959183673469,
          0.4918032786885246,
          0.5,
          0.5172413793103449,
          0.5263157894736842,
          0.5309734513274337,
          0.5339366515837104,
          0.5462962962962963,
          0.5539906103286385,
          0.5592417061611374,
          0.5700483091787439,
          0.5870646766169154,
          0.5870646766169154,
          0.6051282051282051,
          0.6137566137566137,
          0.6298342541436464,
          0.6368715083798883,
          0.6363636363636364,
          0.6235294117647059,
          0.6153846153846154,
          0.6144578313253012,
          0.6211180124223602,
          0.6075949367088608,
          0.6052631578947368,
          0.6081081081081081,
          0.5986394557823129,
          0.60431654676259,
          0.5970149253731343,
          0.6,
          0.6031746031746031,
          0.6115702479338843,
          0.6271186440677966,
          0.5945945945945946,
          0.5794392523364486,
          0.5794392523364486,
          0.5849056603773585,
          0.6078431372549019,
          0.6078431372549019,
          0.62,
          0.5806451612903226,
          0.5714285714285714,
          0.5681818181818182,
          0.5238095238095238,
          0.4691358024691358,
          0.45,
          0.43037974683544306,
          0.4155844155844156,
          0.4155844155844156,
          0.4155844155844156,
          0.4155844155844156,
          0.39473684210526316,
          0.35135135135135137,
          0.3333333333333333,
          0.2857142857142857,
          0.2608695652173913,
          0.23529411764705882,
          0.208955223880597,
          0.18181818181818182,
          0.15384615384615385,
          0.125,
          0.09523809523809523,
          0.09523809523809523,
          0.09523809523809523,
          0.09523809523809523,
          0.09523809523809523,
          0.06451612903225806,
          0.06451612903225806,
          0.06451612903225806,
          0,
          0,
          0,
          0,
          0,
          0,
          0,
          0,
          0,
          0,
          0,
          0,
          0,
          0,
          0,
          0,
          0,
          0,
          0,
          0,
          0,
          0,
          0,
          0,
          0,
          0
         ]
        },
        {
         "hovertemplate": "Seuil = %{x:.2f}<br>F1-score = %{y:.3f}<extra></extra>",
         "mode": "lines+markers",
         "name": "LightGBM (max=0.607)",
         "type": "scatter",
         "x": {
          "bdata": "exSuR+F6hD8Lv1ubZmCUP9hz4JJcg54/U5QyRSlTpD+67vRApGSpPyFJtzwfdq4/w9E8HM3DsT/3/h2aiky0Pyos/xdI1bY/XVnglQVeuT+RhsETw+a7P8SzopGAb74/fPDBBx98wD8Wh7LGfcDBP7Ado4XcBMM/SbSTRDtJxD/jSoQDmo3FP33hdML40cY/FnhlgVcWyD+wDlZAtlrJP0qlRv8Un8o/4zs3vnPjyz990id90ifNPxdpGDwxbM4/sP8I+4+wzz8ly/xcd3rQP3IWdbymHNE/v2HtG9a+0T8MrWV7BWHSP1j43do0A9M/pUNWOmSl0z/yjs6Zk0fUPz/aRvnC6dQ/jCW/WPKL1T/ZcDe4IS7WPya8rxdR0NY/cgcod4By1z+/UqDWrxTYPwyeGDbfttg/WemQlQ5Z2T+mNAn1PfvZP/N/gVRtndo/P8v5s5w/2z+MFnITzOHbP9lh6nL7g9w/Jq1i0iom3T9z+NoxWsjdP8BDU5GJat4/DI/L8LgM3z9Z2kNQ6K7fP9MS3teLKOA/ejiah6N54D8gXlY3u8rgP8aDEufSG+E/banOlups4T8Tz4pGAr7hP7r0RvYZD+I/YBoDpjFg4j8GQL9VSbHiP61lewVhAuM/U4s3tXhT4z/6sPNkkKTjP6DWrxSo9eM/R/xrxL9G5D/tISh015fkP5NH5CPv6OQ/Om2g0wY65T/gklyDHovlP4e4GDM23OU/Ld7U4k0t5j/UA5GSZX7mP3opTUJ9z+Y/IE8J8pQg5z/HdMWhrHHnP22agVHEwuc/FMA9AdwT6D+65fmw82ToP2ALtmALtug/BzFyECMH6T+tVi7AOljpP1R86m9Sqek/+qGmH2r66T+hx2LPgUvqP0ftHn+ZnOo/7RLbLrHt6j+UOJfeyD7rPzpeU47gj+s/4YMPPvjg6z+HqcvtDzLsPy7Ph50ng+w/1PRDTT/U7D96GgD9ViXtPyFAvKxudu0/x2V4XIbH7T9uizQMnhjuPxSx8Lu1ae4/utasa8267j9h/Ggb5QvvPwciJcv8XO8/rkfhehSu7z8=",
          "dtype": "f8"
         },
         "y": [
          0.5045871559633027,
          0.5252525252525253,
          0.5347593582887701,
          0.5393258426966292,
          0.5517241379310345,
          0.5614035087719298,
          0.5714285714285714,
          0.5818181818181818,
          0.588957055214724,
          0.5875,
          0.5949367088607594,
          0.5935483870967742,
          0.6,
          0.5986394557823129,
          0.5793103448275863,
          0.5734265734265734,
          0.5774647887323944,
          0.5857142857142857,
          0.5899280575539568,
          0.6074074074074074,
          0.5909090909090909,
          0.5846153846153846,
          0.5846153846153846,
          0.5846153846153846,
          0.5891472868217055,
          0.5555555555555556,
          0.5483870967741935,
          0.5365853658536586,
          0.5454545454545454,
          0.55,
          0.5546218487394958,
          0.5546218487394958,
          0.559322033898305,
          0.5517241379310345,
          0.5565217391304348,
          0.5614035087719298,
          0.5663716814159292,
          0.5585585585585585,
          0.5370370370370371,
          0.5471698113207547,
          0.5384615384615384,
          0.5242718446601942,
          0.5098039215686274,
          0.5098039215686274,
          0.5098039215686274,
          0.5148514851485149,
          0.5148514851485149,
          0.5148514851485149,
          0.5148514851485149,
          0.5,
          0.4742268041237113,
          0.4742268041237113,
          0.4791666666666667,
          0.4631578947368421,
          0.46808510638297873,
          0.46808510638297873,
          0.45161290322580644,
          0.45161290322580644,
          0.43956043956043955,
          0.43956043956043955,
          0.43956043956043955,
          0.4444444444444444,
          0.449438202247191,
          0.41379310344827586,
          0.4235294117647059,
          0.4235294117647059,
          0.4235294117647059,
          0.42857142857142855,
          0.42857142857142855,
          0.42857142857142855,
          0.43373493975903615,
          0.4146341463414634,
          0.3950617283950617,
          0.375,
          0.35443037974683544,
          0.35443037974683544,
          0.35443037974683544,
          0.358974358974359,
          0.358974358974359,
          0.36363636363636365,
          0.36363636363636365,
          0.36363636363636365,
          0.36363636363636365,
          0.36363636363636365,
          0.36363636363636365,
          0.2972972972972973,
          0.2972972972972973,
          0.273972602739726,
          0.273972602739726,
          0.25,
          0.25,
          0.25,
          0.25,
          0.2,
          0.20588235294117646,
          0.18181818181818182,
          0.18181818181818182,
          0.15384615384615385,
          0.125,
          0.06451612903225806
         ]
        }
       ],
       "layout": {
        "height": 520,
        "template": {
         "data": {
          "bar": [
           {
            "error_x": {
             "color": "#2a3f5f"
            },
            "error_y": {
             "color": "#2a3f5f"
            },
            "marker": {
             "line": {
              "color": "white",
              "width": 0.5
             },
             "pattern": {
              "fillmode": "overlay",
              "size": 10,
              "solidity": 0.2
             }
            },
            "type": "bar"
           }
          ],
          "barpolar": [
           {
            "marker": {
             "line": {
              "color": "white",
              "width": 0.5
             },
             "pattern": {
              "fillmode": "overlay",
              "size": 10,
              "solidity": 0.2
             }
            },
            "type": "barpolar"
           }
          ],
          "carpet": [
           {
            "aaxis": {
             "endlinecolor": "#2a3f5f",
             "gridcolor": "#C8D4E3",
             "linecolor": "#C8D4E3",
             "minorgridcolor": "#C8D4E3",
             "startlinecolor": "#2a3f5f"
            },
            "baxis": {
             "endlinecolor": "#2a3f5f",
             "gridcolor": "#C8D4E3",
             "linecolor": "#C8D4E3",
             "minorgridcolor": "#C8D4E3",
             "startlinecolor": "#2a3f5f"
            },
            "type": "carpet"
           }
          ],
          "choropleth": [
           {
            "colorbar": {
             "outlinewidth": 0,
             "ticks": ""
            },
            "type": "choropleth"
           }
          ],
          "contour": [
           {
            "colorbar": {
             "outlinewidth": 0,
             "ticks": ""
            },
            "colorscale": [
             [
              0,
              "#0d0887"
             ],
             [
              0.1111111111111111,
              "#46039f"
             ],
             [
              0.2222222222222222,
              "#7201a8"
             ],
             [
              0.3333333333333333,
              "#9c179e"
             ],
             [
              0.4444444444444444,
              "#bd3786"
             ],
             [
              0.5555555555555556,
              "#d8576b"
             ],
             [
              0.6666666666666666,
              "#ed7953"
             ],
             [
              0.7777777777777778,
              "#fb9f3a"
             ],
             [
              0.8888888888888888,
              "#fdca26"
             ],
             [
              1,
              "#f0f921"
             ]
            ],
            "type": "contour"
           }
          ],
          "contourcarpet": [
           {
            "colorbar": {
             "outlinewidth": 0,
             "ticks": ""
            },
            "type": "contourcarpet"
           }
          ],
          "heatmap": [
           {
            "colorbar": {
             "outlinewidth": 0,
             "ticks": ""
            },
            "colorscale": [
             [
              0,
              "#0d0887"
             ],
             [
              0.1111111111111111,
              "#46039f"
             ],
             [
              0.2222222222222222,
              "#7201a8"
             ],
             [
              0.3333333333333333,
              "#9c179e"
             ],
             [
              0.4444444444444444,
              "#bd3786"
             ],
             [
              0.5555555555555556,
              "#d8576b"
             ],
             [
              0.6666666666666666,
              "#ed7953"
             ],
             [
              0.7777777777777778,
              "#fb9f3a"
             ],
             [
              0.8888888888888888,
              "#fdca26"
             ],
             [
              1,
              "#f0f921"
             ]
            ],
            "type": "heatmap"
           }
          ],
          "histogram": [
           {
            "marker": {
             "pattern": {
              "fillmode": "overlay",
              "size": 10,
              "solidity": 0.2
             }
            },
            "type": "histogram"
           }
          ],
          "histogram2d": [
           {
            "colorbar": {
             "outlinewidth": 0,
             "ticks": ""
            },
            "colorscale": [
             [
              0,
              "#0d0887"
             ],
             [
              0.1111111111111111,
              "#46039f"
             ],
             [
              0.2222222222222222,
              "#7201a8"
             ],
             [
              0.3333333333333333,
              "#9c179e"
             ],
             [
              0.4444444444444444,
              "#bd3786"
             ],
             [
              0.5555555555555556,
              "#d8576b"
             ],
             [
              0.6666666666666666,
              "#ed7953"
             ],
             [
              0.7777777777777778,
              "#fb9f3a"
             ],
             [
              0.8888888888888888,
              "#fdca26"
             ],
             [
              1,
              "#f0f921"
             ]
            ],
            "type": "histogram2d"
           }
          ],
          "histogram2dcontour": [
           {
            "colorbar": {
             "outlinewidth": 0,
             "ticks": ""
            },
            "colorscale": [
             [
              0,
              "#0d0887"
             ],
             [
              0.1111111111111111,
              "#46039f"
             ],
             [
              0.2222222222222222,
              "#7201a8"
             ],
             [
              0.3333333333333333,
              "#9c179e"
             ],
             [
              0.4444444444444444,
              "#bd3786"
             ],
             [
              0.5555555555555556,
              "#d8576b"
             ],
             [
              0.6666666666666666,
              "#ed7953"
             ],
             [
              0.7777777777777778,
              "#fb9f3a"
             ],
             [
              0.8888888888888888,
              "#fdca26"
             ],
             [
              1,
              "#f0f921"
             ]
            ],
            "type": "histogram2dcontour"
           }
          ],
          "mesh3d": [
           {
            "colorbar": {
             "outlinewidth": 0,
             "ticks": ""
            },
            "type": "mesh3d"
           }
          ],
          "parcoords": [
           {
            "line": {
             "colorbar": {
              "outlinewidth": 0,
              "ticks": ""
             }
            },
            "type": "parcoords"
           }
          ],
          "pie": [
           {
            "automargin": true,
            "type": "pie"
           }
          ],
          "scatter": [
           {
            "fillpattern": {
             "fillmode": "overlay",
             "size": 10,
             "solidity": 0.2
            },
            "type": "scatter"
           }
          ],
          "scatter3d": [
           {
            "line": {
             "colorbar": {
              "outlinewidth": 0,
              "ticks": ""
             }
            },
            "marker": {
             "colorbar": {
              "outlinewidth": 0,
              "ticks": ""
             }
            },
            "type": "scatter3d"
           }
          ],
          "scattercarpet": [
           {
            "marker": {
             "colorbar": {
              "outlinewidth": 0,
              "ticks": ""
             }
            },
            "type": "scattercarpet"
           }
          ],
          "scattergeo": [
           {
            "marker": {
             "colorbar": {
              "outlinewidth": 0,
              "ticks": ""
             }
            },
            "type": "scattergeo"
           }
          ],
          "scattergl": [
           {
            "marker": {
             "colorbar": {
              "outlinewidth": 0,
              "ticks": ""
             }
            },
            "type": "scattergl"
           }
          ],
          "scattermap": [
           {
            "marker": {
             "colorbar": {
              "outlinewidth": 0,
              "ticks": ""
             }
            },
            "type": "scattermap"
           }
          ],
          "scattermapbox": [
           {
            "marker": {
             "colorbar": {
              "outlinewidth": 0,
              "ticks": ""
             }
            },
            "type": "scattermapbox"
           }
          ],
          "scatterpolar": [
           {
            "marker": {
             "colorbar": {
              "outlinewidth": 0,
              "ticks": ""
             }
            },
            "type": "scatterpolar"
           }
          ],
          "scatterpolargl": [
           {
            "marker": {
             "colorbar": {
              "outlinewidth": 0,
              "ticks": ""
             }
            },
            "type": "scatterpolargl"
           }
          ],
          "scatterternary": [
           {
            "marker": {
             "colorbar": {
              "outlinewidth": 0,
              "ticks": ""
             }
            },
            "type": "scatterternary"
           }
          ],
          "surface": [
           {
            "colorbar": {
             "outlinewidth": 0,
             "ticks": ""
            },
            "colorscale": [
             [
              0,
              "#0d0887"
             ],
             [
              0.1111111111111111,
              "#46039f"
             ],
             [
              0.2222222222222222,
              "#7201a8"
             ],
             [
              0.3333333333333333,
              "#9c179e"
             ],
             [
              0.4444444444444444,
              "#bd3786"
             ],
             [
              0.5555555555555556,
              "#d8576b"
             ],
             [
              0.6666666666666666,
              "#ed7953"
             ],
             [
              0.7777777777777778,
              "#fb9f3a"
             ],
             [
              0.8888888888888888,
              "#fdca26"
             ],
             [
              1,
              "#f0f921"
             ]
            ],
            "type": "surface"
           }
          ],
          "table": [
           {
            "cells": {
             "fill": {
              "color": "#EBF0F8"
             },
             "line": {
              "color": "white"
             }
            },
            "header": {
             "fill": {
              "color": "#C8D4E3"
             },
             "line": {
              "color": "white"
             }
            },
            "type": "table"
           }
          ]
         },
         "layout": {
          "annotationdefaults": {
           "arrowcolor": "#2a3f5f",
           "arrowhead": 0,
           "arrowwidth": 1
          },
          "autotypenumbers": "strict",
          "coloraxis": {
           "colorbar": {
            "outlinewidth": 0,
            "ticks": ""
           }
          },
          "colorscale": {
           "diverging": [
            [
             0,
             "#8e0152"
            ],
            [
             0.1,
             "#c51b7d"
            ],
            [
             0.2,
             "#de77ae"
            ],
            [
             0.3,
             "#f1b6da"
            ],
            [
             0.4,
             "#fde0ef"
            ],
            [
             0.5,
             "#f7f7f7"
            ],
            [
             0.6,
             "#e6f5d0"
            ],
            [
             0.7,
             "#b8e186"
            ],
            [
             0.8,
             "#7fbc41"
            ],
            [
             0.9,
             "#4d9221"
            ],
            [
             1,
             "#276419"
            ]
           ],
           "sequential": [
            [
             0,
             "#0d0887"
            ],
            [
             0.1111111111111111,
             "#46039f"
            ],
            [
             0.2222222222222222,
             "#7201a8"
            ],
            [
             0.3333333333333333,
             "#9c179e"
            ],
            [
             0.4444444444444444,
             "#bd3786"
            ],
            [
             0.5555555555555556,
             "#d8576b"
            ],
            [
             0.6666666666666666,
             "#ed7953"
            ],
            [
             0.7777777777777778,
             "#fb9f3a"
            ],
            [
             0.8888888888888888,
             "#fdca26"
            ],
            [
             1,
             "#f0f921"
            ]
           ],
           "sequentialminus": [
            [
             0,
             "#0d0887"
            ],
            [
             0.1111111111111111,
             "#46039f"
            ],
            [
             0.2222222222222222,
             "#7201a8"
            ],
            [
             0.3333333333333333,
             "#9c179e"
            ],
            [
             0.4444444444444444,
             "#bd3786"
            ],
            [
             0.5555555555555556,
             "#d8576b"
            ],
            [
             0.6666666666666666,
             "#ed7953"
            ],
            [
             0.7777777777777778,
             "#fb9f3a"
            ],
            [
             0.8888888888888888,
             "#fdca26"
            ],
            [
             1,
             "#f0f921"
            ]
           ]
          },
          "colorway": [
           "#636efa",
           "#EF553B",
           "#00cc96",
           "#ab63fa",
           "#FFA15A",
           "#19d3f3",
           "#FF6692",
           "#B6E880",
           "#FF97FF",
           "#FECB52"
          ],
          "font": {
           "color": "#2a3f5f"
          },
          "geo": {
           "bgcolor": "white",
           "lakecolor": "white",
           "landcolor": "white",
           "showlakes": true,
           "showland": true,
           "subunitcolor": "#C8D4E3"
          },
          "hoverlabel": {
           "align": "left"
          },
          "hovermode": "closest",
          "mapbox": {
           "style": "light"
          },
          "paper_bgcolor": "white",
          "plot_bgcolor": "white",
          "polar": {
           "angularaxis": {
            "gridcolor": "#EBF0F8",
            "linecolor": "#EBF0F8",
            "ticks": ""
           },
           "bgcolor": "white",
           "radialaxis": {
            "gridcolor": "#EBF0F8",
            "linecolor": "#EBF0F8",
            "ticks": ""
           }
          },
          "scene": {
           "xaxis": {
            "backgroundcolor": "white",
            "gridcolor": "#DFE8F3",
            "gridwidth": 2,
            "linecolor": "#EBF0F8",
            "showbackground": true,
            "ticks": "",
            "zerolinecolor": "#EBF0F8"
           },
           "yaxis": {
            "backgroundcolor": "white",
            "gridcolor": "#DFE8F3",
            "gridwidth": 2,
            "linecolor": "#EBF0F8",
            "showbackground": true,
            "ticks": "",
            "zerolinecolor": "#EBF0F8"
           },
           "zaxis": {
            "backgroundcolor": "white",
            "gridcolor": "#DFE8F3",
            "gridwidth": 2,
            "linecolor": "#EBF0F8",
            "showbackground": true,
            "ticks": "",
            "zerolinecolor": "#EBF0F8"
           }
          },
          "shapedefaults": {
           "line": {
            "color": "#2a3f5f"
           }
          },
          "ternary": {
           "aaxis": {
            "gridcolor": "#DFE8F3",
            "linecolor": "#A2B1C6",
            "ticks": ""
           },
           "baxis": {
            "gridcolor": "#DFE8F3",
            "linecolor": "#A2B1C6",
            "ticks": ""
           },
           "bgcolor": "white",
           "caxis": {
            "gridcolor": "#DFE8F3",
            "linecolor": "#A2B1C6",
            "ticks": ""
           }
          },
          "title": {
           "x": 0.05
          },
          "xaxis": {
           "automargin": true,
           "gridcolor": "#EBF0F8",
           "linecolor": "#EBF0F8",
           "ticks": "",
           "title": {
            "standoff": 15
           },
           "zerolinecolor": "#EBF0F8",
           "zerolinewidth": 2
          },
          "yaxis": {
           "automargin": true,
           "gridcolor": "#EBF0F8",
           "linecolor": "#EBF0F8",
           "ticks": "",
           "title": {
            "standoff": 15
           },
           "zerolinecolor": "#EBF0F8",
           "zerolinewidth": 2
          }
         }
        },
        "title": {
         "text": "🎯 F1-score en fonction du seuil (trié par performance)"
        },
        "width": 950,
        "xaxis": {
         "title": {
          "text": "Seuil de décision"
         }
        },
        "yaxis": {
         "range": [
          0,
          1.02
         ],
         "title": {
          "text": "F1-score"
         }
        }
       }
      }
     },
     "metadata": {},
     "output_type": "display_data"
    }
   ],
   "source": [
    "# Evolution du F1-score\n",
    "dict_models = trees_models.best_f1_by_model()"
   ]
  },
  {
   "cell_type": "code",
   "execution_count": 22,
   "id": "c635788d",
   "metadata": {},
   "outputs": [
    {
     "name": "stdout",
     "output_type": "stream",
     "text": [
      "Meilleur modèle : Gradient Boosting\n",
      "Score (F1 CV) : 0.5648\n"
     ]
    }
   ],
   "source": [
    "dict_best_model_trees = trees_models.get_best_model() # modèle qui maximise le critère\n",
    "best_model_name_trees = dict_best_model_trees[\"model_name\"]"
   ]
  },
  {
   "cell_type": "code",
   "execution_count": 23,
   "id": "0e15f9b4",
   "metadata": {},
   "outputs": [
    {
     "data": {
      "text/html": [
       "\n",
       "        <div class=\"alert alert-success\" style=\"font-family:Arial;\">\n",
       "        <h4>📊 Évaluation du modèle : <code>Gradient Boosting</code></h4>\n",
       "\n",
       "        <h5>⚙️ Métriques globales</h5>\n",
       "        <table border=\"1\" style=\"border-collapse:collapse; width:100%; text-align:left;\">\n",
       "            <thead style=\"background-color:#f2f2f2;\">\n",
       "            <tr><th style=\"padding:6px;\">Métrique</th><th style=\"padding:6px;\">Valeur</th></tr>\n",
       "            </thead>\n",
       "            <tbody>\n",
       "            <tr>\n",
       "                <td style=\"padding:6px;\">Accuracy</td>\n",
       "                <td style=\"padding:6px;\">0.760</td>\n",
       "\n",
       "            </tr>\n",
       "            <tr>\n",
       "                <td style=\"padding:6px;\">ROC AUC</td>\n",
       "                <td style=\"padding:6px;\">0.792</td>\n",
       "            </tr>\n",
       "            </tbody>\n",
       "        </table>\n",
       "\n",
       "        <h5 style=\"margin-top:20px;\">🎯 Métriques par classe</h5>\n",
       "        <table border=\"1\" style=\"border-collapse:collapse; width:100%; text-align:left;\">\n",
       "            <thead style=\"background-color:#f2f2f2;\">\n",
       "            <tr>\n",
       "                <th style=\"padding:6px;\">Classe</th>\n",
       "                <th style=\"padding:6px;\">Précision</th>\n",
       "                <th style=\"padding:6px;\">Rappel</th>\n",
       "                <th style=\"padding:6px;\">F1-score</th>\n",
       "            </tr>\n",
       "            </thead>\n",
       "            <tbody>\n",
       "            <tr>\n",
       "                <td style=\"padding:6px;\"><b>Non défaut</b></td>\n",
       "                <td style=\"padding:6px;\">0.780</td>\n",
       "                <td style=\"padding:6px;\">0.914</td>\n",
       "                <td style=\"padding:6px;\">0.842</td>\n",
       "            </tr>\n",
       "            <tr>\n",
       "                <td style=\"padding:6px;\"><b>Défaut</b></td>\n",
       "                <td style=\"padding:6px;\">0.667</td>\n",
       "                <td style=\"padding:6px;\">0.400</td>\n",
       "                <td style=\"padding:6px;\">0.500</td>\n",
       "            </tr>\n",
       "            </tbody>\n",
       "        </table>\n",
       "        </div>\n",
       "        "
      ],
      "text/plain": [
       "<IPython.core.display.HTML object>"
      ]
     },
     "metadata": {},
     "output_type": "display_data"
    }
   ],
   "source": [
    "trees_models.evaluate_model(best_model_name_trees)"
   ]
  },
  {
   "cell_type": "markdown",
   "id": "4aa2ef52",
   "metadata": {},
   "source": [
    "**Aide à la sélection \"métier\" du seuil de score**"
   ]
  },
  {
   "cell_type": "code",
   "execution_count": 24,
   "id": "7f7dab1b",
   "metadata": {},
   "outputs": [
    {
     "data": {
      "application/vnd.plotly.v1+json": {
       "config": {
        "plotlyServerURL": "https://plot.ly"
       },
       "data": [
        {
         "hovertemplate": "Seuil = %{x:.2f}<br>Precision = %{y:.3f}<extra></extra>",
         "mode": "lines+markers",
         "name": "Precision",
         "type": "scatter",
         "x": {
          "bdata": "exSuR+F6hD8Lv1ubZmCUP9hz4JJcg54/U5QyRSlTpD+67vRApGSpPyFJtzwfdq4/w9E8HM3DsT/3/h2aiky0Pyos/xdI1bY/XVnglQVeuT+RhsETw+a7P8SzopGAb74/fPDBBx98wD8Wh7LGfcDBP7Ado4XcBMM/SbSTRDtJxD/jSoQDmo3FP33hdML40cY/FnhlgVcWyD+wDlZAtlrJP0qlRv8Un8o/4zs3vnPjyz990id90ifNPxdpGDwxbM4/sP8I+4+wzz8ly/xcd3rQP3IWdbymHNE/v2HtG9a+0T8MrWV7BWHSP1j43do0A9M/pUNWOmSl0z/yjs6Zk0fUPz/aRvnC6dQ/jCW/WPKL1T/ZcDe4IS7WPya8rxdR0NY/cgcod4By1z+/UqDWrxTYPwyeGDbfttg/WemQlQ5Z2T+mNAn1PfvZP/N/gVRtndo/P8v5s5w/2z+MFnITzOHbP9lh6nL7g9w/Jq1i0iom3T9z+NoxWsjdP8BDU5GJat4/DI/L8LgM3z9Z2kNQ6K7fP9MS3teLKOA/ejiah6N54D8gXlY3u8rgP8aDEufSG+E/banOlups4T8Tz4pGAr7hP7r0RvYZD+I/YBoDpjFg4j8GQL9VSbHiP61lewVhAuM/U4s3tXhT4z/6sPNkkKTjP6DWrxSo9eM/R/xrxL9G5D/tISh015fkP5NH5CPv6OQ/Om2g0wY65T/gklyDHovlP4e4GDM23OU/Ld7U4k0t5j/UA5GSZX7mP3opTUJ9z+Y/IE8J8pQg5z/HdMWhrHHnP22agVHEwuc/FMA9AdwT6D+65fmw82ToP2ALtmALtug/BzFyECMH6T+tVi7AOljpP1R86m9Sqek/+qGmH2r66T+hx2LPgUvqP0ftHn+ZnOo/7RLbLrHt6j+UOJfeyD7rPzpeU47gj+s/4YMPPvjg6z+HqcvtDzLsPy7Ph50ng+w/1PRDTT/U7D96GgD9ViXtPyFAvKxudu0/x2V4XIbH7T9uizQMnhjuPxSx8Lu1ae4/utasa8267j9h/Ggb5QvvPwciJcv8XO8/rkfhehSu7z8=",
          "dtype": "f8"
         },
         "y": {
          "bdata": "eFSz/gx+0z9NNNFEE03UP4zqNDnIvNQ/AulYyiTY1T9mZmZmZmbWPwdpkAZpkNY/n3WDKfJZ1z9icgUxuYLYP5qZmZmZmdk/rVar1Wq12j+f4pIhWEfbP2q+Vs8Ogds/HGX3G2X32z/3NMJyTyPcPyVJkiRJktw/K0rjIxPo3T9P7MRO7MTeP7++vr6+vt4/IHRU4Iur3z9g+qVf+qXfP9AX9AV9Qd8/oJ+fn5+f3z9kcD4G52PgPwai0pE9A+E/dNFFF1104T+tG0yRz7rhP1NPxm+XeuI/KfEzSvyM4j9lk0022WTjPwAAAAAAAOQ/AAAAAAAA5D8hhBBCCCHkP7y7u7u7u+M/78tjK4KG4z8zMzMzMzPjPxQ7sRM7seM/FBQUFBQU5D/mFLycgpfjP+YUvJyCl+M/5hS8nIKX4z8AAAAAAADkP5Q+6ZM+6eM/lD7pkz7p4z8lSZIkSZLkPyVJkiRJkuQ/VVVVVVVV5T/yWTeYIp/lP/JZN5gin+U/VVVVVVVV5T9VVVVVVVXlP1VVVVVVVeU/pqWlpaWl5T+mpaWlpaXlPwAAAAAAAOc/AAAAAAAA5z++9957773nP0J7Ce0ltOc/mpmZmZmZ6T+jiy666KLrP6OLLrroous/o4suuuii6z9mZmZmZmbuP2ZmZmZmZu4/ZmZmZmZm7j9mZmZmZmbuP2ZmZmZmZu4/ZmZmZmZm7j8N5TWU11DuPw3lNZTXUO4/DeU1lNdQ7j8eHh4eHh7uPx4eHh4eHu4/Hh4eHh4e7j8AAAAAAADuPwAAAAAAAO4/3t3d3d3d7T/e3d3d3d3tP1VVVVVVVe0/VVVVVVVV7T8XXXTRRRftP83MzMzMzOw/zczMzMzM7D/NzMzMzMzsPwAAAAAAAPA/AAAAAAAA8D8AAAAAAADwPwAAAAAAAPA/AAAAAAAA8D8AAAAAAADwPwAAAAAAAPA/AAAAAAAA8D8AAAAAAADwPwAAAAAAAPA/AAAAAAAA8D8AAAAAAADwPwAAAAAAAPA/AAAAAAAAAAAAAAAAAAAAAAAAAAAAAAAAAAAAAAAAAAA=",
          "dtype": "f8"
         }
        },
        {
         "hovertemplate": "Seuil = %{x:.2f}<br>Recall = %{y:.3f}<extra></extra>",
         "mode": "lines+markers",
         "name": "Recall",
         "type": "scatter",
         "x": {
          "bdata": "exSuR+F6hD8Lv1ubZmCUP9hz4JJcg54/U5QyRSlTpD+67vRApGSpPyFJtzwfdq4/w9E8HM3DsT/3/h2aiky0Pyos/xdI1bY/XVnglQVeuT+RhsETw+a7P8SzopGAb74/fPDBBx98wD8Wh7LGfcDBP7Ado4XcBMM/SbSTRDtJxD/jSoQDmo3FP33hdML40cY/FnhlgVcWyD+wDlZAtlrJP0qlRv8Un8o/4zs3vnPjyz990id90ifNPxdpGDwxbM4/sP8I+4+wzz8ly/xcd3rQP3IWdbymHNE/v2HtG9a+0T8MrWV7BWHSP1j43do0A9M/pUNWOmSl0z/yjs6Zk0fUPz/aRvnC6dQ/jCW/WPKL1T/ZcDe4IS7WPya8rxdR0NY/cgcod4By1z+/UqDWrxTYPwyeGDbfttg/WemQlQ5Z2T+mNAn1PfvZP/N/gVRtndo/P8v5s5w/2z+MFnITzOHbP9lh6nL7g9w/Jq1i0iom3T9z+NoxWsjdP8BDU5GJat4/DI/L8LgM3z9Z2kNQ6K7fP9MS3teLKOA/ejiah6N54D8gXlY3u8rgP8aDEufSG+E/banOlups4T8Tz4pGAr7hP7r0RvYZD+I/YBoDpjFg4j8GQL9VSbHiP61lewVhAuM/U4s3tXhT4z/6sPNkkKTjP6DWrxSo9eM/R/xrxL9G5D/tISh015fkP5NH5CPv6OQ/Om2g0wY65T/gklyDHovlP4e4GDM23OU/Ld7U4k0t5j/UA5GSZX7mP3opTUJ9z+Y/IE8J8pQg5z/HdMWhrHHnP22agVHEwuc/FMA9AdwT6D+65fmw82ToP2ALtmALtug/BzFyECMH6T+tVi7AOljpP1R86m9Sqek/+qGmH2r66T+hx2LPgUvqP0ftHn+ZnOo/7RLbLrHt6j+UOJfeyD7rPzpeU47gj+s/4YMPPvjg6z+HqcvtDzLsPy7Ph50ng+w/1PRDTT/U7D96GgD9ViXtPyFAvKxudu0/x2V4XIbH7T9uizQMnhjuPxSx8Lu1ae4/utasa8267j9h/Ggb5QvvPwciJcv8XO8/rkfhehSu7z8=",
          "dtype": "f8"
         },
         "y": {
          "bdata": "AAAAAAAA8D93d3d3d3fvP+/u7u7u7u4/ZmZmZmZm7j/e3d3d3d3tP1VVVVVVVe0/zczMzMzM7D/NzMzMzMzsP83MzMzMzOw/RERERERE7D+8u7u7u7vrP7y7u7u7u+s/vLu7u7u76z8zMzMzMzPrP6uqqqqqquo/q6qqqqqq6j+rqqqqqqrqPyIiIiIiIuo/mpmZmZmZ6T8AAAAAAADoP2ZmZmZmZuY/ZmZmZmZm5j9mZmZmZmbmP2ZmZmZmZuY/ZmZmZmZm5j/e3d3d3d3lP97d3d3d3eU/VVVVVVVV5T9VVVVVVVXlP1VVVVVVVeU/VVVVVVVV5T/NzMzMzMzkP7y7u7u7u+M/MzMzMzMz4z+amZmZmZnhPxEREREREeE/ERERERER4T8AAAAAAADgPwAAAAAAAOA/AAAAAAAA4D8AAAAAAADgP97d3d3d3d0/3t3d3d3d3T/NzMzMzMzcP83MzMzMzNw/vLu7u7u72z+rqqqqqqraP6uqqqqqqto/mpmZmZmZ2T+amZmZmZnZP5qZmZmZmdk/iYiIiIiI2D+JiIiIiIjYP4mIiIiIiNg/iYiIiIiI2D+JiIiIiIjYP1VVVVVVVdU/VVVVVVVV1T9ERERERETUP0RERERERNQ/RERERERE1D9ERERERETUP0RERERERNQ/RERERERE1D9ERERERETUP0RERERERNQ/RERERERE1D8zMzMzMzPTPzMzMzMzM9M/MzMzMzMz0z8RERERERHRPxEREREREdE/ERERERER0T8AAAAAAADQPwAAAAAAANA/3t3d3d3dzT/e3d3d3d3NP3d3d3d3d8c/d3d3d3d3xz9VVVVVVVXFPzMzMzMzM8M/MzMzMzMzwz8zMzMzMzPDPzMzMzMzM8M/ERERERERwT8RERERERHBP5qZmZmZmbk/mpmZmZmZuT+amZmZmZm5P5qZmZmZmbk/mpmZmZmZuT+amZmZmZmpP5qZmZmZmak/mpmZmZmZqT8RERERERGRPxEREREREZE/AAAAAAAAAAAAAAAAAAAAAAAAAAAAAAAAAAAAAAAAAAA=",
          "dtype": "f8"
         }
        },
        {
         "hovertemplate": "Seuil = %{x:.2f}<br>F1 = %{y:.3f}<extra></extra>",
         "mode": "lines+markers",
         "name": "F1",
         "type": "scatter",
         "x": {
          "bdata": "exSuR+F6hD8Lv1ubZmCUP9hz4JJcg54/U5QyRSlTpD+67vRApGSpPyFJtzwfdq4/w9E8HM3DsT/3/h2aiky0Pyos/xdI1bY/XVnglQVeuT+RhsETw+a7P8SzopGAb74/fPDBBx98wD8Wh7LGfcDBP7Ado4XcBMM/SbSTRDtJxD/jSoQDmo3FP33hdML40cY/FnhlgVcWyD+wDlZAtlrJP0qlRv8Un8o/4zs3vnPjyz990id90ifNPxdpGDwxbM4/sP8I+4+wzz8ly/xcd3rQP3IWdbymHNE/v2HtG9a+0T8MrWV7BWHSP1j43do0A9M/pUNWOmSl0z/yjs6Zk0fUPz/aRvnC6dQ/jCW/WPKL1T/ZcDe4IS7WPya8rxdR0NY/cgcod4By1z+/UqDWrxTYPwyeGDbfttg/WemQlQ5Z2T+mNAn1PfvZP/N/gVRtndo/P8v5s5w/2z+MFnITzOHbP9lh6nL7g9w/Jq1i0iom3T9z+NoxWsjdP8BDU5GJat4/DI/L8LgM3z9Z2kNQ6K7fP9MS3teLKOA/ejiah6N54D8gXlY3u8rgP8aDEufSG+E/banOlups4T8Tz4pGAr7hP7r0RvYZD+I/YBoDpjFg4j8GQL9VSbHiP61lewVhAuM/U4s3tXhT4z/6sPNkkKTjP6DWrxSo9eM/R/xrxL9G5D/tISh015fkP5NH5CPv6OQ/Om2g0wY65T/gklyDHovlP4e4GDM23OU/Ld7U4k0t5j/UA5GSZX7mP3opTUJ9z+Y/IE8J8pQg5z/HdMWhrHHnP22agVHEwuc/FMA9AdwT6D+65fmw82ToP2ALtmALtug/BzFyECMH6T+tVi7AOljpP1R86m9Sqek/+qGmH2r66T+hx2LPgUvqP0ftHn+ZnOo/7RLbLrHt6j+UOJfeyD7rPzpeU47gj+s/4YMPPvjg6z+HqcvtDzLsPy7Ph50ng+w/1PRDTT/U7D96GgD9ViXtPyFAvKxudu0/x2V4XIbH7T9uizQMnhjuPxSx8Lu1ae4/utasa8267j9h/Ggb5QvvPwciJcv8XO8/rkfhehSu7z8=",
          "dtype": "f8"
         },
         "y": {
          "bdata": "HuId4h3i3T+z3i/r/bLeP13nWCMREN8/wWcMRwsS4D9KkKcEeUrgP76E9hLaS+A/2Ymd2Imd4D8qZ7fwqzHhP5IbuZEbueE/JFIM9Zcj4j+SJEmSJEniPxXNE2oBY+I/Up0mB5mX4j+MLrroooviP6esKWvKmuI/uSEGpGMp4z+D8zE4H4PjPxCLlIGnW+M/Qbgb+x6R4z+ZSkwlphLjP5MmTZo0aeI/Xpso2bWJ4j+/XerJ+O3iPwLdmKePVuM/SxibBdWe4z9+NSbSA5XjP5GSZxnRB+Q/9oQ9YU/Y4z8URVEURVHkP6WUUkoppeQ/pZRSSiml5D/4KS4ZgnXkP7y7u7u7u+M/E4FcE4Fc4z8mlQ/jfl3iP5IkSZIkSeI/NSeBuFBz4j/WGamYW53hP9YZqZhbneE/1hmpmFud4T9yHMdxHMfhPxEREREREeE/ERERERER4T/x8PDw8PDgP/Hw8PDw8OA/ejtDYt7O4D/QUYEvrn7gP9BRgS+ufuA/AAAAAAAA4D8AAAAAAADgPwAAAAAAAOA/fWejvrNR3z99Z6O+s1HfPwAAAAAAAOA/AAAAAAAA4D/QAi3QAi3gP/rN1qHfbN0/Hh4eHh4e3j+pXYnalajdP6ldidqVqN0/qV2J2pWo3T9mZmZmZmbeP2ZmZmZmZt4/ZmZmZmZm3j9mZmZmZmbeP2ZmZmZmZt4/ZmZmZmZm3j9UOrJnICrdP1Q6smcgKt0/VDqyZyAq3T++Y2pg75jaP75jamDvmNo/vmNqYO+Y2j82lNdQXkPZPzaU11BeQ9k/5RdLfrHk1z/lF0t+seTXP+Q4juM4jtM/5DiO4ziO0z/nQKIVNgfSP1AHdVAHddA/UAd1UAd10D9QB3VQB3XQPwtZyEIWstA/Hh4eHh4ezj8eHh4eHh7OP0YXXXTRRcc/RhdddNFFxz9GF1100UXHP0YXXXTRRcc/RhdddNFFxz8YhmEYhmG4PxiGYRiGYbg/GIZhGIZhuD872rxPccmgPzvavE9xyaA/AAAAAAAAAAAAAAAAAAAAAAAAAAAAAAAAAAAAAAAAAAA=",
          "dtype": "f8"
         }
        }
       ],
       "layout": {
        "height": 500,
        "hovermode": "x unified",
        "legend": {
         "title": {
          "text": "Métriques"
         }
        },
        "template": {
         "data": {
          "bar": [
           {
            "error_x": {
             "color": "#2a3f5f"
            },
            "error_y": {
             "color": "#2a3f5f"
            },
            "marker": {
             "line": {
              "color": "white",
              "width": 0.5
             },
             "pattern": {
              "fillmode": "overlay",
              "size": 10,
              "solidity": 0.2
             }
            },
            "type": "bar"
           }
          ],
          "barpolar": [
           {
            "marker": {
             "line": {
              "color": "white",
              "width": 0.5
             },
             "pattern": {
              "fillmode": "overlay",
              "size": 10,
              "solidity": 0.2
             }
            },
            "type": "barpolar"
           }
          ],
          "carpet": [
           {
            "aaxis": {
             "endlinecolor": "#2a3f5f",
             "gridcolor": "#C8D4E3",
             "linecolor": "#C8D4E3",
             "minorgridcolor": "#C8D4E3",
             "startlinecolor": "#2a3f5f"
            },
            "baxis": {
             "endlinecolor": "#2a3f5f",
             "gridcolor": "#C8D4E3",
             "linecolor": "#C8D4E3",
             "minorgridcolor": "#C8D4E3",
             "startlinecolor": "#2a3f5f"
            },
            "type": "carpet"
           }
          ],
          "choropleth": [
           {
            "colorbar": {
             "outlinewidth": 0,
             "ticks": ""
            },
            "type": "choropleth"
           }
          ],
          "contour": [
           {
            "colorbar": {
             "outlinewidth": 0,
             "ticks": ""
            },
            "colorscale": [
             [
              0,
              "#0d0887"
             ],
             [
              0.1111111111111111,
              "#46039f"
             ],
             [
              0.2222222222222222,
              "#7201a8"
             ],
             [
              0.3333333333333333,
              "#9c179e"
             ],
             [
              0.4444444444444444,
              "#bd3786"
             ],
             [
              0.5555555555555556,
              "#d8576b"
             ],
             [
              0.6666666666666666,
              "#ed7953"
             ],
             [
              0.7777777777777778,
              "#fb9f3a"
             ],
             [
              0.8888888888888888,
              "#fdca26"
             ],
             [
              1,
              "#f0f921"
             ]
            ],
            "type": "contour"
           }
          ],
          "contourcarpet": [
           {
            "colorbar": {
             "outlinewidth": 0,
             "ticks": ""
            },
            "type": "contourcarpet"
           }
          ],
          "heatmap": [
           {
            "colorbar": {
             "outlinewidth": 0,
             "ticks": ""
            },
            "colorscale": [
             [
              0,
              "#0d0887"
             ],
             [
              0.1111111111111111,
              "#46039f"
             ],
             [
              0.2222222222222222,
              "#7201a8"
             ],
             [
              0.3333333333333333,
              "#9c179e"
             ],
             [
              0.4444444444444444,
              "#bd3786"
             ],
             [
              0.5555555555555556,
              "#d8576b"
             ],
             [
              0.6666666666666666,
              "#ed7953"
             ],
             [
              0.7777777777777778,
              "#fb9f3a"
             ],
             [
              0.8888888888888888,
              "#fdca26"
             ],
             [
              1,
              "#f0f921"
             ]
            ],
            "type": "heatmap"
           }
          ],
          "histogram": [
           {
            "marker": {
             "pattern": {
              "fillmode": "overlay",
              "size": 10,
              "solidity": 0.2
             }
            },
            "type": "histogram"
           }
          ],
          "histogram2d": [
           {
            "colorbar": {
             "outlinewidth": 0,
             "ticks": ""
            },
            "colorscale": [
             [
              0,
              "#0d0887"
             ],
             [
              0.1111111111111111,
              "#46039f"
             ],
             [
              0.2222222222222222,
              "#7201a8"
             ],
             [
              0.3333333333333333,
              "#9c179e"
             ],
             [
              0.4444444444444444,
              "#bd3786"
             ],
             [
              0.5555555555555556,
              "#d8576b"
             ],
             [
              0.6666666666666666,
              "#ed7953"
             ],
             [
              0.7777777777777778,
              "#fb9f3a"
             ],
             [
              0.8888888888888888,
              "#fdca26"
             ],
             [
              1,
              "#f0f921"
             ]
            ],
            "type": "histogram2d"
           }
          ],
          "histogram2dcontour": [
           {
            "colorbar": {
             "outlinewidth": 0,
             "ticks": ""
            },
            "colorscale": [
             [
              0,
              "#0d0887"
             ],
             [
              0.1111111111111111,
              "#46039f"
             ],
             [
              0.2222222222222222,
              "#7201a8"
             ],
             [
              0.3333333333333333,
              "#9c179e"
             ],
             [
              0.4444444444444444,
              "#bd3786"
             ],
             [
              0.5555555555555556,
              "#d8576b"
             ],
             [
              0.6666666666666666,
              "#ed7953"
             ],
             [
              0.7777777777777778,
              "#fb9f3a"
             ],
             [
              0.8888888888888888,
              "#fdca26"
             ],
             [
              1,
              "#f0f921"
             ]
            ],
            "type": "histogram2dcontour"
           }
          ],
          "mesh3d": [
           {
            "colorbar": {
             "outlinewidth": 0,
             "ticks": ""
            },
            "type": "mesh3d"
           }
          ],
          "parcoords": [
           {
            "line": {
             "colorbar": {
              "outlinewidth": 0,
              "ticks": ""
             }
            },
            "type": "parcoords"
           }
          ],
          "pie": [
           {
            "automargin": true,
            "type": "pie"
           }
          ],
          "scatter": [
           {
            "fillpattern": {
             "fillmode": "overlay",
             "size": 10,
             "solidity": 0.2
            },
            "type": "scatter"
           }
          ],
          "scatter3d": [
           {
            "line": {
             "colorbar": {
              "outlinewidth": 0,
              "ticks": ""
             }
            },
            "marker": {
             "colorbar": {
              "outlinewidth": 0,
              "ticks": ""
             }
            },
            "type": "scatter3d"
           }
          ],
          "scattercarpet": [
           {
            "marker": {
             "colorbar": {
              "outlinewidth": 0,
              "ticks": ""
             }
            },
            "type": "scattercarpet"
           }
          ],
          "scattergeo": [
           {
            "marker": {
             "colorbar": {
              "outlinewidth": 0,
              "ticks": ""
             }
            },
            "type": "scattergeo"
           }
          ],
          "scattergl": [
           {
            "marker": {
             "colorbar": {
              "outlinewidth": 0,
              "ticks": ""
             }
            },
            "type": "scattergl"
           }
          ],
          "scattermap": [
           {
            "marker": {
             "colorbar": {
              "outlinewidth": 0,
              "ticks": ""
             }
            },
            "type": "scattermap"
           }
          ],
          "scattermapbox": [
           {
            "marker": {
             "colorbar": {
              "outlinewidth": 0,
              "ticks": ""
             }
            },
            "type": "scattermapbox"
           }
          ],
          "scatterpolar": [
           {
            "marker": {
             "colorbar": {
              "outlinewidth": 0,
              "ticks": ""
             }
            },
            "type": "scatterpolar"
           }
          ],
          "scatterpolargl": [
           {
            "marker": {
             "colorbar": {
              "outlinewidth": 0,
              "ticks": ""
             }
            },
            "type": "scatterpolargl"
           }
          ],
          "scatterternary": [
           {
            "marker": {
             "colorbar": {
              "outlinewidth": 0,
              "ticks": ""
             }
            },
            "type": "scatterternary"
           }
          ],
          "surface": [
           {
            "colorbar": {
             "outlinewidth": 0,
             "ticks": ""
            },
            "colorscale": [
             [
              0,
              "#0d0887"
             ],
             [
              0.1111111111111111,
              "#46039f"
             ],
             [
              0.2222222222222222,
              "#7201a8"
             ],
             [
              0.3333333333333333,
              "#9c179e"
             ],
             [
              0.4444444444444444,
              "#bd3786"
             ],
             [
              0.5555555555555556,
              "#d8576b"
             ],
             [
              0.6666666666666666,
              "#ed7953"
             ],
             [
              0.7777777777777778,
              "#fb9f3a"
             ],
             [
              0.8888888888888888,
              "#fdca26"
             ],
             [
              1,
              "#f0f921"
             ]
            ],
            "type": "surface"
           }
          ],
          "table": [
           {
            "cells": {
             "fill": {
              "color": "#EBF0F8"
             },
             "line": {
              "color": "white"
             }
            },
            "header": {
             "fill": {
              "color": "#C8D4E3"
             },
             "line": {
              "color": "white"
             }
            },
            "type": "table"
           }
          ]
         },
         "layout": {
          "annotationdefaults": {
           "arrowcolor": "#2a3f5f",
           "arrowhead": 0,
           "arrowwidth": 1
          },
          "autotypenumbers": "strict",
          "coloraxis": {
           "colorbar": {
            "outlinewidth": 0,
            "ticks": ""
           }
          },
          "colorscale": {
           "diverging": [
            [
             0,
             "#8e0152"
            ],
            [
             0.1,
             "#c51b7d"
            ],
            [
             0.2,
             "#de77ae"
            ],
            [
             0.3,
             "#f1b6da"
            ],
            [
             0.4,
             "#fde0ef"
            ],
            [
             0.5,
             "#f7f7f7"
            ],
            [
             0.6,
             "#e6f5d0"
            ],
            [
             0.7,
             "#b8e186"
            ],
            [
             0.8,
             "#7fbc41"
            ],
            [
             0.9,
             "#4d9221"
            ],
            [
             1,
             "#276419"
            ]
           ],
           "sequential": [
            [
             0,
             "#0d0887"
            ],
            [
             0.1111111111111111,
             "#46039f"
            ],
            [
             0.2222222222222222,
             "#7201a8"
            ],
            [
             0.3333333333333333,
             "#9c179e"
            ],
            [
             0.4444444444444444,
             "#bd3786"
            ],
            [
             0.5555555555555556,
             "#d8576b"
            ],
            [
             0.6666666666666666,
             "#ed7953"
            ],
            [
             0.7777777777777778,
             "#fb9f3a"
            ],
            [
             0.8888888888888888,
             "#fdca26"
            ],
            [
             1,
             "#f0f921"
            ]
           ],
           "sequentialminus": [
            [
             0,
             "#0d0887"
            ],
            [
             0.1111111111111111,
             "#46039f"
            ],
            [
             0.2222222222222222,
             "#7201a8"
            ],
            [
             0.3333333333333333,
             "#9c179e"
            ],
            [
             0.4444444444444444,
             "#bd3786"
            ],
            [
             0.5555555555555556,
             "#d8576b"
            ],
            [
             0.6666666666666666,
             "#ed7953"
            ],
            [
             0.7777777777777778,
             "#fb9f3a"
            ],
            [
             0.8888888888888888,
             "#fdca26"
            ],
            [
             1,
             "#f0f921"
            ]
           ]
          },
          "colorway": [
           "#636efa",
           "#EF553B",
           "#00cc96",
           "#ab63fa",
           "#FFA15A",
           "#19d3f3",
           "#FF6692",
           "#B6E880",
           "#FF97FF",
           "#FECB52"
          ],
          "font": {
           "color": "#2a3f5f"
          },
          "geo": {
           "bgcolor": "white",
           "lakecolor": "white",
           "landcolor": "white",
           "showlakes": true,
           "showland": true,
           "subunitcolor": "#C8D4E3"
          },
          "hoverlabel": {
           "align": "left"
          },
          "hovermode": "closest",
          "mapbox": {
           "style": "light"
          },
          "paper_bgcolor": "white",
          "plot_bgcolor": "white",
          "polar": {
           "angularaxis": {
            "gridcolor": "#EBF0F8",
            "linecolor": "#EBF0F8",
            "ticks": ""
           },
           "bgcolor": "white",
           "radialaxis": {
            "gridcolor": "#EBF0F8",
            "linecolor": "#EBF0F8",
            "ticks": ""
           }
          },
          "scene": {
           "xaxis": {
            "backgroundcolor": "white",
            "gridcolor": "#DFE8F3",
            "gridwidth": 2,
            "linecolor": "#EBF0F8",
            "showbackground": true,
            "ticks": "",
            "zerolinecolor": "#EBF0F8"
           },
           "yaxis": {
            "backgroundcolor": "white",
            "gridcolor": "#DFE8F3",
            "gridwidth": 2,
            "linecolor": "#EBF0F8",
            "showbackground": true,
            "ticks": "",
            "zerolinecolor": "#EBF0F8"
           },
           "zaxis": {
            "backgroundcolor": "white",
            "gridcolor": "#DFE8F3",
            "gridwidth": 2,
            "linecolor": "#EBF0F8",
            "showbackground": true,
            "ticks": "",
            "zerolinecolor": "#EBF0F8"
           }
          },
          "shapedefaults": {
           "line": {
            "color": "#2a3f5f"
           }
          },
          "ternary": {
           "aaxis": {
            "gridcolor": "#DFE8F3",
            "linecolor": "#A2B1C6",
            "ticks": ""
           },
           "baxis": {
            "gridcolor": "#DFE8F3",
            "linecolor": "#A2B1C6",
            "ticks": ""
           },
           "bgcolor": "white",
           "caxis": {
            "gridcolor": "#DFE8F3",
            "linecolor": "#A2B1C6",
            "ticks": ""
           }
          },
          "title": {
           "x": 0.05
          },
          "xaxis": {
           "automargin": true,
           "gridcolor": "#EBF0F8",
           "linecolor": "#EBF0F8",
           "ticks": "",
           "title": {
            "standoff": 15
           },
           "zerolinecolor": "#EBF0F8",
           "zerolinewidth": 2
          },
          "yaxis": {
           "automargin": true,
           "gridcolor": "#EBF0F8",
           "linecolor": "#EBF0F8",
           "ticks": "",
           "title": {
            "standoff": 15
           },
           "zerolinecolor": "#EBF0F8",
           "zerolinewidth": 2
          }
         }
        },
        "title": {
         "text": "📈 Gradient Boosting — Évolution des métriques selon le seuil"
        },
        "width": 850,
        "xaxis": {
         "tickformat": ".2f",
         "title": {
          "text": "Seuil de score"
         }
        },
        "yaxis": {
         "range": [
          0,
          1.05
         ],
         "title": {
          "text": "Valeur de la métrique"
         }
        }
       }
      }
     },
     "metadata": {},
     "output_type": "display_data"
    }
   ],
   "source": [
    "trees_models.plot_metrics_by_threshold(best_model_name_trees)\n",
    "df_metrics_trees = trees_models.get_metrics_by_threshold(best_model_name_trees)"
   ]
  }
 ],
 "metadata": {
  "celltoolbar": "Aucun(e)",
  "kernelspec": {
   "display_name": "kernel_venv_cours_scoring",
   "language": "python",
   "name": ".venv_cours_scoring"
  },
  "language_info": {
   "codemirror_mode": {
    "name": "ipython",
    "version": 3
   },
   "file_extension": ".py",
   "mimetype": "text/x-python",
   "name": "python",
   "nbconvert_exporter": "python",
   "pygments_lexer": "ipython3",
   "version": "3.10.11"
  }
 },
 "nbformat": 4,
 "nbformat_minor": 5
}
