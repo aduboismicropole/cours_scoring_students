{
 "cells": [
  {
   "cell_type": "code",
   "execution_count": 1,
   "id": "f1dec0b2",
   "metadata": {},
   "outputs": [],
   "source": [
    "from sklearn.model_selection import train_test_split\n",
    "import pandas as pd\n",
    "from pathlib import Path\n",
    "import os\n",
    "import sys\n",
    "sys.path.insert(0, str(Path(os.getcwd()).resolve().parent.parent))\n",
    "from src.utils.tools import create_dummies\n",
    "\n",
    "list_var_num: list = ['Duree_credit', 'Montant_credit', 'Age']\n",
    "list_var_cat: list = ['Objet_credit', 'Historique_credit', 'Epargne', 'Anciennete_emploi', \n",
    "           'Situation_familiale', 'Anciennete_domicile', 'Nb_credits', 'Biens', \n",
    "           'Type_emploi', 'Comptes', 'Taux_effort', 'Autres_credits', 'Statut_domicile', \n",
    "           'Garanties', 'Telephone', 'Nb_pers_charge', 'Etranger']\n",
    "target: str = \"Cible\"\n",
    "\n",
    "path = Path(\"../../data/processed/credit_scoring_with_labels.parquet\").resolve() # chemin vers fichier csv\n",
    "df = pd.read_parquet(path)\n",
    "df[list_var_cat] = df[list_var_cat].astype(\"category\")"
   ]
  },
  {
   "cell_type": "markdown",
   "id": "46243fe7",
   "metadata": {},
   "source": [
    "### 4. Discrétisation des variables continues  _(bonus)_"
   ]
  },
  {
   "cell_type": "markdown",
   "id": "2c673aef",
   "metadata": {},
   "source": [
    "<div class=\"alert alert-block alert-warning\">\n",
    "<b> Question 23:</b> Pourquoi discrétiser ? \n",
    "</div>"
   ]
  },
  {
   "cell_type": "markdown",
   "id": "cfe8bd47",
   "metadata": {},
   "source": [
    "<div class=\"alert alert-block alert-warning\">\n",
    "<b> Question 24:</b> Pour quel(s) type(s) de modélisations la discrétisation est-t-elle le plus utile ? Le moins utile ?\n",
    "</div>"
   ]
  },
  {
   "cell_type": "markdown",
   "id": "1039dce7",
   "metadata": {},
   "source": [
    "<div class=\"alert alert-block alert-info\">\n",
    "  <b>Méthodes de discrétisation des variables continues :</b>\n",
    "  <a href=\"https://eric.univ-lyon2.fr/ricco/cours/slides/discretisation.pdf\">\n",
    "    https://eric.univ-lyon2.fr/"
   ]
  },
  {
   "cell_type": "markdown",
   "id": "f7f3872f",
   "metadata": {},
   "source": [
    "### 5. Préparation à la modélisation"
   ]
  },
  {
   "cell_type": "markdown",
   "id": "f269d65b",
   "metadata": {},
   "source": [
    "<div class=\"alert alert-block alert-info\">\n",
    "  <b>⚠️ Remarque très importante :</b>\n",
    "  pensez à utiliser la même séparation apprentissage/test pour TOUS vos modèles afin de les rendre comparables entre eux.\n",
    "</div>\n"
   ]
  },
  {
   "cell_type": "markdown",
   "id": "c69716b3",
   "metadata": {},
   "source": [
    "#### 5.1 Séparation Apprentissage/Test"
   ]
  },
  {
   "cell_type": "markdown",
   "id": "d80a7e2b",
   "metadata": {},
   "source": [
    "<div class=\"alert alert-block alert-warning\">\n",
    "<b> Question 26:</b> Construisez nos deux paires d'échantillons en respectant les proportions suivantes :\n",
    "<br>- 80% pour l'échantillon d'apprentissage\n",
    "<br>- 20% pour l'échantillon de test\n",
    "</div>"
   ]
  },
  {
   "cell_type": "markdown",
   "id": "ced5786e",
   "metadata": {},
   "source": [
    "<div class=\"alert alert-block alert-info\">\n",
    "<b>ℹ️ Aide :</b> utilisez la fonction <code>train_test_split</code> de la library <code>sklearn.model_selection</code>\n",
    "</div>"
   ]
  },
  {
   "cell_type": "markdown",
   "id": "e4ea3f72",
   "metadata": {},
   "source": [
    "#### 5.2 Gestion des valeurs manquantes"
   ]
  },
  {
   "cell_type": "markdown",
   "id": "0f0006a1",
   "metadata": {},
   "source": [
    "<div class=\"alert alert-block alert-warning\">\n",
    "<b> Question 24:</b> Etudier le nombre de valeurs manquantes pour tous les champs. Puis faites un print des champs contenant des valeurs manquantes.\n",
    "</div>"
   ]
  },
  {
   "cell_type": "markdown",
   "id": "70de4ed7",
   "metadata": {},
   "source": [
    "<div class=\"alert alert-block alert-warning\">\n",
    "<b> Question 24:</b> Citez quelques méthodes pour traiter les valeurs manquantes (pour les variables explicatives)\n",
    "</div>"
   ]
  },
  {
   "cell_type": "markdown",
   "id": "c6d7a964",
   "metadata": {},
   "source": [
    "#### 5.2 Encoding des variables catégorielles"
   ]
  },
  {
   "cell_type": "markdown",
   "id": "6003555e",
   "metadata": {},
   "source": [
    "<div class=\"alert alert-block alert-warning\">\n",
    "<b> Question 25:</b> Citez au moins 2 raisons pour lesquelles il est important de réaliser un encoding des variables catégorielles\n",
    "</div>"
   ]
  },
  {
   "cell_type": "markdown",
   "id": "9972e1ad",
   "metadata": {},
   "source": [
    "#### 5.2.1 One hot encoding"
   ]
  },
  {
   "cell_type": "markdown",
   "id": "3c45c11d",
   "metadata": {},
   "source": [
    "<div class=\"alert alert-block alert-info\">\n",
    "<b>🔔 Rappel :</b> Le One hot encoding consiste à transformer une variable catégorielle en plusieurs colonnes binaires, chacune indiquant la présence (1) ou l'absence (0) d'une catégorie donnée pour chaque observation\n",
    "</div>"
   ]
  },
  {
   "cell_type": "markdown",
   "id": "bb2c4d37",
   "metadata": {},
   "source": [
    "<div class=\"alert alert-block alert-warning\">\n",
    "<b> Question 26:</b> Que faire si ma variable à dummiser a un grand nombre de modalités distinctes ?\n",
    "</div>"
   ]
  },
  {
   "cell_type": "markdown",
   "id": "8cdbd11d",
   "metadata": {},
   "source": [
    "<div class=\"alert alert-block alert-warning\">\n",
    "<b> Question 27:</b> Appliquer le One Hot Encoding aux variables catégorielles du dataset\n",
    "</div>"
   ]
  },
  {
   "cell_type": "markdown",
   "id": "750c1bb0",
   "metadata": {},
   "source": [
    "<div class=\"alert alert-block alert-info\">\n",
    "<b>ℹ️ Aide :</b> utilisez la fonction <code>create_dummies</code>\n",
    "</div>"
   ]
  },
  {
   "cell_type": "code",
   "execution_count": 5,
   "id": "93529575",
   "metadata": {},
   "outputs": [
    {
     "name": "stdout",
     "output_type": "stream",
     "text": [
      "Jeu de données train:\n",
      "Objet_credit           10\n",
      "Historique_credit       5\n",
      "Epargne                 5\n",
      "Anciennete_emploi       5\n",
      "Situation_familiale     4\n",
      "Anciennete_domicile     4\n",
      "Nb_credits              4\n",
      "Biens                   4\n",
      "Type_emploi             4\n",
      "Comptes                 4\n",
      "Taux_effort             4\n",
      "Autres_credits          3\n",
      "Statut_domicile         3\n",
      "Garanties               3\n",
      "Telephone               2\n",
      "Nb_pers_charge          2\n",
      "Etranger                2\n",
      "dtype: int64\n"
     ]
    }
   ],
   "source": [
    "# Rappel du nombre de modalités pour chaque variable catégorielle\n",
    "print(\"Jeu de données train:\")\n",
    "print(X_train[list_var_cat].nunique())"
   ]
  },
  {
   "cell_type": "code",
   "execution_count": 6,
   "id": "7ea87c20",
   "metadata": {},
   "outputs": [
    {
     "name": "stdout",
     "output_type": "stream",
     "text": [
      "Jeu de données test:\n",
      "Objet_credit           10\n",
      "Historique_credit       5\n",
      "Epargne                 5\n",
      "Anciennete_emploi       5\n",
      "Situation_familiale     4\n",
      "Anciennete_domicile     4\n",
      "Nb_credits              4\n",
      "Biens                   4\n",
      "Type_emploi             4\n",
      "Comptes                 4\n",
      "Taux_effort             4\n",
      "Autres_credits          3\n",
      "Statut_domicile         3\n",
      "Garanties               3\n",
      "Telephone               2\n",
      "Nb_pers_charge          2\n",
      "Etranger                2\n",
      "dtype: int64\n"
     ]
    }
   ],
   "source": [
    "print(\"Jeu de données test:\")\n",
    "print(X_test[list_var_cat].nunique())"
   ]
  },
  {
   "cell_type": "code",
   "execution_count": null,
   "id": "cb169402",
   "metadata": {},
   "outputs": [],
   "source": [
    "# A compléter #\n",
    "# X_train_with_dummies = ?\n",
    "# X_test_with_dummies = ?"
   ]
  },
  {
   "cell_type": "code",
   "execution_count": 8,
   "id": "a47d6d0b",
   "metadata": {},
   "outputs": [],
   "source": [
    "# On vérifie que les mêmes DUMMY ont été créés pour les deux jeux de données (sinon il faudra traiter les différences)\n",
    "dummies_train = [field for field in X_train_with_dummies.columns if field.startswith(\"DUMMY_\")]\n",
    "dummies_test = [field for field in X_train_with_dummies.columns if field.startswith(\"DUMMY_\")]\n",
    "not_in_train = list(set(dummies_test)-set(dummies_train))\n",
    "not_in_test = list(set(dummies_test)-set(dummies_train))\n",
    "if not_in_train:\n",
    "    print(\"Champs présents dans X_test mais pas dans X_train: {not_in_train}\")\n",
    "if not_in_test:\n",
    "    print(\"Champs présents dans X_test mais pas dans X_train: {not_in_test}\")"
   ]
  },
  {
   "cell_type": "code",
   "execution_count": null,
   "id": "e7e8a46b",
   "metadata": {},
   "outputs": [],
   "source": [
    "# Export des données\n",
    "path = Path(f\"../../data/processed\").resolve()\n",
    "X_train_with_dummies.to_parquet(f\"{path}/X_train.parquet\")\n",
    "X_test_with_dummies.to_parquet(f\"{path}/X_test.parquet\")\n",
    "y_train.to_frame().to_parquet(f\"{path}/y_train.parquet\")\n",
    "y_test.to_frame().to_parquet(f\"{path}/y_test.parquet\")"
   ]
  },
  {
   "cell_type": "markdown",
   "id": "16884cab",
   "metadata": {},
   "source": [
    "#### 5.2.2 Autres méthode d'encoding"
   ]
  },
  {
   "cell_type": "markdown",
   "id": "318c99b4",
   "metadata": {},
   "source": [
    "<div class=\"alert alert-block alert-warning\">\n",
    "<b> Question 26:</b> Quelle(s) méthode(s) adopteriez-vous pour réduire le nombre de modalités ?\n",
    "</div>"
   ]
  },
  {
   "cell_type": "markdown",
   "id": "671fbe8c",
   "metadata": {},
   "source": [
    "<div class=\"alert alert-block alert-warning\">\n",
    "<b> Question 27:</b> Quelles autres méthodes d'encoding des variables catégorielles (autre que one hot encoding) connaissez-vous ?\n",
    "</div>"
   ]
  }
 ],
 "metadata": {
  "celltoolbar": "Aucun(e)",
  "kernelspec": {
   "display_name": "kernel_venv_cours_scoring",
   "language": "python",
   "name": ".venv_cours_scoring"
  },
  "language_info": {
   "codemirror_mode": {
    "name": "ipython",
    "version": 3
   },
   "file_extension": ".py",
   "mimetype": "text/x-python",
   "name": "python",
   "nbconvert_exporter": "python",
   "pygments_lexer": "ipython3",
   "version": "3.10.11"
  }
 },
 "nbformat": 4,
 "nbformat_minor": 5
}
